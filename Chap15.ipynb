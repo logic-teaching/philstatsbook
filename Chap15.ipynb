{
 "cells": [
  {
   "cell_type": "code",
   "execution_count": 181,
   "metadata": {},
   "outputs": [],
   "source": [
    "# Chapter 15"
   ]
  },
  {
   "cell_type": "markdown",
   "metadata": {},
   "source": [
    "## Binomial example\n",
    "\n",
    "I am doing a trial of a new social intervention in one country, and you are doing it in another. \n",
    "\n",
    "- I had $n$ participants and model the number $X$ of successes in my population with $Binom(n, \\theta)$ with pdf $p_{\\theta}$ where $\\theta$ is unknown (we are using data to learn about it)\n",
    "- You had $m$ participants and model the successes $Y$ in your population with $Binom(m, \\theta^{\\prime})$ with pdf $p_{\\theta^{\\prime}}$ where $\\theta^{\\prime}$ is unknown (we are using data to learn about it). \n",
    "\n",
    "How should we model the combination of our two populations? \n",
    "\n",
    "- *One*: Should we model it as $X+Y\\sim Binom(n+m, \\theta^{\\prime\\prime})$ for some unknown $\\theta^{\\prime\\prime}$?\n",
    "- *Two*: Or at the other extreme should we assume that $X,Y$ are independent of one another and model the \"joint distribution\" $P(X=x \\wedge Y=y)=P(X=x)\\cdot P(Y=y)=p_{\\theta}(x)\\cdot p_{\\theta^{\\prime}}(y)$?"
   ]
  },
  {
   "cell_type": "markdown",
   "metadata": {},
   "source": [
    "## Curve fitting example\n",
    "\n",
    "I have a lot of points $(x_1, y_1), \\ldots, (x_n,y_n)$. I am trying to develop a model of "
   ]
  },
  {
   "cell_type": "code",
   "execution_count": 182,
   "metadata": {
    "tags": [
     "hide-cell"
    ]
   },
   "outputs": [],
   "source": [
    "import numpy as np\n",
    "import matplotlib.pyplot as plt\n",
    "from mpl_toolkits.mplot3d import Axes3D\n",
    "from scipy.special import comb\n",
    "import matplotlib.patches as mpatches\n",
    "import metakernel\n",
    "import ipywidgets as widgets    \n",
    "from ipywidgets import interact, interactive, fixed, interact_manual, FloatSlider, IntSlider\n"
   ]
  },
  {
   "cell_type": "code",
   "execution_count": 183,
   "metadata": {
    "tags": [
     "hide-cell"
    ]
   },
   "outputs": [],
   "source": [
    "def binom_aic_bic_visual(n,m):\n",
    "\n",
    "    X = np.arange(0, n)\n",
    "    Y = np.arange(0, m)\n",
    "    x,y = np.meshgrid(X, Y)\n",
    "\n",
    "    e = 1e-10  # small constant\n",
    "\n",
    "    log_one = np.log(comb(n+m, x+y) + e)-(x+y)*np.log((x+y)/(n+m) + e)-((n+m)-(x+y))*np.log((n+m-(x+y))/(n+m) + e)\n",
    "    log_two = np.log(comb(n, x) + e)-x*np.log(x/n + e)-(n-x+y)*np.log((n-x)/n + e)+ np.log(comb(m, y) + e)-y*np.log(y/m + e)-(m-y+x)*np.log((m-y)/m + e)\n",
    "    \n",
    "    aic_one = log_one-1\n",
    "    aic_two = log_two-2\n",
    "    bic_one = 2*log_one-1*np.log(n+m)\n",
    "    bic_two = 2*log_two-2*np.log(n+m)\n",
    "\n",
    "    fig = plt.figure(figsize=(20, 5))\n",
    "\n",
    "    # Create 3D subplots\n",
    "    ax1 = fig.add_subplot(131, projection='3d')\n",
    "    ax2 = fig.add_subplot(132, projection='3d')\n",
    "    ax3 = fig.add_subplot(133, projection='3d')\n",
    "\n",
    "    # Plot log_one and log_two on the left\n",
    "    ax1.plot_surface(x, y, log_one, cmap='viridis', label='log MLE_one')\n",
    "    ax1.plot_surface(x, y, log_two, cmap='plasma', label='log MLE_two')\n",
    "    ax1.set_title('log MLE_one vs. log MLE_two')\n",
    "    ax1.set_xlabel('x')\n",
    "    ax1.set_ylabel('y')\n",
    "    ax1.legend()\n",
    "\n",
    "\n",
    "    # Plot aic_one and aic_two on the right\n",
    "    ax2.plot_surface(x, y, aic_one, cmap='viridis', label='AIC_one')\n",
    "    ax2.plot_surface(x, y, aic_two, cmap='plasma', label='AIC_two')\n",
    "    ax2.set_title('AIC_one vs. AIC_two')\n",
    "    ax2.set_xlabel('x')\n",
    "    ax2.set_ylabel('y')\n",
    "    ax2.legend()\n",
    "\n",
    "    # Plot aic_one and aic_two on the right\n",
    "    ax3.plot_surface(x, y, bic_one, cmap='viridis', label='BIC_one')\n",
    "    ax3.plot_surface(x, y, bic_two, cmap='plasma', label='BIC_two')\n",
    "    ax3.set_title('BIC_one vs. BIC_two')\n",
    "    ax3.set_xlabel('x')\n",
    "    ax3.set_ylabel('y')\n",
    "    ax3.legend()\n",
    "\n",
    "    fig.suptitle('Two ways of combining Binom(%i,θ) and Binom(%i,θ\\')' % (n,m), fontsize=16)\n",
    "    fig.subplots_adjust(top=.2)\n",
    "\n",
    "\n",
    "    plt.tight_layout()\n",
    "    plt.show()"
   ]
  },
  {
   "cell_type": "code",
   "execution_count": 187,
   "metadata": {
    "tags": [
     "hide-input"
    ]
   },
   "outputs": [
    {
     "data": {
      "application/vnd.jupyter.widget-view+json": {
       "model_id": "1b77db58d1924753911281b2a94c58ce",
       "version_major": 2,
       "version_minor": 0
      },
      "text/plain": [
       "interactive(children=(IntSlider(value=250, description='n', max=500, min=1), IntSlider(value=250, description=…"
      ]
     },
     "metadata": {},
     "output_type": "display_data"
    },
    {
     "data": {
      "text/plain": [
       "<function __main__.binom_aic_bic_visual(n, m)>"
      ]
     },
     "execution_count": 187,
     "metadata": {},
     "output_type": "execute_result"
    }
   ],
   "source": [
    "interact(binom_aic_bic_visual,  n=(1, 500), m=(1, 500))"
   ]
  },
  {
   "cell_type": "code",
   "execution_count": 185,
   "metadata": {
    "tags": [
     "hide-cell"
    ]
   },
   "outputs": [],
   "source": [
    "def binom_aic_bic_visual_compare(n,m):\n",
    "\n",
    "    X = np.arange(0, n)\n",
    "    Y = np.arange(0, m)\n",
    "    x,y = np.meshgrid(X, Y)\n",
    " \n",
    "    e = 1e-5  # small constant\n",
    "\n",
    "    log_one = np.log(comb(n+m, x+y) + e)-(x+y)*np.log((x+y)/(n+m) + e)-((n+m)-(x+y))*np.log((n+m-(x+y))/(n+m) + e)\n",
    "    log_two = np.log(comb(n, x) + e)-x*np.log(x/n + e)-(n-x+y)*np.log((n-x)/n + e)+ np.log(comb(m, y) + e)-y*np.log(y/m + e)-(m-y+x)*np.log((m-y)/m + e)\n",
    "    log_compare = log_two - log_one\n",
    "\n",
    "    aic_one = log_one-1\n",
    "    aic_two = log_two-2\n",
    "    aic_compare = aic_two - aic_one\n",
    "\n",
    "    k_1 = 1\n",
    "    k_2 = 2\n",
    "\n",
    "    aic_alt_one = log_one-k_1-(2*k_1*(k_1+1)/((n+m)-k_1-1))\n",
    "    aic_alt_two = log_two-2-(2*k_2*(k_2+1)/((n+m)-k_2-1))\n",
    "    aic_alt_compare = aic_alt_two - aic_alt_one\n",
    "\n",
    "\n",
    "    bic_one = 2*log_one-1*np.log(n+m)\n",
    "    bic_two = 2*log_two-2*np.log(n+m)\n",
    "    bic_compare = bic_two - bic_one\n",
    "\n",
    "    \n",
    "\n",
    "    fig = plt.figure(figsize=(20, 5))\n",
    "\n",
    "    # Create 3D subplots\n",
    "    ax1 = fig.add_subplot(131, projection='3d')\n",
    "    ax2 = fig.add_subplot(132, projection='3d')\n",
    "    ax3 = fig.add_subplot(133, projection='3d')\n",
    "\n",
    "    # Plot log_one and log_two on the left\n",
    "    ax1.plot_surface(x, y, log_compare, cmap='coolwarm')\n",
    "    ax1.set_title('log MLE_two - log MLE_one')\n",
    "    ax1.set_xlabel('x')\n",
    "    ax1.set_ylabel('y')\n",
    "\n",
    "\n",
    "\n",
    "    # Plot aic_one and aic_two on the right\n",
    "    ax2.plot_surface(x, y, aic_compare, cmap='coolwarm')\n",
    "    ax2.set_title('AIC_two - AIC_one')\n",
    "    ax2.set_xlabel('x')\n",
    "    ax2.set_ylabel('y')\n",
    "\n",
    "\n",
    "\n",
    "    # Plot aic_one and aic_two on the right\n",
    "    ax3.plot_surface(x, y, bic_compare, cmap='coolwarm')\n",
    "    ax3.set_title('BIC_two - BIC_one')\n",
    "    ax3.set_xlabel('x')\n",
    "    ax3.set_ylabel('y')\n",
    "\n",
    "\n",
    "    fig.suptitle('Two ways of combining Binom(%i,θ) and Binom(%i,θ\\')' % (n,m), fontsize=16)\n",
    "    fig.subplots_adjust(top=.2)\n",
    "\n",
    "\n",
    "\n",
    "    plt.tight_layout()\n",
    "    plt.show()"
   ]
  },
  {
   "cell_type": "code",
   "execution_count": 186,
   "metadata": {
    "tags": [
     "hide-input"
    ]
   },
   "outputs": [
    {
     "data": {
      "application/vnd.jupyter.widget-view+json": {
       "model_id": "917dbe189d2748909ca7c8a0add8385c",
       "version_major": 2,
       "version_minor": 0
      },
      "text/plain": [
       "interactive(children=(IntSlider(value=250, description='n', max=500, min=1), IntSlider(value=250, description=…"
      ]
     },
     "metadata": {},
     "output_type": "display_data"
    },
    {
     "data": {
      "text/plain": [
       "<function __main__.binom_aic_bic_visual_compare(n, m)>"
      ]
     },
     "execution_count": 186,
     "metadata": {},
     "output_type": "execute_result"
    }
   ],
   "source": [
    "interact(binom_aic_bic_visual_compare, n=(1, 500), m=(1, 500))"
   ]
  },
  {
   "cell_type": "code",
   "execution_count": null,
   "metadata": {},
   "outputs": [],
   "source": []
  },
  {
   "cell_type": "code",
   "execution_count": null,
   "metadata": {},
   "outputs": [],
   "source": []
  }
 ],
 "metadata": {
  "kernelspec": {
   "display_name": ".venv",
   "language": "python",
   "name": "python3"
  },
  "language_info": {
   "codemirror_mode": {
    "name": "ipython",
    "version": 3
   },
   "file_extension": ".py",
   "mimetype": "text/x-python",
   "name": "python",
   "nbconvert_exporter": "python",
   "pygments_lexer": "ipython3",
   "version": "3.12.3"
  }
 },
 "nbformat": 4,
 "nbformat_minor": 2
}
