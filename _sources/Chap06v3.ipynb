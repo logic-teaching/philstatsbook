{
 "cells": [
  {
   "cell_type": "markdown",
   "metadata": {},
   "source": [
    "# Chapter 6"
   ]
  },
  {
   "cell_type": "markdown",
   "metadata": {},
   "source": [
    "Suppose we have independent random variables $X_1, \\ldots, X_n$ all distributed with respect to one and the same probability distribution $F$.\n",
    "\n",
    "That is, we have independent $X_1, \\ldots, X_n\\sim F$.\n",
    "\n",
    "We view $X_1, \\ldots, X_n$ as the data and $F$ as the cdf of the probability distribution.\n",
    "\n",
    "Our task is to use the data to learn about the probability distribution.\n",
    "\n",
    "Being humble creatures, we just start looking at different operations to apply to the data.\n"
   ]
  },
  {
   "cell_type": "markdown",
   "metadata": {},
   "source": [
    "## Statistics\n"
   ]
  },
  {
   "cell_type": "markdown",
   "metadata": {},
   "source": [
    "### Definition (statistics)\n",
    "\n",
    "A *statistic* $T_n$ is just any operation applied to the data $X_1, \\ldots, X_n$. Here are the some examples many of which you have probably seen before:\n",
    "\n",
    "- Average $\\overline{X}_n$: at world $\\omega$ it is $\\overline{X}_n(\\omega) = \\frac{1}{n}\\sum_{i=1}^n X_i(\\omega)$ (n.b.: average also called mean)\n",
    "\n",
    "- Median of $X_1,\\ldots, X_n$: at world $\\omega$, sort the numbers $X_1(\\omega), \\ldots, X_n(\\omega)$ in increasing order and find the one in the middle (and in the case where $n$ is odd, take the average of the two middle ones)\n",
    "\n",
    "- Midspread of $X_1, \\ldots, X_n$: at world $\\omega$, sort the numbers $X_1(\\omega), \\ldots, X_n(\\omega)$ in increasing order, and split it into four even parts and report the difference between the part at 75% and the part at 25%\n",
    "\n",
    "Here is one that is not very interesting but is indeed 'an operation applied to the data':\n",
    "\n",
    "- Square of average: $\\overline{X}_n^2$: at world $\\omega$ it is $\\overline{X}^2_n(\\omega) = (\\frac{1}{n}\\sum_{i=1}^n X_i(\\omega))^2$\n"
   ]
  },
  {
   "cell_type": "markdown",
   "metadata": {},
   "source": [
    "### Two perspectives which both statisticians and philosophers at home with\n",
    "\n",
    "We recognize two different perspectives which are useful: \n",
    "\n",
    "- We can focus on the actual world, that is at a particular world $\\omega$ which we happen to inhabit, and we can look at the behavior of the statistic at that world. \n",
    "\n",
    "- We can focus on what happens across the worlds, and we can view the statistics as random variables and ask questions about e.g. their expectation and their variance.  \n",
    "\n",
    "Further, part and parcel of the tradition in parts of boths disciplines is:\n",
    "\n",
    "- go ceaselessly back and forth between the two perspectives, to the great annoyance of everyone else"
   ]
  },
  {
   "cell_type": "markdown",
   "metadata": {},
   "source": [
    "### Perspective one: the actual world"
   ]
  },
  {
   "cell_type": "markdown",
   "metadata": {},
   "source": [
    "Fix $\\omega$ as the actual world. Then all of our statistics deliver real numbers as values when we evaluate them at $\\omega$. In terms of our actual human activity, these are just the measurements we make."
   ]
  },
  {
   "cell_type": "code",
   "execution_count": 52,
   "metadata": {
    "tags": [
     "hide-cell"
    ]
   },
   "outputs": [],
   "source": [
    "# packages we need\n",
    "\n",
    "import matplotlib.pyplot as plt\n",
    "import numpy as np\n",
    "import scipy.stats\n",
    "import numpy as np\n",
    "import pandas as pd\n",
    "from statistics import mean , stdev , median, mode\n",
    "from random import choices\n",
    "from scipy.stats import norm"
   ]
  },
  {
   "cell_type": "code",
   "execution_count": 53,
   "metadata": {
    "tags": [
     "hide-cell"
    ]
   },
   "outputs": [],
   "source": [
    "# simple python code for statistics\n",
    "\n",
    "\n",
    "def descriptive(data):\n",
    "\n",
    "    average = sum(data) / len(data)\n",
    "\n",
    "    median = np.median(data)\n",
    "\n",
    "    midspread = np.percentile(data, 75)-np.percentile(data, 25)\n",
    "\n",
    "    average_squared =  average**2\n",
    "\n",
    "    print('Sorted: ', sorted(data))\n",
    "\n",
    "    print('Average: %1.1f' % average)\n",
    "\n",
    "    print('Median: %1.1f' % median)\n",
    "\n",
    "    print('Midspread: %1.1f' % midspread)\n",
    "\n",
    "    print('Average Squared: %1.1f' % average_squared)\n"
   ]
  },
  {
   "cell_type": "code",
   "execution_count": 54,
   "metadata": {},
   "outputs": [
    {
     "name": "stdout",
     "output_type": "stream",
     "text": [
      "Sorted:  [0, 7, 8, 9, 9, 10, 14, 16, 17, 18]\n",
      "Average: 10.8\n",
      "Median: 9.5\n",
      "Midspread: 7.2\n",
      "Average Squared: 116.6\n"
     ]
    }
   ],
   "source": [
    "# Suppose that X_1(ω),\\ldots, X_n(ω) is\n",
    "\n",
    "data = [17, 18, 9, 10, 9, 7, 8, 14, 0, 16]     \n",
    "\n",
    "descriptive(data)    # command for descriptive statistics"
   ]
  },
  {
   "cell_type": "code",
   "execution_count": 55,
   "metadata": {
    "tags": [
     "hide-input"
    ]
   },
   "outputs": [
    {
     "data": {
      "image/png": "[encoded data removed]",
      "text/plain": [
       "<Figure size 640x480 with 1 Axes>"
      ]
     },
     "metadata": {},
     "output_type": "display_data"
    }
   ],
   "source": [
    "# Create a histogram\n",
    "\n",
    "\n",
    "plt.hist(data, bins=max(data)-min(data), edgecolor='black')\n",
    "\n",
    "# Show the median\n",
    "plt.axvline(np.median(data), color='r', linestyle='dashed', linewidth=2, label=f'Median: {median}')\n",
    "\n",
    "# Show the midspread\n",
    "plt.axvline(np.percentile(data, 25), color='orange', linestyle='dashed', linewidth=2, label=f'Q1: {np.percentile(data, 25)}')\n",
    "plt.axvline(np.percentile(data, 75), color='b', linestyle='dashed', linewidth=2, label=f'Q3: {np.percentile(data, 75)}')\n",
    "\n",
    "# Add legend\n",
    "plt.legend()\n",
    "\n",
    "# Show the plot\n",
    "plt.show()"
   ]
  },
  {
   "cell_type": "markdown",
   "metadata": {},
   "source": [
    "### Perspective two: across the worlds"
   ]
  },
  {
   "cell_type": "markdown",
   "metadata": {},
   "source": [
    "Last time, we learned some helpful formulas for the average. \n",
    "\n",
    "Suppose independent $X_1, \\ldots, X_n\\sim F$ with expectation $\\theta$ and variance $\\sigma^2$, \n",
    "\n",
    "Again, we abbreviate $\\overline{X}_n = \\frac{1}{n}\\sum_{i=1}^n X_i$ for the average. \n",
    "\n",
    "Then $\\mathbb{E} \\overline{X}_n = \\theta$ and $\\mathrm{Var}(\\overline{X}_n) = \\frac{\\sigma^2}{n}$.\n",
    "\n",
    "This tells us a lot about the behavior of the average across the worlds."
   ]
  },
  {
   "cell_type": "markdown",
   "metadata": {},
   "source": [
    "### Illustrating the behavior of the variance of the average"
   ]
  },
  {
   "cell_type": "markdown",
   "metadata": {},
   "source": [
    "Assume we are working with $X_1, \\ldots, X_n$ which have a [normal](https://logic-teaching.github.io/philstatsbook/Chap04.html#normal-distribution) distribution (i.e. a bell-shaped one)"
   ]
  },
  {
   "cell_type": "code",
   "execution_count": 6,
   "metadata": {},
   "outputs": [],
   "source": [
    "# parameters of the normal distribution\n",
    "\n",
    "mu = 23  # mean\n",
    "var = 3**2 #variance\n",
    "\n",
    "# number of independent observations\n",
    "\n",
    "n = 50\n",
    "\n",
    "# variance of the average\n",
    "\n",
    "varavg = var / n  # variance of the average\n"
   ]
  },
  {
   "cell_type": "code",
   "execution_count": 7,
   "metadata": {
    "tags": [
     "hide-cell"
    ]
   },
   "outputs": [],
   "source": [
    "sigma = np.sqrt(var)\n",
    "sigmaavg = np.sqrt(varavg)\n"
   ]
  },
  {
   "cell_type": "code",
   "execution_count": 25,
   "metadata": {
    "tags": [
     "hide-input"
    ]
   },
   "outputs": [
    {
     "data": {
      "image/png": "[encoded data removed]",
      "text/plain": [
       "<Figure size 1000x500 with 2 Axes>"
      ]
     },
     "metadata": {},
     "output_type": "display_data"
    }
   ],
   "source": [
    "def create_norm_plot():\n",
    "\n",
    "    # Create a range\n",
    "    x = np.linspace(mu-2*sigma, mu+2*sigma, 100)\n",
    "\n",
    "    # Create the normal distribution for the range\n",
    "    y = norm.pdf(x, mu, sigma)\n",
    "    yavg = norm.pdf(x, mu, sigmaavg)\n",
    "\n",
    "    # Create a figure with two subplots side by side\n",
    "    fig, axs = plt.subplots(1, 2, figsize=(10, 5))\n",
    "\n",
    "    # Plot the normal distribution on the left subplot\n",
    "    axs[0].plot(x, y, 'b')\n",
    "\n",
    "    axs[1].plot(x, yavg, 'b')\n",
    "\n",
    "    # Plot the histogram on the right subplot\n",
    "    # axs[1].hist(data, bins=30, density=True, alpha=0.6, color='g')\n",
    "\n",
    "    # Set titles\n",
    "    axs[0].set_title('pdf of X_1,...,X_{%i}~N(%s, %1.3f)' % (n, mu, var))\n",
    "    axs[1].set_title('pdf of average X̅_{%i}~N(%s, %1.3f)' % (n, mu, varavg))\n",
    "\n",
    "\n",
    "\n",
    "    plt.show()\n",
    "\n",
    "create_norm_plot()"
   ]
  },
  {
   "cell_type": "markdown",
   "metadata": {},
   "source": [
    "### Important obstacle"
   ]
  },
  {
   "cell_type": "markdown",
   "metadata": {},
   "source": [
    "There are **not** simple formulas for the expectation or variance of **any of the other statistics**, in terms of the expectation and variances of the individual random variables.\n",
    "\n",
    "In the part of statistics that deals with *estimation*, a way has been developed to estimate the variance (but not the expectation) of these other statistics.\n",
    "\n"
   ]
  },
  {
   "cell_type": "markdown",
   "metadata": {},
   "source": [
    "## The Bootstrap"
   ]
  },
  {
   "cell_type": "markdown",
   "metadata": {},
   "source": [
    "This is due to Effron in the late 1970s ({cite}`Efron1979-ux`, {cite}`Efron1982-ck`). \n",
    "\n",
    "Despite its being so natural did not appear until late, since it requires so much computational power."
   ]
  },
  {
   "cell_type": "markdown",
   "metadata": {},
   "source": [
    "### A combinatorial theory of possibility\n",
    "\n",
    "Philosophers are familiar with this conception of possibility:\n",
    "\n",
    "> The fundamental idea that underlies the various versions of combinatorialism is that possible worlds are nothing more than rearrangements or recombinations of the properties, relations and particulars that are instantiated or exist in the actual world ({cite}`Melia2014-vh` p. 146)\n",
    "\n",
    "This is a conception of possibility on which e.g. it's possible that I could have your job and you mine. "
   ]
  },
  {
   "cell_type": "markdown",
   "metadata": {},
   "source": [
    "### Building other worlds from the observations in the actual world \n",
    "\n",
    "Suppose that $\\omega$ is the actual world, and that the observations $X_1(\\omega), \\ldots, X_n(\\omega)$ are:\n",
    "\n",
    "```\n",
    "actual-observations = [17, 18, 9, 10, 9, 7, 8, 14, 0, 16]\n",
    "```\n",
    "\n",
    "Shouldn't there also be a world where the observations could have gone like this, with the first and second reversed:\n",
    "\n",
    "```\n",
    "alternative-observations = [18, 17, 9, 10, 9, 7, 8, 14, 0, 16]\n",
    "```\n",
    "\n",
    "And shouldn't there also be a world where the observations could have one like this, with the first being repeated:\n",
    "\n",
    "```\n",
    "alternative-observations = [17, 17, 9, 10, 9, 7, 8, 14, 0, 16]\n",
    "```\n",
    "\n",
    "The idea of the bootstrap is to generate lots of worlds from the actual world in this way.\n"
   ]
  },
  {
   "cell_type": "markdown",
   "metadata": {},
   "source": [
    "Intuitively, the procedure is as follows:\n",
    "\n",
    "1. Let $\\omega$ be the actual world, and look at the length $n$-data set $X_1(\\omega), \\ldots, X_n(\\omega)$.\n",
    "\n",
    "2. Many other worlds will look just like the actual world, but with the order of observations rearranged, or with one observation made more than once. \n",
    "\n",
    "3. Simulate the observations made at other worlds in this way and calculate the statistic at them.\n",
    "\n",
    "3. When you plot these, the variance (the way in which it is lax or tight around its mean), is a good proxy for the variance of the statistic, if the actual world is like most worlds and if $n$ is sufficiently big."
   ]
  },
  {
   "cell_type": "markdown",
   "metadata": {},
   "source": [
    "### The Bootstrap algorithm"
   ]
  },
  {
   "cell_type": "code",
   "execution_count": 38,
   "metadata": {},
   "outputs": [],
   "source": [
    "# python code for the bootstrap\n",
    "\n",
    "def bootstrap(data, statistic, reps, label):    # data, statistic, number of replications, label for the column\n",
    "\ttheta_hat_stars = []  # list to store the results\n",
    "\tfor i in range(reps):   # loop over the number of replications\n",
    "\t\tresample = choices(data, k=len(data)) # resample the data\n",
    "\t\ttheta_hat_star = statistic(resample) # compute the statistic\n",
    "\t\ttheta_hat_stars.append(theta_hat_star)      # store the result\n",
    "\treturn pd.DataFrame(theta_hat_stars, columns=[label])   # return the results as a DataFrame"
   ]
  },
  {
   "cell_type": "markdown",
   "metadata": {},
   "source": [
    "### Illustrating the bootstrap\n",
    "\n",
    "This illustration is based on the discussion in the best introductory statistics book based off of the bootstrap method, namely {cite}`Chihara2018-xh` Example 5.1 (he doesn't provide the code but it is easy to construct) "
   ]
  },
  {
   "cell_type": "code",
   "execution_count": 84,
   "metadata": {},
   "outputs": [],
   "source": [
    "## Example with B bootstrap samples from a normal distribution\n",
    "\n",
    "B = 100000\n",
    "\n",
    "# my_measurement, a set X_1(ω),\\ldots, X_n(ω), from independent  X_1,\\ldots, X_n~N(mu, var)\n",
    "my_data = pd.DataFrame(np.random.normal(mu, np.sqrt(var), n), columns=['A'])\n",
    "\n",
    "# bootstrap the mean of my_measurement\n",
    "my_data_bootstraped= bootstrap(my_data.A, mean, B, 'A')\n"
   ]
  },
  {
   "cell_type": "code",
   "execution_count": 43,
   "metadata": {
    "tags": [
     "hide-input"
    ]
   },
   "outputs": [
    {
     "data": {
      "image/png": "[encoded data removed]",
      "text/plain": [
       "<Figure size 1000x500 with 2 Axes>"
      ]
     },
     "metadata": {},
     "output_type": "display_data"
    }
   ],
   "source": [
    "# Visualizing the bootstrap\n",
    "\n",
    "# Create a figure with two subplots side by side\n",
    "fig, axs = plt.subplots(1, 2, figsize=(10, 5))\n",
    "\n",
    "# Plot the histogram of myheights on the left subplot\n",
    "axs[0].hist(my_data, bins=20, color='g', density=True, alpha=0.7)\n",
    "\n",
    "# Plot the histogram of myheights_bootstrap on the right subplot\n",
    "axs[1].hist(my_data_bootstraped, bins=30, density=True, color='g', alpha=0.7)\n",
    "\n",
    "plt.xlim([mu-2*sigma, mu+2*sigma])\n",
    "\n",
    "\n",
    "\n",
    "# Show the median\n",
    "axs[0].axvline(np.mean(my_data), color='r', linestyle='dashed', linewidth=2, label=f'Mean: {np.mean(my_data)}')\n",
    "\n",
    "# Set titles\n",
    "axs[0].set_title('Data histograph n = % i, mean = %1.1f' % (n, np.mean(my_data)))\n",
    "axs[1].set_title('Bootstrap distribution')\n",
    "\n",
    "plt.show()"
   ]
  },
  {
   "cell_type": "markdown",
   "metadata": {},
   "source": [
    "Compare this to the theoretical one:"
   ]
  },
  {
   "cell_type": "code",
   "execution_count": 41,
   "metadata": {
    "tags": [
     "hide-input"
    ]
   },
   "outputs": [
    {
     "data": {
      "image/png": "[encoded data removed]",
      "text/plain": [
       "<Figure size 1000x500 with 2 Axes>"
      ]
     },
     "metadata": {},
     "output_type": "display_data"
    }
   ],
   "source": [
    "create_norm_plot()"
   ]
  },
  {
   "cell_type": "markdown",
   "metadata": {},
   "source": [
    "### Illustrating the bootstrap for the median"
   ]
  },
  {
   "cell_type": "code",
   "execution_count": 123,
   "metadata": {},
   "outputs": [],
   "source": [
    "my_data =  [19, 17, 5, 20, 14, 7, 3, 12, 6, 1, 8, 15, 16, 13, 10]\n"
   ]
  },
  {
   "cell_type": "code",
   "execution_count": 125,
   "metadata": {},
   "outputs": [
    {
     "name": "stdout",
     "output_type": "stream",
     "text": [
      "Original: [19, 17, 5, 20, 14, 7, 3, 12, 6, 1, 8, 15, 16, 13, 10] Median: 12.0\n",
      "Resample: [7, 9, 14, 8, 16, 14, 9, 10, 18, 14, 18, 14, 18, 9, 17] Median: 14.0\n",
      "Resample: [16, 7, 14, 0, 17, 18, 16, 8, 10, 17, 16, 10, 7, 9, 16] Median: 14.0\n",
      "Resample: [9, 9, 17, 0, 9, 10, 14, 16, 10, 18, 7, 7, 14, 8, 10] Median: 10.0\n",
      "Resample: [9, 0, 0, 8, 17, 18, 14, 18, 14, 9, 9, 7, 17, 8, 0] Median: 9.0\n",
      "Resample: [7, 10, 0, 8, 9, 0, 0, 17, 10, 7, 9, 17, 18, 17, 14] Median: 9.0\n",
      "Resample: [16, 0, 17, 10, 0, 14, 17, 18, 0, 17, 9, 7, 0, 9, 9] Median: 9.0\n",
      "Resample: [16, 9, 7, 8, 10, 18, 14, 9, 16, 18, 9, 7, 8, 9, 0] Median: 9.0\n",
      "Resample: [18, 10, 8, 0, 16, 17, 7, 10, 17, 10, 7, 16, 9, 17, 10] Median: 10.0\n",
      "Resample: [10, 14, 18, 10, 9, 17, 17, 9, 9, 14, 7, 9, 9, 10, 16] Median: 10.0\n",
      "Resample: [10, 0, 7, 18, 10, 10, 16, 7, 18, 16, 10, 7, 14, 17, 9] Median: 10.0\n",
      "Resample: [7, 17, 9, 10, 9, 9, 0, 9, 10, 7, 8, 17, 0, 10, 10] Median: 9.0\n",
      "Resample: [10, 10, 10, 7, 16, 9, 8, 9, 0, 17, 0, 9, 17, 18, 9] Median: 9.0\n",
      "Resample: [10, 8, 0, 9, 10, 7, 14, 8, 8, 8, 9, 9, 9, 0, 0] Median: 8.0\n",
      "Resample: [9, 8, 0, 16, 9, 18, 17, 9, 16, 18, 10, 9, 16, 0, 7] Median: 9.0\n",
      "Resample: [10, 16, 7, 9, 17, 8, 18, 0, 0, 9, 0, 10, 18, 9, 8] Median: 9.0\n",
      "Resample: [9, 9, 0, 8, 8, 9, 17, 18, 0, 18, 16, 16, 7, 18, 10] Median: 9.0\n",
      "Resample: [0, 8, 18, 8, 14, 0, 14, 16, 8, 17, 7, 8, 0, 18, 10] Median: 8.0\n",
      "Resample: [7, 0, 9, 0, 18, 7, 14, 10, 8, 16, 17, 14, 18, 18, 14] Median: 14.0\n",
      "Resample: [0, 0, 8, 10, 14, 16, 9, 9, 18, 9, 14, 14, 8, 10, 0] Median: 9.0\n",
      "Resample: [0, 17, 14, 10, 9, 10, 14, 14, 18, 8, 10, 10, 8, 8, 17] Median: 10.0\n",
      "Resample: [9, 14, 17, 17, 0, 17, 7, 18, 10, 18, 8, 14, 7, 7, 14] Median: 14.0\n",
      "Resample: [16, 9, 0, 7, 9, 10, 10, 0, 16, 7, 10, 0, 18, 17, 18] Median: 10.0\n",
      "Resample: [9, 16, 17, 9, 0, 14, 10, 7, 17, 0, 10, 0, 9, 16, 8] Median: 9.0\n",
      "Resample: [9, 17, 8, 18, 8, 17, 9, 16, 14, 17, 8, 14, 14, 9, 7] Median: 14.0\n",
      "Resample: [14, 9, 18, 7, 0, 9, 16, 0, 10, 7, 8, 17, 10, 18, 8] Median: 9.0\n",
      "Resample: [7, 18, 9, 9, 7, 0, 10, 16, 9, 17, 17, 10, 10, 18, 10] Median: 10.0\n",
      "Resample: [16, 9, 10, 7, 18, 0, 9, 9, 0, 18, 0, 9, 14, 10, 14] Median: 9.0\n",
      "Resample: [9, 17, 17, 16, 9, 8, 16, 7, 0, 9, 16, 18, 0, 18, 0] Median: 9.0\n",
      "Resample: [10, 9, 18, 17, 10, 16, 0, 9, 8, 8, 0, 14, 10, 17, 10] Median: 10.0\n",
      "Resample: [10, 9, 0, 7, 9, 18, 9, 7, 17, 8, 18, 17, 9, 7, 8] Median: 9.0\n",
      "Resample: [8, 7, 10, 0, 8, 17, 9, 16, 0, 10, 17, 18, 10, 14, 17] Median: 10.0\n",
      "Resample: [7, 8, 18, 9, 10, 9, 16, 18, 8, 10, 7, 16, 7, 16, 9] Median: 9.0\n",
      "Resample: [8, 9, 0, 17, 10, 18, 8, 7, 10, 9, 7, 18, 17, 8, 18] Median: 9.0\n",
      "Resample: [10, 16, 0, 7, 9, 8, 16, 0, 18, 0, 14, 17, 0, 7, 10] Median: 9.0\n",
      "Resample: [9, 0, 18, 16, 16, 10, 10, 8, 16, 7, 17, 16, 17, 16, 17] Median: 16.0\n",
      "Resample: [18, 16, 7, 9, 18, 10, 16, 17, 9, 14, 9, 10, 0, 9, 9] Median: 10.0\n",
      "Resample: [9, 18, 14, 8, 18, 9, 18, 8, 10, 16, 9, 8, 14, 10, 17] Median: 10.0\n",
      "Resample: [0, 0, 9, 0, 10, 0, 9, 16, 17, 7, 16, 9, 0, 0, 8] Median: 8.0\n",
      "Resample: [18, 0, 14, 0, 10, 14, 8, 7, 0, 9, 8, 7, 8, 17, 14] Median: 8.0\n",
      "Resample: [18, 18, 9, 7, 9, 9, 8, 0, 9, 16, 18, 9, 9, 17, 10] Median: 9.0\n",
      "Resample: [17, 10, 18, 16, 16, 9, 10, 9, 16, 0, 16, 9, 9, 8, 18] Median: 10.0\n",
      "Resample: [9, 16, 7, 9, 8, 17, 16, 17, 14, 9, 18, 14, 9, 9, 0] Median: 9.0\n",
      "Resample: [7, 9, 9, 17, 17, 14, 8, 9, 9, 10, 9, 14, 18, 16, 0] Median: 9.0\n",
      "Resample: [9, 18, 7, 8, 18, 9, 9, 0, 8, 10, 16, 9, 14, 16, 8] Median: 9.0\n",
      "Resample: [8, 9, 9, 7, 14, 16, 9, 0, 18, 8, 17, 0, 9, 7, 8] Median: 9.0\n",
      "Resample: [10, 8, 10, 8, 10, 17, 14, 18, 10, 14, 14, 9, 8, 17, 0] Median: 10.0\n",
      "Resample: [9, 9, 10, 18, 16, 9, 10, 18, 0, 7, 14, 16, 7, 0, 17] Median: 10.0\n",
      "Resample: [8, 18, 9, 0, 0, 8, 9, 18, 9, 14, 18, 7, 16, 17, 9] Median: 9.0\n",
      "Resample: [9, 14, 7, 17, 16, 7, 9, 7, 16, 9, 9, 18, 16, 17, 9] Median: 9.0\n",
      "Resample: [16, 9, 14, 8, 18, 10, 18, 9, 16, 8, 16, 9, 17, 7, 16] Median: 14.0\n",
      "Resample: [7, 14, 8, 14, 17, 18, 8, 14, 10, 18, 0, 18, 8, 14, 9] Median: 14.0\n",
      "Resample: [9, 16, 17, 9, 18, 18, 18, 14, 8, 10, 14, 10, 18, 8, 7] Median: 14.0\n",
      "Resample: [17, 8, 0, 17, 8, 17, 0, 10, 10, 7, 10, 14, 14, 9, 16] Median: 10.0\n",
      "Resample: [9, 0, 10, 16, 9, 10, 9, 9, 18, 18, 8, 18, 14, 9, 9] Median: 9.0\n",
      "Resample: [18, 9, 14, 10, 9, 9, 16, 14, 9, 16, 14, 16, 18, 7, 14] Median: 14.0\n",
      "Resample: [9, 16, 9, 0, 8, 14, 16, 18, 7, 10, 9, 14, 7, 17, 8] Median: 9.0\n",
      "Resample: [10, 16, 17, 9, 0, 8, 7, 0, 17, 7, 10, 17, 16, 10, 18] Median: 10.0\n",
      "Resample: [7, 17, 10, 9, 18, 17, 18, 9, 7, 18, 10, 9, 14, 14, 8] Median: 10.0\n",
      "Resample: [0, 0, 10, 17, 18, 17, 18, 9, 16, 8, 17, 18, 18, 16, 9] Median: 16.0\n",
      "Resample: [17, 9, 8, 7, 17, 17, 14, 0, 10, 9, 8, 9, 10, 9, 9] Median: 9.0\n",
      "Resample: [14, 18, 8, 18, 18, 10, 9, 8, 14, 14, 8, 0, 8, 14, 9] Median: 10.0\n",
      "Resample: [14, 9, 7, 18, 9, 9, 0, 8, 10, 16, 0, 9, 16, 7, 16] Median: 9.0\n",
      "Resample: [16, 9, 9, 14, 0, 10, 9, 8, 17, 9, 18, 8, 0, 7, 8] Median: 9.0\n",
      "Resample: [7, 9, 8, 17, 7, 0, 8, 8, 7, 16, 18, 9, 9, 8, 14] Median: 8.0\n",
      "Resample: [9, 9, 8, 10, 17, 0, 10, 17, 10, 8, 9, 17, 18, 9, 18] Median: 10.0\n",
      "Resample: [18, 16, 9, 9, 16, 8, 7, 7, 16, 7, 18, 10, 18, 8, 7] Median: 9.0\n",
      "Resample: [7, 10, 9, 10, 0, 9, 17, 16, 18, 16, 7, 10, 7, 0, 9] Median: 9.0\n",
      "Resample: [17, 8, 7, 14, 7, 16, 18, 10, 17, 9, 7, 8, 7, 17, 18] Median: 10.0\n",
      "Resample: [7, 7, 16, 0, 18, 18, 18, 7, 8, 16, 16, 17, 18, 17, 9] Median: 16.0\n",
      "Resample: [7, 7, 17, 8, 0, 17, 7, 7, 9, 7, 9, 14, 8, 17, 18] Median: 8.0\n",
      "Resample: [14, 8, 0, 9, 9, 14, 0, 9, 7, 8, 0, 0, 0, 18, 10] Median: 8.0\n",
      "Resample: [9, 9, 10, 0, 9, 17, 9, 14, 8, 7, 8, 8, 10, 7, 7] Median: 9.0\n",
      "Resample: [9, 10, 17, 10, 9, 18, 7, 17, 7, 7, 8, 16, 9, 9, 8] Median: 9.0\n",
      "Resample: [8, 0, 10, 16, 9, 7, 16, 17, 18, 16, 0, 7, 8, 10, 9] Median: 9.0\n",
      "Resample: [8, 17, 0, 17, 9, 14, 9, 14, 14, 9, 10, 10, 17, 8, 14] Median: 10.0\n",
      "Resample: [18, 16, 7, 16, 14, 14, 7, 7, 0, 18, 7, 7, 18, 18, 10] Median: 14.0\n",
      "Resample: [0, 10, 9, 14, 9, 17, 14, 9, 16, 10, 0, 9, 9, 16, 18] Median: 10.0\n",
      "Resample: [9, 9, 10, 7, 7, 17, 7, 10, 9, 14, 9, 18, 14, 16, 8] Median: 9.0\n",
      "Resample: [9, 16, 14, 18, 9, 7, 8, 8, 16, 17, 14, 18, 9, 16, 9] Median: 14.0\n",
      "Resample: [17, 9, 0, 0, 7, 0, 8, 10, 18, 10, 0, 17, 18, 8, 9] Median: 9.0\n",
      "Resample: [8, 0, 16, 18, 9, 14, 14, 16, 9, 0, 9, 0, 10, 10, 7] Median: 9.0\n",
      "Resample: [7, 7, 7, 0, 9, 0, 9, 16, 7, 17, 18, 17, 16, 18, 10] Median: 9.0\n",
      "Resample: [9, 7, 16, 18, 9, 0, 18, 16, 0, 7, 10, 0, 8, 14, 0] Median: 9.0\n",
      "Resample: [7, 0, 0, 9, 0, 8, 18, 8, 10, 7, 17, 18, 14, 16, 7] Median: 8.0\n",
      "Resample: [8, 17, 16, 18, 16, 17, 8, 8, 10, 18, 17, 18, 18, 14, 9] Median: 16.0\n",
      "Resample: [16, 8, 0, 17, 7, 8, 10, 17, 0, 10, 9, 14, 9, 10, 9] Median: 9.0\n",
      "Resample: [9, 18, 17, 0, 7, 0, 8, 18, 8, 8, 0, 8, 9, 7, 17] Median: 8.0\n",
      "Resample: [0, 18, 7, 16, 17, 9, 14, 9, 18, 10, 16, 18, 17, 10, 9] Median: 14.0\n",
      "Resample: [0, 0, 14, 16, 17, 8, 18, 7, 18, 18, 7, 16, 16, 17, 16] Median: 16.0\n",
      "Resample: [9, 18, 9, 14, 7, 16, 9, 18, 7, 7, 8, 0, 14, 9, 9] Median: 9.0\n",
      "Resample: [0, 10, 14, 18, 10, 7, 18, 17, 17, 9, 18, 14, 17, 18, 17] Median: 17.0\n",
      "Resample: [7, 9, 16, 9, 9, 7, 17, 9, 0, 0, 14, 14, 10, 18, 8] Median: 9.0\n",
      "Resample: [14, 18, 17, 7, 9, 7, 9, 14, 18, 17, 10, 18, 7, 8, 8] Median: 10.0\n",
      "Resample: [14, 18, 0, 7, 18, 9, 18, 10, 16, 9, 16, 14, 9, 16, 7] Median: 14.0\n",
      "Resample: [16, 17, 7, 7, 0, 9, 16, 9, 9, 8, 14, 9, 10, 17, 17] Median: 9.0\n",
      "Resample: [17, 7, 7, 7, 7, 9, 18, 9, 16, 8, 9, 16, 18, 9, 9] Median: 9.0\n",
      "Resample: [7, 16, 18, 10, 10, 8, 7, 18, 8, 14, 14, 14, 8, 7, 9] Median: 10.0\n",
      "Resample: [9, 9, 9, 9, 9, 16, 14, 0, 9, 16, 7, 16, 18, 18, 0] Median: 9.0\n",
      "Resample: [17, 0, 18, 17, 7, 9, 0, 18, 10, 17, 10, 16, 14, 14, 9] Median: 14.0\n",
      "Resample: [17, 8, 16, 10, 9, 14, 14, 17, 14, 9, 8, 18, 10, 7, 0] Median: 10.0\n",
      "Resample: [9, 9, 7, 10, 17, 10, 7, 9, 7, 9, 10, 17, 18, 10, 7] Median: 9.0\n",
      "Resample: [10, 16, 17, 9, 0, 17, 18, 8, 10, 0, 16, 9, 9, 10, 8] Median: 10.0\n",
      "Resample: [10, 16, 10, 9, 14, 16, 0, 16, 16, 9, 9, 9, 9, 7, 9] Median: 9.0\n",
      "Resample: [16, 7, 7, 9, 18, 16, 18, 0, 9, 9, 0, 0, 9, 9, 14] Median: 9.0\n",
      "Resample: [14, 0, 14, 18, 9, 8, 9, 9, 14, 16, 17, 17, 16, 16, 18] Median: 14.0\n",
      "Resample: [16, 7, 16, 14, 0, 17, 16, 18, 18, 9, 10, 10, 9, 14, 9] Median: 14.0\n",
      "Resample: [16, 0, 14, 9, 9, 0, 17, 0, 7, 10, 8, 0, 9, 18, 18] Median: 9.0\n",
      "Resample: [10, 9, 14, 14, 7, 0, 9, 18, 17, 16, 18, 18, 9, 8, 17] Median: 14.0\n",
      "Resample: [9, 18, 8, 18, 9, 17, 18, 10, 9, 10, 8, 9, 9, 9, 10] Median: 9.0\n",
      "Resample: [8, 9, 0, 17, 9, 17, 10, 18, 16, 10, 16, 9, 17, 17, 18] Median: 16.0\n",
      "Resample: [10, 14, 9, 10, 18, 17, 9, 8, 0, 7, 14, 17, 9, 8, 8] Median: 9.0\n",
      "Resample: [17, 17, 7, 17, 10, 14, 7, 8, 7, 0, 7, 7, 0, 18, 17] Median: 8.0\n",
      "Resample: [10, 8, 9, 9, 16, 8, 16, 7, 14, 8, 0, 0, 10, 17, 9] Median: 9.0\n",
      "Resample: [7, 0, 7, 10, 8, 14, 10, 0, 17, 18, 16, 16, 10, 8, 9] Median: 10.0\n",
      "Resample: [16, 16, 16, 14, 14, 10, 7, 10, 16, 14, 17, 18, 7, 10, 9] Median: 14.0\n",
      "Resample: [17, 9, 16, 10, 18, 18, 14, 17, 10, 9, 17, 0, 9, 10, 18] Median: 14.0\n",
      "Resample: [8, 17, 16, 8, 10, 9, 16, 18, 9, 18, 10, 9, 0, 9, 10] Median: 10.0\n",
      "Resample: [8, 14, 8, 18, 9, 7, 9, 9, 17, 8, 17, 8, 18, 16, 9] Median: 9.0\n",
      "Resample: [16, 9, 10, 7, 14, 18, 18, 9, 8, 8, 14, 18, 7, 0, 7] Median: 9.0\n",
      "Resample: [17, 0, 10, 9, 7, 16, 8, 14, 0, 14, 7, 17, 14, 7, 9] Median: 9.0\n",
      "Resample: [16, 10, 9, 0, 18, 0, 9, 18, 8, 7, 8, 10, 18, 14, 14] Median: 10.0\n",
      "Resample: [18, 8, 0, 14, 16, 7, 17, 7, 10, 18, 10, 0, 0, 7, 0] Median: 8.0\n",
      "Resample: [8, 18, 16, 16, 16, 18, 7, 0, 14, 14, 10, 18, 0, 9, 7] Median: 14.0\n",
      "Resample: [7, 17, 9, 9, 9, 9, 10, 14, 8, 7, 9, 9, 18, 0, 9] Median: 9.0\n",
      "Resample: [18, 0, 9, 0, 10, 18, 9, 10, 17, 14, 10, 9, 14, 9, 14] Median: 10.0\n",
      "Resample: [9, 9, 8, 7, 9, 17, 18, 17, 8, 9, 17, 8, 9, 9, 10] Median: 9.0\n",
      "Resample: [8, 9, 9, 16, 10, 0, 17, 7, 9, 9, 14, 14, 14, 17, 10] Median: 10.0\n",
      "Resample: [0, 16, 7, 9, 7, 9, 17, 14, 10, 8, 16, 10, 17, 16, 14] Median: 10.0\n",
      "Resample: [18, 8, 14, 8, 9, 7, 8, 7, 10, 16, 10, 16, 16, 17, 0] Median: 10.0\n",
      "Resample: [17, 8, 9, 7, 7, 10, 8, 9, 14, 9, 16, 9, 0, 14, 10] Median: 9.0\n",
      "Resample: [9, 9, 0, 17, 14, 7, 9, 18, 9, 9, 8, 16, 10, 17, 8] Median: 9.0\n",
      "Resample: [8, 17, 10, 14, 9, 10, 0, 10, 10, 7, 16, 18, 18, 0, 0] Median: 10.0\n",
      "Resample: [17, 10, 14, 16, 8, 9, 0, 10, 18, 7, 8, 9, 18, 14, 14] Median: 10.0\n",
      "Resample: [18, 10, 10, 8, 9, 14, 9, 9, 9, 9, 7, 0, 16, 0, 10] Median: 9.0\n",
      "Resample: [14, 16, 16, 10, 9, 17, 0, 7, 16, 18, 9, 16, 8, 9, 9] Median: 10.0\n",
      "Resample: [18, 9, 7, 7, 16, 18, 14, 0, 16, 16, 7, 9, 14, 7, 7] Median: 9.0\n",
      "Resample: [7, 9, 8, 8, 16, 7, 9, 14, 18, 8, 16, 14, 0, 14, 14] Median: 9.0\n",
      "Resample: [10, 0, 16, 7, 9, 8, 9, 17, 17, 10, 7, 14, 9, 14, 10] Median: 10.0\n",
      "Resample: [9, 14, 0, 0, 16, 7, 9, 9, 9, 0, 8, 16, 16, 18, 10] Median: 9.0\n",
      "Resample: [0, 17, 7, 9, 9, 18, 9, 18, 9, 9, 7, 9, 10, 8, 7] Median: 9.0\n",
      "Resample: [10, 18, 14, 14, 17, 17, 16, 8, 16, 7, 8, 8, 18, 16, 9] Median: 14.0\n",
      "Resample: [0, 0, 16, 14, 17, 18, 18, 10, 18, 17, 10, 14, 7, 18, 8] Median: 14.0\n",
      "Resample: [0, 7, 14, 9, 8, 14, 9, 9, 18, 0, 9, 9, 17, 7, 7] Median: 9.0\n",
      "Resample: [10, 18, 10, 8, 7, 18, 9, 16, 7, 10, 14, 17, 14, 18, 18] Median: 14.0\n",
      "Resample: [9, 18, 10, 9, 17, 9, 7, 10, 8, 10, 16, 8, 9, 9, 17] Median: 9.0\n",
      "Resample: [18, 10, 17, 17, 8, 8, 9, 17, 16, 0, 14, 7, 14, 0, 9] Median: 10.0\n",
      "Resample: [17, 7, 9, 8, 14, 10, 17, 16, 9, 8, 16, 18, 8, 8, 9] Median: 9.0\n",
      "Resample: [16, 9, 14, 9, 7, 9, 18, 7, 14, 9, 9, 8, 17, 0, 7] Median: 9.0\n",
      "Resample: [14, 7, 9, 18, 7, 16, 9, 10, 0, 10, 0, 16, 0, 17, 18] Median: 10.0\n",
      "Resample: [7, 8, 16, 9, 0, 9, 8, 7, 16, 18, 16, 17, 0, 7, 17] Median: 9.0\n",
      "Resample: [9, 0, 0, 18, 0, 9, 0, 18, 9, 9, 17, 14, 16, 7, 18] Median: 9.0\n",
      "Resample: [16, 9, 17, 17, 16, 10, 17, 18, 14, 0, 14, 7, 0, 8, 14] Median: 14.0\n",
      "Resample: [0, 14, 9, 14, 17, 16, 16, 14, 16, 9, 18, 16, 9, 16, 18] Median: 16.0\n",
      "Resample: [9, 9, 18, 7, 14, 16, 8, 9, 0, 10, 9, 14, 9, 16, 17] Median: 9.0\n",
      "Resample: [7, 16, 18, 16, 0, 18, 10, 9, 9, 8, 17, 9, 9, 10, 7] Median: 9.0\n",
      "Resample: [7, 7, 8, 14, 8, 8, 18, 14, 8, 8, 9, 7, 0, 9, 10] Median: 8.0\n",
      "Resample: [10, 9, 18, 9, 14, 8, 18, 17, 10, 9, 18, 10, 9, 10, 9] Median: 10.0\n",
      "Resample: [16, 16, 17, 10, 8, 18, 16, 7, 0, 17, 9, 9, 10, 7, 0] Median: 10.0\n",
      "Resample: [14, 9, 18, 17, 8, 16, 16, 18, 17, 9, 17, 9, 8, 17, 17] Median: 16.0\n",
      "Resample: [8, 8, 18, 14, 8, 17, 8, 18, 17, 9, 10, 14, 10, 7, 9] Median: 10.0\n",
      "Resample: [10, 7, 10, 16, 14, 18, 17, 7, 0, 7, 7, 0, 9, 0, 16] Median: 9.0\n",
      "Resample: [9, 18, 9, 0, 18, 9, 16, 9, 0, 9, 16, 18, 14, 7, 9] Median: 9.0\n",
      "Resample: [18, 17, 8, 7, 17, 9, 18, 7, 18, 16, 7, 9, 9, 9, 8] Median: 9.0\n",
      "Resample: [9, 16, 7, 9, 7, 7, 14, 16, 7, 7, 16, 18, 18, 14, 14] Median: 14.0\n",
      "Resample: [0, 7, 9, 7, 18, 8, 17, 14, 14, 14, 16, 0, 18, 0, 14] Median: 14.0\n",
      "Resample: [9, 0, 8, 8, 8, 10, 8, 17, 8, 7, 14, 17, 17, 17, 0] Median: 8.0\n",
      "Resample: [8, 10, 9, 14, 0, 17, 16, 0, 9, 9, 9, 9, 14, 14, 18] Median: 9.0\n",
      "Resample: [18, 17, 9, 0, 9, 9, 14, 7, 10, 8, 18, 0, 0, 18, 7] Median: 9.0\n",
      "Resample: [9, 16, 8, 8, 18, 18, 16, 10, 8, 10, 18, 10, 16, 0, 10] Median: 10.0\n",
      "Resample: [18, 8, 8, 18, 7, 18, 17, 0, 9, 9, 8, 9, 9, 14, 9] Median: 9.0\n",
      "Resample: [0, 10, 8, 18, 14, 9, 14, 8, 9, 8, 18, 9, 10, 8, 17] Median: 9.0\n",
      "Resample: [8, 7, 16, 0, 9, 0, 17, 14, 16, 8, 8, 18, 14, 9, 10] Median: 9.0\n",
      "Resample: [14, 8, 18, 7, 17, 14, 7, 14, 0, 14, 16, 18, 8, 14, 8] Median: 14.0\n",
      "Resample: [8, 8, 0, 0, 10, 9, 0, 14, 17, 0, 9, 7, 16, 9, 18] Median: 9.0\n",
      "Resample: [7, 9, 7, 9, 16, 7, 0, 9, 9, 0, 17, 7, 8, 16, 10] Median: 9.0\n",
      "Resample: [16, 9, 18, 18, 14, 9, 9, 18, 7, 18, 9, 17, 17, 16, 16] Median: 16.0\n",
      "Resample: [16, 7, 14, 0, 8, 10, 9, 17, 7, 14, 10, 14, 0, 16, 16] Median: 10.0\n",
      "Resample: [8, 10, 9, 9, 9, 0, 8, 16, 0, 18, 17, 9, 0, 17, 0] Median: 9.0\n",
      "Resample: [0, 10, 9, 9, 17, 8, 7, 0, 9, 17, 10, 9, 0, 16, 10] Median: 9.0\n",
      "Resample: [9, 10, 8, 9, 8, 9, 7, 9, 10, 16, 9, 9, 18, 0, 17] Median: 9.0\n",
      "Resample: [7, 16, 0, 9, 9, 8, 17, 0, 9, 17, 8, 0, 0, 8, 9] Median: 8.0\n",
      "Resample: [0, 17, 17, 9, 8, 10, 14, 16, 16, 18, 17, 7, 18, 14, 7] Median: 14.0\n",
      "Resample: [9, 0, 10, 9, 14, 10, 8, 0, 18, 10, 9, 7, 8, 10, 17] Median: 9.0\n",
      "Resample: [14, 16, 18, 0, 7, 9, 9, 9, 16, 16, 7, 10, 9, 8, 9] Median: 9.0\n",
      "Resample: [16, 7, 17, 9, 7, 0, 16, 8, 9, 16, 10, 17, 16, 0, 9] Median: 9.0\n",
      "Resample: [18, 7, 17, 0, 14, 8, 10, 17, 16, 8, 8, 9, 7, 8, 10] Median: 9.0\n",
      "Resample: [10, 8, 14, 0, 14, 17, 18, 7, 14, 7, 7, 0, 16, 18, 9] Median: 10.0\n",
      "Resample: [18, 16, 9, 16, 7, 18, 17, 18, 0, 0, 7, 17, 18, 10, 9] Median: 16.0\n",
      "Resample: [14, 8, 7, 18, 14, 10, 10, 8, 9, 9, 17, 9, 7, 14, 7] Median: 9.0\n",
      "Resample: [10, 8, 16, 17, 14, 14, 16, 10, 0, 8, 10, 0, 17, 10, 8] Median: 10.0\n",
      "Resample: [8, 7, 17, 17, 9, 0, 10, 0, 9, 17, 9, 7, 18, 9, 7] Median: 9.0\n",
      "Resample: [7, 0, 9, 0, 18, 8, 17, 7, 17, 8, 9, 9, 16, 9, 14] Median: 9.0\n",
      "Resample: [18, 9, 8, 18, 9, 17, 16, 18, 9, 7, 9, 18, 18, 17, 9] Median: 16.0\n",
      "Resample: [9, 8, 0, 9, 9, 9, 0, 16, 8, 9, 16, 18, 16, 14, 0] Median: 9.0\n",
      "Resample: [8, 0, 14, 9, 9, 9, 17, 7, 16, 9, 9, 9, 10, 9, 0] Median: 9.0\n",
      "Resample: [8, 0, 10, 9, 14, 0, 14, 17, 7, 9, 16, 16, 18, 8, 10] Median: 10.0\n",
      "Resample: [9, 10, 9, 14, 0, 9, 18, 14, 8, 10, 9, 17, 16, 16, 7] Median: 10.0\n",
      "Resample: [8, 9, 7, 0, 17, 18, 9, 9, 9, 9, 9, 9, 10, 16, 9] Median: 9.0\n",
      "Resample: [14, 14, 7, 18, 10, 18, 17, 17, 18, 18, 9, 18, 8, 16, 0] Median: 16.0\n",
      "Resample: [18, 17, 14, 9, 7, 7, 9, 9, 0, 7, 9, 17, 9, 9, 17] Median: 9.0\n",
      "Resample: [17, 9, 0, 18, 18, 17, 16, 0, 14, 7, 7, 8, 8, 9, 9] Median: 9.0\n",
      "Resample: [10, 0, 17, 16, 0, 8, 9, 8, 9, 9, 14, 0, 9, 16, 14] Median: 9.0\n",
      "Resample: [0, 10, 7, 16, 8, 9, 9, 7, 8, 16, 10, 17, 9, 9, 16] Median: 9.0\n",
      "Resample: [10, 9, 8, 14, 17, 0, 0, 9, 16, 18, 16, 9, 9, 8, 17] Median: 9.0\n",
      "Resample: [10, 10, 8, 18, 9, 14, 0, 7, 7, 10, 0, 17, 17, 7, 7] Median: 9.0\n",
      "Resample: [17, 9, 7, 16, 17, 0, 0, 17, 10, 9, 9, 14, 9, 9, 16] Median: 9.0\n",
      "Resample: [14, 16, 14, 16, 8, 14, 10, 9, 7, 17, 9, 10, 17, 18, 16] Median: 14.0\n",
      "Resample: [10, 16, 7, 9, 9, 8, 9, 9, 16, 8, 8, 17, 18, 16, 17] Median: 9.0\n",
      "Resample: [9, 8, 9, 8, 8, 8, 7, 9, 9, 17, 17, 8, 17, 7, 8] Median: 8.0\n",
      "Resample: [16, 10, 10, 7, 16, 10, 0, 17, 16, 7, 14, 0, 17, 14, 8] Median: 10.0\n",
      "Resample: [17, 9, 0, 8, 17, 9, 0, 8, 8, 16, 8, 18, 17, 0, 16] Median: 9.0\n",
      "Resample: [8, 7, 8, 18, 7, 14, 10, 10, 18, 10, 10, 0, 16, 16, 18] Median: 10.0\n",
      "Resample: [9, 17, 7, 9, 14, 8, 7, 16, 9, 7, 18, 10, 7, 7, 8] Median: 9.0\n",
      "Resample: [0, 9, 7, 17, 18, 10, 18, 8, 9, 0, 0, 7, 14, 0, 10] Median: 9.0\n",
      "Resample: [9, 9, 18, 0, 9, 16, 16, 16, 18, 7, 14, 9, 0, 8, 0] Median: 9.0\n",
      "Resample: [18, 10, 9, 18, 16, 17, 9, 0, 18, 9, 9, 14, 8, 9, 18] Median: 10.0\n",
      "Resample: [14, 17, 16, 9, 10, 9, 9, 17, 0, 7, 9, 7, 10, 10, 14] Median: 10.0\n",
      "Resample: [17, 0, 16, 9, 18, 7, 16, 8, 10, 9, 7, 17, 8, 17, 17] Median: 10.0\n",
      "Resample: [16, 18, 8, 14, 14, 7, 18, 0, 0, 17, 10, 10, 0, 8, 9] Median: 10.0\n",
      "Resample: [18, 8, 8, 9, 7, 9, 0, 7, 7, 0, 9, 14, 14, 14, 9] Median: 9.0\n",
      "Resample: [17, 9, 10, 10, 17, 7, 8, 17, 16, 16, 10, 16, 17, 7, 18] Median: 16.0\n",
      "Resample: [9, 18, 0, 14, 8, 14, 10, 9, 9, 7, 18, 17, 16, 9, 18] Median: 10.0\n",
      "Resample: [8, 17, 18, 14, 18, 10, 17, 0, 14, 17, 7, 8, 0, 18, 18] Median: 14.0\n",
      "Resample: [7, 16, 10, 18, 0, 9, 18, 9, 16, 16, 18, 14, 9, 14, 8] Median: 14.0\n",
      "Resample: [7, 17, 14, 14, 9, 9, 8, 14, 0, 9, 8, 0, 9, 0, 0] Median: 9.0\n",
      "Resample: [14, 17, 9, 0, 9, 14, 9, 0, 8, 9, 7, 17, 10, 7, 18] Median: 9.0\n",
      "Resample: [17, 0, 7, 10, 8, 17, 17, 18, 0, 18, 7, 17, 7, 14, 8] Median: 10.0\n",
      "Resample: [16, 10, 10, 16, 9, 0, 16, 0, 17, 14, 14, 16, 9, 9, 17] Median: 14.0\n",
      "Resample: [16, 8, 14, 7, 9, 18, 10, 17, 9, 9, 14, 17, 8, 10, 18] Median: 10.0\n",
      "Resample: [7, 9, 16, 10, 9, 0, 18, 17, 7, 7, 0, 18, 16, 14, 9] Median: 9.0\n",
      "Resample: [8, 18, 18, 0, 14, 9, 9, 0, 7, 18, 9, 14, 18, 14, 16] Median: 14.0\n",
      "Resample: [9, 17, 8, 16, 8, 16, 18, 10, 16, 18, 9, 10, 8, 7, 0] Median: 10.0\n",
      "Resample: [17, 14, 17, 0, 14, 10, 8, 17, 14, 7, 8, 16, 9, 8, 9] Median: 10.0\n",
      "Resample: [10, 7, 18, 9, 18, 9, 0, 7, 0, 10, 0, 9, 9, 8, 9] Median: 9.0\n",
      "Resample: [10, 14, 8, 9, 10, 7, 17, 9, 16, 10, 17, 9, 18, 8, 10] Median: 10.0\n",
      "Resample: [7, 17, 7, 18, 18, 0, 17, 8, 8, 17, 8, 16, 10, 8, 10] Median: 10.0\n",
      "Resample: [18, 18, 0, 14, 9, 7, 0, 9, 18, 14, 9, 18, 9, 9, 8] Median: 9.0\n",
      "Resample: [17, 10, 7, 14, 14, 14, 0, 16, 8, 16, 10, 10, 10, 7, 14] Median: 10.0\n",
      "Resample: [7, 17, 18, 14, 17, 17, 17, 7, 9, 9, 8, 8, 16, 17, 8] Median: 14.0\n",
      "Resample: [8, 17, 16, 0, 7, 16, 8, 16, 8, 9, 14, 18, 14, 9, 16] Median: 14.0\n",
      "Resample: [0, 17, 18, 10, 17, 18, 10, 7, 9, 7, 18, 10, 7, 7, 17] Median: 10.0\n",
      "Resample: [16, 18, 9, 10, 0, 10, 14, 17, 10, 9, 0, 14, 9, 9, 9] Median: 10.0\n",
      "Resample: [14, 7, 7, 0, 17, 9, 18, 16, 7, 18, 0, 18, 16, 0, 9] Median: 9.0\n",
      "Resample: [8, 9, 16, 0, 9, 16, 18, 0, 10, 17, 0, 8, 9, 17, 7] Median: 9.0\n",
      "Resample: [10, 9, 9, 0, 14, 9, 8, 16, 0, 16, 17, 17, 14, 7, 7] Median: 9.0\n",
      "Resample: [9, 10, 9, 7, 10, 8, 16, 14, 18, 16, 8, 14, 18, 0, 0] Median: 10.0\n",
      "Resample: [7, 16, 0, 18, 9, 18, 18, 7, 8, 7, 0, 9, 18, 9, 9] Median: 9.0\n",
      "Resample: [16, 16, 18, 18, 14, 17, 18, 14, 0, 7, 17, 9, 0, 9, 10] Median: 14.0\n",
      "Resample: [0, 7, 7, 18, 16, 0, 7, 14, 7, 16, 17, 0, 9, 9, 9] Median: 9.0\n",
      "Resample: [7, 17, 18, 17, 16, 16, 8, 16, 8, 14, 16, 18, 7, 0, 16] Median: 16.0\n",
      "Resample: [9, 0, 16, 17, 8, 7, 17, 18, 17, 16, 18, 7, 9, 9, 16] Median: 16.0\n",
      "Resample: [9, 18, 8, 18, 0, 7, 8, 8, 18, 0, 9, 7, 7, 8, 14] Median: 8.0\n",
      "Resample: [10, 17, 7, 16, 7, 9, 8, 8, 16, 14, 8, 8, 7, 7, 0] Median: 8.0\n",
      "Resample: [10, 9, 7, 16, 14, 0, 7, 9, 14, 10, 16, 18, 7, 18, 9] Median: 10.0\n",
      "Resample: [9, 9, 17, 9, 18, 14, 14, 16, 8, 10, 8, 14, 9, 9, 16] Median: 10.0\n",
      "Resample: [8, 18, 8, 17, 10, 18, 18, 9, 16, 14, 9, 9, 16, 18, 9] Median: 14.0\n",
      "Resample: [0, 18, 8, 0, 7, 18, 10, 18, 18, 9, 9, 16, 9, 17, 14] Median: 10.0\n",
      "Resample: [10, 7, 8, 14, 9, 9, 16, 0, 14, 17, 8, 18, 9, 0, 16] Median: 9.0\n",
      "Resample: [8, 9, 7, 10, 0, 10, 8, 17, 9, 8, 17, 18, 0, 0, 10] Median: 9.0\n",
      "Resample: [7, 0, 7, 0, 0, 9, 14, 9, 8, 7, 14, 14, 8, 7, 9] Median: 8.0\n",
      "Resample: [7, 18, 8, 14, 14, 0, 7, 0, 17, 18, 14, 14, 0, 9, 10] Median: 10.0\n",
      "Resample: [10, 7, 7, 16, 10, 0, 7, 16, 0, 17, 7, 8, 8, 18, 7] Median: 8.0\n",
      "Resample: [8, 9, 18, 16, 8, 9, 17, 9, 18, 8, 7, 17, 14, 7, 7] Median: 9.0\n",
      "Resample: [18, 0, 17, 9, 8, 9, 16, 7, 10, 9, 10, 7, 18, 8, 9] Median: 9.0\n",
      "Resample: [17, 18, 0, 7, 9, 17, 9, 0, 7, 0, 18, 10, 16, 18, 9] Median: 9.0\n",
      "Resample: [9, 14, 9, 10, 16, 10, 0, 0, 7, 9, 14, 0, 10, 18, 18] Median: 10.0\n",
      "Resample: [9, 9, 18, 9, 18, 10, 7, 7, 8, 17, 0, 18, 10, 16, 0] Median: 9.0\n",
      "Resample: [18, 9, 18, 10, 18, 9, 10, 18, 0, 9, 10, 9, 16, 16, 8] Median: 10.0\n",
      "Resample: [17, 0, 0, 17, 14, 8, 9, 10, 18, 7, 0, 7, 10, 8, 17] Median: 9.0\n",
      "Resample: [14, 17, 7, 7, 9, 18, 8, 17, 10, 18, 0, 7, 10, 14, 7] Median: 10.0\n",
      "Resample: [16, 18, 7, 9, 0, 9, 0, 17, 18, 9, 17, 0, 9, 8, 0] Median: 9.0\n",
      "Resample: [14, 18, 10, 7, 8, 0, 14, 8, 17, 17, 8, 18, 10, 18, 17] Median: 14.0\n",
      "Resample: [9, 10, 9, 7, 16, 17, 10, 16, 14, 17, 8, 14, 8, 10, 8] Median: 10.0\n",
      "Resample: [14, 0, 8, 18, 14, 8, 8, 14, 9, 8, 8, 9, 18, 16, 14] Median: 9.0\n",
      "Resample: [10, 16, 9, 7, 17, 9, 0, 0, 0, 7, 14, 17, 7, 9, 18] Median: 9.0\n",
      "Resample: [16, 16, 9, 9, 14, 9, 9, 9, 9, 8, 10, 8, 16, 9, 9] Median: 9.0\n",
      "Resample: [16, 9, 0, 10, 17, 16, 9, 8, 7, 14, 14, 9, 9, 7, 16] Median: 9.0\n",
      "Resample: [10, 9, 7, 9, 10, 17, 18, 16, 8, 18, 18, 9, 7, 9, 0] Median: 9.0\n",
      "Resample: [14, 7, 14, 9, 10, 17, 7, 9, 16, 16, 9, 14, 18, 10, 9] Median: 10.0\n",
      "Resample: [18, 9, 18, 16, 0, 0, 18, 8, 18, 9, 10, 0, 17, 17, 16] Median: 16.0\n",
      "Resample: [17, 7, 8, 8, 14, 7, 18, 17, 14, 8, 14, 10, 7, 10, 16] Median: 10.0\n",
      "Resample: [8, 9, 8, 7, 0, 7, 9, 14, 16, 0, 14, 14, 16, 14, 17] Median: 9.0\n",
      "Resample: [7, 16, 9, 18, 10, 14, 17, 9, 9, 7, 17, 16, 16, 8, 0] Median: 10.0\n",
      "Resample: [9, 10, 14, 18, 9, 0, 17, 8, 9, 9, 0, 8, 10, 0, 10] Median: 9.0\n",
      "Resample: [0, 9, 14, 9, 10, 0, 14, 18, 17, 18, 14, 7, 9, 7, 9] Median: 9.0\n",
      "Resample: [18, 8, 8, 7, 17, 7, 18, 18, 8, 14, 17, 0, 17, 8, 7] Median: 8.0\n",
      "Resample: [10, 16, 9, 7, 14, 18, 8, 0, 0, 14, 9, 18, 18, 16, 14] Median: 14.0\n",
      "Resample: [9, 14, 9, 18, 0, 18, 9, 17, 7, 7, 14, 0, 7, 9, 7] Median: 9.0\n",
      "Resample: [16, 10, 7, 9, 18, 10, 18, 16, 14, 14, 7, 8, 9, 9, 14] Median: 10.0\n",
      "Resample: [14, 9, 7, 9, 10, 17, 17, 17, 14, 10, 17, 18, 16, 16, 7] Median: 14.0\n",
      "Resample: [10, 9, 14, 8, 17, 7, 9, 10, 14, 16, 9, 0, 8, 16, 16] Median: 10.0\n",
      "Resample: [8, 8, 9, 18, 9, 8, 18, 9, 16, 18, 7, 9, 10, 0, 14] Median: 9.0\n",
      "Resample: [18, 9, 9, 9, 17, 18, 10, 10, 16, 7, 17, 16, 17, 0, 14] Median: 14.0\n",
      "Resample: [16, 14, 8, 17, 10, 17, 9, 0, 8, 10, 0, 0, 7, 9, 0] Median: 9.0\n",
      "Resample: [14, 18, 0, 16, 17, 8, 7, 0, 14, 9, 8, 9, 9, 18, 16] Median: 9.0\n",
      "Resample: [16, 0, 10, 9, 9, 10, 9, 0, 0, 14, 16, 0, 18, 17, 18] Median: 10.0\n",
      "Resample: [18, 18, 10, 14, 10, 16, 9, 9, 8, 0, 9, 9, 18, 17, 16] Median: 10.0\n",
      "Resample: [9, 7, 17, 17, 0, 17, 14, 14, 9, 10, 10, 0, 10, 14, 8] Median: 10.0\n",
      "Resample: [14, 0, 18, 8, 7, 18, 7, 9, 8, 18, 18, 10, 10, 9, 18] Median: 10.0\n",
      "Resample: [7, 14, 7, 7, 8, 9, 14, 16, 16, 14, 14, 10, 17, 14, 9] Median: 14.0\n",
      "Resample: [18, 8, 7, 17, 8, 7, 7, 18, 18, 9, 9, 10, 16, 0, 9] Median: 9.0\n",
      "Resample: [8, 16, 8, 16, 14, 18, 8, 10, 10, 16, 18, 17, 0, 17, 10] Median: 14.0\n",
      "Resample: [18, 9, 7, 10, 17, 8, 18, 9, 17, 7, 14, 9, 18, 9, 17] Median: 10.0\n",
      "Resample: [9, 9, 14, 17, 14, 7, 9, 17, 9, 0, 7, 14, 18, 9, 9] Median: 9.0\n",
      "Resample: [7, 16, 16, 10, 8, 14, 0, 7, 9, 10, 8, 9, 18, 9, 7] Median: 9.0\n",
      "Resample: [8, 16, 7, 14, 9, 7, 16, 0, 16, 17, 16, 7, 14, 0, 8] Median: 9.0\n",
      "Resample: [9, 16, 7, 7, 9, 16, 17, 18, 7, 0, 17, 10, 9, 8, 17] Median: 9.0\n",
      "Resample: [0, 9, 10, 16, 0, 17, 10, 7, 0, 16, 17, 8, 14, 10, 8] Median: 10.0\n",
      "Resample: [10, 9, 16, 16, 9, 14, 7, 8, 10, 16, 0, 10, 18, 14, 16] Median: 10.0\n",
      "Resample: [10, 9, 0, 0, 18, 9, 18, 9, 9, 9, 18, 16, 0, 16, 18] Median: 9.0\n",
      "Resample: [14, 8, 9, 0, 14, 14, 9, 0, 17, 9, 9, 7, 8, 14, 0] Median: 9.0\n",
      "Resample: [17, 14, 8, 0, 18, 8, 0, 0, 18, 10, 10, 14, 18, 0, 18] Median: 10.0\n",
      "Resample: [10, 8, 8, 18, 18, 0, 17, 8, 7, 0, 9, 7, 0, 9, 18] Median: 8.0\n",
      "Resample: [16, 16, 18, 10, 18, 17, 14, 17, 9, 16, 18, 9, 8, 0, 7] Median: 16.0\n",
      "Resample: [16, 17, 14, 9, 16, 8, 7, 17, 7, 18, 17, 14, 10, 7, 9] Median: 14.0\n",
      "Resample: [0, 10, 17, 18, 16, 9, 14, 14, 17, 7, 0, 18, 8, 17, 10] Median: 14.0\n",
      "Resample: [9, 10, 10, 7, 8, 16, 0, 7, 9, 0, 0, 7, 14, 10, 16] Median: 9.0\n",
      "Resample: [7, 7, 14, 16, 7, 9, 0, 10, 7, 16, 10, 10, 17, 14, 18] Median: 10.0\n",
      "Resample: [9, 16, 9, 14, 18, 9, 10, 9, 9, 14, 0, 17, 8, 9, 16] Median: 9.0\n",
      "Resample: [10, 10, 16, 0, 9, 0, 0, 9, 7, 10, 9, 16, 17, 0, 7] Median: 9.0\n",
      "Resample: [17, 10, 18, 9, 8, 10, 16, 10, 9, 9, 8, 7, 14, 16, 16] Median: 10.0\n",
      "Resample: [17, 17, 18, 18, 18, 7, 8, 14, 18, 0, 0, 10, 14, 9, 7] Median: 14.0\n",
      "Resample: [0, 10, 17, 10, 17, 17, 18, 0, 18, 18, 0, 0, 9, 10, 10] Median: 10.0\n",
      "Resample: [17, 16, 9, 7, 18, 0, 17, 16, 9, 10, 16, 17, 10, 9, 0] Median: 10.0\n",
      "Resample: [14, 0, 9, 18, 18, 17, 18, 16, 16, 18, 17, 18, 0, 16, 18] Median: 17.0\n",
      "Resample: [18, 9, 8, 0, 18, 17, 10, 9, 8, 0, 14, 14, 14, 14, 16] Median: 14.0\n",
      "Resample: [18, 14, 17, 14, 18, 14, 16, 7, 9, 9, 7, 14, 8, 17, 7] Median: 14.0\n",
      "Resample: [17, 17, 17, 17, 8, 10, 18, 17, 17, 7, 9, 16, 17, 7, 0] Median: 17.0\n",
      "Resample: [10, 9, 16, 7, 10, 18, 14, 9, 14, 9, 17, 18, 7, 18, 18] Median: 14.0\n",
      "Resample: [8, 17, 16, 0, 9, 18, 7, 9, 0, 9, 9, 0, 17, 0, 14] Median: 9.0\n",
      "Resample: [0, 9, 7, 17, 8, 9, 9, 18, 18, 18, 9, 8, 9, 16, 9] Median: 9.0\n",
      "Resample: [10, 0, 18, 9, 8, 17, 16, 7, 16, 10, 17, 10, 10, 9, 9] Median: 10.0\n",
      "Resample: [7, 14, 17, 0, 0, 10, 0, 7, 7, 14, 17, 9, 16, 17, 7] Median: 9.0\n",
      "Resample: [17, 18, 10, 7, 17, 16, 14, 7, 17, 7, 18, 0, 8, 10, 16] Median: 14.0\n",
      "Resample: [7, 9, 14, 16, 0, 8, 10, 17, 0, 8, 17, 0, 14, 0, 7] Median: 8.0\n",
      "Resample: [8, 9, 9, 18, 14, 0, 0, 7, 10, 10, 7, 8, 0, 0, 16] Median: 8.0\n",
      "Resample: [16, 9, 0, 9, 9, 14, 9, 8, 18, 0, 14, 7, 8, 14, 16] Median: 9.0\n",
      "Resample: [9, 9, 17, 9, 16, 0, 9, 0, 18, 10, 14, 10, 8, 7, 16] Median: 9.0\n",
      "Resample: [7, 8, 8, 0, 18, 16, 14, 16, 17, 7, 17, 7, 16, 8, 16] Median: 14.0\n",
      "Resample: [9, 9, 17, 18, 10, 17, 0, 16, 16, 10, 10, 8, 10, 8, 17] Median: 10.0\n",
      "Resample: [8, 9, 8, 9, 8, 0, 9, 14, 17, 10, 9, 7, 8, 7, 10] Median: 9.0\n",
      "Resample: [7, 18, 10, 8, 7, 7, 14, 16, 8, 17, 7, 7, 7, 9, 18] Median: 8.0\n",
      "Resample: [9, 0, 8, 10, 18, 0, 10, 18, 9, 17, 7, 17, 0, 8, 8] Median: 9.0\n",
      "Resample: [7, 9, 18, 9, 10, 9, 10, 9, 14, 14, 9, 10, 7, 7, 10] Median: 9.0\n",
      "Resample: [0, 16, 10, 18, 0, 17, 9, 18, 7, 8, 8, 9, 9, 17, 9] Median: 9.0\n",
      "Resample: [10, 17, 10, 9, 8, 17, 0, 16, 9, 18, 0, 14, 8, 16, 10] Median: 10.0\n",
      "Resample: [14, 14, 18, 9, 16, 9, 8, 0, 16, 14, 14, 9, 10, 14, 16] Median: 14.0\n",
      "Resample: [18, 9, 18, 18, 14, 18, 16, 10, 17, 18, 8, 9, 17, 14, 8] Median: 16.0\n",
      "Resample: [16, 10, 17, 18, 10, 7, 14, 9, 18, 17, 14, 8, 16, 8, 8] Median: 14.0\n",
      "Resample: [14, 0, 14, 9, 0, 9, 18, 18, 17, 16, 9, 18, 7, 14, 7] Median: 14.0\n",
      "Resample: [16, 16, 17, 16, 18, 0, 10, 17, 16, 17, 14, 17, 9, 14, 17] Median: 16.0\n",
      "Resample: [18, 0, 7, 18, 9, 9, 8, 18, 9, 9, 16, 14, 0, 9, 17] Median: 9.0\n",
      "Resample: [8, 9, 0, 0, 10, 14, 9, 17, 9, 10, 10, 9, 0, 17, 10] Median: 9.0\n",
      "Resample: [16, 8, 16, 16, 16, 17, 0, 16, 9, 7, 10, 16, 16, 8, 7] Median: 16.0\n",
      "Resample: [0, 16, 8, 16, 9, 9, 14, 8, 9, 14, 0, 18, 17, 7, 16] Median: 9.0\n",
      "Resample: [9, 18, 0, 8, 16, 8, 7, 17, 9, 14, 17, 7, 0, 16, 10] Median: 9.0\n",
      "Resample: [17, 14, 9, 16, 17, 8, 10, 9, 16, 16, 14, 7, 7, 0, 7] Median: 10.0\n",
      "Resample: [14, 14, 9, 18, 16, 14, 18, 14, 9, 8, 8, 17, 17, 14, 8] Median: 14.0\n",
      "Resample: [16, 18, 10, 9, 16, 17, 17, 10, 10, 8, 8, 9, 0, 0, 18] Median: 10.0\n",
      "Resample: [10, 17, 9, 14, 14, 16, 14, 9, 10, 9, 8, 10, 10, 17, 10] Median: 10.0\n",
      "Resample: [16, 9, 14, 10, 16, 7, 9, 7, 18, 9, 17, 8, 17, 9, 10] Median: 10.0\n",
      "Resample: [14, 18, 7, 7, 9, 8, 7, 7, 9, 17, 9, 7, 17, 8, 0] Median: 8.0\n",
      "Resample: [17, 9, 10, 10, 0, 9, 17, 17, 8, 8, 17, 14, 17, 8, 9] Median: 10.0\n",
      "Resample: [9, 9, 7, 14, 18, 10, 16, 7, 8, 18, 9, 14, 9, 9, 9] Median: 9.0\n",
      "Resample: [17, 14, 7, 17, 10, 18, 7, 14, 16, 18, 9, 17, 0, 16, 8] Median: 14.0\n",
      "Resample: [0, 10, 7, 9, 18, 14, 10, 9, 8, 14, 16, 0, 10, 9, 9] Median: 9.0\n",
      "Resample: [10, 0, 14, 14, 16, 14, 9, 14, 8, 18, 8, 16, 18, 17, 9] Median: 14.0\n",
      "Resample: [16, 16, 9, 10, 7, 7, 9, 14, 10, 0, 7, 16, 8, 9, 10] Median: 9.0\n",
      "Resample: [7, 9, 9, 16, 18, 10, 10, 9, 7, 17, 14, 0, 9, 8, 10] Median: 9.0\n",
      "Resample: [8, 16, 9, 9, 9, 7, 14, 10, 10, 16, 7, 0, 7, 9, 18] Median: 9.0\n",
      "Resample: [8, 17, 7, 17, 18, 8, 7, 0, 10, 9, 9, 9, 0, 16, 18] Median: 9.0\n",
      "Resample: [16, 7, 17, 8, 9, 14, 0, 16, 8, 9, 9, 9, 0, 9, 18] Median: 9.0\n",
      "Resample: [14, 9, 16, 9, 14, 9, 9, 9, 16, 8, 16, 7, 14, 18, 16] Median: 14.0\n",
      "Resample: [16, 9, 9, 8, 9, 17, 17, 9, 9, 14, 18, 14, 14, 9, 16] Median: 14.0\n",
      "Resample: [9, 17, 18, 9, 17, 7, 10, 10, 9, 17, 0, 17, 9, 9, 0] Median: 9.0\n",
      "Resample: [16, 9, 10, 14, 8, 8, 0, 14, 9, 7, 14, 10, 8, 16, 17] Median: 10.0\n",
      "Resample: [18, 10, 9, 14, 16, 8, 18, 18, 17, 18, 7, 10, 0, 8, 0] Median: 10.0\n",
      "Resample: [17, 14, 17, 7, 16, 14, 18, 7, 17, 18, 10, 18, 10, 9, 18] Median: 16.0\n",
      "Resample: [16, 16, 8, 8, 10, 8, 14, 7, 8, 16, 16, 7, 9, 17, 9] Median: 9.0\n",
      "Resample: [8, 9, 0, 8, 0, 14, 7, 9, 8, 17, 10, 16, 16, 9, 9] Median: 9.0\n",
      "Resample: [14, 0, 17, 9, 16, 17, 17, 0, 10, 18, 18, 9, 10, 7, 17] Median: 14.0\n",
      "Resample: [17, 0, 14, 9, 0, 17, 7, 17, 9, 10, 8, 10, 8, 8, 7] Median: 9.0\n",
      "Resample: [18, 17, 8, 0, 16, 9, 0, 10, 10, 7, 10, 7, 17, 0, 0] Median: 9.0\n",
      "Resample: [10, 18, 16, 18, 14, 16, 18, 17, 10, 17, 9, 8, 9, 14, 0] Median: 14.0\n",
      "Resample: [16, 14, 9, 16, 18, 16, 10, 18, 8, 9, 9, 0, 8, 9, 9] Median: 9.0\n",
      "Resample: [10, 8, 9, 14, 16, 18, 0, 17, 18, 0, 9, 14, 0, 10, 17] Median: 10.0\n",
      "Resample: [7, 10, 9, 9, 0, 10, 9, 9, 7, 9, 17, 9, 16, 14, 9] Median: 9.0\n",
      "Resample: [14, 7, 17, 17, 9, 9, 16, 18, 10, 9, 9, 7, 9, 10, 14] Median: 10.0\n",
      "Resample: [7, 0, 9, 16, 7, 7, 16, 8, 9, 7, 8, 10, 17, 0, 8] Median: 8.0\n",
      "Resample: [16, 18, 17, 14, 0, 7, 9, 17, 10, 18, 10, 18, 18, 9, 7] Median: 14.0\n",
      "Resample: [14, 7, 18, 17, 9, 9, 8, 16, 0, 0, 9, 9, 10, 7, 14] Median: 9.0\n",
      "Resample: [14, 0, 10, 10, 10, 10, 9, 17, 9, 17, 8, 18, 7, 7, 9] Median: 10.0\n",
      "Resample: [8, 9, 10, 0, 16, 18, 17, 8, 0, 14, 18, 16, 8, 18, 10] Median: 10.0\n",
      "Resample: [7, 9, 17, 9, 0, 10, 9, 14, 16, 7, 18, 8, 18, 9, 7] Median: 9.0\n",
      "Resample: [10, 9, 9, 16, 18, 16, 7, 18, 0, 17, 14, 17, 16, 16, 14] Median: 16.0\n",
      "Resample: [8, 9, 9, 16, 17, 7, 9, 16, 14, 18, 9, 9, 14, 18, 7] Median: 9.0\n",
      "Resample: [10, 9, 10, 14, 14, 7, 10, 9, 9, 8, 17, 8, 0, 16, 10] Median: 10.0\n",
      "Resample: [17, 17, 0, 10, 14, 17, 9, 16, 9, 8, 7, 7, 16, 10, 18] Median: 10.0\n",
      "Resample: [16, 7, 14, 9, 7, 10, 9, 7, 10, 8, 18, 16, 18, 17, 18] Median: 10.0\n",
      "Resample: [17, 10, 18, 17, 16, 7, 14, 18, 0, 9, 9, 10, 0, 10, 18] Median: 10.0\n",
      "Resample: [10, 10, 10, 8, 10, 16, 9, 7, 9, 17, 17, 14, 10, 16, 17] Median: 10.0\n",
      "Resample: [8, 18, 10, 7, 14, 9, 0, 10, 0, 16, 14, 7, 8, 9, 0] Median: 9.0\n",
      "Resample: [9, 18, 10, 14, 9, 9, 18, 0, 0, 7, 14, 9, 17, 8, 10] Median: 9.0\n",
      "Resample: [9, 9, 9, 8, 16, 8, 9, 18, 10, 8, 17, 18, 17, 8, 9] Median: 9.0\n",
      "Resample: [9, 16, 18, 9, 8, 7, 17, 18, 16, 0, 7, 10, 9, 8, 0] Median: 9.0\n",
      "Resample: [16, 9, 8, 7, 10, 9, 0, 8, 14, 17, 10, 8, 10, 0, 18] Median: 9.0\n",
      "Resample: [8, 16, 9, 16, 0, 10, 10, 9, 16, 10, 17, 0, 0, 18, 16] Median: 10.0\n",
      "Resample: [8, 0, 17, 9, 0, 10, 9, 10, 14, 0, 18, 10, 16, 9, 0] Median: 9.0\n",
      "Resample: [10, 9, 14, 9, 9, 18, 9, 7, 17, 8, 10, 14, 18, 14, 17] Median: 10.0\n",
      "Resample: [9, 17, 7, 7, 9, 9, 9, 10, 9, 7, 9, 17, 14, 16, 9] Median: 9.0\n",
      "Resample: [10, 17, 8, 10, 9, 16, 0, 10, 10, 9, 0, 8, 7, 0, 16] Median: 9.0\n",
      "Resample: [9, 10, 8, 17, 16, 8, 8, 18, 18, 8, 16, 9, 9, 0, 9] Median: 9.0\n",
      "Resample: [9, 18, 16, 7, 0, 9, 14, 7, 9, 9, 9, 9, 7, 18, 10] Median: 9.0\n",
      "Resample: [16, 8, 0, 17, 7, 10, 9, 8, 8, 9, 10, 18, 9, 17, 7] Median: 9.0\n",
      "Resample: [10, 16, 8, 14, 10, 18, 8, 14, 16, 14, 10, 14, 16, 7, 18] Median: 14.0\n",
      "Resample: [8, 17, 10, 14, 17, 9, 14, 9, 8, 9, 8, 9, 9, 16, 8] Median: 9.0\n",
      "Resample: [7, 0, 8, 0, 0, 17, 9, 9, 9, 10, 9, 9, 14, 18, 9] Median: 9.0\n",
      "Resample: [14, 8, 9, 7, 17, 8, 18, 0, 17, 9, 9, 10, 8, 10, 8] Median: 9.0\n",
      "Resample: [0, 17, 16, 14, 17, 7, 8, 9, 7, 7, 0, 14, 7, 10, 14] Median: 9.0\n",
      "Resample: [9, 17, 17, 9, 14, 16, 9, 8, 18, 8, 9, 18, 9, 9, 16] Median: 9.0\n",
      "Resample: [10, 18, 8, 9, 18, 14, 9, 9, 7, 8, 14, 9, 10, 0, 8] Median: 9.0\n",
      "Resample: [10, 18, 14, 8, 17, 7, 8, 18, 18, 18, 10, 18, 7, 0, 10] Median: 10.0\n",
      "Resample: [14, 8, 16, 8, 8, 18, 14, 0, 16, 18, 9, 8, 9, 18, 0] Median: 9.0\n",
      "Resample: [16, 17, 17, 8, 18, 8, 16, 14, 16, 14, 14, 18, 9, 14, 17] Median: 16.0\n",
      "Resample: [9, 10, 9, 18, 7, 8, 0, 16, 7, 18, 9, 9, 14, 0, 17] Median: 9.0\n",
      "Resample: [18, 16, 18, 14, 16, 9, 10, 9, 18, 9, 14, 10, 18, 9, 18] Median: 14.0\n",
      "Resample: [14, 16, 17, 7, 7, 7, 8, 10, 17, 9, 16, 14, 14, 16, 8] Median: 14.0\n",
      "Resample: [9, 10, 9, 9, 9, 10, 9, 10, 9, 16, 8, 8, 7, 14, 0] Median: 9.0\n",
      "Resample: [18, 0, 9, 9, 14, 17, 9, 17, 7, 16, 16, 17, 9, 9, 0] Median: 9.0\n",
      "Resample: [14, 8, 16, 7, 9, 9, 8, 10, 0, 8, 18, 7, 18, 16, 9] Median: 9.0\n",
      "Resample: [10, 8, 10, 0, 16, 18, 8, 0, 8, 18, 0, 16, 18, 14, 14] Median: 10.0\n",
      "Resample: [7, 10, 16, 18, 16, 17, 10, 10, 18, 8, 14, 17, 17, 14, 10] Median: 14.0\n",
      "Resample: [9, 14, 9, 8, 0, 14, 9, 7, 16, 18, 10, 9, 17, 14, 7] Median: 9.0\n",
      "Resample: [0, 9, 14, 16, 10, 8, 10, 8, 9, 8, 16, 10, 9, 18, 10] Median: 10.0\n",
      "Resample: [7, 9, 9, 8, 10, 18, 16, 10, 0, 18, 10, 7, 18, 14, 17] Median: 10.0\n",
      "Resample: [16, 16, 10, 9, 10, 0, 9, 9, 18, 0, 10, 14, 8, 8, 10] Median: 10.0\n",
      "Resample: [8, 8, 18, 9, 18, 9, 14, 10, 10, 10, 17, 0, 7, 8, 18] Median: 10.0\n",
      "Resample: [0, 9, 9, 16, 7, 8, 9, 10, 9, 17, 18, 18, 14, 9, 16] Median: 9.0\n",
      "Resample: [9, 16, 14, 14, 18, 9, 9, 17, 0, 17, 9, 17, 14, 0, 9] Median: 14.0\n",
      "Resample: [18, 7, 8, 18, 18, 10, 9, 0, 17, 7, 0, 14, 17, 14, 16] Median: 14.0\n",
      "Resample: [0, 10, 17, 10, 10, 9, 0, 18, 16, 16, 10, 10, 17, 0, 7] Median: 10.0\n",
      "Resample: [7, 16, 18, 16, 9, 7, 0, 18, 8, 7, 9, 0, 18, 10, 9] Median: 9.0\n",
      "Resample: [9, 16, 7, 0, 0, 18, 10, 18, 9, 18, 8, 7, 16, 14, 16] Median: 10.0\n",
      "Resample: [0, 16, 9, 9, 9, 17, 14, 10, 10, 0, 8, 7, 10, 18, 17] Median: 10.0\n",
      "Resample: [14, 16, 10, 9, 18, 8, 8, 9, 8, 17, 18, 16, 17, 10, 9] Median: 10.0\n",
      "Resample: [17, 7, 17, 14, 7, 17, 0, 7, 9, 7, 14, 9, 0, 18, 16] Median: 9.0\n",
      "Resample: [16, 8, 9, 16, 8, 0, 9, 17, 18, 17, 0, 9, 9, 8, 7] Median: 9.0\n",
      "Resample: [14, 14, 9, 8, 9, 7, 7, 9, 7, 9, 18, 0, 17, 8, 16] Median: 9.0\n",
      "Resample: [8, 9, 10, 9, 8, 9, 18, 10, 0, 0, 18, 14, 0, 16, 0] Median: 9.0\n",
      "Resample: [9, 9, 10, 10, 9, 10, 10, 9, 9, 16, 7, 18, 17, 16, 0] Median: 10.0\n",
      "Resample: [8, 16, 7, 7, 16, 7, 7, 18, 7, 18, 9, 14, 16, 9, 9] Median: 9.0\n",
      "Resample: [16, 8, 7, 9, 18, 9, 9, 18, 0, 17, 9, 14, 8, 17, 18] Median: 9.0\n",
      "Resample: [14, 9, 8, 7, 9, 18, 7, 0, 16, 16, 14, 8, 14, 17, 17] Median: 14.0\n",
      "Resample: [18, 7, 10, 8, 9, 0, 8, 0, 14, 9, 9, 9, 9, 18, 9] Median: 9.0\n",
      "Resample: [0, 0, 18, 9, 14, 0, 17, 7, 7, 7, 8, 7, 9, 10, 18] Median: 8.0\n",
      "Resample: [9, 9, 9, 0, 14, 0, 14, 16, 18, 18, 9, 16, 7, 17, 9] Median: 9.0\n",
      "Resample: [16, 16, 9, 0, 16, 0, 14, 18, 18, 16, 9, 17, 14, 0, 16] Median: 16.0\n",
      "Resample: [7, 8, 16, 9, 17, 16, 14, 14, 9, 8, 9, 8, 8, 18, 8] Median: 9.0\n",
      "Resample: [9, 9, 17, 9, 16, 18, 17, 0, 7, 18, 16, 14, 18, 17, 9] Median: 16.0\n",
      "Resample: [9, 10, 7, 18, 16, 16, 8, 7, 9, 17, 10, 9, 14, 18, 0] Median: 10.0\n",
      "Resample: [0, 14, 14, 9, 18, 10, 14, 9, 17, 17, 16, 0, 9, 0, 18] Median: 14.0\n",
      "Resample: [14, 18, 7, 7, 9, 8, 9, 0, 16, 16, 7, 10, 9, 9, 0] Median: 9.0\n",
      "Resample: [9, 18, 7, 16, 14, 7, 18, 0, 18, 16, 18, 17, 14, 10, 18] Median: 16.0\n",
      "Resample: [18, 9, 0, 14, 7, 9, 16, 9, 9, 17, 8, 17, 17, 10, 17] Median: 10.0\n",
      "Resample: [14, 7, 0, 9, 7, 8, 9, 7, 0, 7, 9, 16, 0, 17, 10] Median: 8.0\n",
      "Resample: [9, 8, 9, 18, 14, 8, 0, 7, 9, 0, 8, 7, 18, 10, 9] Median: 9.0\n",
      "Resample: [10, 10, 17, 16, 8, 14, 10, 17, 0, 7, 18, 7, 16, 9, 16] Median: 10.0\n",
      "Resample: [0, 17, 9, 18, 7, 14, 16, 16, 16, 16, 18, 9, 16, 0, 17] Median: 16.0\n",
      "Resample: [9, 0, 8, 16, 8, 9, 18, 8, 7, 7, 9, 7, 17, 0, 0] Median: 8.0\n",
      "Resample: [0, 7, 16, 10, 9, 9, 7, 7, 18, 0, 10, 7, 9, 9, 16] Median: 9.0\n",
      "Resample: [7, 9, 17, 0, 9, 16, 17, 10, 8, 17, 14, 8, 9, 9, 14] Median: 9.0\n",
      "Resample: [7, 0, 14, 14, 18, 8, 8, 16, 8, 14, 9, 7, 9, 9, 10] Median: 9.0\n",
      "Resample: [14, 16, 10, 9, 18, 7, 18, 17, 18, 17, 9, 14, 0, 0, 8] Median: 14.0\n",
      "Resample: [14, 9, 9, 7, 9, 0, 10, 8, 16, 7, 18, 10, 0, 14, 7] Median: 9.0\n",
      "Resample: [9, 9, 9, 14, 10, 17, 0, 9, 0, 0, 0, 17, 14, 0, 7] Median: 9.0\n",
      "Resample: [18, 9, 9, 16, 18, 7, 16, 7, 18, 8, 9, 9, 0, 7, 7] Median: 9.0\n",
      "Resample: [14, 9, 18, 17, 18, 18, 10, 18, 9, 10, 0, 10, 8, 16, 16] Median: 14.0\n",
      "Resample: [14, 14, 0, 16, 0, 8, 14, 8, 7, 17, 17, 0, 9, 9, 9] Median: 9.0\n",
      "Resample: [9, 18, 16, 17, 10, 9, 16, 7, 18, 16, 10, 9, 7, 7, 17] Median: 10.0\n",
      "Resample: [14, 18, 18, 9, 9, 17, 8, 16, 9, 7, 18, 18, 9, 9, 8] Median: 9.0\n",
      "Resample: [10, 8, 8, 17, 17, 8, 0, 16, 0, 9, 9, 7, 17, 7, 7] Median: 8.0\n",
      "Resample: [17, 10, 9, 10, 16, 10, 8, 7, 18, 16, 0, 17, 8, 17, 16] Median: 10.0\n",
      "Resample: [9, 14, 7, 10, 9, 9, 17, 17, 10, 17, 9, 16, 10, 0, 9] Median: 10.0\n",
      "Resample: [0, 8, 0, 17, 10, 10, 7, 18, 7, 0, 18, 10, 10, 0, 8] Median: 8.0\n",
      "Resample: [0, 7, 9, 0, 18, 18, 16, 7, 17, 0, 8, 10, 16, 16, 9] Median: 9.0\n",
      "Resample: [18, 10, 14, 9, 7, 9, 7, 16, 7, 9, 8, 9, 16, 8, 18] Median: 9.0\n",
      "Resample: [17, 8, 0, 17, 8, 18, 16, 14, 9, 14, 0, 0, 16, 16, 10] Median: 14.0\n",
      "Resample: [14, 7, 18, 7, 10, 0, 9, 10, 0, 8, 8, 9, 0, 18, 14] Median: 9.0\n",
      "Resample: [16, 8, 7, 17, 16, 7, 9, 8, 17, 17, 14, 0, 16, 9, 7] Median: 9.0\n",
      "Resample: [18, 0, 16, 17, 9, 0, 9, 14, 9, 9, 16, 16, 0, 18, 18] Median: 14.0\n",
      "Resample: [17, 0, 7, 0, 18, 7, 9, 9, 8, 14, 14, 14, 14, 18, 16] Median: 14.0\n",
      "Resample: [10, 8, 7, 8, 14, 7, 7, 17, 10, 9, 9, 0, 16, 10, 10] Median: 9.0\n",
      "Resample: [9, 14, 10, 16, 14, 17, 9, 9, 0, 0, 8, 8, 9, 0, 9] Median: 9.0\n",
      "Resample: [17, 7, 0, 16, 16, 17, 7, 10, 17, 9, 9, 10, 9, 10, 9] Median: 10.0\n",
      "Resample: [10, 14, 7, 10, 17, 9, 16, 16, 8, 9, 18, 10, 17, 16, 18] Median: 14.0\n",
      "Resample: [9, 17, 0, 16, 0, 9, 8, 0, 10, 10, 0, 8, 18, 0, 0] Median: 8.0\n",
      "Resample: [18, 10, 10, 10, 9, 16, 14, 9, 17, 17, 16, 9, 7, 14, 16] Median: 14.0\n",
      "Resample: [7, 16, 9, 0, 7, 18, 0, 9, 8, 8, 9, 9, 0, 8, 18] Median: 8.0\n",
      "Resample: [0, 8, 0, 9, 8, 16, 18, 8, 9, 16, 16, 10, 9, 10, 10] Median: 9.0\n",
      "Resample: [18, 9, 14, 18, 16, 9, 9, 9, 14, 9, 17, 18, 7, 14, 9] Median: 14.0\n"
     ]
    },
    {
     "data": {
      "image/png": "[encoded data removed]",
      "text/plain": [
       "<Figure size 640x480 with 1 Axes>"
      ]
     },
     "metadata": {},
     "output_type": "display_data"
    }
   ],
   "source": [
    "print('Original:', my_data, 'Median: %1.1f' % np.median(my_data))\n",
    "\n",
    "theta_hat_stars = []  # list to store the results\n",
    "for i in range(500):   # loop over the number of replications\n",
    "    resample = choices(my_data_list, k=len(my_data)) # resample the data\n",
    "    print('Resample:', resample, 'Median: %1.1f' % np.median(resample))\n",
    "    theta_hat_star = median(resample) # compute the statistic\n",
    "    theta_hat_stars.append(theta_hat_star)      # store the result\n",
    "\n",
    "# Create a histogram\n",
    "plt.hist(theta_hat_stars, bins=20, edgecolor='black')\n",
    "\n",
    "# Show the plot\n",
    "plt.show()"
   ]
  },
  {
   "cell_type": "markdown",
   "metadata": {},
   "source": [
    "### More formal version of Bootstrap procedure\n",
    "\n",
    "More formally, the procedure is as follows:\n",
    "\n",
    "1. Let $\\omega$ be the actual world, and look at the histogram of data $X_1(\\omega), \\ldots, X_n(\\omega)$.\n",
    "\n",
    "2. Choose length a length $n$ sequence $X_1^{\\ast}(\\omega), \\ldots, X_n^{\\ast}(\\omega)$ from the original data $X_1(\\omega), \\ldots, X_n(\\omega)$.\n",
    "\n",
    "3. Compute $T_n^{\\ast}:=T_n(X_1^{\\ast}(\\omega), \\ldots, X_n^{\\ast}(\\omega))$.\n",
    "\n",
    "4. Repeat steps 2-3 lots and lots of times, say $B$-many times, until you get $T_{n,1}^{\\ast}, \\ldots, T_{n,B}^{\\ast}$.\n",
    "\n",
    "5. Compute the value $\\frac{1}{B} \\sum_{i=1}^B (T_{n,i}^{\\ast} - \\frac{1}{B}\\sum_{i=1}^B T_{n,i}^{\\ast})^2$\n",
    "\n",
    "6. Argue that if $\\omega$ is like most worlds and $n$ is sufficiently big, then this value is close to the variance of the statistic."
   ]
  },
  {
   "cell_type": "markdown",
   "metadata": {},
   "source": [
    "### Features of the bootstrap\n",
    "\n",
    "1. As you make the number of replications $B$ bigger and bigger, you never fix the mean. Hence, the bootstrap all by itself is not good at that ({cite}`Chihara2018-xh` Section 5.2.2)\n",
    "\n",
    "2. But as you increase the number of replications, you get a better approximation to the variance of the statistic (provided that $n$ is big enough too) "
   ]
  },
  {
   "cell_type": "code",
   "execution_count": null,
   "metadata": {},
   "outputs": [],
   "source": []
  }
 ],
 "metadata": {
  "kernelspec": {
   "display_name": ".venv",
   "language": "python",
   "name": "python3"
  },
  "language_info": {
   "codemirror_mode": {
    "name": "ipython",
    "version": 3
   },
   "file_extension": ".py",
   "mimetype": "text/x-python",
   "name": "python",
   "nbconvert_exporter": "python",
   "pygments_lexer": "ipython3",
   "version": "3.12.3"
  }
 },
 "nbformat": 4,
 "nbformat_minor": 2
}
