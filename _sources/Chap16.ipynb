{
 "cells": [
  {
   "cell_type": "markdown",
   "metadata": {},
   "source": [
    "# Chapter 16\n",
    "\n",
    "In this chapter we look at one view about casuality through a statistical lens. This view is called the *potential outcomes view* and is due primarily to Rubin and his coauthors (culminating in {cite}`Imbens2015-ug`). This is a dominant approach in statistics but is little discussed by philosophers, despite its being framed in terms of counterfactuals, about which philosophers have written extensively. The best introductions to the literature in statistics are, in my view, Holland {cite}`Holland1986-hf` and `Morgan-Winship {cite}`Morgan2014-dh`."
   ]
  },
  {
   "cell_type": "markdown",
   "metadata": {
    "vscode": {
     "languageId": "plaintext"
    }
   },
   "source": [
    "## Counterfactuals\n",
    "\n",
    "### Paradigmatic examples\n",
    "\n",
    "1. If my memory were better, then I would remember more birthdays. \n",
    "\n",
    "2. If I were to drop the ball, it would fall directly to the ground.\n",
    "\n",
    "3. If I were there, I would have done it differently.\n",
    "\n",
    "4. If I was not there, it wouldn't have gotten done right.\n",
    "\n",
    "### General form\n",
    "\n",
    "In general, they have the form:\n",
    "\n",
    "- If $\\varphi$ were true, then $\\psi$ would be true.\n",
    "\n",
    "A couple of points about these:\n",
    "\n",
    "Usually they have false antecedents. This is strongly implicated in the examples. But this is not necessary. E.g.: as an inference to the best explanation, I can say: if I were heading west, then the sun would be in my eyes.\n",
    "\n",
    "Morphologically, they have a \"double past\" character:\n",
    "- In the antecedent, there is a simple past or a subjunctive (one of the few times it appears in English)\n",
    "- In the consequent, there is \"would\", which is the past tense of \"will\"\n",
    "\n",
    "However, note that while past is used, it is the current moment which is being described. E.g. when complaining about the present traffic, we say: if traffic was just a little better, then we would get there on time\n"
   ]
  },
  {
   "cell_type": "markdown",
   "metadata": {},
   "source": [
    "### Semantics \n",
    "\n",
    "The received view due to Lewis and Stalnaker is ({cite}`Lewis2013-ty`, {cite}`Stalnaker1968-fa`):\n",
    "\n",
    "- At world $\\omega$ it is true that \"if $\\varphi$ were true, then $\\psi$ would be true\" iff in all the closest $\\varphi$-worlds to $\\omega$, $\\psi$ is true. \n",
    "\n",
    "This builds in the idea that the world of evaluation $\\omega$ is crucial to the evaluation of the counterfactual, in that it is closeness to $\\omega$ that is operative in the evaluation of counterfactuals. E.g. \"if Kangaroos didn't have tails, they would fall over\" is true in our world, but not true in a world in which all animals have wings. Another way of putting this point is: the Lewis-Stalnaker view is highly sensitive details about the world of evaluation which may not be thematized explicitly in the antecedent and consequent of the conditional.\n",
    "\n",
    "There is a recent challenge to the received view, by Gillies ({cite}`Gillies2007-ju`), to the effect that the counterfactuals are just strict conditionals, and that the quantifiers over worlds get expanded or restricted depending on what is assumed in the common ground of the conversation."
   ]
  },
  {
   "cell_type": "markdown",
   "metadata": {},
   "source": [
    "### Rules for counterfactuals\n",
    "\n",
    "There are very few general rules for counterfactuals.\n",
    "\n",
    "On both the Lewis-Stalnaker and Gillies account, one has \n",
    "\n",
    "*Strong centering*: \"if $\\varphi$ is true, and if 'if $\\varphi$ were true, then $\\psi$ would be true', then $\\psi$ is true.\" That is, a counterfactual with a true antecedent has a true consequent.\n",
    "\n",
    "On the Lewis-Stalnaker account, there are very few other rules: for instance on their semantics transitivity and modus tollens fail.\n",
    "\n",
    "On the Gillies account, the logic of the counterfactual is just the strict conditional plus whatever rules govern updating of conversations. There are constraints on how conversations proceed, but they rarely have the form of logical validities."
   ]
  },
  {
   "cell_type": "markdown",
   "metadata": {},
   "source": [
    "## Conditional expectation\n",
    "\n",
    "### Recall expectation and independence \n",
    "\n",
    "We define $\\mathbb{E}[X] = \\sum_x x \\cdot P(X=x)$\n",
    "\n",
    "Recall that $X,Y$ are independent if $P(X=x\\wedge Y=y)=P(X=x)\\cdot P(Y=y)$ for all values $x,y$.\n",
    "\n",
    "Note that if $X,Y$ are independent, then $P(X=x\\mid Y=y)= P(X=x)$.\n",
    "\n",
    "Recall that if $X,Y$ are independent, then $\\mathbb{E}[X\\cdot Y]=\\mathbb{E}[X]\\cdot \\mathbb{E}[Y]$.\n"
   ]
  },
  {
   "cell_type": "markdown",
   "metadata": {},
   "source": [
    "### Defining conditional expectation\n",
    "\n",
    "We define $\\mathbb{E}[X\\mid Y=y] = \\sum_x x\\cdot P(X=x\\mid Y=y)$.\n",
    "\n",
    "Hence, if $X,Y$ independent, then we have $\\mathbb{E}[X\\mid Y=y]=\\mathbb{E}[X]$.\n",
    "\n",
    "*Proof*:\n",
    "\n",
    "$\\mathbb{E}[X\\mid Y=y] = \\sum_x x\\cdot P(X=x\\mid Y=y) = \\sum_x x\\cdot P(X=x)=\\mathbb{E}[X]$."
   ]
  },
  {
   "cell_type": "markdown",
   "metadata": {
    "vscode": {
     "languageId": "plaintext"
    }
   },
   "source": [
    "## The potential outcomes approach"
   ]
  },
  {
   "cell_type": "markdown",
   "metadata": {},
   "source": [
    "### Paradigmatic examples and the initial thought about random variables\n",
    "\n",
    "We are interested in understanding:\n",
    "\n",
    "1. what happens to a person's *health* if they receive a certain kind of *medical treatment*\n",
    "2. what happens to a school's *test scores* if they adopt a certain kind of *curriculum*\n",
    "3. what happens to a plant's *yield* if it receives a certain kind of *nutrition* \n",
    "\n",
    "If we are interested in a broadly statistical approach, the first thought is to work with a single random variable which respectively records health, test scores, and plant yield."
   ]
  },
  {
   "cell_type": "markdown",
   "metadata": {
    "vscode": {
     "languageId": "plaintext"
    }
   },
   "source": [
    "### The problem with the initial thought and its solution\n",
    "\n",
    "However, a single random variable for health won't help one discern the difference between health with the medical intervention and health without the medical intervention.\n",
    "\n",
    "On the potential outcomes approach, for each person $i$, one works with two random variables for health: \n",
    "\n",
    "- $Y_{i,t}$: person $i$'s health were they to receive the medical treatment (the '$t$' stands for *treatment*)\n",
    "- $Y_{i,c}$: person $i$'s health were they to not receive the medical treatment (the '$c$' stands for *control*)\n",
    "\n",
    "These are understand to be defined by the following biconditionals:\n",
    "\n",
    "- $Y_{i,t}(\\omega)=y$ iff at world $\\omega$ it is true that: if person $i$ were to receive the medical treatment, then their health would be $y$.\n",
    "- $Y_{i,c}(\\omega)=y$ iff at world $\\omega$ it is true that: if person $i$ were not to receive the medical treatment, then their health would be $y$.\n",
    "\n",
    "Once we do this, we can study the distribution and expectation of $Y_{i,t}-Y_{i,c}$. For instance, if $\\mathbb{E}(Y_{i,t}-Y_{i,c})>0$, then we could say that person $i$ should expect health to be better under the treatment than not.\n",
    "\n",
    "It is further natural to assume that $Y_{1,t}, Y_{2,t}, \\ldots$ are independent and have the same expectation, and that $Y_{1,c}, Y_{2,c}, \\ldots$ are independent and have the same expectation. \n",
    "\n",
    "**Note**: on this way of thinking about it, there is no random variable associated to health full stop. We only represent or consider health under the supposition of receiving or not receiving the treatment.\n"
   ]
  },
  {
   "cell_type": "markdown",
   "metadata": {},
   "source": [
    "### Generalized form of the solution\n",
    "\n",
    "Suppose we are interested in the how an intuitive random variable, call it *yealth*, is affected by some treatment. \n",
    "\n",
    "Then we formalize this with two random variables $Y_{i,t}, Y_{i,c}$ defined as follows:\n",
    "\n",
    "- $Y_{i,t}(\\omega)=y$ iff at world $\\omega$ it is true that: if $i$ were to receive the treatment, then $i$'s yealth value would be $y$ (the '$t$' stands for *treatment*)\n",
    "- $Y_{i,c}(\\omega)=y$ iff at world $\\omega$ it is true that: if $i$ were not to receive the treatment, then $i$'s yealth value would be $y$ (the '$c$' stands for *control*)\n",
    "\n",
    "Further, the *casual effect* is the random variable \n",
    "\n",
    "$$Y_{i,t}-Y_{i,c}$$\n",
    "\n",
    "whose distribution and expectation we can study and seek to understand.\n",
    "\n",
    "It is further natural to assume that $Y_{1,t}, Y_{2,t}, \\ldots$ are independent and have the same expectation, and that $Y_{1,c}, Y_{2,c}, \\ldots$ are independent and have the same expectation. \n",
    "\n",
    "**Note**: again, on this way of thinking about it, there is no random variable associated to yealth full stop. We only represent or consider yealth under the supposition of receiving or not receiving the treatment."
   ]
  },
  {
   "cell_type": "markdown",
   "metadata": {},
   "source": [
    "## The stable unit treatment value assumption\n",
    "\n",
    "This is due to Rubin:\n",
    "\n",
    "> The SUTVA is simply the a priori assumption that the value of [yealth] for unit $i$ when exposed to treatment $t$ will be the same no matter what mechanism is used to assign treatment $t$ to unit $i$ and no matter what treatments other units receive (quoted in {cite}`Morgan2014-dh` p. 48, notation changed to match our own).\n",
    "\n",
    "This is supposed to rule out the following kind of cases ({cite}`Morgan2014-dh` p. 49):\n",
    "\n",
    "1. An economic treatment is applied to so many individuals that it starts to non-trivially impact the local economy and so distorts how well that treatment applies to other individuals \n",
    "2. An agricultural treatment is not carefully enough applied and so starts to affect the neighbors of a plant in addition to the plant itself. \n",
    "\n",
    "This serves to underscore the nature of the counterfactuals that one uses:\n",
    "\n",
    "- $Y_{i,t}(\\omega)=y$ iff at world $\\omega$ it is true that: if $i$ were to receive the treatment **and everything else remains the same**, then $i$'s yealth value would be $y$\n",
    "- $Y_{i,c}(\\omega)=y$ iff at world $\\omega$ it is true that: if $i$ were not to receive the treatment **and everything else remains the same**, then $i$'s yealth value would be $y$\n",
    "\n",
    "The boldfaced addition is of course built-in to the Lewis-Stalnaker semantics. But the statistics literature is unaware of this semantics, and I would suggest that things like SUTVA are how they implement it in practice."
   ]
  },
  {
   "cell_type": "markdown",
   "metadata": {},
   "source": [
    "### Fundamental problem: the causal effect is ostensibly unobservable\n",
    "\n",
    "According to Holland {cite}`Holland1986-hf` p. 947:\n",
    "\n",
    "> *Fundamental Problem of Causal Inference*. It is impossible to *observe* the value $Y_{i,t}$ and $Y_{i,c}$ on the same [individual $i$] and, therefore, it is impossible to *observe* the effect of [the treatment] $t$ on [$i$] (notation changed to match preceding text)\n",
    "\n",
    "The whole idea of statistics is to infer from observed value of a random variable $X$ to claims about its distribution. However, a presupposition of that approach is that if $\\omega$ is the actual world, then we $X(\\omega)$ is some real number which we could obtain via something like measurement or observation in the world.\n",
    "\n",
    "But $Y_{i,t}(\\omega)=y$ and $Y_{i,c}(\\omega)=y$ are two counterfactuals, and at least one of them has to have a false antecedent in $\\omega$. Hence, at least one of them is a genuine counterfactual. And it is not obvious that one can measure or otherwise observe genuine counterfactuals, since they speak not of what is true at the world $\\omega$ of evaluation, but what would hold under other circumstances.\n",
    "\n",
    "Hence, the causal effect is ostensibly unobservable."
   ]
  },
  {
   "cell_type": "markdown",
   "metadata": {},
   "source": [
    "### The preliminary solution to the fundamental problem\n",
    "\n",
    "The solution to the fundamental problem is to postulate\n",
    "\n",
    "- another observable random variable $D_i$, which says at which worlds person $i$ received the treatment or not: $D_i(\\omega)=1$ if $i$ received treatment in $\\omega$, and $D_i(\\omega)=0$ if $i$ did not receive the treatment in $\\omega$. \n",
    "\n",
    "- define the observable random variable $Y_i(\\omega) = D_i(\\omega)\\cdot Y_{i,t}(\\omega)+(1-D_i(\\omega))\\cdot Y_{i,c}(\\omega)$.\n",
    "\n",
    "Note that $Y_i(\\omega)=Y_{i,t}(\\omega)$ if $D_i(\\omega)=1$, and $Y_i(\\omega)=Y_{i,c}(\\omega)$ if $D_i(\\omega)=0$. \n",
    "\n",
    "Hence, if $D_i(\\omega)=1$ then by strong centering it is true that $i$'s yealth level at $\\omega$ is $Y_i(\\omega)=Y_{i,t}(\\omega)$, and this is something that we can measure. \n",
    "\n",
    "And, if $D_i(\\omega)=0$ then by strong centering it is true that $i$'s yealth level at $\\omega$ is $Y_i(\\omega)=Y_{i,c}(\\omega)$, and this is something that we can measure. \n"
   ]
  },
  {
   "cell_type": "markdown",
   "metadata": {},
   "source": [
    "### A solution via independence\n",
    "\n",
    "Suppose that $D_i,Y_{i,t}$ are independent and $D_i,Y_{i,c}$ are independent. Then one has\n",
    "\n",
    "$\\mathbb{E}[Y_{i,t}-Y_{i,c}] = \\mathbb{E}[Y_{i,t}]-\\mathbb{E}[Y_{i,c}]$    by linearity of expectation\n",
    "\n",
    "$\\hspace{5mm}= \\mathbb{E}[Y_{i,t}\\mid D_i=1]-\\mathbb{E}[Y_{i,c}\\mid D_i=0]$ by indepedence and definition of conditional expectation\n",
    "\n",
    "$\\hspace{5mm}= \\mathbb{E}[Y_{i}\\mid D_i=1]-\\mathbb{E}[Y_{i}\\mid D_i=0]$ by $Y_i=Y_{i,t}$ when $D_i=1$, and by $Y_i=Y_{i,c}$ when $D_i=0$.\n",
    "\n",
    "Hence, in this case, the causal effect is given by conditional expectations of observable random variables. \n",
    "\n",
    "By design, we have independence in the case of randomized trials. The whole idea is to make the selection of which patients get the treatment independent of the possible outcomes.\n",
    "\n",
    "Much of the details of the potential outcomes approach comes in how to modify this approach to handle non-independence. They do things like compare objects at one time with the same object at another time, and they do things like match objects undergoing the treatment with similar objects undergoing the control. See e.g. {cite}`Imbens2015-ug` and Morgan-Winship {cite}`Morgan2014-dh` for more details."
   ]
  },
  {
   "cell_type": "markdown",
   "metadata": {},
   "source": [
    "### Comparison to Lewis on causation\n",
    "\n",
    "Lewis suggests that cases of direct causation of an effect $e$ by its cause $c$ can be analyzed in terms of the truth of the following counterfactual: if $e$ were not to happen, then $c$ would not happen. For the general case, which may not be direct, he uses the transitive closure of the direct case ({cite}`Lewis1973-ap`)\n",
    "\n",
    "This does not fit the potential outcome view perfectly since the only causal quantity they identify is $Y_{i,t}-Y_{i,c}$, and the tools they have speak more to the distribution of this random variable then to its values at any particular world (again, per the fundamental problem, it is not directly observable),\n",
    "\n",
    "However, the potential outcome view does define $Y_{i,t}$ and $Y_{i,c}$ in terms of counterfactuals. In that spirit, one could consider the following random variables:  \n",
    "\n",
    "- $Z_{i,t}(\\omega)=y$ iff at world $\\omega$ it is true that: if $i$'s yealth value were not $y$ **and everything else remains the same**, then $i$ would not have received the treatment (and hence presumably would have received the control).\n",
    "\n",
    "- $Z_{i,c}(\\omega)=y$ iff at world $\\omega$ it is true that: if $i$'s yealth value were not $y$ **and everything else remains the same**, then $i$ would not have received the control (and hence presumably would have received the treatment).\n",
    "\n",
    "But it is not obvious that $Z_{i,t}$ is a well-defined function, since there might be many values $y$ which would make the right-hand sides true. This is not to say that the potential outcome view cannot make sense of Lewis' counterfactuals, but just to say that they won't result in random variables."
   ]
  },
  {
   "cell_type": "markdown",
   "metadata": {},
   "source": []
  }
 ],
 "metadata": {
  "kernelspec": {
   "display_name": ".venv",
   "language": "python",
   "name": "python3"
  },
  "language_info": {
   "codemirror_mode": {
    "name": "ipython",
    "version": 3
   },
   "file_extension": ".py",
   "mimetype": "text/x-python",
   "name": "python",
   "nbconvert_exporter": "python",
   "pygments_lexer": "ipython3",
   "version": "3.12.3"
  }
 },
 "nbformat": 4,
 "nbformat_minor": 2
}
