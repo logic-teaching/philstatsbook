{
 "cells": [
  {
   "cell_type": "markdown",
   "metadata": {},
   "source": [
    "## Chapter 17"
   ]
  },
  {
   "cell_type": "code",
   "execution_count": 2,
   "metadata": {},
   "outputs": [
    {
     "name": "stdout",
     "output_type": "stream",
     "text": [
      "The true causal graph is \n",
      "[[0 1 0 0 0]\n",
      " [0 0 1 0 0]\n",
      " [0 0 0 1 0]\n",
      " [0 0 0 0 0]\n",
      " [0 0 1 1 0]]\n",
      "\n",
      "The CPDAG retrieved by PC is \n",
      "[[0. 1. 0. 0. 0.]\n",
      " [1. 0. 1. 0. 0.]\n",
      " [0. 0. 0. 1. 0.]\n",
      " [0. 0. 0. 0. 0.]\n",
      " [0. 0. 1. 1. 0.]]\n"
     ]
    }
   ],
   "source": [
    "from PyPCAlg.pc_algorithm import run_pc_algorithm, field_pc_cpdag, \\\n",
    "    field_separation_sets\n",
    "from PyPCAlg.examples.graph_4 import generate_data\n",
    "from PyPCAlg.examples.graph_4 import oracle_indep_test\n",
    "from PyPCAlg.examples.graph_4 import oracle_cond_indep_test\n",
    "from PyPCAlg.examples.graph_4 import get_adjacency_matrix\n",
    "\n",
    "\n",
    "df = generate_data(sample_size=10)\n",
    "independence_test_func = oracle_indep_test()\n",
    "conditional_independence_test_func = oracle_cond_indep_test()\n",
    "\n",
    "dic = run_pc_algorithm(\n",
    "    data=df,\n",
    "    indep_test_func=independence_test_func,\n",
    "    cond_indep_test_func=conditional_independence_test_func,\n",
    "    level=0.05\n",
    ")\n",
    "cpdag = dic[field_pc_cpdag]\n",
    "separation_sets = dic[field_separation_sets]\n",
    "\n",
    "print(f'The true causal graph is \\n{get_adjacency_matrix()}')\n",
    "print(f'\\nThe CPDAG retrieved by PC is \\n{cpdag}')"
   ]
  },
  {
   "cell_type": "code",
   "execution_count": null,
   "metadata": {},
   "outputs": [],
   "source": []
  }
 ],
 "metadata": {
  "kernelspec": {
   "display_name": "Python 3 (ipykernel)",
   "language": "python",
   "name": "python3"
  },
  "language_info": {
   "codemirror_mode": {
    "name": "ipython",
    "version": 3
   },
   "file_extension": ".py",
   "mimetype": "text/x-python",
   "name": "python",
   "nbconvert_exporter": "python",
   "pygments_lexer": "ipython3",
   "version": "3.11.7"
  }
 },
 "nbformat": 4,
 "nbformat_minor": 4
}
