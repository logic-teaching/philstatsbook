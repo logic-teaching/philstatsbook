{
 "cells": [
  {
   "cell_type": "markdown",
   "metadata": {},
   "source": [
    "## Chapter 17\n",
    "\n",
    "We describe some of the rudiments of the probabilistic graphical model approach to causal inference, due largely to Pearl ({cite}`Pearl2009-tx`). This is a highly influential theory which has prompted a great deal of philosophical ({cite}`Hitchcock2001-fv`, {cite}`Hitchcock2009-yj`, {cite}`Woodward2005-fy`) and formal work ({cite}`Koller2009-rf`)."
   ]
  },
  {
   "cell_type": "markdown",
   "metadata": {},
   "source": [
    "## A task and a guiding idea\n",
    "\n",
    "The main task is to infer causal information from data. The plan is to:\n",
    "\n",
    "1. Develop a model of causality which uses random variables but not a probability measure\n",
    "\n",
    "2. When a probability measure is added, argue that the causal information is reflected in the joint probability distribution of the random variables \n",
    "\n",
    "3. Given data, learn about the probability distribution using usual statistical methods\n",
    "\n",
    "Since we have already said a lot about 3 in this course, we focus on 1-2."
   ]
  },
  {
   "cell_type": "markdown",
   "metadata": {},
   "source": [
    "## Axiomatizing independence"
   ]
  },
  {
   "cell_type": "markdown",
   "metadata": {},
   "source": [
    "### Recall independence of events\n",
    "\n",
    "Recall that two events $A,B$ are *independent* if $P(A\\cap B)=P(A)\\cdot P(B)$. \n",
    "\n",
    "This happens iff $P(A\\mid B)=P(A)$ whenever $P(B)>0$. For, if $P(A\\cap B) = P(A)\\cdot P(B)$ then one has $P(A\\mid B)=\\frac{P(A\\cap B)}{P(B)} = \\frac{P(A)\\cdot P(B)}{P(B)} = P(A)$ whenever $P(B)>0$. Conversely, if $P(B)>0$ and $P(A\\mid B)=P(A)$ then by expanding the definition of conditional probability, we have that $\\frac{P(A\\cap B)}{P(B)} = P(A\\mid B)= P(A)$, and then by multiplying both sides by $P(B)$ we get $P(A\\cap B)=P(A)\\cdot P(B)$."
   ]
  },
  {
   "cell_type": "markdown",
   "metadata": {},
   "source": [
    "### Recall independence of random variables \n",
    "\n",
    "Recall that two random variables $X,Y$ are *independent* if for all values $x,y$ one has that the events $X=x$ and $Y=y$ are independent.\n",
    "\n",
    "That is, $X,Y$ are independent iff for all values $x,y$ one has $P(X=x\\wedge Y=y)=P(X=x)\\cdot P(Y=y)$; equivalently, one has $P(X=x\\mid Y=y)=P(X=x)$ whenever $P(Y=y)$>0."
   ]
  },
  {
   "cell_type": "markdown",
   "metadata": {},
   "source": [
    "### Commas for conjunction or finite union\n",
    "\n",
    "When dealing with random variables, one often sees conjunctions and finite unions written with commas. Hence one might see the previous line written as: $X,Y$ are independent iff for all values $x,y$ one has $P(X=x, Y=y)=P(X=x)\\cdot P(Y=y)$; equivalently, one has $P(X=x, Y=y)=P(X=x)$ whenever $P(Y=y)$>0."
   ]
  },
  {
   "cell_type": "markdown",
   "metadata": {},
   "source": [
    "### Assumption that we are in a finite sample space\n",
    "\n",
    "Today we assume that we are in a finite sample space $\\Omega = \\{\\omega_1,\\ldots, \\omega_n\\}$. \n",
    "\n",
    "This has the consequence that each of our random variables $X:\\Omega\\rightarrow \\mathbb{R}$ takes only finitely many values $\\{X(\\omega_1), \\ldots, X(\\omega_n)\\}$.\n",
    "\n",
    "This is particularly useful since we can e.g. write \n",
    "\n",
    "$P(X=x) = \\sum_y P(X=x\\wedge Y=y)$, where the summation is over the finitely many values $\\{y_1, \\ldots, y_n\\} = \\{Y(\\omega_1), \\ldots, Y(\\omega_n)\\}$ that $Y$ takes. This identity follows formally from finite additivity of the probability measure and the fact that $Y:\\Omega \\rightarrow \\mathbb{R}$ is a function."
   ]
  },
  {
   "cell_type": "markdown",
   "metadata": {},
   "source": [
    "### Definition relative independence of events\n",
    "\n",
    "We say $A\\bot B\\mid C$ iff $P(A\\mid B\\cap C)=P(A\\mid C)$ whenever $P(B\\cap C)>0$, and prounouce this out loud as \"events $A$ and $B$ are independent over $C$.\"\n"
   ]
  },
  {
   "cell_type": "markdown",
   "metadata": {},
   "source": [
    "### Equivalent characterization\n",
    "\n",
    "*Proposition* $A\\bot B\\mid C$ iff $P(A\\cap B\\mid C)=P(A\\mid C)\\cdot P(B\\mid C)$ whenever $P(B\\cap C)>0$.\n",
    "\n",
    "*Proof*:\n",
    "\n",
    "First suppose that $A\\bot B\\mid C$. Suppose that $P(B\\cap C)>0$. Then one has \n",
    "\n",
    "$$P(A\\mid B\\cap C)=\\frac{P(A\\cap B\\cap C)}{P(C)}= \\frac{P(A\\cap B\\cap C)}{P(B\\cap C)}\\cdot \\frac{P(B\\cap C)}{P(C)}=P(A\\mid B\\cap C)\\cdot P(B\\mid C) = P(A\\mid C)\\cdot P(B\\mid C)$$\n",
    "\n",
    "Second suppose that $P(A\\cap B\\mid C)=P(A\\mid C)\\cdot P(B\\mid C)$ whenever $P(B\\cap C)>0$. And suppose that $P(B\\cap C)>0$. Define the constant $d = \\frac{P(C)}{P(B\\cap C)}$, and note that $P(B\\mid C)\\cdot d=1$. Then one has \n",
    "\n",
    "$$P(A\\mid B\\cap C) = \\frac{P(A\\cap B\\cap C)}{P(B\\cap C)} =  \\frac{P(A\\cap B\\cap C)}{P(C)}\\cdot \\frac{P(C)}{P(B\\cap C)} = P(A\\cap B\\mid C)\\cdot d  = P(A\\mid C)\\cdot P(B\\mid C)\\cdot d = P(A\\mid C)$$"
   ]
  },
  {
   "cell_type": "markdown",
   "metadata": {},
   "source": [
    "### Definition relative independence of random variables\n",
    "\n",
    "We say $X\\bot Y\\mid Z$ iff $P(X=x\\mid Y=y, Z=z)=P(X=x\\mid Z=z)$ for all values $x,y,z$ with $P(Y=y\\wedge Z=z)>0$, and prounouce this out loud as \"random variables $X$ and $Y$ are independent over $Z$.\"\n"
   ]
  },
  {
   "cell_type": "markdown",
   "metadata": {},
   "source": [
    "### Equivalent characterization\n",
    "\n",
    "*Proposition* $X\\bot Y\\mid Z$ iff $P(X=x,Y=y\\mid Z=z)=P(X=x\\mid Z=z)\\cdot P(Y=y\\mid Z=z)$ for all values $x,y,z$ with $P(Y=y, Z=z)>0$.\n"
   ]
  },
  {
   "cell_type": "markdown",
   "metadata": {},
   "source": [
    "### Notation and conventions for sets of random variables \n",
    "\n",
    "We similarly define $X_1, \\ldots, X_{\\ell}\\bot Y_1, \\ldots, Y_m\\mid Z_1, \\ldots, Z_m$ iff $P(X_1=x_1\\wedge \\cdots X_{\\ell}=x_{\\ell}\\mid Y_1=y_1 \\wedge \\cdots \\wedge Y_m=y_m\\wedge Z_1=z_1 \\wedge \\cdots \\wedge Z_n=z_n)=P(X_1=x_1 \\wedge \\cdots \\wedge X_{\\ell}=x_{\\ell}\\mid Z_1=z_1 \\wedge \\cdots \\wedge Z_n=z_n)$ for all values $x_1,\\ldots, x_{\\ell}, y_1, \\ldots, y_{\\ell}, z_1, \\ldots, z_n$ with $P(Y_1=y_1 \\wedge \\cdots \\wedge Y_m=y_m\\wedge Z_1=z_1 \\wedge \\cdots \\wedge Z_n=z_n)>0$.\n",
    "\n",
    "That is obviously notationally untenable. Hence one typically uses ${\\bf X}={\\bf x}$ as an abbreviation for $X_1=x_1\\wedge \\cdots X_{\\ell}=x_{\\ell}$ and similarly for the other variables. Hence, note writes ${\\bf X}\\bot {\\bf Y}\\mid {\\bf Z}$ as an abbreviation for $X_1, \\ldots, X_{\\ell}\\bot Y_1, \\ldots, Y_m\\mid Z_1, \\ldots, Z_m$.\n",
    "\n",
    "Given the limited extent to which we are working with these notions, we tend just to use the simpler $X\\bot Y \\mid Z$, and note in the text that whatever are doing with respect to it holds when they are replaced by sets of random variables. \n",
    "\n",
    "One bit of notation which we do need is we use commas for small extensions of sets. For instance, $X\\bot Y,W \\mid Z$ means that $X\\bot \\{Y,W\\} \\mid Z$, or equivalent it means $X\\bot {\\bf Y} \\mid Z$ where ${\\bf Y}$ is the set of random variable consisting of $Y,W$. That is, we use single commas to do our 'extensions of sets of random variables by one element.'"
   ]
  },
  {
   "cell_type": "markdown",
   "metadata": {},
   "source": [
    "## Properties of relative independence\n",
    "\n",
    "### Proposition\n",
    "\n",
    "*Proposition* We have the following properties:\n",
    "\n",
    "- *Symmetry*: $X\\bot Y\\mid Z$ implies $Y\\bot X\\mid Z$\n",
    "\n",
    "- *Decomposition*: $X\\bot Y,W\\mid Z$ implies $X\\bot Y \\mid Z$\n",
    "\n",
    "- *Weak union*: $X\\bot Y,W \\mid Z$ implies $X\\bot Y \\mid Z,W$\n",
    "\n",
    "- *Contraction*: $X\\bot W \\mid Z,Y$ implies $X\\bot Y \\mid Z$ and $X\\bot Y,W \\mid Z$.\n",
    "\n",
    "- *Intersection*: $(X\\bot Y\\mid Z,W)$ and $(X\\bot W\\mid Z,Y)$ implies $(X\\bot Y, W \\mid Z)$. \n",
    "\n",
    "These also hold with $X,Y,Z,W$ replaced by sets of random variables.\n",
    "\n",
    "We prove them in what follows (leaving the proof of contraction for an exercise). \n",
    "\n",
    "The proof of intersection requires that $P(X=x,Y=y,Z=z, W=w)>0$ for all $x,y,z,w$. "
   ]
  },
  {
   "cell_type": "markdown",
   "metadata": {},
   "source": [
    "### Proof of symmetry\n",
    "\n",
    "This follows from the equivalent characterization."
   ]
  },
  {
   "cell_type": "markdown",
   "metadata": {},
   "source": [
    "### Proof of Decomposition\n",
    "\n",
    "Suppose that $X\\bot Y, W\\mid Z$. We want to show that $X\\bot Y\\mid Z$. \n",
    "\n",
    "Suppose that $P(Y=y\\wedge Z=z)>0$. Then we have \n",
    "\n",
    "$\\hspace{5mm} P(X=x, Y=y \\mid Z=z)$\n",
    "\n",
    "$= \\sum_w P(X=x, Y=y, W=w\\mid Z=z)$ since $P(\\cdot\\mid Z=z)$ is a probability measure\n",
    "\n",
    "$= \\sum_w P(X=x\\mid Z=z)\\cdot P(Y=y, W=w\\mid Z=z)$ by writing both the conditional probabilities out and cancelling\n",
    "\n",
    "$= P(X=x\\mid Z=z)\\cdot \\sum_w P(Y=y, W=w\\mid Z=z)$ by factoring out \n",
    "\n",
    "$= P(X=x\\mid Z=z) \\cdot P(Y=y\\mid Z=z)$ since since $P(\\cdot\\mid Z=z)$ is a probability measure"
   ]
  },
  {
   "cell_type": "markdown",
   "metadata": {},
   "source": [
    "### Proof of weak union\n",
    "\n",
    "Suppose $X\\bot Y,W \\mid Z$. We want to show $X\\bot Y \\mid Z,W$. \n",
    "\n",
    "By Decomposition, $X\\bot Y,W \\mid Z$ implies $X\\bot W \\mid Z$.\n",
    "\n",
    "Suppose that $P(Y=y, W=w, Z=z)>0$. \n",
    "\n",
    "Then one has \n",
    "\n",
    "$\\hspace{5mm} P(X=x\\mid Y=y, Z=z, W=w)$\n",
    "\n",
    "$=P(X=x\\mid Y=y, W=w, Z=z)$\n",
    "\n",
    "$=P(X=x\\mid Z=z)$ by $X\\bot Y, W\\mid Z$\n",
    "\n",
    "$=P(X=x\\mid W=w, Z=z)$ by $X\\bot W \\mid Z$"
   ]
  },
  {
   "cell_type": "markdown",
   "metadata": {},
   "source": [
    "## Proof of contraction\n",
    "\n",
    "We leave for exercise."
   ]
  },
  {
   "cell_type": "markdown",
   "metadata": {},
   "source": [
    "### Proof of intersection\n",
    "\n",
    "For this, we assume that $P(X=x,Y=y,Z=z, W=w)>0$ for all $x,y,z,w$. \n",
    "\n",
    "Suppose $X\\bot Y\\mid Z, W$ and $X\\bot W\\mid Z,Y$. We want to show $X\\bot Y, W \\mid Z$. It suffices to show $Y\\bot X \\mid Z$, since by symmetry we would then have $X\\bot Y \\mid Z$ and by contraction we get $X\\bot W,Y\\mid Z$\n",
    "\n",
    "Now we show $Y\\bot X \\mid Z$. We want to show $P(Y=y\\mid X=x, Z=z)=P(Y=y\\mid Z=z)$.\n",
    "\n",
    "First note that one has the following, where the first identity follows from $X\\bot Y\\mid Z, W$, the second identity follows by rearranging, and the third identity follows from $X\\bot W\\mid Z,Y$:\n",
    "\n",
    "$$P(X=x \\mid W=w, Z=z) = P(X=x\\mid Y=y, Z=z, W=w)=P(X=x\\mid W=w,Y=y, Z=z)= P(X=x\\mid Y=y, Z=z)$$\n",
    "\n",
    "Let $P_z(A)=P(A\\mid Z=z)$, which is a probability measure. \n",
    "\n",
    "Hence $P_z(X=x\\mid W=w) = P_z(X=x\\mid Y=y)$. \n",
    "\n",
    "Applying Bayes' Theorem to both sides we get $\\frac{P_z(W=w\\mid X=x)\\cdot P_z(X=x)}{P_z(W=w)}= \\frac{P_z(Y=y\\mid X=x)\\cdot P_z(X=x)}{P_z(Y=y)}$.\n",
    "\n",
    "We cancel the common term and cross multiply to get $P_z(W=w| X=x)\\cdot P_z(Y=y) = P_z(Y=y\\mid X=x)\\cdot P_z(W=w)$.\n",
    "\n",
    "By summing over all $w$ on both sides we get:\n",
    "\n",
    "$$P_z(Y=y) = \\sum_w P_z(W=w| X=x)\\cdot P_z(Y=y) = \\sum_w P_z(Y=y\\mid X=x)\\cdot P_z(W=w) = P_z(Y=y\\mid X=x)$$\n",
    "\n",
    "Rewriting this implies $P(Y=y\\mid Z=z)=P(Y=y\\mid X=x, Z=z)$, which is what we wanted to show."
   ]
  },
  {
   "cell_type": "markdown",
   "metadata": {},
   "source": [
    "## Directed graphs and random variables "
   ]
  },
  {
   "cell_type": "markdown",
   "metadata": {},
   "source": [
    "### Random variables as nodes in a directed graph\n",
    "\n",
    "Suppose that $X_1, \\ldots, X_n:\\Omega\\rightarrow \\mathbb{R}$ is a family of random variables, each distinct.\n",
    "\n",
    "Assume that there is a directed aclyclic graph structure $G=(V,E)$ with nodes $V=\\{X_1, \\ldots, X_n\\}$; usually we draw the edges just as arrows between the nodes.\n",
    "\n",
    "Let $\\mathrm{Parents}_i$ be the parents of $X_i$, i.e. the immediate predessors of $X_i$ in the graph structure. We suppose that there an injective function $a_i:\\{1, \\ldots, n_i\\}\\rightarrow \\{1, \\ldots, n\\}$ such that $\\mathrm{Parents}_i = \\{X_{a_i(1)}, \\ldots, X_{a_i(n_i)}\\}$. Note that this function $a$ depends on the enumeration of $X_1, \\ldots, X_n$.\n",
    "\n",
    "Let $\\mathrm{Descendents}_i$ be all of the nodes which are below $X_i$, including $X_i$ itself. \n",
    "\n",
    "Let $\\mathrm{Nondescendents}_i$ be all of the nodes which are not descendents of $X_i$, noting that this does not include $X_i$ itself."
   ]
  },
  {
   "cell_type": "markdown",
   "metadata": {},
   "source": [
    "### Factoring Theorem\n",
    "\n",
    "*Theorem*. The following are equivalent for $P$:\n",
    "\n",
    "1. Relative to $P$, one has $X_i \\bot \\mathrm{Nondescendents}_i \\mid \\mathrm{Parents}_i$ for all $1\\leq i\\leq n$\n",
    "\n",
    "2. $P(X_1=x_1, \\ldots, X_n=x_n)= \\prod_{i=1}^n P(X_i=x_i \\mid X_{a_i(1)}= x_{a_i(1)}, \\ldots, X_{a_i(n_i)}= x_{a_i(n_i)})$  for all values $x_1, \\ldots, x_n$ such that $P(X_1=x_1, \\ldots, X_n=x_n)>0$."
   ]
  },
  {
   "cell_type": "markdown",
   "metadata": {},
   "source": [
    "*Proof*:\n",
    "\n",
    "First suppose 1; we show 2. \n",
    "\n",
    "Without loss of generality, we may assume that $X_1, \\ldots, X_n$ are ordered so that if $X_j$ is a descendent of $X_i$, then $j>i$. \n",
    "\n",
    "In general one has $P(X_1 =x_1, \\ldots, X_n=x_n) = \\prod_{i=1}^n P(X_i=x_i\\mid X_1=x_1, \\ldots, X_{i-1}=x_{i-1})$ whenever the left-hand side is non-zero.\n",
    "\n",
    "Partition $\\{X_1, \\ldots, X_{i-1}\\} = \\{X_{a_i(1)}, \\ldots, X_{a_i(n_i)}\\}\\sqcup \\{X_{b_i(1)}, \\ldots X_{b_i(m_i)}\\}$.\n",
    "\n",
    "Then $\\{X_{b_i(1)}, \\ldots X_{b_i(m_i)}\\}\\subseteq \\mathrm{Nondescendents}_i$. For, if $X_{b_i(k)}$ in $\\mathrm{Descendents}_i$, we have by construction that $b_i(k)>i$, which is incompatible with $X_{b_i(k)}$ being in $\\{X_1, \\ldots, X_{i-1}\\}$.\n",
    "\n",
    "Then by $X_i \\bot \\mathrm{Nondescendents}_i \\mid \\mathrm{Parents}_i$ and Decomposition we have that $X_i \\bot X_{b_i(1)}, \\ldots X_{b_i(n_i)} \\mid \\mathrm{Parents}_i$. Then we have $P(X=x_i \\mid X_1=x_1, \\ldots, X_{i-1}=x_{i-1}) = P(X_i=x_i \\mid X_{a_i(1)}= x_{a_i(1)}, \\ldots, X_{a_i(n_i)}= x_{a_i(n_i)})$.\n"
   ]
  },
  {
   "cell_type": "markdown",
   "metadata": {},
   "source": [
    "Before showing 2 to 1, we introduce a definition and prove a lemma."
   ]
  },
  {
   "cell_type": "markdown",
   "metadata": {},
   "source": [
    "### Lemma on non-trivial parent-closed sets"
   ]
  },
  {
   "cell_type": "markdown",
   "metadata": {},
   "source": [
    "*Definition*. The rank of $X_i$ is zero if $X_i$ has no descendents. The rank of $X_i$ is $k+1$ if $X_i$ is the parent of a rank $k$ node.\n",
    "\n",
    "Hence, note that if a node has rank $\\geq k$, then so too do its parents.\n",
    "\n",
    "*Definition*: A set of nodes is *parent-closed* if the parents of any node in the set is also in the set. A parent-closed set of is *non-trivial* if there are some nodes in the set which are parents of a node (which may or may not be in the set). \n",
    "\n",
    "*Lemma*. Suppose 2 above holds. Then for all $k\\geq 0$, if $Y_1, \\ldots, Y_m$ enumerates a non-trivial parent-closed set of nodes of rank $\\geq k$ without repetition, then $P(Y_1=y_1, \\ldots, Y_m=y_m)= \\prod_{i=1}^m P(Y_i=y_i \\mid Y_{a_i(1)}= y_{a_i(1)}, \\ldots, Y_{a_i(n_i)}= y_{a_i(n_i)})$  for all values $y_1, \\ldots, y_m$ such that $P(Y_1=y_1, \\ldots, Y_m=y_m)>0$.\n",
    "\n",
    "*Proof*: this is by induction on $k$. The base case $k=0$ holds by the assumption of 2. \n",
    "\n",
    "Suppose it holds for $k$; we show it holds for $k+1$. Suppose that $Y_1, \\ldots, Y_m$ enumerates a non-trivial parent-closed set of nodes of rank $\\geq k+1$. By non-triviality, suppose that $Y_{m+1}, \\ldots, Y_{\\ell}$ are nodes of rank $k$ whose parents are among $Y_1, \\ldots, Y_m$.\n",
    "\n",
    "Note that:\n",
    "\n",
    "- For $m<i\\leq \\ell$ we have that $a_i$ maps into $\\{1, \\ldots, m\\}$.\n",
    "- $Y_1, \\ldots, Y_{m}, Y_{m+1}, \\ldots, Y_{\\ell}$ is a non-trivial parent-closed set of nodes of rank $\\geq k$.\n",
    "\n",
    "Then one has \n",
    "\n",
    "$P(Y_1=y_1, \\ldots, Y_m=y_m)=\\sum_{y_{m+1}, \\ldots, y_{\\ell}} P(Y_1=y_1, \\ldots, Y_{\\ell}=y_{\\ell})$\n",
    "\n",
    "$ = \\sum_{y_{m+1}, \\ldots, y_{\\ell}} \\prod_{i=1}^{\\ell} P(Y_i=y_i \\mid Y_{a_i(1)}= y_{a_i(1)}, \\ldots, Y_{a_i(n_i)}= y_{a_i(n_i)}) $ by induction hypothesis\n",
    "\n",
    "$ = \\sum_{y_{m+1}, \\ldots, y_{\\ell}} \\prod_{i=1}^{m} P(Y_i=y_i \\mid Y_{a_i(1)}= y_{a_i(1)}, \\ldots, Y_{a_i(n_i)}= y_{a_i(n_i)}) \\cdot \\prod_{i=m+1}^{\\ell} P(Y_i=y_i \\mid Y_{a_i(1)}= y_{a_i(1)}, \\ldots, Y_{a_i(n_i)}= y_{a_i(n_i)})$ \n",
    "\n",
    "$ = \\prod_{i=1}^{m} P(Y_i=y_i \\mid Y_{a_i(1)}= y_{a_i(1)}, \\ldots, Y_{a_i(n_i)}= y_{a_i(n_i)}) \\cdot  \\sum_{y_{m+1}, \\ldots, y_{\\ell}} \\prod_{i=m+1}^{\\ell} P(Y_i=y_i \\mid Y_{a_i(1)}= y_{a_i(1)}, \\ldots, Y_{a_i(n_i)}= y_{a_i(n_i)})$ by first bullet point\n",
    "\n",
    "$ = \\prod_{i=1}^{m} P(Y_i=y_i \\mid Y_{a_i(1)}= y_{a_i(1)}, \\ldots, Y_{a_i(n_i)}= y_{a_i(n_i)}) \\cdot 1$ by a simple induction on $\\ell-(m+1)$\n",
    "\n",
    "$= \\prod_{i=1}^{m} P(Y_i=y_i \\mid Y_{a_i(1)}= y_{a_i(1)}, \\ldots, Y_{a_i(n_i)}= y_{a_i(n_i)})$"
   ]
  },
  {
   "cell_type": "markdown",
   "metadata": {},
   "source": [
    "### Finishing proof of factoring theorem\n",
    "\n",
    "Now we finish the proof from 2 to 1. \n",
    "\n",
    "Note that $\\mathrm{Nondescendents}_i$ is a non-trivial parent-closed set nodes of rank $k\\geq 0$, and $\\{X_i\\}\\cup \\mathrm{Nondescendents}_i$ is a non-trivial parent-closed set nodes of rank $k+1$.\n",
    "\n",
    "Enumerate without repetition $\\mathrm{Nondescendents}_i$ as $Y_1, \\ldots Y_m$ and set $Y_{m+1}=X_i$.\n",
    "\n",
    "Further, set $z_1=y_1, \\ldots, z_m=y_m$, and likewise set $Z_1=Y_1, \\ldots, Z_m=Y_m, Z_{m+1}=Y_{m+1}$.\n",
    "\n",
    "Then one has:\n",
    "\n",
    "$P(Y_{m+1}=y_{m+1} \\mid Y_1=y_1, \\ldots, Y_m=y_m)$\n",
    "\n",
    "$=\\frac{P(Y_1=y_1, \\ldots, Y_m=y_m, Y_{m+1}=y_{m+1})}{P(Y_1=y_1, \\ldots, Y_m=y_m,)}$\n",
    "\n",
    "$=\\frac{P(Y_1=y_1, \\ldots, Y_m=y_m, Y_{m+1}=y_{m+1})}{\\sum_{z_{m+1}} P(Z_1=z_1, \\ldots, Z_m=z_m, Z_{m+1}=z_{m+1})}$\n",
    "\n",
    "$=\\frac{ \\prod_{j=1}^{m+1} P(Y_j=y_j \\mid Y_{a_j(1)}= y_{a_j(1)}, \\ldots, Y_{a_j(n_j)}= y_{a_j(n_j)})   }{ \\sum_{z_{m+1}}  \\prod_{j=1}^{m+1} P(Z_j=z_j \\mid Z_{a_j(1)}= z_{a_j(1)}, \\ldots, Z_{a_j(n_j)}= z_{a_j(n_j)})  }$ by two applications of lemma\n",
    "\n",
    "$ = \\frac{ P(Y_m=y_m \\mid Y_{a_m(1)}= y_{a_m(1)}, \\ldots, Y_{a_m(n_m)}= y_{a_j(n_j)})\\cdot \\prod_{j=1}^{m} P(Y_j=y_j \\mid Y_{a_j(1)}= y_{a_j(1)}, \\ldots, Y_{a_j(n_j)}= y_{a_j(n_j)})   }{ \\sum_{z_{m+1}}   P(Z_{m+1}=z_{m+1} \\mid Z_{a_{m+1}(1)}= z_{a_{m+1}(1)}, \\ldots, Z_{a_{m+1}(n_{m+1})}= z_{a_{m+1}(n_{m+1})}) \\cdot \\prod_{j=1}^{m} P(Z_j=z_j \\mid Z_{a_j(1)}= z_{a_j(1)}, \\ldots, Z_{a_j(n_j)}= z_{a_j(n_j)})  }$ \n",
    "\n",
    "$= \\frac{ P(Y_m=y_m \\mid Y_{a_m(1)}= y_{a_m(1)}, \\ldots, Y_{a_m(n_m)}= y_{a_j(n_j)})\\cdot \\prod_{j=1}^{m} P(Y_j=y_j \\mid Y_{a_j(1)}= y_{a_j(1)}, \\ldots, Y_{a_j(n_j)}= y_{a_j(n_j)})   }{  \\prod_{j=1}^{m} P(Z_j=z_j \\mid Z_{a_j(1)}= z_{a_j(1)}, \\ldots, Z_{a_j(n_j)}= z_{a_j(n_j)})  }$\n",
    "\n",
    "$ = P(Y_m=y_m \\mid Y_{a_m(1)}= y_{a_m(1)}, \\ldots, Y_{a_m(n_m)}= y_{a_j(n_j)})$.\n",
    "\n"
   ]
  }
 ],
 "metadata": {
  "kernelspec": {
   "display_name": "Python 3 (ipykernel)",
   "language": "python",
   "name": "python3"
  },
  "language_info": {
   "codemirror_mode": {
    "name": "ipython",
    "version": 3
   },
   "file_extension": ".py",
   "mimetype": "text/x-python",
   "name": "python",
   "nbconvert_exporter": "python",
   "pygments_lexer": "ipython3",
   "version": "3.12.3"
  }
 },
 "nbformat": 4,
 "nbformat_minor": 4
}
