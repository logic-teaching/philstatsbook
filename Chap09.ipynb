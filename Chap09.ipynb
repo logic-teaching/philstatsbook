{
 "cells": [
  {
   "cell_type": "code",
   "execution_count": 1,
   "metadata": {},
   "outputs": [],
   "source": [
    "import numpy as np\n",
    "import pandas as pd\n",
    "from scipy.stats import norm\n",
    "from tabulate import tabulate\n",
    "from IPython.display import display, Markdown\n",
    "import matplotlib.pyplot as plt   # load pyplot package"
   ]
  },
  {
   "cell_type": "code",
   "execution_count": 2,
   "metadata": {},
   "outputs": [],
   "source": [
    "## Define the prior on a parameter space of size two\n",
    "\n",
    "p = .4\n",
    "\n",
    "q = 1-p\n",
    "\n",
    "prior = [p,q]"
   ]
  },
  {
   "cell_type": "code",
   "execution_count": 3,
   "metadata": {},
   "outputs": [],
   "source": [
    "## Define how big the sample space is\n",
    "\n",
    "n = 10 # number of outcomes\n",
    "\n",
    "size_sample_space = n\n",
    "\n",
    "size_parameter_space = 2\n",
    "\n",
    "sample_space = list(range(size_sample_space))\n",
    "\n",
    "parameter_space = list(range(size_parameter_space))"
   ]
  },
  {
   "cell_type": "code",
   "execution_count": 4,
   "metadata": {},
   "outputs": [
    {
     "name": "stdout",
     "output_type": "stream",
     "text": [
      "[array([0.00876415, 0.02699548, 0.0647588 , 0.12098536, 0.17603266,\n",
      "       0.19947114, 0.17603266, 0.12098536, 0.0647588 , 0.02699548]), [0.1, 0.1, 0.1, 0.1, 0.1, 0.1, 0.1, 0.1, 0.1, 0.1]]\n"
     ]
    }
   ],
   "source": [
    "## Define the likelihood function\n",
    "\n",
    "likelihood = [None] * size_parameter_space\n",
    "\n",
    "\n",
    "## This one sets it randomly \n",
    "\n",
    "\n",
    "#for i in parameter_space:\n",
    "#    likelihood[i] = np.random.dirichlet(np.ones(len(sample_space)),size=1)[0]\n",
    "#    likelihood[i] = [round(x, 2) for x in likelihood[i]]\n",
    "\n",
    "## this one selects 0 to be normal and 1 to be uniform\n",
    "\n",
    "import numpy as np\n",
    "\n",
    "import matplotlib.pyplot as plt\n",
    "\n",
    "# Define the parameters of the normal distribution\n",
    "mean = size_sample_space / 2\n",
    "std_dev = size_sample_space / 5\n",
    "\n",
    "\n",
    "sample_space_alt = np.linspace(mean - 3*std_dev, mean + 3*std_dev, size_sample_space)\n",
    "likelihood[0] = norm.pdf(sample_space, mean, std_dev)\n",
    "likelihood[1] = [1/size_sample_space]*size_sample_space\n",
    "\n",
    "print(likelihood)\n"
   ]
  },
  {
   "cell_type": "code",
   "execution_count": 5,
   "metadata": {},
   "outputs": [
    {
     "name": "stdout",
     "output_type": "stream",
     "text": [
      "['likelihood p(x_j  &#124; θ_0)', 'likelihood p(x_j  &#124; θ_1)']\n"
     ]
    }
   ],
   "source": [
    "\n",
    "parameter_space_names = []\n",
    "for i in parameter_space:\n",
    "    parameter_space_names.append(f\"likelihood p(x_j  &#124; θ_{i})\")\n",
    "\n",
    "print(parameter_space_names)"
   ]
  },
  {
   "cell_type": "code",
   "execution_count": 6,
   "metadata": {},
   "outputs": [
    {
     "name": "stdout",
     "output_type": "stream",
     "text": [
      "[0.06, 0.07, 0.09, 0.11, 0.13, 0.14, 0.13, 0.11, 0.09, 0.07]\n"
     ]
    }
   ],
   "source": [
    "evidence =  []\n",
    "\n",
    "for j in sample_space:\n",
    "    evidence.append(sum([prior[i]*likelihood[i][j] for i in parameter_space]))\n",
    "\n",
    "evidence = [round(x, 2) for x in evidence]\n",
    "\n",
    "print(evidence)"
   ]
  },
  {
   "cell_type": "code",
   "execution_count": 7,
   "metadata": {},
   "outputs": [
    {
     "name": "stdout",
     "output_type": "stream",
     "text": [
      "['x_0, evidence = 0.06', 'x_1, evidence = 0.07', 'x_2, evidence = 0.09', 'x_3, evidence = 0.11', 'x_4, evidence = 0.13', 'x_5, evidence = 0.14', 'x_6, evidence = 0.13', 'x_7, evidence = 0.11', 'x_8, evidence = 0.09', 'x_9, evidence = 0.07']\n"
     ]
    }
   ],
   "source": [
    "\n",
    "sample_space_names = []\n",
    "\n",
    "for j in sample_space:\n",
    "    sample_space_names.append(f\"x_{j}, evidence = {evidence[j]}\")\n",
    "\n",
    "print(sample_space_names)"
   ]
  },
  {
   "cell_type": "code",
   "execution_count": 8,
   "metadata": {},
   "outputs": [
    {
     "data": {
      "text/markdown": [
       "|                      |   likelihood p(x_j  &#124; θ_0) |   likelihood p(x_j  &#124; θ_1) |\n",
       "|:---------------------|--------------------------------:|--------------------------------:|\n",
       "| x_0, evidence = 0.06 |                      0.00876415 |                             0.1 |\n",
       "| x_1, evidence = 0.07 |                      0.0269955  |                             0.1 |\n",
       "| x_2, evidence = 0.09 |                      0.0647588  |                             0.1 |\n",
       "| x_3, evidence = 0.11 |                      0.120985   |                             0.1 |\n",
       "| x_4, evidence = 0.13 |                      0.176033   |                             0.1 |\n",
       "| x_5, evidence = 0.14 |                      0.199471   |                             0.1 |\n",
       "| x_6, evidence = 0.13 |                      0.176033   |                             0.1 |\n",
       "| x_7, evidence = 0.11 |                      0.120985   |                             0.1 |\n",
       "| x_8, evidence = 0.09 |                      0.0647588  |                             0.1 |\n",
       "| x_9, evidence = 0.07 |                      0.0269955  |                             0.1 |"
      ],
      "text/plain": [
       "<IPython.core.display.Markdown object>"
      ]
     },
     "metadata": {},
     "output_type": "display_data"
    }
   ],
   "source": [
    "df = pd.DataFrame(likelihood)\n",
    "\n",
    "df = df.T\n",
    "\n",
    "df.columns = parameter_space_names\n",
    "\n",
    "df.index = sample_space_names\n",
    "\n",
    "\n",
    "markdown_table = df.to_markdown()\n",
    "\n",
    "display(Markdown(markdown_table))"
   ]
  },
  {
   "cell_type": "code",
   "execution_count": 9,
   "metadata": {},
   "outputs": [
    {
     "name": "stdout",
     "output_type": "stream",
     "text": [
      "[[0.06, 0.15, 0.29, 0.44, 0.54, 0.57, 0.54, 0.44, 0.29, 0.15], [1.0, 0.86, 0.67, 0.55, 0.46, 0.43, 0.46, 0.55, 0.67, 0.86]]\n"
     ]
    }
   ],
   "source": [
    "posterior = [[None]*size_sample_space for _ in range(size_parameter_space)]\n",
    "\n",
    "for i in parameter_space:\n",
    "    for j in sample_space:\n",
    "        posterior[i][j] = ((likelihood[i][j]*prior[i]) / evidence[j])\n",
    "        posterior[i][j] = round(posterior[i][j], 2)\n",
    "\n",
    "print(posterior)\n"
   ]
  },
  {
   "cell_type": "code",
   "execution_count": 10,
   "metadata": {},
   "outputs": [
    {
     "data": {
      "text/markdown": [
       "|                      |   likelihood p(x_j  &#124; θ_0) |   posterior p(θ_ 0  &#124; x_j) |   likelihood p(x_j  &#124; θ_1) |   posterior p(θ_ 1  &#124; x_j) |\n",
       "|:---------------------|--------------------------------:|--------------------------------:|--------------------------------:|--------------------------------:|\n",
       "| x_0, evidence = 0.06 |                      0.00876415 |                            0.06 |                             0.1 |                            1    |\n",
       "| x_1, evidence = 0.07 |                      0.0269955  |                            0.15 |                             0.1 |                            0.86 |\n",
       "| x_2, evidence = 0.09 |                      0.0647588  |                            0.29 |                             0.1 |                            0.67 |\n",
       "| x_3, evidence = 0.11 |                      0.120985   |                            0.44 |                             0.1 |                            0.55 |\n",
       "| x_4, evidence = 0.13 |                      0.176033   |                            0.54 |                             0.1 |                            0.46 |\n",
       "| x_5, evidence = 0.14 |                      0.199471   |                            0.57 |                             0.1 |                            0.43 |\n",
       "| x_6, evidence = 0.13 |                      0.176033   |                            0.54 |                             0.1 |                            0.46 |\n",
       "| x_7, evidence = 0.11 |                      0.120985   |                            0.44 |                             0.1 |                            0.55 |\n",
       "| x_8, evidence = 0.09 |                      0.0647588  |                            0.29 |                             0.1 |                            0.67 |\n",
       "| x_9, evidence = 0.07 |                      0.0269955  |                            0.15 |                             0.1 |                            0.86 |"
      ],
      "text/plain": [
       "<IPython.core.display.Markdown object>"
      ]
     },
     "metadata": {},
     "output_type": "display_data"
    }
   ],
   "source": [
    "for i in parameter_space:\n",
    "    df.insert(2*i+1, f\"posterior p(θ_ {i}  &#124; x_j)\", posterior[i])\n",
    "\n",
    "markdown_table = df.to_markdown()\n",
    "\n",
    "display(Markdown(markdown_table))\n",
    "\n",
    "    "
   ]
  },
  {
   "cell_type": "code",
   "execution_count": 11,
   "metadata": {},
   "outputs": [
    {
     "data": {
      "text/plain": [
       "<matplotlib.legend.Legend at 0x130074bf0>"
      ]
     },
     "execution_count": 11,
     "metadata": {},
     "output_type": "execute_result"
    },
    {
     "data": {
      "image/png": "[encoded data removed]",
      "text/plain": [
       "<Figure size 1000x500 with 2 Axes>"
      ]
     },
     "metadata": {},
     "output_type": "display_data"
    }
   ],
   "source": [
    "## Code to generate table and calculate evidence and posteriors and plot\n",
    "\n",
    "\n",
    "fig, axs = plt.subplots(1, 2, figsize=(10, 5))  # 1 row, 2 columns\n",
    "\n",
    "axs[0].plot(sample_space, likelihood[0], label='θ_0')\n",
    "axs[0].plot(sample_space, likelihood[1], label='θ_1')\n",
    "axs[0].set_ylim(0, 1)\n",
    "axs[0].set_title('given θ_i, likelihood of outcome x_j')\n",
    "axs[0].legend()\n",
    "\n",
    "axs[1].plot(sample_space, posterior[0], label='θ_0')\n",
    "axs[1].plot(sample_space, posterior[1], label='θ_1')\n",
    "axs[1].set_ylim(0, 1)\n",
    "axs[1].set_title('posterior of θ_i given outcome x_j')\n",
    "axs[1].legend()\n"
   ]
  },
  {
   "cell_type": "markdown",
   "metadata": {},
   "source": [
    "\n",
    "### Theorem (Bayes' Theorem)\n",
    "\n",
    "Suppose that the sample space $\\Omega\\subseteq \\mathbb{R}$ is finite. Since they are real numbers we write $x$ for elements of $\\Omega$.\n",
    "\n",
    "Suppose that the parameter space $\\Theta\\subseteq \\mathbb{R}$ is finite.\n",
    "\n",
    "Suppose that each $\\theta$ in $\\Theta$ comes equipped with a probability measure $P_{\\theta}$ on $\\Omega$. Let us write $p(x \\mid \\theta)=P_{\\theta}(\\{x\\})$.\n",
    "\n",
    "Suppose further that we have a probability measure $P$ on $\\Theta$, the *prior*. Let us write $p(\\theta)=P(\\{\\theta\\})$.\n",
    "\n",
    "Consider the product space $\\Omega \\times \\Theta$, which is also finite.\n",
    "\n",
    "Define a probability measure $Pr$ on $\\Omega\\times \\Theta$ by $Pr(C\\times D)=\\sum_{\\theta\\in D} p(\\theta)\\cdot P_{\\theta}(C)$, and let us write $p(\\theta, x)=Pr(\\{x\\}\\times \\{\\theta\\})=p(\\theta)\\cdot p(x \\mid \\theta)$.\n",
    "\n",
    "Define the first projection $X:\\Omega \\times \\Theta\\rightarrow \\mathbb{R}$ by $X(x, \\theta)=x$.\n",
    "\n",
    "Define the second projection $Y:\\Omega \\times \\Theta\\rightarrow \\mathbb{R}$ by $Y(x, \\theta)=\\theta$.\n",
    "\n",
    "Define $p(x) = Pr(X=x)$\n",
    "\n",
    "Define $p(\\theta \\mid x)=Pr(Y=\\theta \\mid X=x)$.\n",
    "\n",
    "Then $p(x) = \\sum_{\\theta\\in \\Theta} p(\\theta)\\cdot p(x \\mid \\theta)$. \n",
    "\n",
    "Further one has\n",
    "\n",
    "$$p(\\theta \\mid x) = \\frac{p(\\theta)\\cdot p(x \\mid \\theta)}{p(x)}$$\n",
    "\n",
    "For the first one has: \n",
    "\n",
    "$p(x) = Pr(X=x) = Pr(\\{x\\}\\times \\Theta) = \\sum_{\\theta\\in \\Theta} p(\\theta)\\cdot P_{\\theta}(\\{x\\}) = \\sum_{\\theta\\in \\Theta} p(\\theta)\\cdot p(x \\mid \\theta)$.\n",
    "\n",
    "For the second we first note two things:\n",
    "\n",
    "$Pr(Y=\\theta) = Pr(\\Omega \\times \\{\\theta\\}) = p(\\theta)\\cdot P_{\\theta}(\\Omega)=p(\\theta)\\cdot 1 = p(\\theta)$.\n",
    "\n",
    "$P(X=x \\mid Y=\\theta) = \\frac{Pr(X=x\\wedge Y=\\theta)}{Pr(Y=\\theta)} = \\frac{Pr(\\{x\\}\\times \\{\\theta\\})}{p(\\theta)} = \\frac{p(\\theta)\\cdot p(x \\mid \\theta)}{p(\\theta)} =  p(x \\mid \\theta)$.\n",
    "\n",
    "Then we have:\n",
    "\n",
    "$p(\\theta \\mid x)=Pr(Y=\\theta \\mid X=x) = \\frac{P(X=x \\mid Y=\\theta)\\cdot P(Y=\\theta)}{P(X=x)}=\\frac{ p(x \\mid \\theta)\\cdot p(\\theta)}{p(x)}$.\n",
    "\n",
    "\n",
    "\n",
    "\n",
    "\n",
    "\n",
    "\n"
   ]
  },
  {
   "cell_type": "markdown",
   "metadata": {},
   "source": [
    "## We don't talk about Pr (no no)"
   ]
  },
  {
   "cell_type": "markdown",
   "metadata": {},
   "source": []
  }
 ],
 "metadata": {
  "kernelspec": {
   "display_name": ".venv",
   "language": "python",
   "name": "python3"
  },
  "language_info": {
   "codemirror_mode": {
    "name": "ipython",
    "version": 3
   },
   "file_extension": ".py",
   "mimetype": "text/x-python",
   "name": "python",
   "nbconvert_exporter": "python",
   "pygments_lexer": "ipython3",
   "version": "3.12.3"
  }
 },
 "nbformat": 4,
 "nbformat_minor": 2
}
