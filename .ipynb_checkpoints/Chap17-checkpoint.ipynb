{
 "cells": [
  {
   "cell_type": "markdown",
   "metadata": {},
   "source": [
    "## Chapter 17"
   ]
  },
  {
   "cell_type": "code",
   "execution_count": 1,
   "metadata": {},
   "outputs": [
    {
     "name": "stderr",
     "output_type": "stream",
     "text": [
      "2024-05-30 00:04:10,973 - /Users/seanwalsh/Documents/GitHub-Mac-Desktop-New/philstatsbook/.venv/lib/python3.12/site-packages/castle/backend/__init__.py[line:36] - INFO: You can use `os.environ['CASTLE_BACKEND'] = backend` to set the backend(`pytorch` or `mindspore`).\n",
      "2024-05-30 00:04:11,084 - /Users/seanwalsh/Documents/GitHub-Mac-Desktop-New/philstatsbook/.venv/lib/python3.12/site-packages/castle/algorithms/__init__.py[line:36] - INFO: You are using ``pytorch`` as the backend.\n"
     ]
    },
    {
     "ename": "AttributeError",
     "evalue": "module 'networkx' has no attribute 'to_numpy_matrix'",
     "output_type": "error",
     "traceback": [
      "\u001b[0;31m---------------------------------------------------------------------------\u001b[0m",
      "\u001b[0;31mAttributeError\u001b[0m                            Traceback (most recent call last)",
      "Cell \u001b[0;32mIn[1], line 9\u001b[0m\n\u001b[1;32m      6\u001b[0m \u001b[38;5;28;01mimport\u001b[39;00m \u001b[38;5;21;01mnetworkx\u001b[39;00m \u001b[38;5;28;01mas\u001b[39;00m \u001b[38;5;21;01mnx\u001b[39;00m\n\u001b[1;32m      8\u001b[0m \u001b[38;5;66;03m# data simulation, simulate true causal dag and train_data.\u001b[39;00m\n\u001b[0;32m----> 9\u001b[0m weighted_random_dag \u001b[38;5;241m=\u001b[39m \u001b[43mDAG\u001b[49m\u001b[38;5;241;43m.\u001b[39;49m\u001b[43merdos_renyi\u001b[49m\u001b[43m(\u001b[49m\u001b[43mn_nodes\u001b[49m\u001b[38;5;241;43m=\u001b[39;49m\u001b[38;5;241;43m10\u001b[39;49m\u001b[43m,\u001b[49m\u001b[43m \u001b[49m\u001b[43mn_edges\u001b[49m\u001b[38;5;241;43m=\u001b[39;49m\u001b[38;5;241;43m10\u001b[39;49m\u001b[43m,\u001b[49m\u001b[43m \u001b[49m\n\u001b[1;32m     10\u001b[0m \u001b[43m                                      \u001b[49m\u001b[43mweight_range\u001b[49m\u001b[38;5;241;43m=\u001b[39;49m\u001b[43m(\u001b[49m\u001b[38;5;241;43m0.5\u001b[39;49m\u001b[43m,\u001b[49m\u001b[43m \u001b[49m\u001b[38;5;241;43m2.0\u001b[39;49m\u001b[43m)\u001b[49m\u001b[43m,\u001b[49m\u001b[43m \u001b[49m\u001b[43mseed\u001b[49m\u001b[38;5;241;43m=\u001b[39;49m\u001b[38;5;241;43m1\u001b[39;49m\u001b[43m)\u001b[49m\n\u001b[1;32m     11\u001b[0m dataset \u001b[38;5;241m=\u001b[39m IIDSimulation(W\u001b[38;5;241m=\u001b[39mweighted_random_dag, n\u001b[38;5;241m=\u001b[39m\u001b[38;5;241m2000\u001b[39m, method\u001b[38;5;241m=\u001b[39m\u001b[38;5;124m'\u001b[39m\u001b[38;5;124mlinear\u001b[39m\u001b[38;5;124m'\u001b[39m, \n\u001b[1;32m     12\u001b[0m                         sem_type\u001b[38;5;241m=\u001b[39m\u001b[38;5;124m'\u001b[39m\u001b[38;5;124mgauss\u001b[39m\u001b[38;5;124m'\u001b[39m)\n\u001b[1;32m     13\u001b[0m true_causal_matrix, X \u001b[38;5;241m=\u001b[39m dataset\u001b[38;5;241m.\u001b[39mB, dataset\u001b[38;5;241m.\u001b[39mX\n",
      "File \u001b[0;32m~/Documents/GitHub-Mac-Desktop-New/philstatsbook/.venv/lib/python3.12/site-packages/castle/datasets/simulator.py:168\u001b[0m, in \u001b[0;36mDAG.erdos_renyi\u001b[0;34m(n_nodes, n_edges, weight_range, seed)\u001b[0m\n\u001b[1;32m    166\u001b[0m creation_prob \u001b[38;5;241m=\u001b[39m (\u001b[38;5;241m2\u001b[39m \u001b[38;5;241m*\u001b[39m n_edges) \u001b[38;5;241m/\u001b[39m (n_nodes \u001b[38;5;241m*\u001b[39m\u001b[38;5;241m*\u001b[39m \u001b[38;5;241m2\u001b[39m)\n\u001b[1;32m    167\u001b[0m G_und \u001b[38;5;241m=\u001b[39m nx\u001b[38;5;241m.\u001b[39merdos_renyi_graph(n\u001b[38;5;241m=\u001b[39mn_nodes, p\u001b[38;5;241m=\u001b[39mcreation_prob, seed\u001b[38;5;241m=\u001b[39mseed)\n\u001b[0;32m--> 168\u001b[0m B_und \u001b[38;5;241m=\u001b[39m \u001b[43mDAG\u001b[49m\u001b[38;5;241;43m.\u001b[39;49m\u001b[43m_graph_to_adjmat\u001b[49m\u001b[43m(\u001b[49m\u001b[43mG_und\u001b[49m\u001b[43m)\u001b[49m\n\u001b[1;32m    169\u001b[0m B \u001b[38;5;241m=\u001b[39m DAG\u001b[38;5;241m.\u001b[39m_random_acyclic_orientation(B_und)\n\u001b[1;32m    170\u001b[0m \u001b[38;5;28;01mif\u001b[39;00m weight_range \u001b[38;5;129;01mis\u001b[39;00m \u001b[38;5;28;01mNone\u001b[39;00m:\n",
      "File \u001b[0;32m~/Documents/GitHub-Mac-Desktop-New/philstatsbook/.venv/lib/python3.12/site-packages/castle/datasets/simulator.py:64\u001b[0m, in \u001b[0;36mDAG._graph_to_adjmat\u001b[0;34m(G)\u001b[0m\n\u001b[1;32m     62\u001b[0m \u001b[38;5;129m@staticmethod\u001b[39m\n\u001b[1;32m     63\u001b[0m \u001b[38;5;28;01mdef\u001b[39;00m \u001b[38;5;21m_graph_to_adjmat\u001b[39m(G):\n\u001b[0;32m---> 64\u001b[0m     \u001b[38;5;28;01mreturn\u001b[39;00m \u001b[43mnx\u001b[49m\u001b[38;5;241;43m.\u001b[39;49m\u001b[43mto_numpy_matrix\u001b[49m(G)\n",
      "\u001b[0;31mAttributeError\u001b[0m: module 'networkx' has no attribute 'to_numpy_matrix'"
     ]
    }
   ],
   "source": [
    "from castle.common import GraphDAG\n",
    "from castle.metrics import MetricsDAG\n",
    "from castle.datasets import IIDSimulation, DAG\n",
    "from castle.algorithms import PC\n",
    "import numpy as np\n",
    "import networkx as nx\n",
    "\n",
    "# data simulation, simulate true causal dag and train_data.\n",
    "weighted_random_dag = DAG.erdos_renyi(n_nodes=10, n_edges=10, \n",
    "                                      weight_range=(0.5, 2.0), seed=1)\n",
    "dataset = IIDSimulation(W=weighted_random_dag, n=2000, method='linear', \n",
    "                        sem_type='gauss')\n",
    "true_causal_matrix, X = dataset.B, dataset.X\n",
    "\n",
    "# structure learning\n",
    "pc = PC()\n",
    "pc.learn(X)\n",
    "\n",
    "# plot predict_dag and true_dag\n",
    "GraphDAG(pc.causal_matrix, true_causal_matrix, 'result')\n",
    "\n",
    "# calculate metrics\n",
    "mt = MetricsDAG(pc.causal_matrix, true_causal_matrix)\n",
    "print(mt.metrics)\n"
   ]
  },
  {
   "cell_type": "code",
   "execution_count": null,
   "metadata": {},
   "outputs": [],
   "source": []
  }
 ],
 "metadata": {
  "kernelspec": {
   "display_name": ".venv",
   "language": "python",
   "name": "python3"
  },
  "language_info": {
   "codemirror_mode": {
    "name": "ipython",
    "version": 3
   },
   "file_extension": ".py",
   "mimetype": "text/x-python",
   "name": "python",
   "nbconvert_exporter": "python",
   "pygments_lexer": "ipython3",
   "version": "3.12.3"
  }
 },
 "nbformat": 4,
 "nbformat_minor": 2
}
