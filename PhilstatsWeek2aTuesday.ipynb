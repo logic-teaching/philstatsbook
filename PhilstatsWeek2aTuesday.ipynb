{
 "cells": [
  {
   "cell_type": "markdown",
   "id": "1c77c90a",
   "metadata": {
    "slideshow": {
     "slide_type": "slide"
    }
   },
   "source": [
    "# Philstats Week 2 Tuesday"
   ]
  },
  {
   "cell_type": "markdown",
   "id": "d83caed3",
   "metadata": {
    "slideshow": {
     "slide_type": "slide"
    }
   },
   "source": [
    "**Outline**\n",
    "\n",
    "[Recalling notation](#Recalling-notation)\n",
    "\n",
    "[Five definitions cdf, ccdf, pdf, expectation, variance](#Five-definitions-cdf,-ccdf,-pdf,-expectation,-variance)\n",
    "    \n",
    "[Bernoulli](#Bernoulli)\n",
    "    \n",
    "[Binomial](#Binomial)\n",
    "    \n",
    "[Poisson](#Poisson)\n",
    "\n",
    "[Uniform discrete](#Uniform-discrete)\n"
   ]
  },
  {
   "cell_type": "markdown",
   "id": "72094f3c",
   "metadata": {
    "slideshow": {
     "slide_type": "slide"
    }
   },
   "source": [
    "# Recalling notation"
   ]
  },
  {
   "cell_type": "markdown",
   "id": "bb44ece2",
   "metadata": {
    "slideshow": {
     "slide_type": "slide"
    }
   },
   "source": [
    "In what follows, we assume the following:\n",
    "\n",
    "- $\\Omega$ is the sample space, that is the set of worlds\n",
    "\n",
    "- $\\{A: A\\subseteq \\Omega\\}$ is the event space, that is the set of propositions\n",
    "\n",
    "- $X:\\Omega\\rightarrow \\mathbb{R}$ is a random variable, that is the means by which we generate propositions of interest to us\n",
    "\n",
    "- $P$ is a probability measure on the event space"
   ]
  },
  {
   "cell_type": "markdown",
   "id": "6af9ad80",
   "metadata": {
    "slideshow": {
     "slide_type": "slide"
    }
   },
   "source": [
    "For concreteness, one can take:\n",
    "\n",
    "- $\\Omega$ is the set of people under consideration e.g. in the study\n",
    "\n",
    "- $\\{A: A\\subseteq \\Omega\\}$ are the properties of the people under consideration e.g. old/young, tall/short\n",
    "\n",
    "- $X:\\Omega\\rightarrow \\mathbb{R}$ is a measurement we are taking of the people under consideration, e.g. age or height.\n",
    "\n",
    "- $P$ records the frequency of the properties among the people under consideration (if you are a frequentist); or our beliefs about how probable properties among the people under consideration are (if you are a Bayesian)"
   ]
  },
  {
   "cell_type": "markdown",
   "id": "af1680c5",
   "metadata": {
    "slideshow": {
     "slide_type": "slide"
    }
   },
   "source": [
    "For concreteness, one can take:\n",
    "\n",
    "- $\\Omega$ is the set of cities under consideration e.g. in the study\n",
    "\n",
    "- $\\{A: A\\subseteq \\Omega\\}$ are the properties of the cities under consideration e.g. big/small, rich/poor, etc. \n",
    "\n",
    "- $X:\\Omega\\rightarrow \\mathbb{R}$ is a measurement we are taking of the people under consideration, e.g. population size or median income\n",
    "\n",
    "- $P$ records the frequency of the properties among the cities under consideration (if you are a frequentist); or our beliefs about how probable properties among the cities under consideration are (if you are a Bayesian)"
   ]
  },
  {
   "cell_type": "markdown",
   "id": "52838102",
   "metadata": {
    "slideshow": {
     "slide_type": "slide"
    }
   },
   "source": [
    "# Five definitions cdf, ccdf, pdf, expectation, variance"
   ]
  },
  {
   "cell_type": "markdown",
   "id": "e4b8c930",
   "metadata": {
    "slideshow": {
     "slide_type": "slide"
    }
   },
   "source": [
    "In statistics, we rarely interact directly with a probability measure. \n",
    "\n",
    "Rather everything goes through random avariables."
   ]
  },
  {
   "cell_type": "markdown",
   "id": "cc8d3598",
   "metadata": {
    "slideshow": {
     "slide_type": "slide"
    }
   },
   "source": [
    "**Definition (cdfs)**\n",
    "\n",
    "The *cumulative density function (cdf)* of random variable $X$ relative to proability measure $P$ is the function $F_X:\\mathbb{R}\\rightarrow [0,1]$ given by\n",
    "\n",
    "$$F_X(x) = P(X\\leq x)$$\n",
    "\n",
    "Recall that $X\\leq x$ is an abbreviation for the event $\\{\\omega\\in \\Omega: X(\\omega)\\leq x\\}$\n",
    "\n",
    "When $X$ is clear from context, we just write $F$ instead of $F_X$.\n",
    "\n",
    "In words: $F(x)$ is the probability that the random variable $X$ takes value $\\leq x$\n",
    "\n",
    "In our people example, it might be the probability that a person has height $\\leq 6$ ft. \n",
    "\n",
    "In our city example, it might be the probabiliy that a city has population $\\leq$ 50,000\n",
    "\n",
    "What the units are on the real numbers (feet, number of people) will be made clear by context.\n",
    "\n",
    "--- "
   ]
  },
  {
   "cell_type": "markdown",
   "id": "ddc34221",
   "metadata": {
    "slideshow": {
     "slide_type": "slide"
    }
   },
   "source": [
    "**Main idea (cdfs)**\n",
    "    \n",
    "The cdf answers the question: how probable is it that the random variable has outcome less-than-or-equal to a given number?\n",
    "\n",
    "E.g. how probable is it that a person has height less-than-or-equal to a given number?\n",
    "\n",
    "E.g. how probable is it that a city has population less-than-or-equal to a given number?"
   ]
  },
  {
   "cell_type": "markdown",
   "id": "b9221756",
   "metadata": {
    "slideshow": {
     "slide_type": "slide"
    }
   },
   "source": [
    "**Definition (ccdfs)**\n",
    "\n",
    "The *complementary cumulative density function (cdf)* of random variable $X$ relative to proability measure $P$ is the function $\\overline{F}_X:\\mathbb{R}\\rightarrow [0,1]$ given by\n",
    "\n",
    "$$\\overline{F}_X(x) = P(X> x)$$\n",
    "\n",
    "Recall that $X> x$ is an abbreviation for the event $\\{\\omega\\in \\Omega: X(\\omega)> x\\}$\n",
    "\n",
    "When $X$ is clear from context, we just write $\\overline{F}$ instead of $\\overline{F}_X$."
   ]
  },
  {
   "cell_type": "markdown",
   "id": "a4a9a972",
   "metadata": {
    "slideshow": {
     "slide_type": "slide"
    }
   },
   "source": [
    "**Main idea (ccdfs)**\n",
    "    \n",
    "The ccdf answers the question: how probable is it that the random variable has outcome greater than a given number?\n",
    "\n",
    "E.g. how probable is it that a person has height greater than a given number?\n",
    "\n",
    "E.g. how probable is it that a city has population greater than a given number?"
   ]
  },
  {
   "cell_type": "markdown",
   "id": "2e2c9a70",
   "metadata": {
    "slideshow": {
     "slide_type": "slide"
    }
   },
   "source": [
    "**Proposition**\n",
    "\n",
    "When $F_X(x)$ is close to zero, $\\overline{F}_X(x)$ is close to one. \n",
    "\n",
    "When $F_X(x)$ is close to one, $\\overline{F}_X(x)$ is close to zero.\n",
    "\n",
    "More generally, both these numbers are in the inteval from 0 to 1, and\n",
    "\n",
    "$$F_X(x)+ \\overline{F}_X(x) =1$$\n",
    "\n",
    "*Proof*:\n",
    "\n",
    "Note that by rules of probability one has \n",
    "\n",
    "$$F_X(x)+ \\overline{F}_X(x) = P(X\\leq x)+P(X>x)=P(\\Omega)=1$$"
   ]
  },
  {
   "cell_type": "markdown",
   "id": "35553cea",
   "metadata": {
    "slideshow": {
     "slide_type": "slide"
    }
   },
   "source": [
    "**Motivating discrete pdfs**\n",
    "\n",
    "Some random variables take only natural number values, e.g. population sizes (you can't have city with 531.5 people)\n",
    "\n",
    "Suppose that $X$ was one of those cases, and consider $x=2$.\n",
    "\n",
    "Then one has $$\\{\\omega\\in \\Omega: X(\\omega)\\leq 2\\} =\\{\\omega\\in \\Omega: X(\\omega)=0\\}\\cup \\{\\omega\\in \\Omega: X(\\omega)=1\\}\\cup \\{\\omega\\in \\Omega: X(\\omega)= 2\\}$$\n",
    "\n",
    "Further, these three events are pairwise disjoint. Hence one has\n",
    "\n",
    "$$F_X(2) = P(X\\leq 2) = P(X=0)+P(X=1)+P(X=2)$$\n",
    "\n",
    "More generally, one has the following\n",
    "\n",
    "$$F_X(x) = \\sum_{k\\leq x} P(X=k)$$\n",
    "\n",
    "The only thing special about natural number values here is that once $x$ is fixed, there are only finitely many options $\\leq x$.\n"
   ]
  },
  {
   "cell_type": "markdown",
   "id": "64ffa926",
   "metadata": {
    "slideshow": {
     "slide_type": "slide"
    }
   },
   "source": [
    "**Definition (discrete pdfs)**\n",
    "\n",
    "If $X$ takes finite or countably infinite many values, then the *probability density function (pdf)* of $X$ is\n",
    "\n",
    "$$ f_X(x) = P(X=x)$$\n",
    "\n",
    "Recall that $X= x$ is an abbreviation for the event $\\{\\omega\\in \\Omega: X(\\omega)= x\\}$\n",
    "\n",
    "When $X$ is clear from context, we just write $f$ instead of $f_X$\n",
    "\n",
    "It has the feature that when $X$ takes finitely many values or natural nubmer values one has that:\n",
    "\n",
    "$$F_X(x) = \\sum_{k\\leq x} f_X(k)$$\n",
    "\n",
    "In the discrete case, the pdf is also called the *pmf* (for *probability mass function*)"
   ]
  },
  {
   "cell_type": "markdown",
   "id": "17d7f3a4",
   "metadata": {
    "slideshow": {
     "slide_type": "slide"
    }
   },
   "source": [
    "**Main idea (pdf)**\n",
    "    \n",
    "The pdf answers the question: how probable is it that the random variable has outcome exactly equal to a given number?\n",
    "\n",
    "E.g. how probable is it that a person has height exactly equal to a given number?\n",
    "\n",
    "E.g. how probable is it that a city has population exactly equal to a given number?"
   ]
  },
  {
   "cell_type": "markdown",
   "id": "4a148cf6",
   "metadata": {
    "slideshow": {
     "slide_type": "slide"
    }
   },
   "source": [
    "**Definition (expectation)**\n",
    "\n",
    "If $X$ takes finite or countably infinite many values, then we define its *expectation* to be \n",
    "\n",
    "$$\\mathbb{E} X = \\sum_x x\\cdot f_X(x) = \\sum_x x\\cdot P(X=x)$$\n",
    "\n",
    "The summation is over whatever the values are that the random variable takes.\n",
    "\n",
    "The expectation is also designated as $\\mu$, the Greek letter 'm', which is a mnemonic for 'mean' or 'average.'\n",
    "\n",
    "---"
   ]
  },
  {
   "cell_type": "markdown",
   "id": "e7c67433",
   "metadata": {
    "slideshow": {
     "slide_type": "slide"
    }
   },
   "source": [
    "**Example**\n",
    "\n",
    "\n",
    "To repeat, the quantity is:\n",
    "\n",
    "$$\\mathbb{E} X = \\sum_x x\\cdot f_X(x) = \\sum_x x\\cdot P(X=x)$$\n",
    "\n",
    "Suppose that $\\Omega =\\{\\omega_1,\\omega_2,\\omega_3\\}$ and $\\omega_1$ is 5 feet tall and $\\omega_2$ is $6$ feet tall and $\\omega_3$ is $6$ feet tall, and each person is equally likely, and $X(\\omega)=$ height of person $\\omega$.\n",
    "\n",
    "Then $P(X=5)=\\frac{1}{3}$ and $P(X=6)=\\frac{2}{3}$\n",
    "\n",
    "and\n",
    "\n",
    "$$\\mathbb{E} X =\\sum_x x\\cdot P(X=x) = 5\\cdot \\frac{1}{3}+6\\cdot \\frac{2}{3} = 5.67$$\n",
    "\n",
    "One recognizes this as the average:\n",
    "\n",
    "$$\\frac{5+6+6}{3} = 5.67$$\n",
    "\n",
    "Hence *expectation is a generalization of the average*."
   ]
  },
  {
   "cell_type": "markdown",
   "id": "3c1c2c72",
   "metadata": {
    "slideshow": {
     "slide_type": "slide"
    }
   },
   "source": [
    "**Example**\n",
    "\n",
    "To repeat, the quantity is:\n",
    "\n",
    "$$\\mathbb{E} X = \\sum_x x\\cdot f_X(x) = \\sum_x x\\cdot P(X=x)$$\n",
    "\n",
    "Philosophers will recognize this quantity in the case where $P$ reflects beliefs and $X(\\omega)$ is the utility of outcome $\\omega$,  i.e. think of the different worlds as the different outcomes of some anticipated action. \n",
    "\n",
    "In this case, the expectation is the *expected utility*: the utility associated with each outcome times one's belief about how probable the outcome is, all added up together."
   ]
  },
  {
   "cell_type": "markdown",
   "id": "5399ceb9",
   "metadata": {
    "slideshow": {
     "slide_type": "slide"
    }
   },
   "source": [
    "**Main idea (expectation)**\n",
    "    \n",
    "It is a generalization of averages. \n",
    "\n",
    "It is one answer to the question: what should you think that the value of the random variable is going to be?"
   ]
  },
  {
   "cell_type": "markdown",
   "id": "2ede4a85",
   "metadata": {
    "slideshow": {
     "slide_type": "slide"
    }
   },
   "source": [
    "**Definition (variance)**\n",
    "\n",
    "We define the variance of $X$ to be \n",
    "\n",
    "$$\\mathrm{Var}(X) = \\mathbb{E}[(X-\\mu)^2]$$\n",
    "\n",
    "A little algebra indicates that it can also be written as \n",
    "\n",
    "$$\\mathrm{Var}(X) = \\mathbb{E}(X^2) - (\\mathbb{E} X)^2$$\n",
    "\n",
    "Intutively, variance is saying how much one expects the value to differ from its average. We will explore more with this quantity next time, and discuss more of its rules next time. \n",
    "\n",
    "The variance is also abbreviated as $\\sigma^2$\n",
    "\n",
    "We will talk more about the main idea next time."
   ]
  },
  {
   "cell_type": "markdown",
   "id": "5ae93623",
   "metadata": {
    "slideshow": {
     "slide_type": "slide"
    }
   },
   "source": [
    "# Bernoulli"
   ]
  },
  {
   "cell_type": "markdown",
   "id": "1f7958f6",
   "metadata": {
    "slideshow": {
     "slide_type": "slide"
    }
   },
   "source": [
    "**Definition (Bernoulli distribution)** \n",
    "\n",
    "We want a high-level compact description of when a random variable is recording the outcome of a binary decision or experiment, with 1 being success and 0 being failure.\n",
    "\n",
    "We say random variable $X$ has the *Bernoulli distribution* with probability $p$, abbreviated $X\\sim \\mathrm{Bern}(p)$, if $0\\leq p\\leq 1$ and $X$ has two outcomes $0$ and $1$ with probabilities and \n",
    "\n",
    "$$P(X=1)=p, \\hspace{10mm} P(X=0)=1-p$$\n",
    "\n",
    "This is the coin flip sitatuion with a biased coin of probability $p$.\n",
    "\n",
    "One has \n",
    "\n",
    "- expectation: $\\mathbb{E}X = \\mu = p$\n",
    "\n",
    "- variation: $\\mathrm{Var}(X) = \\sigma^2 = p(1-p)$\n",
    "\n",
    "- pdf: $f_X(0) =1-p$, $f_X(1)=p$, in a single formula $f_X(x)=p^x \\cdot (1-p)^{1-x}$\n",
    "\n",
    "- cdf: $F_X(0)=1-p$, $F_X(1) = 1$\n",
    "\n",
    "- ccdf: $\\overline{F}_X(0)=p$, $\\overline{F}_X(1) = 0$.\n",
    "\n"
   ]
  },
  {
   "cell_type": "markdown",
   "id": "c1a0ca30",
   "metadata": {
    "slideshow": {
     "slide_type": "slide"
    }
   },
   "source": [
    "# Binomial"
   ]
  },
  {
   "cell_type": "markdown",
   "id": "5d393070",
   "metadata": {
    "slideshow": {
     "slide_type": "slide"
    }
   },
   "source": [
    "**Definition (Binomial distribution)**\n",
    "\n",
    "We want a high-level compact description of when a random variable is recording the number of successes in $n$-many independent Bernoulli trials with probability $p$ (we will talk about independence next time).\n",
    "\n",
    "In this case, we say that $X$ has the *Binomial $(n,p)$ distribution*, abbreviated $X\\sim \\mathrm{Binom}(n,p)$.\n",
    "\n",
    "One has \n",
    "\n",
    "- expectation: $\\mathbb{E}X = n p$\n",
    "\n",
    "- variance: $\\mathrm{Var}(X) = n p (1-p)$\n",
    "\n",
    "- pdf: $f_X(x)= {n \\choose x} \\cdot p^x \\cdot (1-p)^{n-x}$\n",
    "\n",
    "- cdf: no easy formula\n",
    "\n",
    "- ccdf: no easy formula\n",
    "\n",
    "The pdf, cdf, and ccdf are best visualized in next slides. But first we do an example."
   ]
  },
  {
   "cell_type": "markdown",
   "id": "a35a0ae3",
   "metadata": {
    "slideshow": {
     "slide_type": "slide"
    }
   },
   "source": [
    "**Example**\n",
    "\n",
    "Again, we say that random variable $X$ has the *Binomial $(n,p)$ distribution*, abbreviated $X\\sim \\mathrm{Binom}(n,p)$, when it records the the number of successes in $n$-many independent Bernoulli trials with probability $p$.\n",
    "\n",
    "An example is: you have some procedure which has a certain probability $p$ of success each time, and you want to know what the probability is that you will have, say, more than $k$ many successs when you do the procedure $n$ many times. The answer is given by the ccdf $\\overline{F}_X(k)=P(X>k)$. "
   ]
  },
  {
   "cell_type": "code",
   "execution_count": 18,
   "id": "86df6470",
   "metadata": {
    "slideshow": {
     "slide_type": "slide"
    }
   },
   "outputs": [],
   "source": [
    "## python commands for basic math and stats packages\n",
    "\n",
    "import numpy as np\n",
    "import matplotlib.pyplot as plt\n",
    "\n",
    "from scipy.stats import randint\n",
    "from scipy.stats import binom\n",
    "from scipy.stats import poisson\n",
    "\n",
    "from ipywidgets import interact, interactive, fixed, interact_manual\n",
    "import ipywidgets as widgets"
   ]
  },
  {
   "cell_type": "code",
   "execution_count": 19,
   "id": "3d07f480",
   "metadata": {
    "slideshow": {
     "slide_type": "slide"
    }
   },
   "outputs": [],
   "source": [
    "def Binomvisual(n,p):\n",
    "    x = np.arange(0, 100) # values for x-axis\n",
    "    y1 = binom.pmf(x, n, p) # pdf \n",
    "    y2 = binom.cdf(x, n, p) # cdf\n",
    "    y3 = 1-y2               # ccdf \n",
    "\n",
    "    fig, axs = plt.subplots(1, 3, figsize=(10, 5))  # 1 row, 3 columns\n",
    "    \n",
    "     # Plot the PDF on the first subplot\n",
    "    axs[0].plot(x, y1)\n",
    "    axs[0].set_ylim(0, .2)\n",
    "    axs[0].set_title('pdf')\n",
    "\n",
    "    # Plot the CDF on the second subplot\n",
    "    axs[1].plot(x, y2)\n",
    "    axs[1].set_ylim(0, 1.1)\n",
    "    axs[1].set_title('cdf')\n",
    "\n",
    "    # Plot the CCDF on the third subplot\n",
    "    axs[2].plot(x, y3)\n",
    "    axs[2].set_ylim(0, 1.1)\n",
    "    axs[2].set_title('ccdf')\n",
    "    \n",
    "    plt.show()"
   ]
  },
  {
   "cell_type": "code",
   "execution_count": 20,
   "id": "50f8429a",
   "metadata": {
    "slideshow": {
     "slide_type": "slide"
    }
   },
   "outputs": [
    {
     "data": {
      "application/vnd.jupyter.widget-view+json": {
       "model_id": "2b609b63f8fe4362b91bc178627f924a",
       "version_major": 2,
       "version_minor": 0
      },
      "text/plain": [
       "interactive(children=(IntSlider(value=50, description='n'), FloatSlider(value=0.5, description='p', max=1.0, m…"
      ]
     },
     "metadata": {},
     "output_type": "display_data"
    },
    {
     "data": {
      "text/plain": [
       "<function __main__.Binomvisual(n, p)>"
      ]
     },
     "execution_count": 20,
     "metadata": {},
     "output_type": "execute_result"
    }
   ],
   "source": [
    "# visualizing the binomial distribution \n",
    "\n",
    "interact(Binomvisual, n=(0, 100, 1), p=(0.01, 1, 0.01))"
   ]
  },
  {
   "cell_type": "code",
   "execution_count": 2,
   "id": "0fddeb90",
   "metadata": {
    "slideshow": {
     "slide_type": "slide"
    }
   },
   "outputs": [
    {
     "name": "stdout",
     "output_type": "stream",
     "text": [
      "50.0\n"
     ]
    }
   ],
   "source": [
    "# Python functions for Binom(n,p)\n",
    "\n",
    "import numpy as np\n",
    "from scipy.stats import binom\n",
    "\n",
    "n = 100   # set value of n, number of trials\n",
    "\n",
    "p = .5 # set value of p, probability of trials\n",
    "\n",
    "k = 50 # set value of number of successes\n",
    "\n",
    "pdf = binom.pmf(k, n, p)  # P(X=k)\n",
    "\n",
    "cdf = binom.cdf(k, n, p) # P(X≤k)\n",
    "\n",
    "ccdf = 1-binom.cdf(k, n, p) # P(X>k)\n",
    "\n",
    "print(pdf, cdf, ccdf)"
   ]
  },
  {
   "cell_type": "markdown",
   "id": "d7c12fb3",
   "metadata": {
    "slideshow": {
     "slide_type": "slide"
    }
   },
   "source": [
    "# Poisson"
   ]
  },
  {
   "cell_type": "markdown",
   "id": "98a366f8",
   "metadata": {
    "slideshow": {
     "slide_type": "slide"
    }
   },
   "source": [
    "**Motivation (Poisson distribution)**\n",
    "\n",
    "You run a store. \n",
    "\n",
    "Experience suggests that in $n = 3600$ seconds (aka one hour) you get four customers. Since $p=\\frac{4}{3600}\\approx .0011$, you could conceive of this with sample space $\\Omega =\\{1, 2, \\ldots, 3600\\}$ with random variable $X(\\omega)$= number of cumstomers you got up to second $\\omega$ as $X\\sim \\mathrm{Binom}(3600, .0011)$. \n",
    "\n",
    "Experience equally suggests that in $n = 60$ minutes (aka one hour) you get four customers. Since $p=\\frac{4}{60}\\approx .067$, you could conceive of this with sample space $\\Omega =\\{1, 2, \\ldots, 60\\}$ with random variable $X(\\omega)$= number of cumstomers you got up to minute $\\omega$ as $X\\sim \\mathrm{Binom}(60, .067)$. \n",
    "\n",
    "And when you look at $\\mathrm{Binom}(3600, .0011)$ and $\\mathrm{Binom}(60, .067)$, they don't seem that different.\n",
    "\n",
    "It would be nice *not* to have to include the first number and just make it a function of the rate."
   ]
  },
  {
   "cell_type": "code",
   "execution_count": 29,
   "id": "59f4a01c",
   "metadata": {
    "scrolled": true,
    "slideshow": {
     "slide_type": "slide"
    }
   },
   "outputs": [
    {
     "data": {
      "image/png": "[encoded data removed]",
      "text/plain": [
       "<Figure size 1000x500 with 2 Axes>"
      ]
     },
     "metadata": {},
     "output_type": "display_data"
    }
   ],
   "source": [
    "x = np.arange(0, 100) # values for x-axis\n",
    "y1 = binom.pmf(x, 3600, 4/3600) # pdf 1 \n",
    "y2 = binom.pmf(x, 60, 4/60) # pdf 2\n",
    "\n",
    "fig, axs = plt.subplots(1, 2, figsize=(10, 5))  # 1 row, 2 columns\n",
    "    \n",
    " # Plot the PDF on the first subplot\n",
    "axs[0].plot(x, y1)\n",
    "axs[0].set_ylim(0, .25)\n",
    "axs[0].set_title('pdf of Binom(3600, .011)')\n",
    "\n",
    "# Plot the CDF on the second subplot\n",
    "axs[1].plot(x, y2)\n",
    "axs[1].set_ylim(0, .25)\n",
    "axs[1].set_title('pdf of Binom(60, .067)')\n",
    "\n",
    "plt.show()"
   ]
  },
  {
   "cell_type": "markdown",
   "id": "40b5953d",
   "metadata": {
    "slideshow": {
     "slide_type": "slide"
    }
   },
   "source": [
    "**Definition (Poisson distribution)**\n",
    "\n",
    "We want a high-level compact description of when a random variable records the successes in a large number $n $ of Bernoulli trials with small propability $p$ of occuring, where all that matters is the rate $\\lambda = np$.\n",
    "\n",
    "In this case, we say that $X$ has the *Poisson $\\lambda$ distribution*, abbreviated $X\\sim \\mathrm{Pois}(\\lambda)$.\n",
    "\n",
    "One has \n",
    "\n",
    "- expectation: $\\mathbb{E}X = \\lambda$\n",
    "\n",
    "- variance: $\\mathrm{Var}(X) = \\lambda$\n",
    "\n",
    "- pdf: $f_X(x)= \\frac{\\lambda^x \\cdot e^{-\\lambda}}{x!}$\n",
    "\n",
    "- cdf: no easy formula\n",
    "\n",
    "- ccdf: no easy formula\n",
    "\n",
    "The pdf, cdf, and ccdf are best visualized in next slides. "
   ]
  },
  {
   "cell_type": "code",
   "execution_count": 30,
   "id": "c56e8dbb",
   "metadata": {
    "slideshow": {
     "slide_type": "slide"
    }
   },
   "outputs": [],
   "source": [
    "def Poisvisual(λ):\n",
    "    x = np.arange(0, 20) # values for x-axis\n",
    "    y1 = poisson.pmf(x, λ) # pdf \n",
    "    y2 = poisson.cdf(x, λ) # cdf\n",
    "    y3 = 1-y2               # ccdf \n",
    "\n",
    "    fig, axs = plt.subplots(1, 3, figsize=(10, 5))  # 1 row, 3 columns\n",
    "    \n",
    "     # Plot the PDF on the first subplot\n",
    "    axs[0].plot(x, y1)\n",
    "    axs[0].set_ylim(0, .3)\n",
    "    axs[0].set_title('pdf')\n",
    "\n",
    "    # Plot the CDF on the second subplot\n",
    "    axs[1].plot(x, y2)\n",
    "    axs[1].set_ylim(0, 1.1)\n",
    "    axs[1].set_title('cdf')\n",
    "\n",
    "    # Plot the CCDF on the third subplot\n",
    "    axs[2].plot(x, y3)\n",
    "    axs[2].set_ylim(0, 1.1)\n",
    "    axs[2].set_title('ccdf')\n",
    "    \n",
    "    plt.show()"
   ]
  },
  {
   "cell_type": "code",
   "execution_count": 31,
   "id": "a8d841c5",
   "metadata": {},
   "outputs": [
    {
     "data": {
      "application/vnd.jupyter.widget-view+json": {
       "model_id": "3c55157daaca46f493ae543d6c08c2a4",
       "version_major": 2,
       "version_minor": 0
      },
      "text/plain": [
       "interactive(children=(FloatSlider(value=5.0, description='λ', max=10.0), Output()), _dom_classes=('widget-inte…"
      ]
     },
     "metadata": {},
     "output_type": "display_data"
    },
    {
     "data": {
      "text/plain": [
       "<function __main__.Poisvisual(λ)>"
      ]
     },
     "execution_count": 31,
     "metadata": {},
     "output_type": "execute_result"
    }
   ],
   "source": [
    "interact(Poisvisual, λ=(0, 10, .1))"
   ]
  },
  {
   "cell_type": "code",
   "execution_count": 32,
   "id": "6b685bc4",
   "metadata": {},
   "outputs": [
    {
     "name": "stdout",
     "output_type": "stream",
     "text": [
      "0.018132788707821854 0.9863047314016171 0.013695268598382881\n"
     ]
    }
   ],
   "source": [
    "# Python functions for Pois(λ)\n",
    "\n",
    "import numpy as np\n",
    "from scipy.stats import poisson\n",
    "\n",
    "λ = 5 # set rate\n",
    "\n",
    "k = 10 # set value of number of successes\n",
    "\n",
    "pdf = poisson.pmf(k, λ)  # P(X=k)\n",
    "\n",
    "cdf = poisson.cdf(k, λ) # P(X≤k)\n",
    "\n",
    "ccdf = 1-poisson.cdf(k, λ) # P(X>k)\n",
    "\n",
    "print(pdf, cdf, ccdf)"
   ]
  },
  {
   "cell_type": "markdown",
   "id": "02236059",
   "metadata": {},
   "source": [
    "# Uniform discrete"
   ]
  },
  {
   "cell_type": "markdown",
   "id": "c2ac8703",
   "metadata": {
    "slideshow": {
     "slide_type": "slide"
    }
   },
   "source": [
    "**Definition (uniform discrete)**\n",
    "\n",
    "We want a high-level compact description of when a random variable is recording outcomes in a finite set of real numbers, each one of which is equally probable. \n",
    "\n",
    "We may assume that the finite set has $n$ elements and has the form $[a,b] = \\{a, a+1, \\ldots, b\\}$, where $b=a+n-1$.\n",
    "\n",
    "We say random variable $X$ has the *Uniform distribution* in the set $[a,b]$, abbreviated $X\\sim \\mathrm{U}\\{a,b\\}$ if for each $k$ in the set one has \n",
    "\n",
    "$$P(X=k) = \\frac{1}{n}$$\n",
    "\n",
    "One has \n",
    "\n",
    "- expectation: $\\mathbb{E}X = \\frac{a+b}{n}$\n",
    "\n",
    "- variance: $\\mathrm{Var}(X) = \\frac{n^2-1}{12}$\n",
    "\n",
    "- pdf: $f_X(k)= \\frac{1}{n}$\n",
    "\n",
    "- cdf: $F_X(k) = \\frac{k-a+1}{n}$\n",
    "\n",
    "- ccdf: $\\overline{F}_X(k)=\\frac{b-k}{n}$."
   ]
  },
  {
   "cell_type": "code",
   "execution_count": 33,
   "id": "6aa12c4c",
   "metadata": {},
   "outputs": [],
   "source": [
    "# U{a,a+n-1}\n",
    "\n",
    "def Uniformvisual(a,n):\n",
    "    x = np.arange(a,a+n) # values for x-axis\n",
    "    y1 = randint.pmf(x, a, a+n) # pdf, \n",
    "                       # it is a+n since python programs {a, a+1, . . . , b} in terms of a and b+1\n",
    "    y2 = randint.cdf(x, a, a+n) # cdf\n",
    "    y3 = 1-y2               # ccdf \n",
    "\n",
    "    fig, axs = plt.subplots(1, 3, figsize=(10, 5))  # 1 row, 3 columns\n",
    "    \n",
    "     # Plot the PDF on the first subplot\n",
    "    axs[0].bar(x, y1)\n",
    "    axs[0].set_title('pdf')\n",
    "\n",
    "    # Plot the CDF on the second subplot\n",
    "    axs[1].step(x, y2)\n",
    "    axs[1].set_title('cdf')\n",
    "\n",
    "    # Plot the CCDF on the second subplot\n",
    "    axs[2].step(x, y3)\n",
    "    axs[2].set_title('ccdf')\n",
    "    \n",
    "    plt.show()"
   ]
  },
  {
   "cell_type": "code",
   "execution_count": 34,
   "id": "96c08084",
   "metadata": {},
   "outputs": [
    {
     "data": {
      "application/vnd.jupyter.widget-view+json": {
       "model_id": "53f6a7eaf848424cb2ca6a7be84582c4",
       "version_major": 2,
       "version_minor": 0
      },
      "text/plain": [
       "interactive(children=(FloatSlider(value=5.0, description='a', max=10.0), IntSlider(value=5, description='n', m…"
      ]
     },
     "metadata": {},
     "output_type": "display_data"
    },
    {
     "data": {
      "text/plain": [
       "<function __main__.Uniformvisual(a, n)>"
      ]
     },
     "execution_count": 34,
     "metadata": {},
     "output_type": "execute_result"
    }
   ],
   "source": [
    "interact(Uniformvisual, a=(0, 10, .1), n = (0, 10, 1))"
   ]
  },
  {
   "cell_type": "code",
   "execution_count": 35,
   "id": "5f0c1291",
   "metadata": {},
   "outputs": [
    {
     "name": "stdout",
     "output_type": "stream",
     "text": [
      "0.1 0.2 0.8\n"
     ]
    }
   ],
   "source": [
    "# Python functions for U{a,a+n-1}\n",
    "\n",
    "import numpy as np\n",
    "from scipy.stats import randint\n",
    "\n",
    "a = 5 # set value of a \n",
    "\n",
    "n = 10 # set value of n\n",
    "\n",
    "k = 6 # set value of outcome you are interested in\n",
    "\n",
    "pdf = randint.pmf(k, a, a+n)  # P(X=k)\n",
    "\n",
    "cdf = randint.cdf(k, a, a+n) # P(X≤k)\n",
    "\n",
    "ccdf = 1-randint.cdf(k, a, a+n) # P(X>k)\n",
    "\n",
    "print(pdf, cdf, ccdf)"
   ]
  },
  {
   "cell_type": "code",
   "execution_count": null,
   "id": "7bf0fc42",
   "metadata": {},
   "outputs": [],
   "source": []
  }
 ],
 "metadata": {
  "celltoolbar": "Slideshow",
  "kernelspec": {
   "display_name": "Python 3 (ipykernel)",
   "language": "python",
   "name": "python3"
  },
  "language_info": {
   "codemirror_mode": {
    "name": "ipython",
    "version": 3
   },
   "file_extension": ".py",
   "mimetype": "text/x-python",
   "name": "python",
   "nbconvert_exporter": "python",
   "pygments_lexer": "ipython3",
   "version": "3.11.5"
  }
 },
 "nbformat": 4,
 "nbformat_minor": 5
}
