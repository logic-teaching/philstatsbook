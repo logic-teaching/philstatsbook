{
 "cells": [
  {
   "cell_type": "markdown",
   "id": "d5b5b9e2",
   "metadata": {
    "slideshow": {
     "slide_type": "slide"
    }
   },
   "source": [
    "# Philstats Week 2 Thursday"
   ]
  },
  {
   "cell_type": "markdown",
   "id": "71cf6229",
   "metadata": {
    "slideshow": {
     "slide_type": "slide"
    }
   },
   "source": [
    "**Outline**\n",
    "\n",
    "[Rules for expectation](#Rules-for-expectation)\n",
    "\n",
    "[Independence](#Independence)\n",
    "\n",
    "[Rules for variance](#Rules-for-variance)\n",
    "\n",
    "[Normal distribution](#Normal-distribution)\n",
    "\n",
    "[Pareto distribution](#Pareto-distribution)"
   ]
  },
  {
   "cell_type": "markdown",
   "id": "61cc27ce",
   "metadata": {
    "slideshow": {
     "slide_type": "slide"
    }
   },
   "source": [
    "# Rules for expectation"
   ]
  },
  {
   "cell_type": "markdown",
   "id": "82179106",
   "metadata": {
    "slideshow": {
     "slide_type": "slide"
    }
   },
   "source": [
    "Recall the following definition from last time, where today we restrict to the finite case:\n",
    "\n",
    "**Definition (expectation)**\n",
    "\n",
    "If $X$ takes finitely many values, then we define its *expectation* to be \n",
    "\n",
    "$$\\mathbb{E} X = \\sum_x x\\cdot f_X(x) = \\sum_x x\\cdot P(X=x)$$\n",
    "\n",
    "The summation is over whatever the values are that the random variable takes.\n",
    "\n",
    "The expectation is also designated as $\\mu$, the Greek letter 'm', which is a mnemonic for 'mean' or 'average.'\n",
    "\n",
    "---\n"
   ]
  },
  {
   "cell_type": "markdown",
   "id": "1e7feea4",
   "metadata": {
    "slideshow": {
     "slide_type": "slide"
    }
   },
   "source": [
    "**The vivification**\n",
    "\n",
    "We need some simple example which can make these notions and rules vivid to us. \n",
    "\n",
    "Suppose that the worlds in $\\Omega$ represent your possible futures.\n",
    "\n",
    "Suppose that $X,Y$ are two random variables such that:\n",
    "\n",
    "- if you choose to act in an $X$-like way now, then $X(\\omega)$ represents your earnings in $\\omega$.\n",
    "\n",
    "- if you choose to act in a $Y$-like way now, then $Y(\\omega)$ represents your earnings in $\\omega$.\n",
    "\n",
    "You decide on a policy of choosing the random variable which has the larger expectation.\n",
    "\n",
    "Hence you will be in the market for some simple rules to calculate expectations, since you want to actually get to the numbers to be able to compare them.\n",
    "\n",
    "---"
   ]
  },
  {
   "cell_type": "markdown",
   "id": "93ff2eee",
   "metadata": {
    "slideshow": {
     "slide_type": "slide"
    }
   },
   "source": [
    "This was mentioned last time but we prove it now.\n",
    "\n",
    "**Example (expectation of Bernoulli)**\n",
    "\n",
    "Let $X\\sim \\mathrm{Bern}(p)$. Then $\\mathbb{E}X = p$.\n",
    "\n",
    "Proof: by definition (from last time), a random variable $X$ of this kind only two values:\n",
    "        \n",
    "- value 1, with probability $p$.\n",
    "- value 0, with probability $1-p$.\n",
    "\n",
    "Hence we have \n",
    "\n",
    "$$\\mathbb{E} X =\\sum_x x\\cdot P(X=x) =  1\\cdot P(X=1) +0\\cdot P(X=0)=  1\\cdot p + 0 \\cdot (1-p) = p$$"
   ]
  },
  {
   "cell_type": "markdown",
   "id": "f2527f99",
   "metadata": {
    "slideshow": {
     "slide_type": "slide"
    }
   },
   "source": [
    "**Returning to the vivification**\n",
    "\n",
    "Suppose you are choosing between \n",
    "\n",
    "$X\\sim \\mathrm{Bern}(.7)$ and $Y\\sim \\mathrm{Bern}(.9)$.\n",
    "\n",
    "By previous, one has $\\mathbb{E}X = .7$ and $\\mathbb{E}Y = .9$.\n",
    "\n",
    "Hence, you would choose $Y$.\n",
    "\n",
    "(This example is less than great since the numbers are tiny; we will revisit it in a few minutes)"
   ]
  },
  {
   "cell_type": "markdown",
   "id": "0de9d45b",
   "metadata": {
    "slideshow": {
     "slide_type": "slide"
    }
   },
   "source": [
    "The following alternate expressions is occasionally useful for developing the theory (although less than usual in practice):\n",
    "\n",
    "**Proposition (alternate characterization of expectation)**\n",
    "\n",
    "Suppose that $\\Omega =\\{\\omega_1, \\ldots, \\omega_n\\}$, where we enumerate these without repetition. Then\n",
    "\n",
    "$\\mathbb{E}X = \\sum_{i=1}^n X(\\omega_i) \\cdot P(\\{\\omega_i\\})$.\n",
    "\n",
    "In this expression $\\{\\omega_i\\}$ refers to the event of \"being equal to $\\omega_i$.\" That is, it is a singleton set or event. "
   ]
  },
  {
   "cell_type": "markdown",
   "id": "1f0e6eac",
   "metadata": {
    "slideshow": {
     "slide_type": "slide"
    }
   },
   "source": [
    "*Illustration* (if you get this, you'll see the proof)\n",
    "\n",
    "Suppose that $\\Omega = \\{\\omega_1, \\omega_2, \\omega_3\\}$ and $X(\\omega_1)=5$ and $X(\\omega_2)=6$ and $X(\\omega_3)=5$. \n",
    "\n",
    "Then $P(X=5) = P(\\{\\omega_1, \\omega_3\\})$ \n",
    "\n",
    "And $P(X=6) = P(\\{\\omega_2\\})$.\n",
    "\n",
    "Hence one has \n",
    "\n",
    "$\\mathbb{E}X = 5\\cdot P(X=5)+6\\cdot P(X=6)$\n",
    "\n",
    "$\\hspace{5mm} = 5\\cdot P(\\{\\omega_2\\})+6\\cdot P(\\{\\omega_1, \\omega_3\\})$\n",
    "\n",
    "$\\hspace{5mm} = 5\\cdot P(\\{\\omega_2\\})+6\\big (P(\\{\\omega_1\\})+ P(\\{\\omega_3\\})\\big)$\n",
    "\n",
    "$\\hspace{5mm} = 5\\cdot P(\\{\\omega_2\\})+6\\cdot P(\\{\\omega_1\\})+  6\\cdot P(\\{\\omega_3\\})$\n",
    "\n",
    "$\\hspace{5mm} = 6\\cdot P(\\{\\omega_1\\})+5\\cdot P(\\{\\omega_2\\})+  6\\cdot P(\\{\\omega_3\\})$\n",
    "\n",
    "$\\hspace{5mm} = \\sum_{i=1}^3 X(\\omega_i) \\cdot P(\\{\\omega_i\\})$"
   ]
  },
  {
   "cell_type": "markdown",
   "id": "ff969ff5",
   "metadata": {
    "slideshow": {
     "slide_type": "slide"
    }
   },
   "source": [
    "Most everything abstract that one wants to do with expectations follow from the following rules:\n",
    "\n",
    "**Proposition (rules for expectation)**\n",
    "\n",
    "Suppose that $X,Y$ are random variables and $c$ is a real number. Then:\n",
    "\n",
    "1. $\\mathbb{E}[X+Y] = \\mathbb{E}X+\\mathbb{E}Y$\n",
    "\n",
    "2. $\\mathbb{E}[c\\cdot X] = c\\cdot \\mathbb{E}X$\n",
    "\n",
    "3. $\\mathbb{E} c = c$ (in writing $\\mathbb{E} c$ are thinking of $c$ as the constant function which always outputs $c$).\n",
    "\n",
    "4. if $X\\geq 0$ everywhere, then $\\mathbb{E}X\\geq 0$.\n",
    "\n",
    "5. If $X\\geq Y$ everywhere, then $\\mathbb{E}X\\geq \\mathbb{E}Y$."
   ]
  },
  {
   "cell_type": "markdown",
   "id": "62cbad2a",
   "metadata": {
    "slideshow": {
     "slide_type": "slide"
    }
   },
   "source": [
    "**Returning to the vivification**\n",
    "\n",
    "Suppose you are choosing between $X=100\\cdot X'$ and $Y=100\\cdot Y'$ \n",
    "\n",
    "where $X'\\sim \\mathrm{Bern}(.7)$ and $Y'\\sim \\mathrm{Bern}(.9)$.\n",
    "\n",
    "By previous, one has $\\mathbb{E}X = 100\\cdot .7=70$ and $\\mathbb{E}Y = 100\\cdot .9=90$.\n",
    "\n",
    "Hence, you would choose $Y$."
   ]
  },
  {
   "cell_type": "markdown",
   "id": "dd323ec0",
   "metadata": {
    "slideshow": {
     "slide_type": "slide"
    }
   },
   "source": [
    "Prove 1: $\\mathbb{E}[X+Y] = \\mathbb{E}X+\\mathbb{E}Y$\n",
    "\n",
    "*Proof*: Let $Z=X+Y$ and use the alternate characterization\n",
    "\n",
    "$\\mathbb{E}[X+Y]=\\mathbb{E}[Z] =\\sum_{i=1}^n Z(\\omega_i) \\cdot P(\\{\\omega_i\\})$\n",
    "\n",
    "$\\hspace{10mm} = \\sum_{i=1}^n (X(\\omega_i)+Y(\\omega_i)) \\cdot P(\\{\\omega_i\\})$\n",
    "\n",
    "$\\hspace{10mm} = \\sum_{i=1}^n X(\\omega_i) \\cdot P(\\{\\omega_i\\}) + \\sum_{i=1}^n Y(\\omega_i) \\cdot P(\\{\\omega_i\\})$\n",
    "\n",
    "$\\hspace{10mm} = \\mathbb{E}[X]+\\mathbb{E}[Y]$"
   ]
  },
  {
   "cell_type": "markdown",
   "id": "e5dc18a9",
   "metadata": {
    "slideshow": {
     "slide_type": "slide"
    }
   },
   "source": [
    "Prove 2: $\\mathbb{E}[c\\cdot X] = c\\cdot \\mathbb{E}X$\n",
    "\n",
    "*Proof*: use the alternate characterization\n",
    "\n",
    "$\\mathbb{E}[c\\cdot X]=\\sum_{i=1}^n c\\cdot X(\\omega_i) \\cdot P(\\{\\omega_i\\})$\n",
    "\n",
    "$\\hspace{10mm} = c\\cdot \\sum_{i=1}^n X(\\omega_i) \\cdot P(\\{\\omega_i\\})$\n",
    "\n",
    "$\\hspace{10mm} = c\\cdot \\mathbb{E}[X]$."
   ]
  },
  {
   "cell_type": "markdown",
   "id": "55fdd0b2",
   "metadata": {
    "slideshow": {
     "slide_type": "slide"
    }
   },
   "source": [
    "Prove 3: $\\mathbb{E} c = c$\n",
    "\n",
    "*Proof*: use the alternate characterization\n",
    "\n",
    "$$\\mathbb{E} c = \\sum_{i=1}^n c \\cdot P(\\{\\omega_i\\}) = c\\cdot \\sum_{i=1}^n P(\\{\\omega_i\\}) = c \\cdot P(\\Omega)=c$$"
   ]
  },
  {
   "cell_type": "markdown",
   "id": "a7e5fb35",
   "metadata": {
    "slideshow": {
     "slide_type": "slide"
    }
   },
   "source": [
    "Prove 4: if $X\\geq 0$ everywhere, then $\\mathbb{E}X\\geq 0$.\n",
    "\n",
    "*Proof*: this is obvious from any characterization since it is a sum of non-negative numbers. "
   ]
  },
  {
   "cell_type": "markdown",
   "id": "bf429236",
   "metadata": {
    "slideshow": {
     "slide_type": "slide"
    }
   },
   "source": [
    "Prove 5: if $X\\geq Y$ everywhere, then $\\mathbb{E}X\\geq \\mathbb{E}Y$.\n",
    "\n",
    "*Proof*: use 1,4 and the fact that $X-Y\\geq 0$ eveywhere:\n",
    "\n",
    "$$\\mathbb{E}X = \\mathbb{E}[X-Y+Y] = \\mathbb{E}[X-Y]+\\mathbb{E}[Y]\\geq \\mathbb{E}[Y]$$"
   ]
  },
  {
   "cell_type": "markdown",
   "id": "c6a828c1",
   "metadata": {
    "slideshow": {
     "slide_type": "slide"
    }
   },
   "source": [
    "**Example (expectation of Binomial)**\n",
    "\n",
    "Suppose that $X\\sim \\mathrm{Binom}(n,p)$\n",
    "\n",
    "Then $\\mathbb{E}X = n\\cdot p$.\n",
    "\n",
    "*Proof*:\n",
    "\n",
    "Since $X$ is just the number of successes (1's) in $n$-many independent Bernoulli trials $X_1, \\ldots, X_n$, we have \n",
    "\n",
    "that $X=\\sum_{i=1}^n X_i$. Then we have \n",
    "\n",
    "$$\\mathbb{E}[X] = \\mathbb{E}[\\sum_{i=1}^n X_i] = \\sum_{i=1}^n \\mathbb{E}[X_i] = \\sum_{i=1}^n p = n\\cdot p$$"
   ]
  },
  {
   "cell_type": "markdown",
   "id": "036c5861",
   "metadata": {
    "slideshow": {
     "slide_type": "slide"
    }
   },
   "source": [
    "**Returning to the vivification**\n",
    "\n",
    "Suppose you are choosing between \n",
    "\n",
    "$X\\sim  \\mathrm{Binom}(3,.5)$ and $Y\\sim \\mathrm{Binom}(2,.7)$.\n",
    "\n",
    "E.g. $X\\sim$ \"three trials with fair chances\" vs. $Y\\sim$ \"two trials with more favorable chances.\"\n",
    "\n",
    "By previous, one has $\\mathbb{E}X = 1.5$ and $\\mathbb{E}Y = 1.4$.\n",
    "\n",
    "Hence, you would choose $X$.\n",
    "\n",
    "(To make the numbers bigger, multiply each by a big constant)."
   ]
  },
  {
   "cell_type": "code",
   "execution_count": 81,
   "id": "182e36f0",
   "metadata": {
    "slideshow": {
     "slide_type": "slide"
    }
   },
   "outputs": [
    {
     "name": "stdout",
     "output_type": "stream",
     "text": [
      "1.5 1.4\n"
     ]
    }
   ],
   "source": [
    "# Python functions for Binom(n,p)\n",
    "\n",
    "import numpy as np\n",
    "from scipy.stats import binom\n",
    "\n",
    "print(binom.mean(3,.5), binom.mean(2,.7))\n"
   ]
  },
  {
   "cell_type": "markdown",
   "id": "cb0a0d51",
   "metadata": {
    "slideshow": {
     "slide_type": "slide"
    }
   },
   "source": [
    "# Independence"
   ]
  },
  {
   "cell_type": "markdown",
   "id": "2c049b1a",
   "metadata": {
    "slideshow": {
     "slide_type": "slide"
    }
   },
   "source": [
    "**Definition (independence of events)**\n",
    "\n",
    "Two events $H,H^{\\prime}$ are *independent* if \n",
    "\n",
    "$P(H\\cap H^{\\prime}) = P(H)\\cdot P(H^{\\prime})$"
   ]
  },
  {
   "cell_type": "markdown",
   "id": "4f59496a",
   "metadata": {
    "slideshow": {
     "slide_type": "slide"
    }
   },
   "source": [
    "**Proposition (when evidence and hypothesis independent, the posterior and prior are same)**\n",
    "\n",
    "If $H,E$ independent of one another, then $$P(H|E)=P(H)$$\n",
    "\n",
    "*Proof*\n",
    "\n",
    "One has \n",
    "\n",
    "$P(H|E)=\\frac{P(H\\cap E)}{P(E)} = \\frac{P(H)\\cdot P(E)}{P(E)}=P(H)$."
   ]
  },
  {
   "cell_type": "markdown",
   "id": "df94d5ce",
   "metadata": {
    "slideshow": {
     "slide_type": "slide"
    }
   },
   "source": [
    "**Independence of random variables**\n",
    "\n",
    "Two random variables $X,Y$ are *independent* of one another if for all values $x,y$ one has\n",
    "\n",
    "$$P(X=x \\wedge Y=y) = P(X=x)\\cdot P(Y=y)$$\n",
    "\n",
    "This implies that for all subsets of reals $A,B$ one has \n",
    "\n",
    "$$P(X\\in A \\wedge Y\\in B) = P(X\\in A)\\cdot P(Y\\in B)$$\n",
    "\n",
    "For, just write out $A,B$ in terms of the worlds and apply the definition."
   ]
  },
  {
   "cell_type": "markdown",
   "id": "5c8fac9f",
   "metadata": {
    "slideshow": {
     "slide_type": "slide"
    }
   },
   "source": [
    "Three random variables $X,Y,Z$ are independent of one another if for all values $x,y,z$ one has \n",
    "\n",
    "$$P(X=x \\wedge Y=y \\wedge Z=z) = P(X=x)\\cdot P(Y=y)\\cdot P(Z=z)$$\n",
    "\n",
    "Similarly for longer lists. \n",
    "\n",
    "Infinite lists $X_1, \\ldots, X_n, \\ldots$ are independent of one another if for all $n\\geq 1$ one has that $X_1, \\ldots, X_n$ are independnet of one another. "
   ]
  },
  {
   "cell_type": "markdown",
   "id": "7e8fa6e4",
   "metadata": {
    "slideshow": {
     "slide_type": "slide"
    }
   },
   "source": [
    "**Proposition (effect of independence on expectation)**\n",
    "\n",
    "If random variables $X,Y$ are independent of one another, then \n",
    "\n",
    "$$\\mathbb{E}[X\\cdot Y] = \\mathbb{E}[X]\\cdot \\mathbb{E}[Y]$$\n",
    "\n",
    "*Proof (sketch)*\n",
    "\n",
    "$\\mathbb{E}[X]\\cdot \\mathbb{E}[Y] = (\\sum_{i=1}^m x_i \\cdot P(X=x_i))\\cdot (\\sum_{j=1}^n y_j \\cdot P(Y=y_j))$\n",
    "\n",
    "$\\hspace{5mm} =\\sum_{i=1}^m \\sum_{j=1}^n x_i \\cdot y_j \\cdot P(X=x_i)\\cdot P(Y=y_j)$\n",
    "\n",
    "$\\hspace{5mm} =\\sum_{i=1}^m \\sum_{j=1}^n x_i \\cdot y_j \\cdot P(X=x_i \\wedge Y=y_j)$ by independence\n",
    "\n",
    "$\\hspace{5mm} =\\sum_{k=1}^{\\ell} z_k \\cdot P(X\\cdot Y=z_k)$\n",
    "\n",
    "For the last step, given $k$, one collects together all the pairs $(i,j)$ with $x_i\\cdot y_j=z_k$. The associated event is the union of the events $X=x_i\\wedge Y=y_j$ over these pairs, which is equal to the event $X\\cdot Y = z_k$."
   ]
  },
  {
   "cell_type": "markdown",
   "id": "861979de",
   "metadata": {
    "slideshow": {
     "slide_type": "slide"
    }
   },
   "source": [
    "# Rules for variance"
   ]
  },
  {
   "cell_type": "markdown",
   "id": "a7f7eea5",
   "metadata": {
    "slideshow": {
     "slide_type": "slide"
    }
   },
   "source": [
    "Recall from last time:\n",
    "\n",
    "**Definition (variance)**\n",
    "\n",
    "We define the *variance* of $X$ to be the following\n",
    "\n",
    "$$\\mathrm{Var}(X) = \\mathbb{E}[(X-\\mu)^2]$$\n",
    "\n",
    "where recall that $\\mu$ is just another expression for $\\mathbb{E}X$.\n",
    "\n",
    "Intutively, variance is saying how much one expects the value to differ from its expectation. \n",
    "\n",
    "The variance is also abbreviated as $\\sigma^2$\n",
    "\n",
    "The 'square' is coming from the formula for distance in Euclidean space, namely $d(x,y) = \\sqrt{(x_1-x_2)^2 + (y_1-y_2)^2}$"
   ]
  },
  {
   "cell_type": "markdown",
   "id": "e6712394",
   "metadata": {
    "slideshow": {
     "slide_type": "slide"
    }
   },
   "source": [
    "**Definition (standard deviation)**\n",
    "\n",
    "We define the *standard deviation* of $X$ to be the following:\n",
    "\n",
    "$${sd}(X) = \\sqrt{\\mathrm{Var}(X)}$$\n",
    "\n",
    "We also use $\\sigma$ as an abbreviation for the standard deviation.\n",
    "\n",
    "Hence, you will see some authors write $\\sigma(X)$ for the standard deviation of $X$."
   ]
  },
  {
   "cell_type": "markdown",
   "id": "77fcda71",
   "metadata": {
    "slideshow": {
     "slide_type": "slide"
    }
   },
   "source": [
    "**Returning to the vivification**\n",
    "\n",
    "Earlier, your policy was to choose the random variable which has the larger expectation.\n",
    "\n",
    "But shouldn't you care about variance as well? \n",
    "\n",
    "If $X$ has large variance and $Y$ has small variance, then $X$ can vary a lot from its expectation, while $Y$ can vary just a little from its expectation.\n",
    "\n",
    "Ditto for standard deviation."
   ]
  },
  {
   "cell_type": "markdown",
   "id": "de4ec8f9",
   "metadata": {
    "slideshow": {
     "slide_type": "slide"
    }
   },
   "source": [
    "**Proposition**\n",
    "\n",
    "$$\\mathrm{Var}(X) = \\mathbb{E}[X^2] - (\\mathbb{E} X)^2$$\n",
    "\n",
    "*Proof*:\n",
    "\n",
    "From algebra $(X-\\mu)^2 = (X-\\mu)\\cdot (X-\\mu) = X^2 - 2\\mu \\cdot X +\\mu^2$.\n",
    "\n",
    "Then using the rules we have \n",
    "\n",
    "$$\\mathrm{Var}(X) =  \\mathbb{E}[X^2] -2\\mu \\mathbb{E}X +\\mu^2 =\\mathbb{E}[X^2] -2\\mu^2 +\\mu^2 =\\mathbb{E}[X^2] - (\\mathbb{E} X)^2$$"
   ]
  },
  {
   "cell_type": "markdown",
   "id": "32c3fd11",
   "metadata": {
    "slideshow": {
     "slide_type": "slide"
    }
   },
   "source": [
    "**Proposition**\n",
    "\n",
    "$$\\mathrm{Var}(cX+d) = c^2 \\mathrm{Var}(X)$$\n",
    "\n",
    "*Proof*:\n",
    "\n",
    "We give the proof when $d=0$ (the general case is not that much harder):\n",
    "\n",
    "$$\\mathrm{Var}(cX)= \\mathbb{E}[c^2 X^2]-c^2 (\\mathbb{E} X)^2 = c^2 (\\mathbb{E}[X^2]-(\\mathbb{E} X)^2) = c^2 \\cdot \\mathrm{Var}(X)$$ "
   ]
  },
  {
   "cell_type": "markdown",
   "id": "dbe7c9ca",
   "metadata": {
    "slideshow": {
     "slide_type": "slide"
    }
   },
   "source": [
    "**Example (variance of Bernoulli)**\n",
    "\n",
    "Let $X\\sim \\mathrm{Bern}(p)$. Then $\\mathrm{Var}(X) = p(1-p)$.\n",
    "\n",
    "*Proof*:\n",
    "\n",
    "by definition (from last time), a random variable $X$ of this kind only two values:\n",
    "        \n",
    "- value 1, with probability $p$.\n",
    "- value 0, with probability $1-p$.\n",
    "\n",
    "Since $1^2 = 1$ and $0^2 =0$, for this random variable we have $X^2 =X$.\n",
    "\n",
    "Hence we have \n",
    "\n",
    "$$\\mathrm{Var}(X) = \\mathbb{E}[X^2] - (\\mathbb{E} X)^2 = \\mathbb{E}[X] - (\\mathbb{E} X)^2=p-p^2 = p(1-p)$$"
   ]
  },
  {
   "cell_type": "markdown",
   "id": "cc7324ce",
   "metadata": {
    "slideshow": {
     "slide_type": "slide"
    }
   },
   "source": [
    "**Returning to the vivification**\n",
    "\n",
    "Suppose you are choosing between \n",
    "\n",
    "$X\\sim \\mathrm{Bern}(.7)$ and $Y\\sim \\mathrm{Bern}(.9)$.\n",
    "\n",
    "By earlier, one has $\\mathbb{E}X = .7$ and $\\mathbb{E}Y = .9$.\n",
    "\n",
    "By previous, one has $\\mathrm{Var}(X) = .21$ and $\\mathrm{Var}(Y) = .09$\n",
    "\n",
    "Hence, $Y$ has higher payoff, and there is a lower level of risk to it."
   ]
  },
  {
   "cell_type": "markdown",
   "id": "62a2ad9e",
   "metadata": {
    "slideshow": {
     "slide_type": "slide"
    }
   },
   "source": [
    "**Proposition (Variance and independence)**\n",
    "\n",
    "Suppose $X,Y$ are independent. Then $\\mathrm{Var}(X+Y) = \\mathrm{Var}(X)+\\mathrm{Var}(Y)$\n",
    "\n",
    "*Proof*\n",
    "\n",
    "From algebra $(X+Y)^2 = X^2 + 2XY+Y^2$.\n",
    "\n",
    "Let $\\mu=\\mathbb{E}[X]$ and $\\nu = \\mathbb{E}[Y]$. \n",
    "\n",
    "Then from independence we have  $\\mathbb{E}(X+Y)^2 = \\mathbb{E}X^2 + 2\\mu \\nu +\\mathbb{E}[Y^2]$\n",
    "\n",
    "From algebra $(\\mathbb{E}(X+Y))^2 = (\\mu+\\nu)^2 = \\mu^2+2\\mu\\nu+\\nu^2$.\n",
    "\n",
    "Hence $\\mathrm{Var}(X+Y) =  \\mathbb{E}X^2 -\\mu^2 + \\mathbb{E}[Y^2]-\\nu^2 = \\mathrm{Var}(X)+\\mathrm{Var}(Y)$."
   ]
  },
  {
   "cell_type": "markdown",
   "id": "8d06073f",
   "metadata": {
    "slideshow": {
     "slide_type": "slide"
    }
   },
   "source": [
    "**Proposition (Root n rule)**\n",
    "\n",
    "Suppose that $X_1, \\ldots, X_n$ are independent each with standard deviation $\\sigma$ and variation $\\sigma^2$.\n",
    "\n",
    "Let $\\overline{X} = \\frac{X_1+\\cdots +X_n}{n}$\n",
    "\n",
    "Then the standard deviation of $\\overline{X}$ is $\\frac{\\sigma}{\\sqrt{n}}$. \n",
    "\n",
    "*Proof*\n",
    "\n",
    "One has \n",
    "\n",
    "$\\mathrm{Var}(\\overline{X}) = \\sum_{i=1}^n \\mathrm{Var}(\\frac{X_i}{n})$ by independence\n",
    "\n",
    "$\\hspace{5mm} = \\sum_{i=1}  \\cdot \\mathrm{Var}(X_i)$ by earlier proposition\n",
    "\n",
    "$\\hspace{5mm} = \\frac{1}{n^2} \\sum_{i=1}  \\mathrm{Var}(X_i)$\n",
    "\n",
    "$\\hspace{5mm} = \\frac{1}{n^2} \\cdot n \\cdot \\sigma^2 = \\frac{\\sigma^2}{n}$."
   ]
  },
  {
   "cell_type": "markdown",
   "id": "643d3653",
   "metadata": {
    "slideshow": {
     "slide_type": "slide"
    }
   },
   "source": [
    "**Example (Variance of Binomial)**\n",
    "\n",
    "Let $X\\sim \\mathrm{Binom}(n,p)$. Then $\\mathrm{Var}(X) = n \\cdot p (1-p)$\n",
    "\n",
    "*Proof*\n",
    "\n",
    "Suppose that e.g. $n=2$ and $X=Y+Z$, where $Y,Z\\sim \\mathrm{Bern}(p)$. \n",
    "\n",
    "Then one has $\\mathrm{Var}(X)=\\mathrm{Var}(Y+Z) = \\mathrm{Var}(Y)+\\mathrm{Var}(Z) = p(1-p)+p(1-p)=2\\cdot p(1-p)$"
   ]
  },
  {
   "cell_type": "markdown",
   "id": "78cfcbd7",
   "metadata": {
    "slideshow": {
     "slide_type": "slide"
    }
   },
   "source": [
    "**Returning to the vivification**\n",
    "\n",
    "Suppose you are choosing between \n",
    "\n",
    "$X\\sim  \\mathrm{Binom}(3,.5)$ and $Y\\sim \\mathrm{Binom}(2,.7)$.\n",
    "\n",
    "By earlier, one has $\\mathbb{E}X = 1.5$ and $\\mathbb{E}Y = 1.4$.\n",
    "\n",
    "By previous, one has $\\mathrm{Var}(X) = .75$ and $\\mathrm{Var}(Y) = .42$\n",
    "\n",
    "So $Y$ has something to recommend to it: being a little less risky in a certain sense."
   ]
  },
  {
   "cell_type": "markdown",
   "id": "31c0fadd",
   "metadata": {
    "slideshow": {
     "slide_type": "slide"
    }
   },
   "source": [
    "# Normal distribution"
   ]
  },
  {
   "cell_type": "markdown",
   "id": "8598fb24",
   "metadata": {
    "slideshow": {
     "slide_type": "slide"
    }
   },
   "source": [
    "**Definition (normal distribution)**\n",
    "\n",
    "A random variable $X$ has normal distribution $X\\sim N(\\mu,\\sigma^2)$ if it has \n",
    "\n",
    "- Expectation: $\\mu$\n",
    "\n",
    "- Variance: $\\sigma^2$\n",
    "\n",
    "- pdf: $f(x) = \\frac{1}{\\sigma\\sqrt{2\\pi}} e^{-\\frac{1}{2}(\\frac{x-\\mu}{\\sigma})^2}$\n",
    "\n",
    "- cdf: $F(x) = \\int_{-\\infty}^x f(x) dx$ (i.e. the area under the curve, for which there is no easy formula)\n",
    "\n",
    "- ccdf: $\\overline{F}(x) = 1-F(x)$ (for which there is no easy formula)\n",
    "\n",
    "---\n"
   ]
  },
  {
   "cell_type": "markdown",
   "id": "8ea5c552",
   "metadata": {
    "slideshow": {
     "slide_type": "slide"
    }
   },
   "source": [
    "These random variables take as many values as there are real numbers. \n",
    "\n",
    "Hence the pdf no longer answers the question \"what exactly is the probability of a certain outcome.\"\n",
    "\n",
    "But the cdf still answers the question \"what is the probability of having an outcome less than or equal to a given number.\""
   ]
  },
  {
   "cell_type": "code",
   "execution_count": 74,
   "id": "51ecae5a",
   "metadata": {
    "slideshow": {
     "slide_type": "slide"
    }
   },
   "outputs": [],
   "source": [
    "## python commands for basic math and stats packages\n",
    "\n",
    "import numpy as np\n",
    "import matplotlib.pyplot as plt\n",
    "\n",
    "from scipy.stats import norm\n",
    "from scipy.stats import pareto\n",
    "\n",
    "from ipywidgets import interact, interactive, fixed, interact_manual\n",
    "import ipywidgets as widgets"
   ]
  },
  {
   "cell_type": "code",
   "execution_count": 75,
   "id": "b4084e85",
   "metadata": {
    "slideshow": {
     "slide_type": "slide"
    }
   },
   "outputs": [],
   "source": [
    "def Normvisual(mu,var):\n",
    "    x = np.linspace(-10, 10, 1000) # values for x-axis\n",
    "    y1 = norm.pdf(x, mu, var) # pdf \n",
    "    y2 = norm.cdf(x, mu, var) # cdf\n",
    "    y3 = 1-y2               # ccdf \n",
    "\n",
    "    fig, axs = plt.subplots(1, 3, figsize=(10, 5))  # 1 row, 3 columns\n",
    "    \n",
    "    # Plot the PDF on the first subplot\n",
    "    axs[0].plot(x, y1)\n",
    "    axs[0].set_ylim(0, .5)\n",
    "    axs[0].set_title('pdf')\n",
    "\n",
    "    # Plot the CDF on the second subplot\n",
    "    axs[1].plot(x, y2)\n",
    "    axs[1].set_ylim(0, 1.1)\n",
    "    axs[1].set_title('cdf')\n",
    "\n",
    "    # Plot the CCDF on the third subplot\n",
    "    axs[2].plot(x, y3)\n",
    "    axs[2].set_ylim(0, 1.1)\n",
    "    axs[2].set_title('ccdf')\n",
    "    \n",
    "    plt.show()"
   ]
  },
  {
   "cell_type": "code",
   "execution_count": 76,
   "id": "58d1d7ee",
   "metadata": {
    "slideshow": {
     "slide_type": "slide"
    }
   },
   "outputs": [
    {
     "data": {
      "application/vnd.jupyter.widget-view+json": {
       "model_id": "5c84998c22b54bd8af928d15ab4098b1",
       "version_major": 2,
       "version_minor": 0
      },
      "text/plain": [
       "interactive(children=(FloatSlider(value=0.0, description='mu', max=10.0, min=-10.0), FloatSlider(value=1.0, de…"
      ]
     },
     "metadata": {},
     "output_type": "display_data"
    },
    {
     "data": {
      "text/plain": [
       "<function __main__.Normvisual(mu, var)>"
      ]
     },
     "execution_count": 76,
     "metadata": {},
     "output_type": "execute_result"
    }
   ],
   "source": [
    "# visualizing the normal distribution \n",
    "\n",
    "interact(Normvisual, mu=(-10, 10, .1), var=(0, 2, 0.1))"
   ]
  },
  {
   "cell_type": "markdown",
   "id": "a4ba2f2f",
   "metadata": {
    "slideshow": {
     "slide_type": "slide"
    }
   },
   "source": [
    "# Pareto distribution"
   ]
  },
  {
   "cell_type": "markdown",
   "id": "f0ac5d42",
   "metadata": {
    "slideshow": {
     "slide_type": "slide"
    }
   },
   "source": [
    "**Definition (Pareto distribution)**\n",
    "\n",
    "A random variable $X$ has *Praeto distribution* with shape $b$ and scale $\\alpha$ if $X\\sim \\mathrm{Pareto}(b, \\alpha)$ if $b>0$ and $\\alpha>2$ and it has \n",
    "\n",
    "- Expectation: $\\alpha\\cdot \\frac{b}{\\alpha-1}$\n",
    "\n",
    "- Variance: $\\frac{\\alpha}{\\alpha-2}\\cdot \\frac{b}{\\alpha-1}$\n",
    "\n",
    "- pdf: $f(x) = \\frac{\\alpha \\cdot b^{\\alpha}}{x^{\\alpha+1}}$ if $x\\geq b$, otherwise $f(x)=0$.\n",
    "\n",
    "- cdf: $F(x) =1-(\\frac{b}{x})^{\\alpha}$  if $x\\geq b$, otherwise $F(x)=1$.\n",
    "\n",
    "- ccdf: $\\overline{F}(x) = (\\frac{b}{x})^{\\alpha}$\n"
   ]
  },
  {
   "cell_type": "code",
   "execution_count": 80,
   "id": "01ade13a",
   "metadata": {
    "slideshow": {
     "slide_type": "slide"
    }
   },
   "outputs": [
    {
     "data": {
      "image/png": "[encoded data removed]",
      "text/plain": [
       "<Figure size 640x480 with 1 Axes>"
      ]
     },
     "metadata": {},
     "output_type": "display_data"
    }
   ],
   "source": [
    "# Define the shape and scale parameters\n",
    "b = 2.62  # shape\n",
    "scale = 4  # scale\n",
    "\n",
    "# Generate a range of values\n",
    "x = np.linspace(1, 10, 1000)\n",
    "\n",
    "# Calculate the PDF (Probability Density Function) for these values\n",
    "pdf = pareto.pdf(x, b, scale)\n",
    "\n",
    "# Plot the PDF\n",
    "plt.plot(x, pdf)\n",
    "\n",
    "plt.title('Pareto Distribution')\n",
    "plt.xlabel('Value')\n",
    "plt.ylabel('Probability Density')\n",
    "plt.show()"
   ]
  },
  {
   "cell_type": "code",
   "execution_count": 78,
   "id": "8b171c44",
   "metadata": {
    "slideshow": {
     "slide_type": "slide"
    }
   },
   "outputs": [],
   "source": [
    "def Paretovisual(b,alpha):\n",
    "    x = np.linspace(0, 10, 1000) # values for x-axis\n",
    "    y1 = pareto.pdf(x, b, alpha) # pdf \n",
    "    y2 = pareto.cdf(x, b, alpha) # cdf\n",
    "    y3 = 1-y2               # ccdf \n",
    "\n",
    "    fig, axs = plt.subplots(1, 3, figsize=(10, 5))  # 1 row, 3 columns\n",
    "    \n",
    "    # Plot the PDF on the first subplot\n",
    "    axs[0].plot(x, y1)\n",
    "    axs[0].set_ylim(0, 2.5)\n",
    "    axs[0].set_title('pdf')\n",
    "\n",
    "    # Plot the CDF on the second subplot\n",
    "    axs[1].plot(x, y2)\n",
    "    axs[1].set_ylim(0, 1.1)\n",
    "    axs[1].set_title('cdf')\n",
    "\n",
    "    # Plot the CCDF on the third subplot\n",
    "    axs[2].plot(x, y3)\n",
    "    axs[2].set_ylim(0, 1.1)\n",
    "    axs[2].set_title('ccdf')\n",
    "    \n",
    "    plt.show()"
   ]
  },
  {
   "cell_type": "code",
   "execution_count": 79,
   "id": "c132a627",
   "metadata": {
    "slideshow": {
     "slide_type": "slide"
    }
   },
   "outputs": [
    {
     "data": {
      "application/vnd.jupyter.widget-view+json": {
       "model_id": "dbb85cbcdebd4d178dc35d1cdc4df3de",
       "version_major": 2,
       "version_minor": 0
      },
      "text/plain": [
       "interactive(children=(FloatSlider(value=3.0, description='b', max=5.0, min=1.0), FloatSlider(value=3.0, descri…"
      ]
     },
     "metadata": {},
     "output_type": "display_data"
    },
    {
     "data": {
      "text/plain": [
       "<function __main__.Paretovisual(b, alpha)>"
      ]
     },
     "execution_count": 79,
     "metadata": {},
     "output_type": "execute_result"
    }
   ],
   "source": [
    "# visualizing the Pareto distribution \n",
    "\n",
    "interact(Paretovisual, b=(1, 5, .1), alpha=(1, 5, 0.1))"
   ]
  }
 ],
 "metadata": {
  "celltoolbar": "Slideshow",
  "kernelspec": {
   "display_name": "Python 3 (ipykernel)",
   "language": "python",
   "name": "python3"
  },
  "language_info": {
   "codemirror_mode": {
    "name": "ipython",
    "version": 3
   },
   "file_extension": ".py",
   "mimetype": "text/x-python",
   "name": "python",
   "nbconvert_exporter": "python",
   "pygments_lexer": "ipython3",
   "version": "3.11.5"
  }
 },
 "nbformat": 4,
 "nbformat_minor": 5
}
