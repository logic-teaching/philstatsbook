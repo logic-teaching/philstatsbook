{
 "cells": [
  {
   "cell_type": "markdown",
   "id": "807c384d",
   "metadata": {},
   "source": [
    "# Chapter 1"
   ]
  },
  {
   "cell_type": "markdown",
   "id": "3534ffe6",
   "metadata": {
    "slideshow": {
     "slide_type": "slide"
    }
   },
   "source": [
    "## Some Greek letters"
   ]
  },
  {
   "cell_type": "markdown",
   "id": "cc87d844",
   "metadata": {
    "slideshow": {
     "slide_type": "slide"
    }
   },
   "source": [
    "We use the following Greek letters:\n",
    "    \n",
    "- $\\Omega$ big omega\n",
    "- $\\omega$ little omega\n",
    "- $\\Theta$ big theta\n",
    "- $\\theta$ little theta\n",
    "\n",
    "We organize our usage of these so that $\\omega$ ranges over elements of $\\Omega$, and $\\theta$ ranges over elements of $\\Theta$\n",
    "\n",
    "For sets, we also use a sytlized epsilon $\\in$ for the *membership symbol*. E.g. $1\\in \\{1,2,3\\}$ and $1\\notin \\{2,3,4\\}$\n",
    "\n",
    "The following tend to get used to describe certain canonical distributions:\n",
    "\n",
    "- $\\lambda$ lambda \n",
    "- $\\mu$ mu\n",
    "- $\\nu$ nu\n",
    "- $\\sigma$ sigma\n",
    "\n",
    "We occasionally also use the following when we run out of latin letters:\n",
    "\n",
    "- $\\alpha$ alpha\n",
    "- $\\beta$ beta\n",
    "- $\\gamma$ gamma"
   ]
  },
  {
   "cell_type": "markdown",
   "id": "728dd7e8",
   "metadata": {
    "slideshow": {
     "slide_type": "slide"
    }
   },
   "source": [
    "## Sets rules and examples"
   ]
  },
  {
   "cell_type": "markdown",
   "id": "81a1a328",
   "metadata": {
    "slideshow": {
     "slide_type": "slide"
    }
   },
   "source": [
    "### Set-theoretic operations\n",
    "\n",
    "We are usually just working with subsets of a given set $\\Omega$, which is fixed by the topic at hand.\n",
    "\n",
    "There's some operations that we need to remind ourselves of:\n",
    "\n",
    "- Intersection of $A,B$, symbol $A\\cap B$, definition: $A\\cap B= \\{x\\in \\Omega: x\\in A \\wedge x\\in B\\}$ \n",
    "\n",
    "- Union of $A,B$, symbol $A\\cup B$, definition: $A\\cup B= \\{x\\in \\Omega: x\\in A \\vee x\\in B\\}$ \n",
    "\n",
    "- Difference of $A$ from $B$, symbol $A-B$, definition: $A- B = \\{x\\in \\Omega: x\\in A \\wedge x\\notin B\\}$ \n",
    "\n",
    "- Relative complement of $A$, symbol $A^c$ or $\\overline{A}$, definition: $A^c = \\overline{A} =\\{x\\in \\Omega: x\\notin A\\}$\n",
    "\n",
    "The empty set $\\emptyset$ is the subset of $\\Omega$ that has no elements."
   ]
  },
  {
   "cell_type": "markdown",
   "id": "92fbce98",
   "metadata": {
    "slideshow": {
     "slide_type": "slide"
    }
   },
   "source": [
    "## Set-theoretic rules\n",
    "\n",
    "Suppose that $A,B,C$ are subsets of $\\Omega$. Then we have the following rules:\n",
    "\n",
    "1. $A\\cup A^c = \\Omega$\n",
    "\n",
    "2. $(A\\cap A^c)^c = \\Omega$, equivalently $(A\\cap A^c)=\\emptyset$ \n",
    "\n",
    "3. $(A^c)^c=A$\n",
    "\n",
    "4. $A\\cap B=B\\cap A$\n",
    "\n",
    "5. $A\\cup B=B\\cup A$ \n",
    "\n",
    "6. $(A\\cap B)\\cap C= A\\cap (B\\cap C)$ \n",
    "\n",
    "7. $(A\\cup B)\\cup C = A\\cup (B\\cup C)$\n",
    "\n",
    "8. $A\\cap (B\\cup C) = (A\\cap B)\\cup (A\\cap C)$\n",
    "\n",
    "9. $A\\cup (B\\cap C)=(A\\cup B)\\cap (A\\cup C)$\n",
    "\n",
    "10. $(A\\cap B)^c = A^c\\cup B^c$\n",
    "\n",
    "11. $(A\\cup B)^c = A^c\\cap B^c$"
   ]
  },
  {
   "cell_type": "markdown",
   "id": "2e640171",
   "metadata": {
    "slideshow": {
     "slide_type": "slide"
    }
   },
   "source": [
    "### Corresponding rules of propositional logic\n",
    "\n",
    "The previous rules of sets correspond to the following tautologies and equivalences of propositional logic:\n",
    "\n",
    "1. $p\\vee \\neg p$ is a tautology, law of excluded middle\n",
    "\n",
    "2. $\\neg (p\\wedge \\neg p)$, law of non-contradiction\n",
    "\n",
    "3. $\\neg \\neg p$ is equivalent to $p$, law of double-negation\n",
    "\n",
    "4. $p\\wedge q$ is equivalent to $q\\wedge p$, law of commutativity of conjunction\n",
    "\n",
    "5. $p\\vee q$ is equivalent to $q\\vee p$, law of commutativity of disjunction\n",
    "\n",
    "6. $(p\\wedge q)\\wedge r$ is equivalent to $p\\wedge (q\\wedge r)$, law of associativity of conjunction\n",
    "\n",
    "7. $(p\\vee q)\\vee r$ is equivalent to $p\\vee (q\\vee r)$, law of associativity of disjunction\n",
    "\n",
    "8. $p\\wedge (q\\vee r)$ is equivalent to $(p\\wedge q)\\vee (p\\wedge r)$, distribution for conjunction\n",
    "\n",
    "9. $p\\vee (q\\wedge r)$ is equivalent to $(p\\vee q)\\wedge (p\\vee r)$, distribution for disjunction\n",
    "\n",
    "10. $\\neg (p\\wedge q)$ is equivalent to $\\neg p \\vee \\neg q$, DeMorgan\n",
    "\n",
    "11. $\\neg (p\\vee q)$ is equivalent to $\\neg p\\wedge \\neg q$, DeMorgan\n",
    "\n"
   ]
  },
  {
   "cell_type": "markdown",
   "id": "ed1718fc",
   "metadata": {
    "slideshow": {
     "slide_type": "slide"
    }
   },
   "source": [
    "### Reason for the correspondence\n",
    "\n",
    "Subsets of a set $\\Omega$, and formulas of propositional logic, are both *Boolean algebras*.\n",
    "\n",
    "The rules of sets described above, and the rules of propositional logic described above, are special cases of rules of Boolean algebras. \n",
    "\n",
    "For a lot of purposes, these are the most interesting examples of Boolean algebras; which explains why many of us learn the rules in these separate settings."
   ]
  },
  {
   "cell_type": "markdown",
   "id": "a2274bd0",
   "metadata": {
    "slideshow": {
     "slide_type": "slide"
    }
   },
   "source": [
    "### Example (of set-theoretic operations)\n",
    "\n",
    "Suppose that $\\Omega$ is the set of all possible outcomes of flipping a coin three times. \n",
    "\n",
    "Suppose we use 0 for tails and 1 for heads. Then $\\Omega$ is\n",
    "\n",
    "$\\Omega =\\{000, 001, 010, 011, 100, 101, 110, 111\\}$\n",
    "\n",
    "E.g. 010 is the outcome of: tails, heads, tails. \n",
    "\n",
    "One also writes $\\Omega =\\{0,1\\}^3$.\n",
    "\n",
    "Let $A$ be the set of outcomes with two or more heads. \n",
    "\n",
    "Let $B$ the set of outcomes with one or more tails. \n",
    "\n",
    "Then $A=\\{011, 101, 110, 111\\}$\n",
    "\n",
    "and $B = \\{000, 001, 010, 011, 100, 101, 110\\}$\n",
    "\n",
    "Then one has $A\\cap B = \\{011, 101, 110\\}$.\n",
    "\n",
    "And one has $B=\\Omega \\setminus \\{111\\}$."
   ]
  },
  {
   "cell_type": "markdown",
   "id": "1c57edef",
   "metadata": {},
   "source": [
    "### Definition (subset)\n",
    "\n",
    "A set $A$ is a *subset* of $B$ if every element of $A$ is also an element of $B$.\n",
    "\n",
    "We write $A\\subseteq B$ for $A$ is a subset of $B$. \n",
    "\n",
    "For instance $\\{0,1,2\\}$ is a subset of $\\{0,1,2,3,4\\}$ since each number in the first set is in the second set.\n",
    "\n",
    "But we do not have $\\{0,1,2\\}$ is a subset of $\\{1,2,3,4\\}$ since $0$ is in the first set but not in the second set."
   ]
  },
  {
   "cell_type": "markdown",
   "id": "36d53845",
   "metadata": {},
   "source": [
    "### Definition (disjointness)\n",
    "\n",
    "Sets $A,B$ are *disjoint* if $A\\cap B=\\emptyset$\n",
    "\n",
    "For instance, $\\{1,2,3\\}$ and $\\{8,9,10\\}$ are disjoint.\n",
    "\n",
    "Sets $A,B,C$ are *pairwise disjoint* if $A,B$ are disjoint and $A,C$ are disjoint and $B,C$ are disjoint.\n",
    "\n",
    "For instance, $\\{1,2\\}, \\{8,9\\}, \\{15,16\\}$ are pairwise disjoint. "
   ]
  },
  {
   "cell_type": "markdown",
   "id": "0d4cde90",
   "metadata": {
    "slideshow": {
     "slide_type": "slide"
    }
   },
   "source": [
    "### Products of sets\n",
    "\n",
    "If $\\Omega$ and $\\Theta$ are two sets, then we can form their product\n",
    "\n",
    "$\\Omega \\times \\Theta = \\{(\\omega, \\theta): \\omega\\in \\Omega, \\theta\\in \\Theta\\}$.\n",
    "\n",
    "For instance if $\\Omega =\\{0,1\\}$ and $\\Theta=\\{1,2,3\\}$ then\n",
    "\n",
    "$\\Omega \\times \\Theta =\\{(0,1), (0,2), (0,3), (1,1), (1,2), (1,3)\\}$\n",
    "\n",
    "and \n",
    "\n",
    "$\\Theta \\times \\Omega =\\{(1,0), (1,1), (2,0), (2,1), (3,0), (3,1)\\}$\n",
    "\n",
    "Note that $(0,2)$ is in $\\Omega\\times \\Theta$ but not in $\\Theta \\times \\Omega$."
   ]
  },
  {
   "cell_type": "markdown",
   "id": "f2b7b3d9",
   "metadata": {
    "slideshow": {
     "slide_type": "slide"
    }
   },
   "source": [
    "## n choose k\n",
    "\n",
    "Consider $\\Omega =\\{0,1\\}^n$, the set of all possible outcomes of fliping a coin $n$-times.\n",
    "\n",
    "This set has size $2^n$.\n",
    "\n",
    "For elementary probability, we need to recall one more fact about sizes of sets.  \n",
    "\n",
    "For $k\\leq n$, how many of these outcomes result in one getting $k$ heads? \n",
    "\n",
    "It is \"$n$ choose $k$\" or ${n \\choose k} = \\frac{n!}{(n-k)! k!}$\n",
    "\n",
    "Thankfully this is a built in macro in most modern computing systems:"
   ]
  },
  {
   "cell_type": "code",
   "execution_count": null,
   "id": "c3e895a6",
   "metadata": {},
   "outputs": [
    {
     "data": {
      "text/plain": [
       "252"
      ]
     },
     "execution_count": 18,
     "metadata": {},
     "output_type": "execute_result"
    }
   ],
   "source": [
    "import math\n",
    "\n",
    "n = 10\n",
    "\n",
    "k = 5\n",
    "\n",
    "math.comb(n, k)"
   ]
  },
  {
   "cell_type": "markdown",
   "id": "bfd54aca",
   "metadata": {
    "slideshow": {
     "slide_type": "slide"
    }
   },
   "source": [
    "## Sets and functions in different disciplines "
   ]
  },
  {
   "cell_type": "markdown",
   "id": "e4895208",
   "metadata": {
    "slideshow": {
     "slide_type": "slide"
    }
   },
   "source": [
    "### Talking about $\\Omega$ and its subsets\n",
    "\n",
    "Different disciplines have different ways of talking about $\\Omega$ and its relevant subsets:\n",
    "\n",
    "|  | Philosophy | Probability | Logic | Math |\n",
    "|:----------:|:----------:|:----------:|:----------:|:----------:|\n",
    "|   $\\Omega$  |   Set of worlds  |   Sample space  | Set of models | Underlying set \n",
    "|   $\\{A: A\\subseteq \\Omega\\}$  |   Set of propositions  |   Event space  | Sets determined by formulas | Powerset of underlying set\n",
    "\n",
    "In particular: elements of $\\Omega$ are called:\n",
    "\n",
    "- *worlds* in philosophy\n",
    "- elements of the *sample space* in probability\n",
    "\n",
    "And subsets of $\\Omega$ are called:\n",
    "\n",
    "- *propositions* in philosophy\n",
    "- *events* in probability"
   ]
  },
  {
   "cell_type": "markdown",
   "id": "ff4d94ff",
   "metadata": {
    "slideshow": {
     "slide_type": "subslide"
    }
   },
   "source": [
    "### Some more notes on philosophy terminology and concepts \n",
    "\n",
    "One should beware philosophers following Davidson use \"event\" for more singular happenings: this specific touchdown in this specific game. Hence, if you are a philosopher, it is important for our purposes to get on board with the usage of \"event\" as \"set of worlds.\"\n",
    "\n",
    "A traditional statement of the propositions as \"sets of worlds\" is Stalnaker's Inquiry {cite}`Stalnaker1987-fw`. Of course, philosophers have other concepts of propositions, such as \"Russellian propositions,\" on which propositions are more like interpreted sentences of first-order logic."
   ]
  },
  {
   "cell_type": "markdown",
   "id": "7f2786ed",
   "metadata": {
    "slideshow": {
     "slide_type": "subslide"
    }
   },
   "source": [
    "### Some more notes on logic and math terminology and concepts\n",
    "\n",
    "If you are in certain parts of logic where a class of models (e.g. groups, rings, fields, partial orders, linear orders) is salient, then it's natural to consider the case where $\\Omega$ is the class of models and where one restricts attention to subsets which satisfy some formula.\n",
    "\n",
    "In pure mathematics, one often transitions more rapidly between different sets, and there it is useful to explicitly describe the *powerset operation* taking $\\Omega$ to the set of all its subsets $\\{A:A\\subseteq \\Omega\\}$. The powerset is often written as $\\mathcal{P}(\\Omega)=\\{A: A\\subseteq \\Omega\\}$ or $\\wp(\\Omega)=\\{A: A\\subseteq \\Omega\\}$"
   ]
  },
  {
   "cell_type": "markdown",
   "id": "f0ed7558",
   "metadata": {
    "slideshow": {
     "slide_type": "subslide"
    }
   },
   "source": [
    "### A subtle point about when the sample space is infinite\n",
    "\n",
    "In probability, there is a subtle point:\n",
    "\n",
    "- When $\\Omega$ is finite, it is okay to assume that the event space is literally $\\{A: A\\subseteq \\Omega\\}$. \n",
    "\n",
    "- When $\\Omega$ is infinite, we need to require that the event space is $\\{A: A\\subseteq \\Omega$  is Borel $\\}$ and that $\\Omega$ is a well-behaved topological space.\n",
    "\n",
    "We are largely going to ignore this point in what follows. Not because it is unimportant, but because the Borel sets are ample enough for practical purposes (we can reasonably be sure that we are always in there)."
   ]
  },
  {
   "cell_type": "markdown",
   "id": "7969f427",
   "metadata": {
    "slideshow": {
     "slide_type": "subslide"
    }
   },
   "source": [
    "What are the Borel events? \n",
    "\n",
    "The *Borel events* are the closure of the open sets under countable intersections, union, and relative complement. \n",
    "\n",
    "The *open sets in Euclidean space* are just the cirlces or balls with their edges removed. \n",
    "\n",
    "This is the topic of study in measure theory and descriptive set theory.\n",
    "\n",
    "Often we can ignore it in probability since we restrict ourselves to 'elementary' methods of set formation."
   ]
  },
  {
   "cell_type": "markdown",
   "id": "4dedf6a6",
   "metadata": {
    "slideshow": {
     "slide_type": "slide"
    }
   },
   "source": [
    "### Adding random variables to the table\n",
    "\n",
    "Finally, we can add to the list the notion of random variable:\n",
    "\n",
    "|  | Philosophy | Probability | Logic | Math |\n",
    "|:----------:|:----------:|:----------:|:----------:|:----------:|\n",
    "|   $\\Omega$  |   Set of worlds  |   Sample space  | Set of models | Underlying set \n",
    "|   $\\{A: A\\subseteq \\Omega\\}$  |   Set of propositions  |   Event space  | Sets determined by formulas | Powerset of underlying set\n",
    "|   $X:\\Omega\\rightarrow \\mathbb{R}$  |  na  |   Random variable  | na | Real-valued function\n",
    "\n",
    "\n",
    "We get to the definition in a moment. \n",
    "\n",
    "For the moment, recall that $\\mathbb{R}$ is just the *real numbers*, the set of all positive and negative numbers, including fractions and including numbers like $e=2.71\\ldots$ and $\\pi=3.14\\ldots$.  "
   ]
  },
  {
   "cell_type": "markdown",
   "id": "70bc206b",
   "metadata": {
    "slideshow": {
     "slide_type": "slide"
    }
   },
   "source": [
    "## Random variables "
   ]
  },
  {
   "cell_type": "markdown",
   "id": "7c5197d0",
   "metadata": {
    "slideshow": {
     "slide_type": "slide"
    }
   },
   "source": [
    "### Definition (random variable)\n",
    "\n",
    "Given sample space $\\Omega$, a *random variable* is a function $X:\\Omega\\rightarrow \\mathbb{R}$."
   ]
  },
  {
   "cell_type": "markdown",
   "id": "609b333d",
   "metadata": {
    "slideshow": {
     "slide_type": "subslide"
    }
   },
   "source": [
    "When $\\Omega$ is infinite, one needs to require more, and usually Borel measurability is enough, where this means inverse images of Borel sets are Borel"
   ]
  },
  {
   "cell_type": "markdown",
   "id": "e756ee7f",
   "metadata": {
    "slideshow": {
     "slide_type": "slide"
    }
   },
   "source": [
    "### Examples of random variables (coin flips)\n",
    "\n",
    "$\\Omega =\\{0,1\\}^3 = \\{000, 001, 010, 011, 100, 101, 110, 111\\}$\n",
    "\n",
    "Let $X:\\Omega\\rightarrow \\mathbb{R}$ by $X(\\omega)=\\#$ of heads in $\\omega$. \n",
    "\n",
    "E.g. $X(001)=1$ and $X(110)=2$.\n",
    "\n",
    "Let $Y:\\Omega\\rightarrow \\mathbb{R}$ by $Y(\\omega)=$ the result of the first flip.\n",
    "\n",
    "E.g. $Y(001)=0$ and $Y(110)=1$."
   ]
  },
  {
   "cell_type": "markdown",
   "id": "253bf6d1",
   "metadata": {
    "slideshow": {
     "slide_type": "slide"
    }
   },
   "source": [
    "## Examples of random variables (dining experiences)\n",
    "\n",
    "Often what we know about $\\Omega$ is reflected in some salient random variables (for at least some small observed portion of it).\n",
    "\n",
    "In the below example, $\\Omega$ consists of 244 dining experiences, with seven random variables, corresponding to the features of the dining experience like total bill, the tip, etc."
   ]
  },
  {
   "cell_type": "code",
   "execution_count": null,
   "id": "d378f8cf",
   "metadata": {
    "tags": [
     "hide-input"
    ]
   },
   "outputs": [
    {
     "name": "stdout",
     "output_type": "stream",
     "text": [
      "     total_bill   tip     sex smoker   day    time  size\n",
      "0         16.99  1.01  Female     No   Sun  Dinner     2\n",
      "1         10.34  1.66    Male     No   Sun  Dinner     3\n",
      "2         21.01  3.50    Male     No   Sun  Dinner     3\n",
      "3         23.68  3.31    Male     No   Sun  Dinner     2\n",
      "4         24.59  3.61  Female     No   Sun  Dinner     4\n",
      "..          ...   ...     ...    ...   ...     ...   ...\n",
      "239       29.03  5.92    Male     No   Sat  Dinner     3\n",
      "240       27.18  2.00  Female    Yes   Sat  Dinner     2\n",
      "241       22.67  2.00    Male    Yes   Sat  Dinner     2\n",
      "242       17.82  1.75    Male     No   Sat  Dinner     2\n",
      "243       18.78  3.00  Female     No  Thur  Dinner     2\n",
      "\n",
      "[244 rows x 7 columns]\n"
     ]
    }
   ],
   "source": [
    "# a simple data set built into the seaborn package\n",
    "\n",
    "import seaborn as sns\n",
    "\n",
    "tips = sns.load_dataset(\"tips\")\n",
    "\n",
    "print(tips)"
   ]
  },
  {
   "cell_type": "markdown",
   "id": "2a84d4bf",
   "metadata": {
    "slideshow": {
     "slide_type": "slide"
    }
   },
   "source": [
    "### Visualizing two or more random variables\n",
    "\n",
    "The usual ways of visualizing data sets are ways of visualizing random variables.\n",
    "\n",
    "This scatterplot shows how to visualize the 'total bill' and 'tip' random variables"
   ]
  },
  {
   "cell_type": "code",
   "execution_count": 15,
   "id": "a880798f",
   "metadata": {
    "tags": [
     "hide-input"
    ]
   },
   "outputs": [
    {
     "data": {
      "text/plain": [
       "<seaborn.axisgrid.FacetGrid at 0x1550f5f50>"
      ]
     },
     "execution_count": 15,
     "metadata": {},
     "output_type": "execute_result"
    },
    {
     "data": {
      "image/png": "[encoded data removed]",
      "text/plain": [
       "<Figure size 500x500 with 1 Axes>"
      ]
     },
     "metadata": {},
     "output_type": "display_data"
    }
   ],
   "source": [
    "# https://seaborn.pydata.org/tutorial/relational.html#\n",
    "\n",
    "\n",
    "sns.relplot(data=tips, x=\"total_bill\", y=\"tip\")\n"
   ]
  },
  {
   "cell_type": "markdown",
   "id": "2cefb6a4",
   "metadata": {
    "slideshow": {
     "slide_type": "slide"
    }
   },
   "source": [
    "### Number-theoretic functions applied to random variables\n",
    "\n",
    "If $X,Y:\\Omega\\rightarrow \\mathbb{R}$ are two random variables, then so are $X+Y$ and $X\\cdot Y$, and ditto for basically any reasonable function from reals to reals. \n",
    "\n"
   ]
  },
  {
   "cell_type": "markdown",
   "id": "81e48338",
   "metadata": {},
   "source": [
    "### Example of number theoretic functions applied to random variables\n",
    "\n",
    "$\\Omega =\\{0,1\\}^3 = \\{000, 001, 010, 011, 100, 101, 110, 111\\}$\n",
    "\n",
    "Let $X:\\Omega\\rightarrow \\mathbb{R}$ by $X(\\omega)=\\#$ of heads in $\\omega$. \n",
    "\n",
    "E.g. $X(001)=1$ and $X(110)=2$.\n",
    "\n",
    "Let $Y:\\Omega\\rightarrow \\mathbb{R}$ by $Y(\\omega)=$ the result of the first flip.\n",
    "\n",
    "E.g. $Y(001)=0$ and $Y(110)=1$.\n",
    "\n",
    "Then $(X+Y)(001)=1$ and $(X+Y)(110)=3$."
   ]
  },
  {
   "cell_type": "markdown",
   "id": "f3b9fc63",
   "metadata": {
    "slideshow": {
     "slide_type": "slide"
    }
   },
   "source": [
    "## Important idea (inducing propositions/events)\n",
    "\n",
    "Suppose that $X:\\Omega\\rightarrow \\mathbb{R}$ is a random variable. \n",
    "\n",
    "Suppose that $a$ is a real number.\n",
    "\n",
    "Then $\\{\\omega\\in \\Omega: X(\\omega)>a\\}$ is a subset of $\\Omega$.\n",
    "\n",
    "For instance, in our tip example, we could take $X$ to be the total bill and $a$ to be 40. We would get:"
   ]
  },
  {
   "cell_type": "code",
   "execution_count": 9,
   "id": "01bdd021",
   "metadata": {
    "tags": [
     "hide-input"
    ]
   },
   "outputs": [
    {
     "name": "stdout",
     "output_type": "stream",
     "text": [
      "     total_bill    tip     sex smoker   day    time  size\n",
      "59        48.27   6.73    Male     No   Sat  Dinner     4\n",
      "95        40.17   4.73    Male    Yes   Fri  Dinner     4\n",
      "102       44.30   2.50  Female    Yes   Sat  Dinner     3\n",
      "142       41.19   5.00    Male     No  Thur   Lunch     5\n",
      "156       48.17   5.00    Male     No   Sun  Dinner     6\n",
      "170       50.81  10.00    Male    Yes   Sat  Dinner     3\n",
      "182       45.35   3.50    Male    Yes   Sun  Dinner     3\n",
      "184       40.55   3.00    Male    Yes   Sun  Dinner     2\n",
      "197       43.11   5.00  Female    Yes  Thur   Lunch     4\n",
      "212       48.33   9.00    Male     No   Sat  Dinner     4\n"
     ]
    }
   ],
   "source": [
    "# returning to the tip example\n",
    "\n",
    "expensive = tips[tips['total_bill']>40]\n",
    "\n",
    "print(expensive)"
   ]
  },
  {
   "cell_type": "markdown",
   "id": "4c435d8b",
   "metadata": {
    "slideshow": {
     "slide_type": "slide"
    }
   },
   "source": [
    "### How in general to use a random variable to generate events / propositions\n",
    "\n",
    "For any subset $R\\subseteq \\mathbb{R}$, one has that $\\{\\omega\\in \\Omega: X(\\omega)\\in R\\}$ is a subset of $\\Omega$, i.e. an event or proposition.\n",
    "\n",
    "But this is kind of awkward looking, and so we often we just write $X\\in R$ for this set.\n",
    "\n",
    "Hence, continuing the earlier examples, we just speak of the event $X>a$, which just means the set $\\{\\omega\\in \\Omega: X(\\omega)>a\\}$.\n",
    "\n",
    "Likewise, we can talk about the event $a<X+Y\\leq b$. This just means the set $\\{\\omega: a<X(\\omega)+Y(\\omega)\\leq b\\}$."
   ]
  },
  {
   "cell_type": "markdown",
   "id": "7a2052e2",
   "metadata": {
    "slideshow": {
     "slide_type": "slide"
    }
   },
   "source": [
    "### One more note on notation in different disciplines\n",
    "\n",
    "We can add this event / proposition generating to the table\n",
    "\n",
    "|  | Philosophy | Probability | Logic | Math |\n",
    "|:----------:|:----------:|:----------:|:----------:|:----------:|\n",
    "|   $\\Omega$  |   Set of worlds  |   Sample space  | Set of models | Underlying set \n",
    "|   $\\{A: A\\subseteq \\Omega\\}$  |   Set of propositions  |   Event space  | Sets determined by formulas | Powerset of underlying set\n",
    "|   $X:\\Omega\\rightarrow \\mathbb{R}$  |  na  |   Random variable  | na | Real-valued function\n",
    "|   $\\{\\omega\\in \\Omega: X(\\omega)\\in R\\}$  |  na  |  the event $X\\in R$  | na | the set $X^{-1}(R)$, called the inverse image\n",
    "\n",
    "In this last one, $R$ is a subset of the reals $\\mathbb{R}$"
   ]
  },
  {
   "cell_type": "markdown",
   "id": "6596afca",
   "metadata": {},
   "source": []
  }
 ],
 "metadata": {
  "celltoolbar": "Slideshow",
  "kernelspec": {
   "display_name": "Python 3 (ipykernel)",
   "language": "python",
   "name": "python3"
  },
  "language_info": {
   "codemirror_mode": {
    "name": "ipython",
    "version": 3
   },
   "file_extension": ".py",
   "mimetype": "text/x-python",
   "name": "python",
   "nbconvert_exporter": "python",
   "pygments_lexer": "ipython3",
   "version": "3.11.5"
  }
 },
 "nbformat": 4,
 "nbformat_minor": 5
}
