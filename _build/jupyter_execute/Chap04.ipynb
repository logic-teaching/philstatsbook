{
 "cells": [
  {
   "cell_type": "markdown",
   "id": "d5b5b9e2",
   "metadata": {
    "slideshow": {
     "slide_type": "slide"
    }
   },
   "source": [
    "# Chapter 4"
   ]
  },
  {
   "cell_type": "markdown",
   "id": "61cc27ce",
   "metadata": {
    "slideshow": {
     "slide_type": "slide"
    }
   },
   "source": [
    "## Rules for expectation"
   ]
  },
  {
   "cell_type": "markdown",
   "id": "82179106",
   "metadata": {
    "slideshow": {
     "slide_type": "slide"
    }
   },
   "source": [
    "Recall the following definition from last time, where today we restrict to the finite case:\n",
    "\n",
    "**Definition (expectation)**\n",
    "\n",
    "If $X$ takes finitely many values, then we define its *expectation* to be \n",
    "\n",
    "$$\\mathbb{E} X = \\sum_x x\\cdot f_X(x) = \\sum_x x\\cdot P(X=x)$$\n",
    "\n",
    "The summation is over whatever the values are that the random variable takes.\n",
    "\n",
    "The expectation is also designated as $\\mu$, the Greek letter 'm', which is a mnemonic for 'mean' or 'average.'\n",
    "\n",
    "---\n"
   ]
  },
  {
   "cell_type": "markdown",
   "id": "1e7feea4",
   "metadata": {
    "slideshow": {
     "slide_type": "slide"
    }
   },
   "source": [
    "**The vivification**\n",
    "\n",
    "We need some simple example which can make these notions and rules vivid to us. \n",
    "\n",
    "Suppose that the worlds in $\\Omega$ represent your possible futures.\n",
    "\n",
    "Suppose that $X,Y$ are two random variables such that:\n",
    "\n",
    "- if you choose to act in an $X$-like way now, then $X(\\omega)$ represents your earnings in $\\omega$.\n",
    "\n",
    "- if you choose to act in a $Y$-like way now, then $Y(\\omega)$ represents your earnings in $\\omega$.\n",
    "\n",
    "You decide on a policy of choosing the random variable which has the larger expectation.\n",
    "\n",
    "Hence you will be in the market for some simple rules to calculate expectations, since you want to actually get to the numbers to be able to compare them.\n",
    "\n",
    "---"
   ]
  },
  {
   "cell_type": "markdown",
   "id": "93ff2eee",
   "metadata": {
    "slideshow": {
     "slide_type": "slide"
    }
   },
   "source": [
    "This was mentioned last time but we prove it now.\n",
    "\n",
    "**Example (expectation of Bernoulli)**\n",
    "\n",
    "Let $X\\sim \\mathrm{Bern}(p)$. Then $\\mathbb{E}X = p$.\n",
    "\n",
    "Proof: by definition (from last time), a random variable $X$ of this kind only two values:\n",
    "        \n",
    "- value 1, with probability $p$.\n",
    "- value 0, with probability $1-p$.\n",
    "\n",
    "Hence we have \n",
    "\n",
    "$$\\mathbb{E} X =\\sum_x x\\cdot P(X=x) =  1\\cdot P(X=1) +0\\cdot P(X=0)=  1\\cdot p + 0 \\cdot (1-p) = p$$"
   ]
  },
  {
   "cell_type": "markdown",
   "id": "f2527f99",
   "metadata": {
    "slideshow": {
     "slide_type": "slide"
    }
   },
   "source": [
    "**Returning to the vivification**\n",
    "\n",
    "Suppose you are choosing between \n",
    "\n",
    "$X\\sim \\mathrm{Bern}(.7)$ and $Y\\sim \\mathrm{Bern}(.9)$.\n",
    "\n",
    "By previous, one has $\\mathbb{E}X = .7$ and $\\mathbb{E}Y = .9$.\n",
    "\n",
    "Hence, you would choose $Y$.\n",
    "\n",
    "(This example is less than great since the numbers are tiny; we will revisit it in a few minutes)"
   ]
  },
  {
   "cell_type": "markdown",
   "id": "0de9d45b",
   "metadata": {
    "slideshow": {
     "slide_type": "slide"
    }
   },
   "source": [
    "The following alternate expressions is occasionally useful for developing the theory (although less than usual in practice):\n",
    "\n",
    "**Proposition (alternate characterization of expectation)**\n",
    "\n",
    "Suppose that $\\Omega =\\{\\omega_1, \\ldots, \\omega_n\\}$, where we enumerate these without repetition. Then\n",
    "\n",
    "$\\mathbb{E}X = \\sum_{i=1}^n X(\\omega_i) \\cdot P(\\{\\omega_i\\})$.\n",
    "\n",
    "In this expression $\\{\\omega_i\\}$ refers to the event of \"being equal to $\\omega_i$.\" That is, it is a singleton set or event. "
   ]
  },
  {
   "cell_type": "markdown",
   "id": "1f0e6eac",
   "metadata": {
    "slideshow": {
     "slide_type": "slide"
    }
   },
   "source": [
    "*Illustration* (if you get this, you'll see the proof)\n",
    "\n",
    "Suppose that $\\Omega = \\{\\omega_1, \\omega_2, \\omega_3\\}$ and $X(\\omega_1)=5$ and $X(\\omega_2)=6$ and $X(\\omega_3)=5$. \n",
    "\n",
    "Then $P(X=5) = P(\\{\\omega_1, \\omega_3\\})$ \n",
    "\n",
    "And $P(X=6) = P(\\{\\omega_2\\})$.\n",
    "\n",
    "Hence one has \n",
    "\n",
    "$\\mathbb{E}X = 5\\cdot P(X=5)+6\\cdot P(X=6)$\n",
    "\n",
    "$\\hspace{5mm} = 5\\cdot P(\\{\\omega_2\\})+6\\cdot P(\\{\\omega_1, \\omega_3\\})$\n",
    "\n",
    "$\\hspace{5mm} = 5\\cdot P(\\{\\omega_2\\})+6\\big (P(\\{\\omega_1\\})+ P(\\{\\omega_3\\})\\big)$\n",
    "\n",
    "$\\hspace{5mm} = 5\\cdot P(\\{\\omega_2\\})+6\\cdot P(\\{\\omega_1\\})+  6\\cdot P(\\{\\omega_3\\})$\n",
    "\n",
    "$\\hspace{5mm} = 6\\cdot P(\\{\\omega_1\\})+5\\cdot P(\\{\\omega_2\\})+  6\\cdot P(\\{\\omega_3\\})$\n",
    "\n",
    "$\\hspace{5mm} = \\sum_{i=1}^3 X(\\omega_i) \\cdot P(\\{\\omega_i\\})$"
   ]
  },
  {
   "cell_type": "markdown",
   "id": "ff969ff5",
   "metadata": {
    "slideshow": {
     "slide_type": "slide"
    }
   },
   "source": [
    "Most everything abstract that one wants to do with expectations follow from the following rules:\n",
    "\n",
    "**Proposition (rules for expectation)**\n",
    "\n",
    "Suppose that $X,Y$ are random variables and $c$ is a real number. Then:\n",
    "\n",
    "1. $\\mathbb{E}[X+Y] = \\mathbb{E}X+\\mathbb{E}Y$\n",
    "\n",
    "2. $\\mathbb{E}[c\\cdot X] = c\\cdot \\mathbb{E}X$\n",
    "\n",
    "3. $\\mathbb{E} c = c$ (in writing $\\mathbb{E} c$ are thinking of $c$ as the constant function which always outputs $c$).\n",
    "\n",
    "4. if $X\\geq 0$ everywhere, then $\\mathbb{E}X\\geq 0$.\n",
    "\n",
    "5. If $X\\geq Y$ everywhere, then $\\mathbb{E}X\\geq \\mathbb{E}Y$."
   ]
  },
  {
   "cell_type": "markdown",
   "id": "62cbad2a",
   "metadata": {
    "slideshow": {
     "slide_type": "slide"
    }
   },
   "source": [
    "**Returning to the vivification**\n",
    "\n",
    "Suppose you are choosing between $X=100\\cdot X'$ and $Y=100\\cdot Y'$ \n",
    "\n",
    "where $X'\\sim \\mathrm{Bern}(.7)$ and $Y'\\sim \\mathrm{Bern}(.9)$.\n",
    "\n",
    "By previous, one has $\\mathbb{E}X = 100\\cdot .7=70$ and $\\mathbb{E}Y = 100\\cdot .9=90$.\n",
    "\n",
    "Hence, you would choose $Y$."
   ]
  },
  {
   "cell_type": "markdown",
   "id": "dd323ec0",
   "metadata": {
    "slideshow": {
     "slide_type": "slide"
    }
   },
   "source": [
    "Prove 1: $\\mathbb{E}[X+Y] = \\mathbb{E}X+\\mathbb{E}Y$\n",
    "\n",
    "*Proof*: Let $Z=X+Y$ and use the alternate characterization\n",
    "\n",
    "$\\mathbb{E}[X+Y]=\\mathbb{E}[Z] =\\sum_{i=1}^n Z(\\omega_i) \\cdot P(\\{\\omega_i\\})$\n",
    "\n",
    "$\\hspace{10mm} = \\sum_{i=1}^n (X(\\omega_i)+Y(\\omega_i)) \\cdot P(\\{\\omega_i\\})$\n",
    "\n",
    "$\\hspace{10mm} = \\sum_{i=1}^n X(\\omega_i) \\cdot P(\\{\\omega_i\\}) + \\sum_{i=1}^n Y(\\omega_i) \\cdot P(\\{\\omega_i\\})$\n",
    "\n",
    "$\\hspace{10mm} = \\mathbb{E}[X]+\\mathbb{E}[Y]$"
   ]
  },
  {
   "cell_type": "markdown",
   "id": "e5dc18a9",
   "metadata": {
    "slideshow": {
     "slide_type": "slide"
    }
   },
   "source": [
    "Prove 2: $\\mathbb{E}[c\\cdot X] = c\\cdot \\mathbb{E}X$\n",
    "\n",
    "*Proof*: use the alternate characterization\n",
    "\n",
    "$\\mathbb{E}[c\\cdot X]=\\sum_{i=1}^n c\\cdot X(\\omega_i) \\cdot P(\\{\\omega_i\\})$\n",
    "\n",
    "$\\hspace{10mm} = c\\cdot \\sum_{i=1}^n X(\\omega_i) \\cdot P(\\{\\omega_i\\})$\n",
    "\n",
    "$\\hspace{10mm} = c\\cdot \\mathbb{E}[X]$."
   ]
  },
  {
   "cell_type": "markdown",
   "id": "55fdd0b2",
   "metadata": {
    "slideshow": {
     "slide_type": "slide"
    }
   },
   "source": [
    "Prove 3: $\\mathbb{E} c = c$\n",
    "\n",
    "*Proof*: use the alternate characterization\n",
    "\n",
    "$$\\mathbb{E} c = \\sum_{i=1}^n c \\cdot P(\\{\\omega_i\\}) = c\\cdot \\sum_{i=1}^n P(\\{\\omega_i\\}) = c \\cdot P(\\Omega)=c$$"
   ]
  },
  {
   "cell_type": "markdown",
   "id": "a7e5fb35",
   "metadata": {
    "slideshow": {
     "slide_type": "slide"
    }
   },
   "source": [
    "Prove 4: if $X\\geq 0$ everywhere, then $\\mathbb{E}X\\geq 0$.\n",
    "\n",
    "*Proof*: this is obvious from any characterization since it is a sum of non-negative numbers. "
   ]
  },
  {
   "cell_type": "markdown",
   "id": "bf429236",
   "metadata": {
    "slideshow": {
     "slide_type": "slide"
    }
   },
   "source": [
    "Prove 5: if $X\\geq Y$ everywhere, then $\\mathbb{E}X\\geq \\mathbb{E}Y$.\n",
    "\n",
    "*Proof*: use 1,4 and the fact that $X-Y\\geq 0$ eveywhere:\n",
    "\n",
    "$$\\mathbb{E}X = \\mathbb{E}[X-Y+Y] = \\mathbb{E}[X-Y]+\\mathbb{E}[Y]\\geq \\mathbb{E}[Y]$$"
   ]
  },
  {
   "cell_type": "markdown",
   "id": "c6a828c1",
   "metadata": {
    "slideshow": {
     "slide_type": "slide"
    }
   },
   "source": [
    "**Example (expectation of Binomial)**\n",
    "\n",
    "Suppose that $X\\sim \\mathrm{Binom}(n,p)$\n",
    "\n",
    "Then $\\mathbb{E}X = n\\cdot p$.\n",
    "\n",
    "*Proof*:\n",
    "\n",
    "Since $X$ is just the number of successes (1's) in $n$-many independent Bernoulli trials $X_1, \\ldots, X_n$, we have \n",
    "\n",
    "that $X=\\sum_{i=1}^n X_i$. Then we have \n",
    "\n",
    "$$\\mathbb{E}[X] = \\mathbb{E}[\\sum_{i=1}^n X_i] = \\sum_{i=1}^n \\mathbb{E}[X_i] = \\sum_{i=1}^n p = n\\cdot p$$"
   ]
  },
  {
   "cell_type": "markdown",
   "id": "036c5861",
   "metadata": {
    "slideshow": {
     "slide_type": "slide"
    }
   },
   "source": [
    "**Returning to the vivification**\n",
    "\n",
    "Suppose you are choosing between \n",
    "\n",
    "$X\\sim  \\mathrm{Binom}(3,.5)$ and $Y\\sim \\mathrm{Binom}(2,.7)$.\n",
    "\n",
    "E.g. $X\\sim$ \"three trials with fair chances\" vs. $Y\\sim$ \"two trials with more favorable chances.\"\n",
    "\n",
    "By previous, one has $\\mathbb{E}X = 1.5$ and $\\mathbb{E}Y = 1.4$.\n",
    "\n",
    "Hence, you would choose $X$.\n",
    "\n",
    "(To make the numbers bigger, multiply each by a big constant)."
   ]
  },
  {
   "cell_type": "code",
   "execution_count": 1,
   "id": "182e36f0",
   "metadata": {
    "slideshow": {
     "slide_type": "slide"
    }
   },
   "outputs": [
    {
     "name": "stdout",
     "output_type": "stream",
     "text": [
      "1.5 1.4\n"
     ]
    }
   ],
   "source": [
    "# Python functions for Binom(n,p)\n",
    "\n",
    "import numpy as np\n",
    "from scipy.stats import binom\n",
    "\n",
    "print(binom.mean(3,.5), binom.mean(2,.7))\n"
   ]
  },
  {
   "cell_type": "markdown",
   "id": "cb0a0d51",
   "metadata": {
    "slideshow": {
     "slide_type": "slide"
    }
   },
   "source": [
    "## Independence"
   ]
  },
  {
   "cell_type": "markdown",
   "id": "2c049b1a",
   "metadata": {
    "slideshow": {
     "slide_type": "slide"
    }
   },
   "source": [
    "**Definition (independence of events)**\n",
    "\n",
    "Two events $H,H^{\\prime}$ are *independent* if \n",
    "\n",
    "$P(H\\cap H^{\\prime}) = P(H)\\cdot P(H^{\\prime})$"
   ]
  },
  {
   "cell_type": "markdown",
   "id": "4f59496a",
   "metadata": {
    "slideshow": {
     "slide_type": "slide"
    }
   },
   "source": [
    "**Proposition (when evidence and hypothesis independent, the posterior and prior are same)**\n",
    "\n",
    "If $H,E$ independent of one another, then $$P(H|E)=P(H)$$\n",
    "\n",
    "*Proof*\n",
    "\n",
    "One has \n",
    "\n",
    "$P(H|E)=\\frac{P(H\\cap E)}{P(E)} = \\frac{P(H)\\cdot P(E)}{P(E)}=P(H)$."
   ]
  },
  {
   "cell_type": "markdown",
   "id": "df94d5ce",
   "metadata": {
    "slideshow": {
     "slide_type": "slide"
    }
   },
   "source": [
    "**Independence of random variables**\n",
    "\n",
    "Two random variables $X,Y$ are *independent* of one another if for all values $x,y$ one has\n",
    "\n",
    "$$P(X=x \\wedge Y=y) = P(X=x)\\cdot P(Y=y)$$\n",
    "\n",
    "This implies that for all subsets of reals $A,B$ one has \n",
    "\n",
    "$$P(X\\in A \\wedge Y\\in B) = P(X\\in A)\\cdot P(Y\\in B)$$\n",
    "\n",
    "For, just write out $A,B$ in terms of the worlds and apply the definition."
   ]
  },
  {
   "cell_type": "markdown",
   "id": "5c8fac9f",
   "metadata": {
    "slideshow": {
     "slide_type": "slide"
    }
   },
   "source": [
    "Three random variables $X,Y,Z$ are independent of one another if for all values $x,y,z$ one has \n",
    "\n",
    "$$P(X=x \\wedge Y=y \\wedge Z=z) = P(X=x)\\cdot P(Y=y)\\cdot P(Z=z)$$\n",
    "\n",
    "Similarly for longer lists. \n",
    "\n",
    "Infinite lists $X_1, \\ldots, X_n, \\ldots$ are independent of one another if for all $n\\geq 1$ one has that $X_1, \\ldots, X_n$ are independnet of one another. "
   ]
  },
  {
   "cell_type": "markdown",
   "id": "7e8fa6e4",
   "metadata": {
    "slideshow": {
     "slide_type": "slide"
    }
   },
   "source": [
    "**Proposition (effect of independence on expectation)**\n",
    "\n",
    "If random variables $X,Y$ are independent of one another, then \n",
    "\n",
    "$$\\mathbb{E}[X\\cdot Y] = \\mathbb{E}[X]\\cdot \\mathbb{E}[Y]$$\n",
    "\n",
    "*Proof (sketch)*\n",
    "\n",
    "$\\mathbb{E}[X]\\cdot \\mathbb{E}[Y] = (\\sum_{i=1}^m x_i \\cdot P(X=x_i))\\cdot (\\sum_{j=1}^n y_j \\cdot P(Y=y_j))$\n",
    "\n",
    "$\\hspace{5mm} =\\sum_{i=1}^m \\sum_{j=1}^n x_i \\cdot y_j \\cdot P(X=x_i)\\cdot P(Y=y_j)$\n",
    "\n",
    "$\\hspace{5mm} =\\sum_{i=1}^m \\sum_{j=1}^n x_i \\cdot y_j \\cdot P(X=x_i \\wedge Y=y_j)$ by independence\n",
    "\n",
    "$\\hspace{5mm} =\\sum_{k=1}^{\\ell} z_k \\cdot P(X\\cdot Y=z_k)$\n",
    "\n",
    "For the last step, given $k$, one collects together all the pairs $(i,j)$ with $x_i\\cdot y_j=z_k$. The associated event is the union of the events $X=x_i\\wedge Y=y_j$ over these pairs, which is equal to the event $X\\cdot Y = z_k$."
   ]
  },
  {
   "cell_type": "markdown",
   "id": "861979de",
   "metadata": {
    "slideshow": {
     "slide_type": "slide"
    }
   },
   "source": [
    "## Rules for variance"
   ]
  },
  {
   "cell_type": "markdown",
   "id": "a7f7eea5",
   "metadata": {
    "slideshow": {
     "slide_type": "slide"
    }
   },
   "source": [
    "Recall from last time:\n",
    "\n",
    "**Definition (variance)**\n",
    "\n",
    "We define the *variance* of $X$ to be the following\n",
    "\n",
    "$$\\mathrm{Var}(X) = \\mathbb{E}[(X-\\mu)^2]$$\n",
    "\n",
    "where recall that $\\mu$ is just another expression for $\\mathbb{E}X$.\n",
    "\n",
    "Intutively, variance is saying how much one expects the value to differ from its expectation. \n",
    "\n",
    "The variance is also abbreviated as $\\sigma^2$\n",
    "\n",
    "The 'square' is coming from the formula for distance in Euclidean space, namely $d(x,y) = \\sqrt{(x_1-x_2)^2 + (y_1-y_2)^2}$"
   ]
  },
  {
   "cell_type": "markdown",
   "id": "e6712394",
   "metadata": {
    "slideshow": {
     "slide_type": "slide"
    }
   },
   "source": [
    "**Definition (standard deviation)**\n",
    "\n",
    "We define the *standard deviation* of $X$ to be the following:\n",
    "\n",
    "$${sd}(X) = \\sqrt{\\mathrm{Var}(X)}$$\n",
    "\n",
    "We also use $\\sigma$ as an abbreviation for the standard deviation.\n",
    "\n",
    "Hence, you will see some authors write $\\sigma(X)$ for the standard deviation of $X$."
   ]
  },
  {
   "cell_type": "markdown",
   "id": "77fcda71",
   "metadata": {
    "slideshow": {
     "slide_type": "slide"
    }
   },
   "source": [
    "**Returning to the vivification**\n",
    "\n",
    "Earlier, your policy was to choose the random variable which has the larger expectation.\n",
    "\n",
    "But shouldn't you care about variance as well? \n",
    "\n",
    "If $X$ has large variance and $Y$ has small variance, then $X$ can vary a lot from its expectation, while $Y$ can vary just a little from its expectation.\n",
    "\n",
    "Ditto for standard deviation."
   ]
  },
  {
   "cell_type": "markdown",
   "id": "de4ec8f9",
   "metadata": {
    "slideshow": {
     "slide_type": "slide"
    }
   },
   "source": [
    "**Proposition**\n",
    "\n",
    "$$\\mathrm{Var}(X) = \\mathbb{E}[X^2] - (\\mathbb{E} X)^2$$\n",
    "\n",
    "*Proof*:\n",
    "\n",
    "From algebra $(X-\\mu)^2 = (X-\\mu)\\cdot (X-\\mu) = X^2 - 2\\mu \\cdot X +\\mu^2$.\n",
    "\n",
    "Then using the rules we have \n",
    "\n",
    "$$\\mathrm{Var}(X) =  \\mathbb{E}[X^2] -2\\mu \\mathbb{E}X +\\mu^2 =\\mathbb{E}[X^2] -2\\mu^2 +\\mu^2 =\\mathbb{E}[X^2] - (\\mathbb{E} X)^2$$"
   ]
  },
  {
   "cell_type": "markdown",
   "id": "32c3fd11",
   "metadata": {
    "slideshow": {
     "slide_type": "slide"
    }
   },
   "source": [
    "**Proposition**\n",
    "\n",
    "$$\\mathrm{Var}(cX+d) = c^2 \\mathrm{Var}(X)$$\n",
    "\n",
    "*Proof*:\n",
    "\n",
    "We give the proof when $d=0$ (the general case is not that much harder):\n",
    "\n",
    "$$\\mathrm{Var}(cX)= \\mathbb{E}[c^2 X^2]-c^2 (\\mathbb{E} X)^2 = c^2 (\\mathbb{E}[X^2]-(\\mathbb{E} X)^2) = c^2 \\cdot \\mathrm{Var}(X)$$ "
   ]
  },
  {
   "cell_type": "markdown",
   "id": "dbe7c9ca",
   "metadata": {
    "slideshow": {
     "slide_type": "slide"
    }
   },
   "source": [
    "**Example (variance of Bernoulli)**\n",
    "\n",
    "Let $X\\sim \\mathrm{Bern}(p)$. Then $\\mathrm{Var}(X) = p(1-p)$.\n",
    "\n",
    "*Proof*:\n",
    "\n",
    "by definition (from last time), a random variable $X$ of this kind only two values:\n",
    "        \n",
    "- value 1, with probability $p$.\n",
    "- value 0, with probability $1-p$.\n",
    "\n",
    "Since $1^2 = 1$ and $0^2 =0$, for this random variable we have $X^2 =X$.\n",
    "\n",
    "Hence we have \n",
    "\n",
    "$$\\mathrm{Var}(X) = \\mathbb{E}[X^2] - (\\mathbb{E} X)^2 = \\mathbb{E}[X] - (\\mathbb{E} X)^2=p-p^2 = p(1-p)$$"
   ]
  },
  {
   "cell_type": "markdown",
   "id": "cc7324ce",
   "metadata": {
    "slideshow": {
     "slide_type": "slide"
    }
   },
   "source": [
    "**Returning to the vivification**\n",
    "\n",
    "Suppose you are choosing between \n",
    "\n",
    "$X\\sim \\mathrm{Bern}(.7)$ and $Y\\sim \\mathrm{Bern}(.9)$.\n",
    "\n",
    "By earlier, one has $\\mathbb{E}X = .7$ and $\\mathbb{E}Y = .9$.\n",
    "\n",
    "By previous, one has $\\mathrm{Var}(X) = .21$ and $\\mathrm{Var}(Y) = .09$\n",
    "\n",
    "Hence, $Y$ has higher payoff, and there is a lower level of risk to it."
   ]
  },
  {
   "cell_type": "markdown",
   "id": "62a2ad9e",
   "metadata": {
    "slideshow": {
     "slide_type": "slide"
    }
   },
   "source": [
    "**Proposition (Variance and independence)**\n",
    "\n",
    "Suppose $X,Y$ are independent. Then $\\mathrm{Var}(X+Y) = \\mathrm{Var}(X)+\\mathrm{Var}(Y)$\n",
    "\n",
    "*Proof*\n",
    "\n",
    "From algebra $(X+Y)^2 = X^2 + 2XY+Y^2$.\n",
    "\n",
    "Let $\\mu=\\mathbb{E}[X]$ and $\\nu = \\mathbb{E}[Y]$. \n",
    "\n",
    "Then from independence we have  $\\mathbb{E}(X+Y)^2 = \\mathbb{E}X^2 + 2\\mu \\nu +\\mathbb{E}[Y^2]$\n",
    "\n",
    "From algebra $(\\mathbb{E}(X+Y))^2 = (\\mu+\\nu)^2 = \\mu^2+2\\mu\\nu+\\nu^2$.\n",
    "\n",
    "Hence $\\mathrm{Var}(X+Y) =  \\mathbb{E}X^2 -\\mu^2 + \\mathbb{E}[Y^2]-\\nu^2 = \\mathrm{Var}(X)+\\mathrm{Var}(Y)$."
   ]
  },
  {
   "cell_type": "markdown",
   "id": "8d06073f",
   "metadata": {
    "slideshow": {
     "slide_type": "slide"
    }
   },
   "source": [
    "**Proposition (Root n rule)**\n",
    "\n",
    "Suppose that $X_1, \\ldots, X_n$ are independent each with standard deviation $\\sigma$ and variation $\\sigma^2$.\n",
    "\n",
    "Let $\\overline{X} = \\frac{X_1+\\cdots +X_n}{n}$\n",
    "\n",
    "Then the standard deviation of $\\overline{X}$ is $\\frac{\\sigma}{\\sqrt{n}}$. \n",
    "\n",
    "*Proof*\n",
    "\n",
    "One has \n",
    "\n",
    "$\\mathrm{Var}(\\overline{X}) = \\sum_{i=1}^n \\mathrm{Var}(\\frac{X_i}{n})$ by independence\n",
    "\n",
    "$\\hspace{5mm} = \\sum_{i=1}  \\cdot \\mathrm{Var}(X_i)$ by earlier proposition\n",
    "\n",
    "$\\hspace{5mm} = \\frac{1}{n^2} \\sum_{i=1}  \\mathrm{Var}(X_i)$\n",
    "\n",
    "$\\hspace{5mm} = \\frac{1}{n^2} \\cdot n \\cdot \\sigma^2 = \\frac{\\sigma^2}{n}$."
   ]
  },
  {
   "cell_type": "markdown",
   "id": "643d3653",
   "metadata": {
    "slideshow": {
     "slide_type": "slide"
    }
   },
   "source": [
    "**Example (Variance of Binomial)**\n",
    "\n",
    "Let $X\\sim \\mathrm{Binom}(n,p)$. Then $\\mathrm{Var}(X) = n \\cdot p (1-p)$\n",
    "\n",
    "*Proof*\n",
    "\n",
    "Suppose that e.g. $n=2$ and $X=Y+Z$, where $Y,Z\\sim \\mathrm{Bern}(p)$. \n",
    "\n",
    "Then one has $\\mathrm{Var}(X)=\\mathrm{Var}(Y+Z) = \\mathrm{Var}(Y)+\\mathrm{Var}(Z) = p(1-p)+p(1-p)=2\\cdot p(1-p)$"
   ]
  },
  {
   "cell_type": "markdown",
   "id": "78cfcbd7",
   "metadata": {
    "slideshow": {
     "slide_type": "slide"
    }
   },
   "source": [
    "**Returning to the vivification**\n",
    "\n",
    "Suppose you are choosing between \n",
    "\n",
    "$X\\sim  \\mathrm{Binom}(3,.5)$ and $Y\\sim \\mathrm{Binom}(2,.7)$.\n",
    "\n",
    "By earlier, one has $\\mathbb{E}X = 1.5$ and $\\mathbb{E}Y = 1.4$.\n",
    "\n",
    "By previous, one has $\\mathrm{Var}(X) = .75$ and $\\mathrm{Var}(Y) = .42$\n",
    "\n",
    "So $Y$ has something to recommend to it: being a little less risky in a certain sense."
   ]
  },
  {
   "cell_type": "markdown",
   "id": "31c0fadd",
   "metadata": {
    "slideshow": {
     "slide_type": "slide"
    }
   },
   "source": [
    "## Normal distribution"
   ]
  },
  {
   "cell_type": "markdown",
   "id": "8598fb24",
   "metadata": {
    "slideshow": {
     "slide_type": "slide"
    }
   },
   "source": [
    "**Definition (normal distribution)**\n",
    "\n",
    "A random variable $X$ has normal distribution $X\\sim N(\\mu,\\sigma^2)$ if it has \n",
    "\n",
    "- Expectation: $\\mu$\n",
    "\n",
    "- Variance: $\\sigma^2$\n",
    "\n",
    "- pdf: $f(x) = \\frac{1}{\\sigma\\sqrt{2\\pi}} e^{-\\frac{1}{2}(\\frac{x-\\mu}{\\sigma})^2}$\n",
    "\n",
    "- cdf: $F(x) = \\int_{-\\infty}^x f(x) dx$ (i.e. the area under the curve, for which there is no easy formula)\n",
    "\n",
    "- ccdf: $\\overline{F}(x) = 1-F(x)$ (for which there is no easy formula)\n",
    "\n",
    "---\n"
   ]
  },
  {
   "cell_type": "markdown",
   "id": "8ea5c552",
   "metadata": {
    "slideshow": {
     "slide_type": "slide"
    }
   },
   "source": [
    "These random variables take as many values as there are real numbers. \n",
    "\n",
    "Hence the pdf no longer answers the question \"what exactly is the probability of a certain outcome.\"\n",
    "\n",
    "But the cdf still answers the question \"what is the probability of having an outcome less than or equal to a given number.\""
   ]
  },
  {
   "cell_type": "code",
   "execution_count": 2,
   "id": "51ecae5a",
   "metadata": {
    "slideshow": {
     "slide_type": "slide"
    }
   },
   "outputs": [],
   "source": [
    "## python commands for basic math and stats packages\n",
    "\n",
    "import numpy as np\n",
    "import matplotlib.pyplot as plt\n",
    "\n",
    "from scipy.stats import norm\n",
    "from scipy.stats import pareto\n",
    "\n",
    "from ipywidgets import interact, interactive, fixed, interact_manual\n",
    "import ipywidgets as widgets"
   ]
  },
  {
   "cell_type": "code",
   "execution_count": 3,
   "id": "b4084e85",
   "metadata": {
    "slideshow": {
     "slide_type": "slide"
    }
   },
   "outputs": [],
   "source": [
    "def Normvisual(mu,var):\n",
    "    x = np.linspace(-10, 10, 1000) # values for x-axis\n",
    "    y1 = norm.pdf(x, mu, var) # pdf \n",
    "    y2 = norm.cdf(x, mu, var) # cdf\n",
    "    y3 = 1-y2               # ccdf \n",
    "\n",
    "    fig, axs = plt.subplots(1, 3, figsize=(10, 5))  # 1 row, 3 columns\n",
    "    \n",
    "    # Plot the PDF on the first subplot\n",
    "    axs[0].plot(x, y1)\n",
    "    axs[0].set_ylim(0, .5)\n",
    "    axs[0].set_title('pdf')\n",
    "\n",
    "    # Plot the CDF on the second subplot\n",
    "    axs[1].plot(x, y2)\n",
    "    axs[1].set_ylim(0, 1.1)\n",
    "    axs[1].set_title('cdf')\n",
    "\n",
    "    # Plot the CCDF on the third subplot\n",
    "    axs[2].plot(x, y3)\n",
    "    axs[2].set_ylim(0, 1.1)\n",
    "    axs[2].set_title('ccdf')\n",
    "    \n",
    "    plt.show()"
   ]
  },
  {
   "cell_type": "code",
   "execution_count": 4,
   "id": "58d1d7ee",
   "metadata": {
    "slideshow": {
     "slide_type": "slide"
    }
   },
   "outputs": [
    {
     "data": {
      "application/vnd.jupyter.widget-view+json": {
       "model_id": "fdc3233e6305491e8913041d403aaf34",
       "version_major": 2,
       "version_minor": 0
      },
      "text/plain": [
       "interactive(children=(FloatSlider(value=0.0, description='mu', max=10.0, min=-10.0), FloatSlider(value=1.0, de…"
      ]
     },
     "metadata": {},
     "output_type": "display_data"
    },
    {
     "data": {
      "text/plain": [
       "<function __main__.Normvisual(mu, var)>"
      ]
     },
     "execution_count": 4,
     "metadata": {},
     "output_type": "execute_result"
    }
   ],
   "source": [
    "# visualizing the normal distribution \n",
    "\n",
    "interact(Normvisual, mu=(-10, 10, .1), var=(0, 2, 0.1))"
   ]
  },
  {
   "cell_type": "markdown",
   "id": "a4ba2f2f",
   "metadata": {
    "slideshow": {
     "slide_type": "slide"
    }
   },
   "source": [
    "## Pareto distribution"
   ]
  },
  {
   "cell_type": "markdown",
   "id": "f0ac5d42",
   "metadata": {
    "slideshow": {
     "slide_type": "slide"
    }
   },
   "source": [
    "**Definition (Pareto distribution)**\n",
    "\n",
    "A random variable $X$ has *Praeto distribution* with shape $b$ and scale $\\alpha$ if $X\\sim \\mathrm{Pareto}(b, \\alpha)$ if $b>0$ and $\\alpha>2$ and it has \n",
    "\n",
    "- Expectation: $\\alpha\\cdot \\frac{b}{\\alpha-1}$\n",
    "\n",
    "- Variance: $\\frac{\\alpha}{\\alpha-2}\\cdot \\frac{b}{\\alpha-1}$\n",
    "\n",
    "- pdf: $f(x) = \\frac{\\alpha \\cdot b^{\\alpha}}{x^{\\alpha+1}}$ if $x\\geq b$, otherwise $f(x)=0$.\n",
    "\n",
    "- cdf: $F(x) =1-(\\frac{b}{x})^{\\alpha}$  if $x\\geq b$, otherwise $F(x)=1$.\n",
    "\n",
    "- ccdf: $\\overline{F}(x) = (\\frac{b}{x})^{\\alpha}$\n"
   ]
  },
  {
   "cell_type": "code",
   "execution_count": 5,
   "id": "01ade13a",
   "metadata": {
    "slideshow": {
     "slide_type": "slide"
    }
   },
   "outputs": [
    {
     "data": {
      "image/png": "[encoded data removed]",
      "text/plain": [
       "<Figure size 640x480 with 1 Axes>"
      ]
     },
     "metadata": {},
     "output_type": "display_data"
    }
   ],
   "source": [
    "# Define the shape and scale parameters\n",
    "b = 2.62  # shape\n",
    "scale = 4  # scale\n",
    "\n",
    "# Generate a range of values\n",
    "x = np.linspace(1, 10, 1000)\n",
    "\n",
    "# Calculate the PDF (Probability Density Function) for these values\n",
    "pdf = pareto.pdf(x, b, scale)\n",
    "\n",
    "# Plot the PDF\n",
    "plt.plot(x, pdf)\n",
    "\n",
    "plt.title('Pareto Distribution')\n",
    "plt.xlabel('Value')\n",
    "plt.ylabel('Probability Density')\n",
    "plt.show()"
   ]
  },
  {
   "cell_type": "code",
   "execution_count": 6,
   "id": "8b171c44",
   "metadata": {
    "slideshow": {
     "slide_type": "slide"
    }
   },
   "outputs": [],
   "source": [
    "def Paretovisual(b,alpha):\n",
    "    x = np.linspace(0, 10, 1000) # values for x-axis\n",
    "    y1 = pareto.pdf(x, b, alpha) # pdf \n",
    "    y2 = pareto.cdf(x, b, alpha) # cdf\n",
    "    y3 = 1-y2               # ccdf \n",
    "\n",
    "    fig, axs = plt.subplots(1, 3, figsize=(10, 5))  # 1 row, 3 columns\n",
    "    \n",
    "    # Plot the PDF on the first subplot\n",
    "    axs[0].plot(x, y1)\n",
    "    axs[0].set_ylim(0, 2.5)\n",
    "    axs[0].set_title('pdf')\n",
    "\n",
    "    # Plot the CDF on the second subplot\n",
    "    axs[1].plot(x, y2)\n",
    "    axs[1].set_ylim(0, 1.1)\n",
    "    axs[1].set_title('cdf')\n",
    "\n",
    "    # Plot the CCDF on the third subplot\n",
    "    axs[2].plot(x, y3)\n",
    "    axs[2].set_ylim(0, 1.1)\n",
    "    axs[2].set_title('ccdf')\n",
    "    \n",
    "    plt.show()"
   ]
  },
  {
   "cell_type": "code",
   "execution_count": 7,
   "id": "c132a627",
   "metadata": {
    "slideshow": {
     "slide_type": "slide"
    }
   },
   "outputs": [
    {
     "data": {
      "application/vnd.jupyter.widget-view+json": {
       "model_id": "f8a1fccdb92348d0825a74ca6abf9db4",
       "version_major": 2,
       "version_minor": 0
      },
      "text/plain": [
       "interactive(children=(FloatSlider(value=3.0, description='b', max=5.0, min=1.0), FloatSlider(value=3.0, descri…"
      ]
     },
     "metadata": {},
     "output_type": "display_data"
    },
    {
     "data": {
      "text/plain": [
       "<function __main__.Paretovisual(b, alpha)>"
      ]
     },
     "execution_count": 7,
     "metadata": {},
     "output_type": "execute_result"
    }
   ],
   "source": [
    "# visualizing the Pareto distribution \n",
    "\n",
    "interact(Paretovisual, b=(1, 5, .1), alpha=(1, 5, 0.1))"
   ]
  }
 ],
 "metadata": {
  "celltoolbar": "Slideshow",
  "kernelspec": {
   "display_name": "Python 3 (ipykernel)",
   "language": "python",
   "name": "python3"
  },
  "language_info": {
   "codemirror_mode": {
    "name": "ipython",
    "version": 3
   },
   "file_extension": ".py",
   "mimetype": "text/x-python",
   "name": "python",
   "nbconvert_exporter": "python",
   "pygments_lexer": "ipython3",
   "version": "3.11.5"
  },
  "widgets": {
   "application/vnd.jupyter.widget-state+json": {
    "state": {
     "0001230c15dd4b2e823f4685acc51121": {
      "model_module": "@jupyter-widgets/base",
      "model_module_version": "2.0.0",
      "model_name": "LayoutModel",
      "state": {
       "_model_module": "@jupyter-widgets/base",
       "_model_module_version": "2.0.0",
       "_model_name": "LayoutModel",
       "_view_count": null,
       "_view_module": "@jupyter-widgets/base",
       "_view_module_version": "2.0.0",
       "_view_name": "LayoutView",
       "align_content": null,
       "align_items": null,
       "align_self": null,
       "border_bottom": null,
       "border_left": null,
       "border_right": null,
       "border_top": null,
       "bottom": null,
       "display": null,
       "flex": null,
       "flex_flow": null,
       "grid_area": null,
       "grid_auto_columns": null,
       "grid_auto_flow": null,
       "grid_auto_rows": null,
       "grid_column": null,
       "grid_gap": null,
       "grid_row": null,
       "grid_template_areas": null,
       "grid_template_columns": null,
       "grid_template_rows": null,
       "height": null,
       "justify_content": null,
       "justify_items": null,
       "left": null,
       "margin": null,
       "max_height": null,
       "max_width": null,
       "min_height": null,
       "min_width": null,
       "object_fit": null,
       "object_position": null,
       "order": null,
       "overflow": null,
       "padding": null,
       "right": null,
       "top": null,
       "visibility": null,
       "width": null
      }
     },
     "19b3ac51ef39485baac661cf8344902a": {
      "model_module": "@jupyter-widgets/base",
      "model_module_version": "2.0.0",
      "model_name": "LayoutModel",
      "state": {
       "_model_module": "@jupyter-widgets/base",
       "_model_module_version": "2.0.0",
       "_model_name": "LayoutModel",
       "_view_count": null,
       "_view_module": "@jupyter-widgets/base",
       "_view_module_version": "2.0.0",
       "_view_name": "LayoutView",
       "align_content": null,
       "align_items": null,
       "align_self": null,
       "border_bottom": null,
       "border_left": null,
       "border_right": null,
       "border_top": null,
       "bottom": null,
       "display": null,
       "flex": null,
       "flex_flow": null,
       "grid_area": null,
       "grid_auto_columns": null,
       "grid_auto_flow": null,
       "grid_auto_rows": null,
       "grid_column": null,
       "grid_gap": null,
       "grid_row": null,
       "grid_template_areas": null,
       "grid_template_columns": null,
       "grid_template_rows": null,
       "height": null,
       "justify_content": null,
       "justify_items": null,
       "left": null,
       "margin": null,
       "max_height": null,
       "max_width": null,
       "min_height": null,
       "min_width": null,
       "object_fit": null,
       "object_position": null,
       "order": null,
       "overflow": null,
       "padding": null,
       "right": null,
       "top": null,
       "visibility": null,
       "width": null
      }
     },
     "2496639ec58a4f9da597d59910f7d2e6": {
      "model_module": "@jupyter-widgets/controls",
      "model_module_version": "2.0.0",
      "model_name": "SliderStyleModel",
      "state": {
       "_model_module": "@jupyter-widgets/controls",
       "_model_module_version": "2.0.0",
       "_model_name": "SliderStyleModel",
       "_view_count": null,
       "_view_module": "@jupyter-widgets/base",
       "_view_module_version": "2.0.0",
       "_view_name": "StyleView",
       "description_width": "",
       "handle_color": null
      }
     },
     "2734c084ada647f7b377ea03aa42f04c": {
      "model_module": "@jupyter-widgets/base",
      "model_module_version": "2.0.0",
      "model_name": "LayoutModel",
      "state": {
       "_model_module": "@jupyter-widgets/base",
       "_model_module_version": "2.0.0",
       "_model_name": "LayoutModel",
       "_view_count": null,
       "_view_module": "@jupyter-widgets/base",
       "_view_module_version": "2.0.0",
       "_view_name": "LayoutView",
       "align_content": null,
       "align_items": null,
       "align_self": null,
       "border_bottom": null,
       "border_left": null,
       "border_right": null,
       "border_top": null,
       "bottom": null,
       "display": null,
       "flex": null,
       "flex_flow": null,
       "grid_area": null,
       "grid_auto_columns": null,
       "grid_auto_flow": null,
       "grid_auto_rows": null,
       "grid_column": null,
       "grid_gap": null,
       "grid_row": null,
       "grid_template_areas": null,
       "grid_template_columns": null,
       "grid_template_rows": null,
       "height": null,
       "justify_content": null,
       "justify_items": null,
       "left": null,
       "margin": null,
       "max_height": null,
       "max_width": null,
       "min_height": null,
       "min_width": null,
       "object_fit": null,
       "object_position": null,
       "order": null,
       "overflow": null,
       "padding": null,
       "right": null,
       "top": null,
       "visibility": null,
       "width": null
      }
     },
     "4f557bb84679446e86af4cb8defdda48": {
      "model_module": "@jupyter-widgets/output",
      "model_module_version": "1.0.0",
      "model_name": "OutputModel",
      "state": {
       "_dom_classes": [],
       "_model_module": "@jupyter-widgets/output",
       "_model_module_version": "1.0.0",
       "_model_name": "OutputModel",
       "_view_count": null,
       "_view_module": "@jupyter-widgets/output",
       "_view_module_version": "1.0.0",
       "_view_name": "OutputView",
       "layout": "IPY_MODEL_e12570ebb2064e3a8cf2f356708ea8e6",
       "msg_id": "",
       "outputs": [
        {
         "data": {
          "image/png": "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",
          "text/plain": "<Figure size 1000x500 with 3 Axes>"
         },
         "metadata": {},
         "output_type": "display_data"
        }
       ],
       "tabbable": null,
       "tooltip": null
      }
     },
     "54449d2ed9b94ce38a91cc636064c655": {
      "model_module": "@jupyter-widgets/base",
      "model_module_version": "2.0.0",
      "model_name": "LayoutModel",
      "state": {
       "_model_module": "@jupyter-widgets/base",
       "_model_module_version": "2.0.0",
       "_model_name": "LayoutModel",
       "_view_count": null,
       "_view_module": "@jupyter-widgets/base",
       "_view_module_version": "2.0.0",
       "_view_name": "LayoutView",
       "align_content": null,
       "align_items": null,
       "align_self": null,
       "border_bottom": null,
       "border_left": null,
       "border_right": null,
       "border_top": null,
       "bottom": null,
       "display": null,
       "flex": null,
       "flex_flow": null,
       "grid_area": null,
       "grid_auto_columns": null,
       "grid_auto_flow": null,
       "grid_auto_rows": null,
       "grid_column": null,
       "grid_gap": null,
       "grid_row": null,
       "grid_template_areas": null,
       "grid_template_columns": null,
       "grid_template_rows": null,
       "height": null,
       "justify_content": null,
       "justify_items": null,
       "left": null,
       "margin": null,
       "max_height": null,
       "max_width": null,
       "min_height": null,
       "min_width": null,
       "object_fit": null,
       "object_position": null,
       "order": null,
       "overflow": null,
       "padding": null,
       "right": null,
       "top": null,
       "visibility": null,
       "width": null
      }
     },
     "59af91dc14c144448321f7eed57962e3": {
      "model_module": "@jupyter-widgets/output",
      "model_module_version": "1.0.0",
      "model_name": "OutputModel",
      "state": {
       "_dom_classes": [],
       "_model_module": "@jupyter-widgets/output",
       "_model_module_version": "1.0.0",
       "_model_name": "OutputModel",
       "_view_count": null,
       "_view_module": "@jupyter-widgets/output",
       "_view_module_version": "1.0.0",
       "_view_name": "OutputView",
       "layout": "IPY_MODEL_9cd49f4b753e4005b8a81a2d401aef8d",
       "msg_id": "",
       "outputs": [
        {
         "data": {
          "image/png": "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",
          "text/plain": "<Figure size 1000x500 with 3 Axes>"
         },
         "metadata": {},
         "output_type": "display_data"
        }
       ],
       "tabbable": null,
       "tooltip": null
      }
     },
     "5dcef6aa8b2b4bb193c957c03076c5d7": {
      "model_module": "@jupyter-widgets/base",
      "model_module_version": "2.0.0",
      "model_name": "LayoutModel",
      "state": {
       "_model_module": "@jupyter-widgets/base",
       "_model_module_version": "2.0.0",
       "_model_name": "LayoutModel",
       "_view_count": null,
       "_view_module": "@jupyter-widgets/base",
       "_view_module_version": "2.0.0",
       "_view_name": "LayoutView",
       "align_content": null,
       "align_items": null,
       "align_self": null,
       "border_bottom": null,
       "border_left": null,
       "border_right": null,
       "border_top": null,
       "bottom": null,
       "display": null,
       "flex": null,
       "flex_flow": null,
       "grid_area": null,
       "grid_auto_columns": null,
       "grid_auto_flow": null,
       "grid_auto_rows": null,
       "grid_column": null,
       "grid_gap": null,
       "grid_row": null,
       "grid_template_areas": null,
       "grid_template_columns": null,
       "grid_template_rows": null,
       "height": null,
       "justify_content": null,
       "justify_items": null,
       "left": null,
       "margin": null,
       "max_height": null,
       "max_width": null,
       "min_height": null,
       "min_width": null,
       "object_fit": null,
       "object_position": null,
       "order": null,
       "overflow": null,
       "padding": null,
       "right": null,
       "top": null,
       "visibility": null,
       "width": null
      }
     },
     "5fbfa7f8283c4c63a7c1bec475e25700": {
      "model_module": "@jupyter-widgets/controls",
      "model_module_version": "2.0.0",
      "model_name": "SliderStyleModel",
      "state": {
       "_model_module": "@jupyter-widgets/controls",
       "_model_module_version": "2.0.0",
       "_model_name": "SliderStyleModel",
       "_view_count": null,
       "_view_module": "@jupyter-widgets/base",
       "_view_module_version": "2.0.0",
       "_view_name": "StyleView",
       "description_width": "",
       "handle_color": null
      }
     },
     "78547203128a41f1b31d34f422d473ac": {
      "model_module": "@jupyter-widgets/base",
      "model_module_version": "2.0.0",
      "model_name": "LayoutModel",
      "state": {
       "_model_module": "@jupyter-widgets/base",
       "_model_module_version": "2.0.0",
       "_model_name": "LayoutModel",
       "_view_count": null,
       "_view_module": "@jupyter-widgets/base",
       "_view_module_version": "2.0.0",
       "_view_name": "LayoutView",
       "align_content": null,
       "align_items": null,
       "align_self": null,
       "border_bottom": null,
       "border_left": null,
       "border_right": null,
       "border_top": null,
       "bottom": null,
       "display": null,
       "flex": null,
       "flex_flow": null,
       "grid_area": null,
       "grid_auto_columns": null,
       "grid_auto_flow": null,
       "grid_auto_rows": null,
       "grid_column": null,
       "grid_gap": null,
       "grid_row": null,
       "grid_template_areas": null,
       "grid_template_columns": null,
       "grid_template_rows": null,
       "height": null,
       "justify_content": null,
       "justify_items": null,
       "left": null,
       "margin": null,
       "max_height": null,
       "max_width": null,
       "min_height": null,
       "min_width": null,
       "object_fit": null,
       "object_position": null,
       "order": null,
       "overflow": null,
       "padding": null,
       "right": null,
       "top": null,
       "visibility": null,
       "width": null
      }
     },
     "81e23d14b41a4990a623b42dec923f2f": {
      "model_module": "@jupyter-widgets/controls",
      "model_module_version": "2.0.0",
      "model_name": "SliderStyleModel",
      "state": {
       "_model_module": "@jupyter-widgets/controls",
       "_model_module_version": "2.0.0",
       "_model_name": "SliderStyleModel",
       "_view_count": null,
       "_view_module": "@jupyter-widgets/base",
       "_view_module_version": "2.0.0",
       "_view_name": "StyleView",
       "description_width": "",
       "handle_color": null
      }
     },
     "9cd49f4b753e4005b8a81a2d401aef8d": {
      "model_module": "@jupyter-widgets/base",
      "model_module_version": "2.0.0",
      "model_name": "LayoutModel",
      "state": {
       "_model_module": "@jupyter-widgets/base",
       "_model_module_version": "2.0.0",
       "_model_name": "LayoutModel",
       "_view_count": null,
       "_view_module": "@jupyter-widgets/base",
       "_view_module_version": "2.0.0",
       "_view_name": "LayoutView",
       "align_content": null,
       "align_items": null,
       "align_self": null,
       "border_bottom": null,
       "border_left": null,
       "border_right": null,
       "border_top": null,
       "bottom": null,
       "display": null,
       "flex": null,
       "flex_flow": null,
       "grid_area": null,
       "grid_auto_columns": null,
       "grid_auto_flow": null,
       "grid_auto_rows": null,
       "grid_column": null,
       "grid_gap": null,
       "grid_row": null,
       "grid_template_areas": null,
       "grid_template_columns": null,
       "grid_template_rows": null,
       "height": null,
       "justify_content": null,
       "justify_items": null,
       "left": null,
       "margin": null,
       "max_height": null,
       "max_width": null,
       "min_height": null,
       "min_width": null,
       "object_fit": null,
       "object_position": null,
       "order": null,
       "overflow": null,
       "padding": null,
       "right": null,
       "top": null,
       "visibility": null,
       "width": null
      }
     },
     "a06b0a0103d744388aaf1d33770b3b23": {
      "model_module": "@jupyter-widgets/controls",
      "model_module_version": "2.0.0",
      "model_name": "SliderStyleModel",
      "state": {
       "_model_module": "@jupyter-widgets/controls",
       "_model_module_version": "2.0.0",
       "_model_name": "SliderStyleModel",
       "_view_count": null,
       "_view_module": "@jupyter-widgets/base",
       "_view_module_version": "2.0.0",
       "_view_name": "StyleView",
       "description_width": "",
       "handle_color": null
      }
     },
     "b0982e516a31473eb192f06da52d5002": {
      "model_module": "@jupyter-widgets/controls",
      "model_module_version": "2.0.0",
      "model_name": "FloatSliderModel",
      "state": {
       "_dom_classes": [],
       "_model_module": "@jupyter-widgets/controls",
       "_model_module_version": "2.0.0",
       "_model_name": "FloatSliderModel",
       "_view_count": null,
       "_view_module": "@jupyter-widgets/controls",
       "_view_module_version": "2.0.0",
       "_view_name": "FloatSliderView",
       "behavior": "drag-tap",
       "continuous_update": true,
       "description": "b",
       "description_allow_html": false,
       "disabled": false,
       "layout": "IPY_MODEL_78547203128a41f1b31d34f422d473ac",
       "max": 5.0,
       "min": 1.0,
       "orientation": "horizontal",
       "readout": true,
       "readout_format": ".2f",
       "step": 0.1,
       "style": "IPY_MODEL_5fbfa7f8283c4c63a7c1bec475e25700",
       "tabbable": null,
       "tooltip": null,
       "value": 3.0
      }
     },
     "b4cdc854999a451fb1570be4ea44ba9f": {
      "model_module": "@jupyter-widgets/controls",
      "model_module_version": "2.0.0",
      "model_name": "FloatSliderModel",
      "state": {
       "_dom_classes": [],
       "_model_module": "@jupyter-widgets/controls",
       "_model_module_version": "2.0.0",
       "_model_name": "FloatSliderModel",
       "_view_count": null,
       "_view_module": "@jupyter-widgets/controls",
       "_view_module_version": "2.0.0",
       "_view_name": "FloatSliderView",
       "behavior": "drag-tap",
       "continuous_update": true,
       "description": "var",
       "description_allow_html": false,
       "disabled": false,
       "layout": "IPY_MODEL_19b3ac51ef39485baac661cf8344902a",
       "max": 2.0,
       "min": 0.0,
       "orientation": "horizontal",
       "readout": true,
       "readout_format": ".2f",
       "step": 0.1,
       "style": "IPY_MODEL_2496639ec58a4f9da597d59910f7d2e6",
       "tabbable": null,
       "tooltip": null,
       "value": 1.0
      }
     },
     "c2206c89614349188b73968bc2a4e8fe": {
      "model_module": "@jupyter-widgets/controls",
      "model_module_version": "2.0.0",
      "model_name": "FloatSliderModel",
      "state": {
       "_dom_classes": [],
       "_model_module": "@jupyter-widgets/controls",
       "_model_module_version": "2.0.0",
       "_model_name": "FloatSliderModel",
       "_view_count": null,
       "_view_module": "@jupyter-widgets/controls",
       "_view_module_version": "2.0.0",
       "_view_name": "FloatSliderView",
       "behavior": "drag-tap",
       "continuous_update": true,
       "description": "mu",
       "description_allow_html": false,
       "disabled": false,
       "layout": "IPY_MODEL_5dcef6aa8b2b4bb193c957c03076c5d7",
       "max": 10.0,
       "min": -10.0,
       "orientation": "horizontal",
       "readout": true,
       "readout_format": ".2f",
       "step": 0.1,
       "style": "IPY_MODEL_a06b0a0103d744388aaf1d33770b3b23",
       "tabbable": null,
       "tooltip": null,
       "value": 0.0
      }
     },
     "e12570ebb2064e3a8cf2f356708ea8e6": {
      "model_module": "@jupyter-widgets/base",
      "model_module_version": "2.0.0",
      "model_name": "LayoutModel",
      "state": {
       "_model_module": "@jupyter-widgets/base",
       "_model_module_version": "2.0.0",
       "_model_name": "LayoutModel",
       "_view_count": null,
       "_view_module": "@jupyter-widgets/base",
       "_view_module_version": "2.0.0",
       "_view_name": "LayoutView",
       "align_content": null,
       "align_items": null,
       "align_self": null,
       "border_bottom": null,
       "border_left": null,
       "border_right": null,
       "border_top": null,
       "bottom": null,
       "display": null,
       "flex": null,
       "flex_flow": null,
       "grid_area": null,
       "grid_auto_columns": null,
       "grid_auto_flow": null,
       "grid_auto_rows": null,
       "grid_column": null,
       "grid_gap": null,
       "grid_row": null,
       "grid_template_areas": null,
       "grid_template_columns": null,
       "grid_template_rows": null,
       "height": null,
       "justify_content": null,
       "justify_items": null,
       "left": null,
       "margin": null,
       "max_height": null,
       "max_width": null,
       "min_height": null,
       "min_width": null,
       "object_fit": null,
       "object_position": null,
       "order": null,
       "overflow": null,
       "padding": null,
       "right": null,
       "top": null,
       "visibility": null,
       "width": null
      }
     },
     "e8fb8d7a67cb46daba1b16cc7d936c72": {
      "model_module": "@jupyter-widgets/controls",
      "model_module_version": "2.0.0",
      "model_name": "FloatSliderModel",
      "state": {
       "_dom_classes": [],
       "_model_module": "@jupyter-widgets/controls",
       "_model_module_version": "2.0.0",
       "_model_name": "FloatSliderModel",
       "_view_count": null,
       "_view_module": "@jupyter-widgets/controls",
       "_view_module_version": "2.0.0",
       "_view_name": "FloatSliderView",
       "behavior": "drag-tap",
       "continuous_update": true,
       "description": "alpha",
       "description_allow_html": false,
       "disabled": false,
       "layout": "IPY_MODEL_54449d2ed9b94ce38a91cc636064c655",
       "max": 5.0,
       "min": 1.0,
       "orientation": "horizontal",
       "readout": true,
       "readout_format": ".2f",
       "step": 0.1,
       "style": "IPY_MODEL_81e23d14b41a4990a623b42dec923f2f",
       "tabbable": null,
       "tooltip": null,
       "value": 3.0
      }
     },
     "f8a1fccdb92348d0825a74ca6abf9db4": {
      "model_module": "@jupyter-widgets/controls",
      "model_module_version": "2.0.0",
      "model_name": "VBoxModel",
      "state": {
       "_dom_classes": [
        "widget-interact"
       ],
       "_model_module": "@jupyter-widgets/controls",
       "_model_module_version": "2.0.0",
       "_model_name": "VBoxModel",
       "_view_count": null,
       "_view_module": "@jupyter-widgets/controls",
       "_view_module_version": "2.0.0",
       "_view_name": "VBoxView",
       "box_style": "",
       "children": [
        "IPY_MODEL_b0982e516a31473eb192f06da52d5002",
        "IPY_MODEL_e8fb8d7a67cb46daba1b16cc7d936c72",
        "IPY_MODEL_4f557bb84679446e86af4cb8defdda48"
       ],
       "layout": "IPY_MODEL_2734c084ada647f7b377ea03aa42f04c",
       "tabbable": null,
       "tooltip": null
      }
     },
     "fdc3233e6305491e8913041d403aaf34": {
      "model_module": "@jupyter-widgets/controls",
      "model_module_version": "2.0.0",
      "model_name": "VBoxModel",
      "state": {
       "_dom_classes": [
        "widget-interact"
       ],
       "_model_module": "@jupyter-widgets/controls",
       "_model_module_version": "2.0.0",
       "_model_name": "VBoxModel",
       "_view_count": null,
       "_view_module": "@jupyter-widgets/controls",
       "_view_module_version": "2.0.0",
       "_view_name": "VBoxView",
       "box_style": "",
       "children": [
        "IPY_MODEL_c2206c89614349188b73968bc2a4e8fe",
        "IPY_MODEL_b4cdc854999a451fb1570be4ea44ba9f",
        "IPY_MODEL_59af91dc14c144448321f7eed57962e3"
       ],
       "layout": "IPY_MODEL_0001230c15dd4b2e823f4685acc51121",
       "tabbable": null,
       "tooltip": null
      }
     }
    },
    "version_major": 2,
    "version_minor": 0
   }
  }
 },
 "nbformat": 4,
 "nbformat_minor": 5
}