{
 "cells": [
  {
   "cell_type": "markdown",
   "metadata": {},
   "source": [
    "# Chapter 6"
   ]
  },
  {
   "cell_type": "markdown",
   "metadata": {},
   "source": [
    "Suppose we have independent random variables $X_1, \\ldots, X_n$ all distributed with respect to one and the same probability distribution $F$.\n",
    "\n",
    "That is, we have independent $X_1, \\ldots, X_n\\sim F$.\n",
    "\n",
    "We view $X_1, \\ldots, X_n$ as the data and $F$ as the cdf of the probability distribution.\n",
    "\n",
    "Our task is to use the data to learn about the probability distribution.\n",
    "\n",
    "Being humble creatures, we just start looking at different operations to apply to the data.\n"
   ]
  },
  {
   "cell_type": "markdown",
   "metadata": {},
   "source": [
    "## Statistics\n"
   ]
  },
  {
   "cell_type": "markdown",
   "metadata": {},
   "source": [
    "### Definition (statistics)\n",
    "\n",
    "A *statistic* $T_n$ is just any operation applied to the data $X_1, \\ldots, X_n$. Here are the some examples many of which you have probably seen before:\n",
    "\n",
    "- Average $\\overline{X}_n$: at world $\\omega$ it is $\\overline{X}_n(\\omega) = \\frac{1}{n}\\sum_{i=1}^n X_i(\\omega)$ (n.b.: average also called mean)\n",
    "\n",
    "- Median of $X_1,\\ldots, X_n$: at world $\\omega$, sort the numbers $X_1(\\omega), \\ldots, X_n(\\omega)$ in increasing order and find the one in the middle (and in the case where $n$ is odd, take the average of the two middle ones)\n",
    "\n",
    "- Midspread of $X_1, \\ldots, X_n$: at world $\\omega$, sort the numbers $X_1(\\omega), \\ldots, X_n(\\omega)$ in increasing order, and split it into four even parts and report the difference between the part at 75% and the part at 25%\n",
    "\n",
    "Here is one that is not very interesting but is indeed 'an operation applied to the data':\n",
    "\n",
    "- Square of average: $\\overline{X}_n^2$: at world $\\omega$ it is $\\overline{X}^2_n(\\omega) = (\\frac{1}{n}\\sum_{i=1}^n X_i(\\omega))^2$\n"
   ]
  },
  {
   "cell_type": "markdown",
   "metadata": {},
   "source": [
    "### Two perspectives which both statisticians and philosophers at home with\n",
    "\n",
    "We recognize two different perspectives which are useful: \n",
    "\n",
    "- We can focus on the actual world, that is at a particular world $\\omega$ which we happen to inhabit, and we can look at the behavior of the statistic at that world. \n",
    "\n",
    "- We can focus on what happens across the worlds, and we can view the statistics as random variables and ask questions about e.g. their expectation and their variance.  \n",
    "\n",
    "Further, part and parcel of the tradition in parts of boths disciplines is:\n",
    "\n",
    "- go ceaselessly back and forth between the two perspectives, to the great annoyance of everyone else"
   ]
  },
  {
   "cell_type": "markdown",
   "metadata": {},
   "source": [
    "### Perspective one: the actual world"
   ]
  },
  {
   "cell_type": "markdown",
   "metadata": {},
   "source": [
    "Fix $\\omega$ as the actual world. Then all of our statistics deliver real numbers as values when we evaluate them at $\\omega$. In terms of our actual human activity, these are just the measurements we make."
   ]
  },
  {
   "cell_type": "code",
   "execution_count": 1,
   "metadata": {
    "tags": [
     "hide-cell"
    ]
   },
   "outputs": [],
   "source": [
    "# packages we need\n",
    "\n",
    "import matplotlib.pyplot as plt\n",
    "import numpy as np\n",
    "import scipy.stats\n",
    "import numpy as np\n",
    "import pandas as pd\n",
    "from statistics import mean , stdev , median, mode\n",
    "from random import choices\n",
    "from scipy.stats import norm"
   ]
  },
  {
   "cell_type": "code",
   "execution_count": 2,
   "metadata": {
    "tags": [
     "hide-cell"
    ]
   },
   "outputs": [],
   "source": [
    "# simple python code for statistics\n",
    "\n",
    "\n",
    "def descriptive(data):\n",
    "\n",
    "    average = sum(data) / len(data)\n",
    "\n",
    "    median = np.median(data)\n",
    "\n",
    "    midspread = np.percentile(data, 75)-np.percentile(data, 25)\n",
    "\n",
    "    average_squared =  average**2\n",
    "\n",
    "    print('Sorted: ', sorted(data))\n",
    "\n",
    "    print('Average: %1.1f' % average)\n",
    "\n",
    "    print('Median: %1.1f' % median)\n",
    "\n",
    "    print('Midspread: %1.1f' % midspread)\n",
    "\n",
    "    print('Average Squared: %1.1f' % average_squared)\n"
   ]
  },
  {
   "cell_type": "code",
   "execution_count": 3,
   "metadata": {},
   "outputs": [
    {
     "name": "stdout",
     "output_type": "stream",
     "text": [
      "Sorted:  [0, 7, 8, 9, 9, 10, 14, 16, 17, 17, 18]\n",
      "Average: 11.4\n",
      "Median: 10.0\n",
      "Midspread: 8.0\n",
      "Average Squared: 129.1\n"
     ]
    }
   ],
   "source": [
    "# Suppose that X_1(ω),\\ldots, X_n(ω) is\n",
    "\n",
    "data = [17, 18, 9, 10, 9, 7, 8, 14, 0, 16, 17]     \n",
    "\n",
    "descriptive(data)    # command for descriptive statistics"
   ]
  },
  {
   "cell_type": "code",
   "execution_count": 4,
   "metadata": {
    "tags": [
     "hide-input"
    ]
   },
   "outputs": [
    {
     "data": {
      "image/png": "[encoded data removed]",
      "text/plain": [
       "<Figure size 640x480 with 1 Axes>"
      ]
     },
     "metadata": {},
     "output_type": "display_data"
    }
   ],
   "source": [
    "# Create a histogram\n",
    "\n",
    "\n",
    "plt.hist(data, bins=max(data)-min(data), edgecolor='black')\n",
    "\n",
    "# Show the median\n",
    "plt.axvline(np.median(data), color='r', linestyle='dashed', linewidth=2, label=f'Median: {median}')\n",
    "\n",
    "# Show the midspread\n",
    "plt.axvline(np.percentile(data, 25), color='orange', linestyle='dashed', linewidth=2, label=f'Q1: {np.percentile(data, 25)}')\n",
    "plt.axvline(np.percentile(data, 75), color='b', linestyle='dashed', linewidth=2, label=f'Q3: {np.percentile(data, 75)}')\n",
    "\n",
    "# Add legend\n",
    "plt.legend()\n",
    "\n",
    "# Show the plot\n",
    "plt.show()"
   ]
  },
  {
   "cell_type": "markdown",
   "metadata": {},
   "source": [
    "### Perspective two: across the worlds"
   ]
  },
  {
   "cell_type": "markdown",
   "metadata": {},
   "source": [
    "Last time, we learned some helpful formulas for the average. \n",
    "\n",
    "Suppose independent $X_1, \\ldots, X_n\\sim F$ with expectation $\\theta$ and variance $\\sigma^2$, \n",
    "\n",
    "Again, we abbreviate $\\overline{X}_n = \\frac{1}{n}\\sum_{i=1}^n X_i$ for the average. \n",
    "\n",
    "Then $\\mathbb{E} \\overline{X}_n = \\theta$ and $\\mathrm{Var}(\\overline{X}_n) = \\frac{\\sigma^2}{n}$.\n",
    "\n",
    "This tells us a lot about the behavior of the average across the worlds."
   ]
  },
  {
   "cell_type": "markdown",
   "metadata": {},
   "source": [
    "### Illustrating the behavior of the variance of the average"
   ]
  },
  {
   "cell_type": "markdown",
   "metadata": {},
   "source": [
    "Assume we are working with $X_1, \\ldots, X_n$ which have a [normal](https://logic-teaching.github.io/philstatsbook/Chap04.html#normal-distribution) distribution (i.e. a bell-shaped one)"
   ]
  },
  {
   "cell_type": "code",
   "execution_count": 5,
   "metadata": {},
   "outputs": [],
   "source": [
    "# parameters of the normal distribution\n",
    "\n",
    "mu = 23  # mean\n",
    "var = 3**2 #variance\n",
    "\n",
    "# number of independent observations\n",
    "\n",
    "n = 50\n",
    "\n",
    "# variance of the average\n",
    "\n",
    "varavg = var / n  # variance of the average\n"
   ]
  },
  {
   "cell_type": "code",
   "execution_count": 6,
   "metadata": {
    "tags": [
     "hide-cell"
    ]
   },
   "outputs": [],
   "source": [
    "sigma = np.sqrt(var)\n",
    "sigmaavg = np.sqrt(varavg)\n"
   ]
  },
  {
   "cell_type": "code",
   "execution_count": 7,
   "metadata": {
    "tags": [
     "hide-input"
    ]
   },
   "outputs": [
    {
     "data": {
      "image/png": "[encoded data removed]",
      "text/plain": [
       "<Figure size 1000x500 with 2 Axes>"
      ]
     },
     "metadata": {},
     "output_type": "display_data"
    }
   ],
   "source": [
    "def create_norm_plot():\n",
    "\n",
    "    # Create a range\n",
    "    x = np.linspace(mu-2*sigma, mu+2*sigma, 100)\n",
    "\n",
    "    # Create the normal distribution for the range\n",
    "    y = norm.pdf(x, mu, sigma)\n",
    "    yavg = norm.pdf(x, mu, sigmaavg)\n",
    "\n",
    "    # Create a figure with two subplots side by side\n",
    "    fig, axs = plt.subplots(1, 2, figsize=(10, 5))\n",
    "\n",
    "    # Plot the normal distribution on the left subplot\n",
    "    axs[0].plot(x, y, 'b')\n",
    "\n",
    "    axs[1].plot(x, yavg, 'b')\n",
    "\n",
    "    # Plot the histogram on the right subplot\n",
    "    # axs[1].hist(data, bins=30, density=True, alpha=0.6, color='g')\n",
    "\n",
    "    # Set titles\n",
    "    axs[0].set_title('pdf of X_1,...,X_{%i}~N(%s, %1.3f)' % (n, mu, var))\n",
    "    axs[1].set_title('pdf of average X̅_{%i}~N(%s, %1.3f)' % (n, mu, varavg))\n",
    "\n",
    "\n",
    "\n",
    "    plt.show()\n",
    "\n",
    "create_norm_plot()"
   ]
  },
  {
   "cell_type": "markdown",
   "metadata": {},
   "source": [
    "### Important obstacle"
   ]
  },
  {
   "cell_type": "markdown",
   "metadata": {},
   "source": [
    "There are **not** simple formulas for the expectation or variance of **any of the other statistics**, in terms of the expectation and variances of the individual random variables.\n",
    "\n",
    "In the part of statistics that deals with *estimation*, a way has been developed to estimate the variance (but not the expectation) of these other statistics.\n",
    "\n"
   ]
  },
  {
   "cell_type": "markdown",
   "metadata": {},
   "source": [
    "## The Bootstrap"
   ]
  },
  {
   "cell_type": "markdown",
   "metadata": {},
   "source": [
    "This is due to Effron in the late 1970s ({cite}`Efron1979-ux`, {cite}`Efron1982-ck`). \n",
    "\n",
    "Despite its being so natural did not appear until late, since it requires so much computational power."
   ]
  },
  {
   "cell_type": "markdown",
   "metadata": {},
   "source": [
    "### A combinatorial theory of possibility\n",
    "\n",
    "Philosophers are familiar with this conception of possibility:\n",
    "\n",
    "> The fundamental idea that underlies the various versions of combinatorialism is that possible worlds are nothing more than rearrangements or recombinations of the properties, relations and particulars that are instantiated or exist in the actual world ({cite}`Melia2014-vh` p. 146)\n",
    "\n",
    "This is a conception of possibility on which e.g. it's possible that I could have your job and you mine. "
   ]
  },
  {
   "cell_type": "markdown",
   "metadata": {},
   "source": [
    "### Building other worlds from the observations in the actual world \n",
    "\n",
    "Suppose that $\\omega$ is the actual world, and that the observations $X_1(\\omega), \\ldots, X_n(\\omega)$ are:\n",
    "\n",
    "```\n",
    "actual-observations = [17, 18, 9, 10, 9, 7, 8, 14, 0, 16]\n",
    "```\n",
    "\n",
    "Shouldn't there also be a world where the observations could have gone like this, with the first and second reversed:\n",
    "\n",
    "```\n",
    "alternative-observations = [18, 17, 9, 10, 9, 7, 8, 14, 0, 16]\n",
    "```\n",
    "\n",
    "And shouldn't there also be a world where the observations could have one like this, with the first being repeated:\n",
    "\n",
    "```\n",
    "alternative-observations = [17, 17, 9, 10, 9, 7, 8, 14, 0, 16]\n",
    "```\n",
    "\n",
    "The idea of the bootstrap is to generate lots of worlds from the actual world in this way.\n"
   ]
  },
  {
   "cell_type": "markdown",
   "metadata": {},
   "source": [
    "Intuitively, the procedure is as follows:\n",
    "\n",
    "1. Let $\\omega$ be the actual world, and look at the length $n$-data set $X_1(\\omega), \\ldots, X_n(\\omega)$.\n",
    "\n",
    "2. Many other worlds will look just like the actual world, but with the order of observations rearranged, or with one observation made more than once. \n",
    "\n",
    "3. Simulate the observations made at other worlds in this way and calculate the statistic at them.\n",
    "\n",
    "3. When you plot these, the variance (the way in which it is lax or tight around its mean), is a good proxy for the variance of the statistic, if the actual world is like most worlds and if $n$ is sufficiently big."
   ]
  },
  {
   "cell_type": "markdown",
   "metadata": {},
   "source": [
    "### The Bootstrap algorithm"
   ]
  },
  {
   "cell_type": "code",
   "execution_count": 8,
   "metadata": {},
   "outputs": [],
   "source": [
    "# python code for the bootstrap\n",
    "\n",
    "def bootstrap(data, statistic, reps, label):    # data, statistic, number of replications, label for the column\n",
    "\ttheta_hat_stars = []  # list to store the results\n",
    "\tfor i in range(reps):   # loop over the number of replications\n",
    "\t\tresample = choices(data, k=len(data)) # resample the data\n",
    "\t\ttheta_hat_star = statistic(resample) # compute the statistic\n",
    "\t\ttheta_hat_stars.append(theta_hat_star)      # store the result\n",
    "\treturn pd.DataFrame(theta_hat_stars, columns=[label])   # return the results as a DataFrame"
   ]
  },
  {
   "cell_type": "markdown",
   "metadata": {},
   "source": [
    "### Illustrating the bootstrap\n",
    "\n",
    "This illustration is based on the discussion in the best introductory statistics book based off of the bootstrap method, namely {cite}`Chihara2018-xh` Example 5.1 (he doesn't provide the code but it is easy to construct) "
   ]
  },
  {
   "cell_type": "code",
   "execution_count": 9,
   "metadata": {},
   "outputs": [],
   "source": [
    "## Example with B bootstrap samples from a normal distribution\n",
    "\n",
    "B = 100000\n",
    "\n",
    "# my_measurement, a set X_1(ω),\\ldots, X_n(ω), from independent  X_1,\\ldots, X_n~N(mu, var)\n",
    "my_data = pd.DataFrame(np.random.normal(mu, np.sqrt(var), n), columns=['A'])\n",
    "\n",
    "# bootstrap the mean of my_measurement\n",
    "my_data_bootstraped= bootstrap(my_data.A, mean, B, 'A')\n"
   ]
  },
  {
   "cell_type": "code",
   "execution_count": 10,
   "metadata": {
    "tags": [
     "hide-input"
    ]
   },
   "outputs": [
    {
     "data": {
      "image/png": "[encoded data removed]",
      "text/plain": [
       "<Figure size 1000x500 with 2 Axes>"
      ]
     },
     "metadata": {},
     "output_type": "display_data"
    }
   ],
   "source": [
    "# Visualizing the bootstrap\n",
    "\n",
    "# Create a figure with two subplots side by side\n",
    "fig, axs = plt.subplots(1, 2, figsize=(10, 5))\n",
    "\n",
    "# Plot the histogram of myheights on the left subplot\n",
    "axs[0].hist(my_data, bins=20, color='g', density=True, alpha=0.7)\n",
    "\n",
    "# Plot the histogram of myheights_bootstrap on the right subplot\n",
    "axs[1].hist(my_data_bootstraped, bins=30, density=True, color='g', alpha=0.7)\n",
    "\n",
    "plt.xlim([mu-2*sigma, mu+2*sigma])\n",
    "\n",
    "\n",
    "\n",
    "# Show the median\n",
    "axs[0].axvline(np.mean(my_data), color='r', linestyle='dashed', linewidth=2, label=f'Mean: {np.mean(my_data)}')\n",
    "\n",
    "# Set titles\n",
    "axs[0].set_title('Data histograph n = % i, mean = %1.1f' % (n, np.mean(my_data)))\n",
    "axs[1].set_title('Bootstrap distribution')\n",
    "\n",
    "plt.show()"
   ]
  },
  {
   "cell_type": "markdown",
   "metadata": {},
   "source": [
    "Compare this to the theoretical one:"
   ]
  },
  {
   "cell_type": "code",
   "execution_count": 11,
   "metadata": {
    "tags": [
     "hide-input"
    ]
   },
   "outputs": [
    {
     "data": {
      "image/png": "[encoded data removed]",
      "text/plain": [
       "<Figure size 1000x500 with 2 Axes>"
      ]
     },
     "metadata": {},
     "output_type": "display_data"
    }
   ],
   "source": [
    "create_norm_plot()"
   ]
  },
  {
   "cell_type": "markdown",
   "metadata": {},
   "source": [
    "### Illustrating the bootstrap for the median"
   ]
  },
  {
   "cell_type": "code",
   "execution_count": 12,
   "metadata": {},
   "outputs": [],
   "source": [
    "my_data =  [19, 17, 5, 20, 14, 7, 3, 12, 6, 1, 8, 15, 16, 13, 10]\n"
   ]
  },
  {
   "cell_type": "code",
   "execution_count": 13,
   "metadata": {},
   "outputs": [
    {
     "name": "stdout",
     "output_type": "stream",
     "text": [
      "Original: [19, 17, 5, 20, 14, 7, 3, 12, 6, 1, 8, 15, 16, 13, 10] Median: 12.0\n",
      "Resample: [12, 14, 17, 3, 17, 17, 1, 7, 7, 6, 3, 15, 13, 15, 5] Median: 12.0\n",
      "Resample: [12, 15, 3, 3, 16, 16, 17, 12, 13, 13, 16, 14, 1, 16, 19] Median: 14.0\n",
      "Resample: [10, 16, 14, 3, 6, 14, 3, 14, 19, 19, 15, 17, 10, 7, 16] Median: 14.0\n",
      "Resample: [3, 17, 12, 17, 10, 5, 8, 13, 7, 20, 7, 10, 19, 8, 5] Median: 10.0\n",
      "Resample: [15, 19, 16, 8, 19, 17, 17, 20, 16, 10, 8, 20, 14, 19, 1] Median: 16.0\n",
      "Resample: [6, 5, 10, 20, 16, 7, 19, 20, 14, 12, 10, 7, 6, 10, 7] Median: 10.0\n",
      "Resample: [19, 1, 19, 14, 16, 3, 19, 17, 3, 6, 13, 6, 17, 13, 16] Median: 14.0\n",
      "Resample: [3, 5, 15, 8, 10, 17, 6, 17, 17, 20, 5, 5, 15, 20, 19] Median: 15.0\n",
      "Resample: [14, 10, 16, 14, 19, 17, 15, 17, 7, 5, 19, 10, 16, 20, 15] Median: 15.0\n",
      "Resample: [3, 5, 6, 16, 17, 19, 17, 1, 16, 14, 12, 15, 13, 19, 10] Median: 14.0\n",
      "Resample: [14, 14, 15, 12, 3, 17, 1, 1, 14, 6, 5, 16, 13, 12, 3] Median: 12.0\n",
      "Resample: [17, 14, 14, 5, 8, 1, 15, 16, 8, 17, 7, 16, 12, 3, 14] Median: 14.0\n",
      "Resample: [14, 14, 19, 16, 15, 7, 15, 19, 15, 19, 10, 14, 12, 14, 20] Median: 15.0\n",
      "Resample: [15, 6, 20, 12, 15, 14, 17, 20, 17, 16, 3, 17, 15, 16, 19] Median: 16.0\n",
      "Resample: [3, 20, 19, 17, 15, 20, 7, 19, 12, 20, 19, 20, 20, 17, 15] Median: 19.0\n",
      "Resample: [5, 6, 19, 14, 5, 1, 17, 15, 16, 8, 6, 19, 12, 19, 13] Median: 13.0\n",
      "Resample: [5, 3, 13, 1, 19, 10, 15, 3, 12, 12, 8, 13, 16, 10, 16] Median: 12.0\n",
      "Resample: [12, 17, 7, 12, 14, 14, 12, 3, 3, 12, 20, 13, 7, 17, 12] Median: 12.0\n",
      "Resample: [12, 6, 7, 7, 19, 17, 3, 16, 12, 15, 8, 7, 14, 13, 12] Median: 12.0\n",
      "Resample: [20, 12, 1, 10, 15, 13, 17, 20, 1, 6, 19, 8, 17, 20, 3] Median: 13.0\n",
      "Resample: [17, 13, 6, 17, 8, 16, 8, 10, 16, 19, 3, 10, 1, 14, 7] Median: 10.0\n",
      "Resample: [20, 3, 13, 15, 20, 10, 3, 20, 17, 16, 13, 20, 7, 6, 14] Median: 14.0\n",
      "Resample: [3, 19, 17, 5, 16, 6, 7, 7, 20, 16, 5, 6, 1, 20, 7] Median: 7.0\n",
      "Resample: [16, 20, 6, 1, 19, 12, 5, 7, 19, 10, 6, 5, 20, 15, 16] Median: 12.0\n",
      "Resample: [7, 10, 17, 14, 10, 19, 14, 13, 3, 13, 17, 17, 17, 5, 19] Median: 14.0\n",
      "Resample: [13, 10, 17, 13, 17, 7, 19, 16, 16, 7, 8, 1, 13, 3, 8] Median: 13.0\n",
      "Resample: [8, 16, 10, 13, 8, 1, 19, 13, 13, 3, 16, 16, 20, 13, 16] Median: 13.0\n",
      "Resample: [1, 20, 1, 10, 15, 3, 10, 1, 6, 15, 10, 17, 19, 16, 19] Median: 10.0\n",
      "Resample: [5, 7, 8, 12, 3, 15, 14, 17, 16, 20, 8, 19, 20, 1, 19] Median: 14.0\n",
      "Resample: [16, 19, 13, 5, 16, 8, 14, 3, 8, 5, 14, 12, 6, 19, 6] Median: 12.0\n",
      "Resample: [5, 6, 19, 17, 14, 10, 3, 20, 17, 6, 7, 14, 12, 10, 13] Median: 12.0\n",
      "Resample: [10, 13, 17, 13, 17, 20, 17, 6, 20, 15, 19, 17, 3, 8, 10] Median: 15.0\n",
      "Resample: [19, 15, 16, 12, 13, 8, 5, 17, 8, 7, 3, 17, 16, 19, 20] Median: 15.0\n",
      "Resample: [19, 3, 20, 15, 19, 8, 19, 6, 14, 6, 20, 1, 5, 7, 12] Median: 12.0\n",
      "Resample: [10, 8, 19, 7, 15, 17, 13, 20, 16, 15, 5, 20, 17, 12, 20] Median: 15.0\n",
      "Resample: [17, 6, 7, 16, 7, 10, 8, 19, 5, 6, 20, 5, 10, 5, 7] Median: 7.0\n",
      "Resample: [20, 13, 1, 10, 13, 14, 8, 16, 19, 17, 7, 13, 7, 16, 19] Median: 13.0\n",
      "Resample: [13, 12, 19, 1, 6, 10, 10, 17, 12, 7, 12, 16, 10, 7, 17] Median: 12.0\n",
      "Resample: [1, 17, 7, 3, 1, 20, 16, 19, 6, 17, 13, 1, 17, 7, 15] Median: 13.0\n",
      "Resample: [8, 10, 13, 5, 7, 5, 8, 13, 8, 19, 8, 12, 12, 20, 20] Median: 10.0\n",
      "Resample: [5, 10, 7, 17, 16, 8, 6, 14, 20, 13, 3, 16, 16, 10, 8] Median: 10.0\n",
      "Resample: [13, 8, 8, 3, 12, 6, 20, 5, 1, 1, 1, 16, 10, 6, 7] Median: 7.0\n",
      "Resample: [20, 13, 15, 14, 16, 17, 19, 19, 17, 14, 20, 17, 3, 13, 17] Median: 17.0\n",
      "Resample: [20, 12, 8, 15, 13, 12, 15, 13, 12, 10, 12, 8, 16, 15, 12] Median: 12.0\n",
      "Resample: [5, 1, 12, 20, 12, 5, 12, 8, 19, 5, 7, 10, 19, 6, 7] Median: 8.0\n",
      "Resample: [14, 8, 5, 13, 20, 7, 8, 12, 13, 19, 1, 10, 7, 12, 1] Median: 10.0\n",
      "Resample: [14, 20, 10, 17, 13, 15, 8, 8, 5, 15, 5, 17, 16, 1, 14] Median: 14.0\n",
      "Resample: [15, 19, 7, 8, 14, 8, 17, 3, 3, 8, 10, 6, 20, 10, 1] Median: 8.0\n",
      "Resample: [15, 8, 10, 1, 14, 12, 3, 5, 12, 8, 14, 10, 16, 17, 20] Median: 12.0\n",
      "Resample: [15, 5, 5, 19, 3, 17, 7, 12, 1, 6, 13, 13, 13, 20, 20] Median: 13.0\n",
      "Resample: [17, 19, 6, 15, 12, 10, 12, 19, 20, 10, 16, 10, 14, 16, 19] Median: 15.0\n",
      "Resample: [10, 19, 13, 20, 15, 19, 13, 14, 16, 20, 3, 6, 10, 6, 3] Median: 13.0\n",
      "Resample: [14, 5, 19, 8, 13, 5, 7, 14, 19, 14, 15, 5, 10, 17, 7] Median: 13.0\n",
      "Resample: [17, 20, 19, 6, 7, 17, 20, 8, 12, 17, 13, 13, 19, 19, 8] Median: 17.0\n",
      "Resample: [6, 3, 17, 17, 7, 15, 12, 3, 10, 6, 20, 12, 6, 3, 5] Median: 7.0\n",
      "Resample: [7, 1, 19, 14, 16, 1, 14, 13, 15, 13, 14, 17, 10, 15, 16] Median: 14.0\n",
      "Resample: [17, 7, 16, 3, 16, 8, 13, 7, 16, 10, 17, 10, 1, 10, 3] Median: 10.0\n",
      "Resample: [7, 6, 19, 3, 3, 5, 16, 14, 16, 7, 20, 1, 7, 12, 19] Median: 7.0\n",
      "Resample: [6, 15, 6, 15, 8, 19, 8, 10, 12, 1, 6, 5, 17, 6, 12] Median: 8.0\n",
      "Resample: [20, 15, 7, 5, 14, 5, 15, 19, 3, 13, 7, 17, 12, 12, 8] Median: 12.0\n",
      "Resample: [13, 20, 6, 14, 17, 17, 1, 15, 10, 16, 1, 3, 16, 12, 13] Median: 13.0\n",
      "Resample: [14, 6, 19, 3, 16, 6, 1, 12, 8, 20, 1, 1, 5, 8, 3] Median: 6.0\n",
      "Resample: [1, 17, 5, 10, 14, 15, 12, 14, 19, 1, 1, 19, 17, 19, 17] Median: 14.0\n",
      "Resample: [14, 8, 10, 3, 15, 15, 15, 6, 13, 10, 7, 12, 16, 14, 3] Median: 12.0\n",
      "Resample: [16, 14, 10, 8, 20, 8, 15, 8, 19, 13, 8, 5, 12, 6, 6] Median: 10.0\n",
      "Resample: [7, 13, 16, 19, 19, 7, 5, 15, 20, 14, 20, 12, 14, 10, 20] Median: 14.0\n",
      "Resample: [10, 16, 6, 7, 14, 8, 5, 6, 15, 3, 12, 3, 20, 20, 10] Median: 10.0\n",
      "Resample: [6, 5, 8, 15, 8, 17, 3, 5, 12, 10, 19, 12, 1, 16, 20] Median: 10.0\n",
      "Resample: [5, 6, 10, 12, 6, 20, 6, 20, 7, 12, 7, 13, 15, 17, 13] Median: 12.0\n",
      "Resample: [7, 6, 12, 5, 15, 14, 1, 19, 20, 12, 10, 19, 17, 20, 7] Median: 12.0\n",
      "Resample: [5, 10, 20, 5, 15, 6, 14, 19, 19, 1, 12, 13, 3, 8, 19] Median: 12.0\n",
      "Resample: [12, 7, 14, 1, 15, 19, 5, 1, 7, 6, 17, 19, 12, 13, 10] Median: 12.0\n",
      "Resample: [8, 8, 19, 6, 10, 10, 13, 15, 12, 5, 12, 5, 16, 1, 13] Median: 10.0\n",
      "Resample: [5, 5, 15, 12, 19, 17, 14, 5, 3, 5, 17, 20, 5, 12, 19] Median: 12.0\n",
      "Resample: [8, 10, 10, 1, 1, 12, 12, 20, 13, 7, 19, 5, 5, 5, 5] Median: 8.0\n",
      "Resample: [15, 7, 10, 19, 20, 20, 16, 13, 17, 7, 6, 12, 3, 20, 19] Median: 15.0\n",
      "Resample: [19, 6, 20, 6, 1, 19, 7, 16, 17, 8, 14, 1, 19, 3, 19] Median: 14.0\n",
      "Resample: [15, 13, 5, 20, 14, 5, 3, 14, 17, 12, 5, 7, 15, 17, 17] Median: 14.0\n",
      "Resample: [19, 1, 5, 20, 3, 6, 10, 10, 17, 13, 1, 20, 12, 5, 19] Median: 10.0\n",
      "Resample: [13, 3, 10, 20, 20, 13, 15, 6, 6, 3, 3, 13, 1, 6, 15] Median: 10.0\n",
      "Resample: [8, 12, 3, 19, 17, 5, 16, 12, 16, 14, 10, 15, 7, 19, 16] Median: 14.0\n",
      "Resample: [15, 16, 19, 6, 15, 10, 16, 13, 20, 7, 20, 3, 10, 12, 15] Median: 15.0\n",
      "Resample: [20, 7, 7, 20, 17, 13, 12, 15, 15, 1, 5, 8, 19, 3, 12] Median: 12.0\n",
      "Resample: [12, 20, 13, 1, 15, 6, 3, 13, 7, 5, 17, 19, 16, 10, 16] Median: 13.0\n",
      "Resample: [8, 7, 17, 16, 12, 13, 7, 3, 15, 10, 17, 20, 8, 1, 13] Median: 12.0\n",
      "Resample: [7, 19, 6, 17, 7, 20, 8, 19, 17, 12, 6, 3, 13, 20, 17] Median: 13.0\n",
      "Resample: [20, 10, 5, 16, 19, 12, 1, 16, 17, 13, 7, 12, 5, 15, 7] Median: 12.0\n",
      "Resample: [7, 1, 10, 5, 10, 14, 12, 17, 10, 5, 12, 19, 1, 19, 10] Median: 10.0\n",
      "Resample: [5, 13, 16, 17, 12, 14, 17, 20, 6, 7, 15, 13, 3, 20, 14] Median: 14.0\n",
      "Resample: [1, 13, 1, 1, 15, 6, 20, 8, 10, 19, 20, 8, 5, 13, 10] Median: 10.0\n",
      "Resample: [6, 13, 3, 6, 13, 17, 10, 16, 14, 15, 12, 20, 17, 7, 14] Median: 13.0\n",
      "Resample: [20, 1, 15, 10, 17, 13, 17, 12, 5, 5, 14, 16, 10, 1, 14] Median: 13.0\n",
      "Resample: [13, 15, 1, 14, 10, 10, 17, 20, 13, 3, 14, 17, 6, 7, 3] Median: 13.0\n",
      "Resample: [8, 14, 14, 5, 10, 13, 12, 15, 15, 17, 13, 20, 8, 3, 12] Median: 13.0\n",
      "Resample: [8, 12, 6, 6, 3, 3, 6, 10, 16, 13, 6, 17, 14, 14, 14] Median: 10.0\n",
      "Resample: [1, 20, 6, 6, 15, 15, 13, 1, 13, 12, 12, 5, 10, 6, 5] Median: 10.0\n",
      "Resample: [19, 16, 13, 14, 7, 1, 10, 17, 14, 10, 7, 1, 16, 6, 10] Median: 10.0\n",
      "Resample: [12, 8, 10, 13, 15, 1, 6, 15, 14, 8, 10, 7, 3, 7, 6] Median: 8.0\n",
      "Resample: [12, 8, 8, 20, 16, 20, 12, 13, 19, 3, 16, 8, 19, 5, 20] Median: 13.0\n",
      "Resample: [17, 16, 12, 7, 16, 7, 3, 15, 3, 17, 10, 5, 10, 12, 19] Median: 12.0\n",
      "Resample: [16, 5, 17, 5, 10, 7, 6, 12, 3, 12, 19, 15, 14, 14, 10] Median: 12.0\n",
      "Resample: [3, 3, 8, 3, 3, 13, 14, 17, 12, 13, 13, 15, 19, 17, 15] Median: 13.0\n",
      "Resample: [19, 17, 16, 16, 10, 3, 1, 19, 20, 13, 7, 10, 12, 1, 14] Median: 13.0\n",
      "Resample: [6, 17, 16, 3, 3, 3, 6, 17, 15, 20, 16, 3, 15, 5, 3] Median: 6.0\n",
      "Resample: [1, 10, 8, 14, 3, 20, 16, 19, 7, 14, 14, 12, 20, 5, 16] Median: 14.0\n",
      "Resample: [3, 15, 3, 10, 13, 14, 6, 20, 14, 12, 7, 6, 1, 19, 7] Median: 10.0\n",
      "Resample: [8, 16, 12, 13, 20, 10, 10, 20, 1, 1, 13, 13, 1, 5, 3] Median: 10.0\n",
      "Resample: [19, 19, 8, 6, 16, 16, 20, 10, 12, 17, 3, 3, 7, 3, 20] Median: 12.0\n",
      "Resample: [5, 7, 15, 1, 3, 16, 13, 13, 20, 13, 17, 15, 13, 13, 17] Median: 13.0\n",
      "Resample: [10, 12, 14, 6, 1, 19, 16, 6, 6, 7, 10, 8, 12, 15, 8] Median: 10.0\n",
      "Resample: [3, 6, 3, 16, 19, 1, 17, 14, 10, 6, 19, 12, 16, 3, 1] Median: 10.0\n",
      "Resample: [12, 16, 6, 6, 8, 12, 10, 15, 17, 16, 14, 14, 1, 14, 17] Median: 14.0\n",
      "Resample: [17, 12, 16, 6, 17, 7, 12, 12, 12, 20, 17, 17, 15, 20, 16] Median: 16.0\n",
      "Resample: [20, 1, 14, 6, 13, 13, 5, 19, 20, 15, 6, 6, 5, 13, 13] Median: 13.0\n",
      "Resample: [12, 5, 19, 19, 12, 3, 16, 20, 10, 19, 1, 16, 14, 8, 1] Median: 12.0\n",
      "Resample: [1, 8, 16, 19, 5, 20, 7, 5, 10, 15, 6, 14, 15, 14, 5] Median: 10.0\n",
      "Resample: [16, 16, 15, 7, 5, 16, 13, 5, 8, 14, 12, 15, 5, 14, 20] Median: 14.0\n",
      "Resample: [6, 17, 20, 17, 20, 19, 13, 17, 13, 16, 16, 12, 8, 15, 1] Median: 16.0\n",
      "Resample: [7, 5, 15, 8, 10, 14, 17, 7, 15, 20, 1, 1, 16, 15, 15] Median: 14.0\n",
      "Resample: [7, 10, 13, 12, 8, 20, 3, 8, 1, 20, 10, 1, 19, 13, 17] Median: 10.0\n",
      "Resample: [3, 16, 7, 16, 1, 3, 7, 16, 1, 14, 3, 8, 20, 12, 12] Median: 8.0\n",
      "Resample: [5, 7, 3, 10, 16, 17, 17, 1, 15, 14, 20, 8, 7, 8, 5] Median: 8.0\n",
      "Resample: [8, 20, 14, 19, 10, 3, 3, 10, 10, 3, 20, 3, 5, 5, 12] Median: 10.0\n",
      "Resample: [8, 19, 17, 5, 1, 5, 17, 6, 1, 5, 7, 16, 20, 8, 5] Median: 7.0\n",
      "Resample: [20, 6, 15, 6, 7, 10, 14, 19, 12, 8, 12, 1, 12, 7, 8] Median: 10.0\n",
      "Resample: [14, 7, 13, 7, 14, 20, 10, 12, 16, 10, 7, 7, 16, 19, 12] Median: 12.0\n",
      "Resample: [19, 16, 19, 1, 17, 5, 14, 3, 1, 19, 8, 10, 5, 14, 13] Median: 13.0\n",
      "Resample: [1, 7, 7, 13, 1, 20, 10, 14, 8, 14, 15, 19, 17, 20, 5] Median: 13.0\n",
      "Resample: [7, 7, 3, 5, 13, 7, 12, 3, 13, 15, 5, 12, 3, 10, 3] Median: 7.0\n",
      "Resample: [14, 14, 14, 1, 14, 17, 13, 19, 20, 20, 19, 6, 17, 19, 20] Median: 17.0\n",
      "Resample: [13, 3, 20, 1, 3, 15, 8, 7, 14, 1, 16, 8, 17, 10, 16] Median: 10.0\n",
      "Resample: [8, 15, 7, 19, 12, 17, 16, 1, 16, 12, 7, 3, 15, 14, 20] Median: 14.0\n",
      "Resample: [5, 1, 17, 16, 12, 15, 15, 13, 10, 13, 15, 19, 15, 3, 16] Median: 15.0\n",
      "Resample: [20, 5, 12, 5, 7, 7, 16, 16, 1, 3, 3, 10, 1, 20, 17] Median: 7.0\n",
      "Resample: [17, 8, 1, 6, 16, 12, 20, 1, 17, 1, 15, 14, 6, 8, 8] Median: 8.0\n",
      "Resample: [16, 10, 10, 19, 16, 7, 16, 16, 17, 3, 15, 14, 16, 13, 13] Median: 15.0\n",
      "Resample: [20, 3, 19, 10, 15, 13, 7, 13, 15, 7, 17, 15, 13, 3, 19] Median: 13.0\n",
      "Resample: [17, 3, 6, 10, 3, 19, 6, 1, 15, 10, 10, 7, 7, 13, 1] Median: 7.0\n",
      "Resample: [7, 15, 16, 7, 19, 14, 13, 19, 8, 13, 13, 7, 6, 16, 19] Median: 13.0\n",
      "Resample: [8, 8, 14, 7, 8, 6, 3, 19, 14, 14, 7, 16, 1, 15, 12] Median: 8.0\n",
      "Resample: [13, 20, 8, 3, 19, 16, 1, 20, 8, 16, 13, 5, 14, 20, 19] Median: 14.0\n",
      "Resample: [7, 1, 20, 6, 3, 20, 12, 15, 15, 16, 17, 3, 6, 1, 5] Median: 7.0\n",
      "Resample: [17, 19, 16, 6, 19, 1, 14, 5, 14, 8, 5, 3, 12, 3, 3] Median: 8.0\n",
      "Resample: [5, 16, 19, 8, 8, 8, 8, 20, 1, 1, 7, 19, 5, 14, 6] Median: 8.0\n",
      "Resample: [15, 16, 1, 15, 5, 14, 8, 16, 17, 19, 13, 8, 12, 15, 3] Median: 14.0\n",
      "Resample: [7, 8, 13, 20, 8, 6, 5, 3, 6, 13, 6, 19, 8, 20, 14] Median: 8.0\n",
      "Resample: [17, 10, 15, 15, 5, 13, 16, 17, 15, 17, 17, 12, 15, 14, 5] Median: 15.0\n",
      "Resample: [6, 19, 7, 20, 16, 3, 1, 17, 20, 6, 3, 12, 1, 16, 14] Median: 12.0\n",
      "Resample: [7, 5, 3, 19, 19, 6, 6, 3, 14, 7, 7, 15, 7, 8, 16] Median: 7.0\n",
      "Resample: [7, 5, 6, 5, 3, 19, 15, 10, 20, 7, 14, 20, 8, 17, 3] Median: 8.0\n",
      "Resample: [19, 19, 8, 6, 15, 3, 14, 3, 13, 17, 1, 16, 7, 5, 14] Median: 13.0\n",
      "Resample: [3, 15, 12, 19, 5, 20, 1, 10, 7, 14, 5, 6, 20, 17, 12] Median: 12.0\n",
      "Resample: [8, 10, 5, 8, 1, 20, 10, 12, 1, 16, 20, 6, 12, 20, 19] Median: 10.0\n",
      "Resample: [1, 19, 10, 12, 6, 5, 17, 5, 17, 7, 12, 6, 12, 14, 12] Median: 12.0\n",
      "Resample: [12, 3, 13, 12, 5, 14, 3, 7, 6, 20, 13, 10, 20, 7, 3] Median: 10.0\n",
      "Resample: [5, 6, 15, 3, 15, 19, 12, 19, 15, 16, 12, 7, 14, 7, 20] Median: 14.0\n",
      "Resample: [10, 1, 7, 12, 14, 10, 17, 3, 15, 8, 8, 8, 3, 3, 14] Median: 8.0\n",
      "Resample: [20, 12, 17, 16, 16, 3, 10, 17, 14, 6, 7, 17, 8, 10, 20] Median: 14.0\n",
      "Resample: [5, 6, 3, 20, 14, 12, 12, 7, 15, 1, 14, 12, 15, 3, 10] Median: 12.0\n",
      "Resample: [13, 15, 7, 20, 3, 17, 13, 12, 17, 7, 16, 19, 3, 5, 8] Median: 13.0\n",
      "Resample: [20, 16, 8, 6, 5, 20, 5, 19, 5, 17, 3, 12, 8, 7, 15] Median: 8.0\n",
      "Resample: [7, 16, 12, 17, 1, 16, 3, 15, 7, 17, 10, 15, 19, 8, 8] Median: 12.0\n",
      "Resample: [19, 15, 20, 20, 10, 5, 20, 1, 7, 6, 1, 13, 14, 17, 19] Median: 14.0\n",
      "Resample: [7, 10, 14, 19, 3, 12, 6, 16, 6, 5, 19, 12, 15, 10, 8] Median: 10.0\n",
      "Resample: [20, 8, 3, 12, 13, 20, 5, 3, 1, 12, 3, 16, 6, 14, 16] Median: 12.0\n",
      "Resample: [3, 6, 6, 5, 5, 12, 3, 19, 10, 10, 7, 3, 16, 1, 14] Median: 6.0\n",
      "Resample: [13, 15, 10, 1, 1, 10, 17, 8, 19, 14, 12, 19, 19, 6, 8] Median: 12.0\n",
      "Resample: [19, 3, 14, 20, 7, 8, 1, 14, 6, 8, 14, 6, 8, 13, 12] Median: 8.0\n",
      "Resample: [14, 16, 14, 10, 6, 17, 3, 7, 13, 8, 10, 19, 12, 12, 15] Median: 12.0\n",
      "Resample: [8, 15, 15, 3, 17, 17, 12, 8, 7, 14, 15, 13, 17, 14, 19] Median: 14.0\n",
      "Resample: [12, 19, 6, 16, 17, 1, 13, 5, 7, 1, 3, 6, 19, 17, 15] Median: 12.0\n",
      "Resample: [19, 7, 1, 8, 19, 12, 15, 10, 7, 17, 15, 19, 17, 6, 17] Median: 15.0\n",
      "Resample: [16, 8, 16, 20, 17, 8, 16, 3, 5, 7, 5, 17, 15, 8, 6] Median: 8.0\n",
      "Resample: [6, 20, 8, 14, 5, 15, 17, 10, 10, 13, 13, 16, 20, 7, 1] Median: 13.0\n",
      "Resample: [5, 6, 6, 12, 17, 8, 14, 13, 6, 19, 8, 10, 17, 16, 19] Median: 12.0\n",
      "Resample: [13, 15, 10, 1, 7, 12, 19, 12, 10, 20, 15, 8, 8, 8, 12] Median: 12.0\n",
      "Resample: [6, 12, 19, 10, 16, 3, 7, 5, 3, 3, 3, 8, 16, 17, 10] Median: 8.0\n",
      "Resample: [10, 1, 13, 7, 16, 19, 3, 1, 20, 1, 8, 7, 17, 12, 1] Median: 8.0\n",
      "Resample: [5, 13, 20, 12, 8, 13, 15, 14, 15, 1, 13, 8, 1, 6, 6] Median: 12.0\n",
      "Resample: [20, 12, 16, 8, 16, 8, 16, 14, 6, 3, 13, 17, 5, 13, 15] Median: 13.0\n",
      "Resample: [16, 5, 12, 12, 8, 16, 14, 14, 16, 16, 16, 5, 1, 13, 13] Median: 13.0\n",
      "Resample: [17, 16, 20, 5, 7, 5, 15, 5, 3, 15, 19, 7, 15, 1, 3] Median: 7.0\n",
      "Resample: [15, 15, 1, 15, 14, 8, 20, 8, 6, 10, 6, 19, 15, 8, 17] Median: 14.0\n",
      "Resample: [19, 8, 3, 10, 20, 8, 14, 16, 8, 14, 14, 14, 6, 7, 8] Median: 10.0\n",
      "Resample: [16, 10, 14, 20, 13, 7, 13, 6, 3, 10, 19, 6, 6, 1, 8] Median: 10.0\n",
      "Resample: [6, 17, 12, 1, 5, 14, 16, 1, 15, 16, 20, 13, 8, 6, 5] Median: 12.0\n",
      "Resample: [17, 6, 3, 13, 12, 7, 7, 3, 8, 19, 15, 10, 8, 19, 8] Median: 8.0\n",
      "Resample: [5, 20, 8, 7, 10, 19, 8, 12, 19, 20, 6, 20, 17, 15, 7] Median: 12.0\n",
      "Resample: [16, 20, 5, 15, 3, 14, 5, 13, 14, 15, 14, 16, 8, 1, 3] Median: 14.0\n",
      "Resample: [10, 1, 13, 14, 10, 8, 20, 6, 14, 6, 3, 16, 7, 7, 6] Median: 8.0\n",
      "Resample: [5, 8, 19, 1, 16, 13, 19, 13, 6, 3, 8, 20, 12, 14, 12] Median: 12.0\n",
      "Resample: [6, 15, 19, 17, 17, 7, 15, 20, 14, 5, 7, 5, 16, 13, 10] Median: 14.0\n",
      "Resample: [20, 10, 19, 16, 15, 7, 15, 16, 13, 14, 19, 16, 14, 15, 6] Median: 15.0\n",
      "Resample: [13, 6, 15, 7, 14, 19, 8, 12, 15, 1, 3, 13, 10, 3, 8] Median: 10.0\n",
      "Resample: [16, 6, 14, 13, 7, 5, 16, 14, 13, 5, 10, 5, 12, 17, 19] Median: 13.0\n",
      "Resample: [5, 12, 19, 6, 3, 6, 19, 1, 7, 15, 1, 8, 10, 13, 19] Median: 8.0\n",
      "Resample: [14, 19, 14, 5, 14, 17, 8, 17, 5, 7, 6, 5, 16, 12, 16] Median: 14.0\n",
      "Resample: [5, 13, 12, 17, 8, 8, 13, 16, 1, 6, 20, 20, 5, 12, 5] Median: 12.0\n",
      "Resample: [6, 8, 14, 19, 16, 12, 14, 8, 3, 15, 16, 8, 16, 20, 12] Median: 14.0\n",
      "Resample: [10, 3, 14, 7, 10, 7, 20, 19, 17, 7, 8, 1, 19, 13, 5] Median: 10.0\n",
      "Resample: [8, 6, 6, 17, 5, 16, 13, 3, 8, 16, 14, 17, 14, 13, 13] Median: 13.0\n",
      "Resample: [1, 19, 17, 3, 3, 17, 13, 12, 3, 1, 14, 14, 13, 12, 19] Median: 13.0\n",
      "Resample: [3, 19, 13, 17, 15, 7, 6, 7, 1, 1, 10, 6, 20, 12, 17] Median: 10.0\n",
      "Resample: [15, 14, 15, 19, 15, 10, 12, 5, 17, 5, 6, 12, 17, 15, 19] Median: 15.0\n",
      "Resample: [5, 10, 10, 5, 17, 1, 7, 15, 3, 15, 3, 7, 5, 8, 12] Median: 7.0\n",
      "Resample: [7, 19, 17, 13, 13, 8, 20, 12, 6, 19, 3, 14, 13, 14, 15] Median: 13.0\n",
      "Resample: [16, 15, 19, 20, 8, 10, 13, 12, 15, 3, 6, 6, 16, 3, 6] Median: 12.0\n",
      "Resample: [14, 16, 17, 3, 5, 16, 14, 16, 10, 14, 12, 6, 17, 5, 14] Median: 14.0\n",
      "Resample: [3, 3, 12, 1, 15, 1, 7, 13, 1, 20, 14, 20, 20, 10, 1] Median: 10.0\n",
      "Resample: [1, 12, 7, 19, 12, 19, 15, 20, 16, 10, 16, 8, 5, 20, 16] Median: 15.0\n",
      "Resample: [6, 10, 17, 19, 8, 7, 13, 12, 7, 17, 6, 3, 19, 5, 17] Median: 10.0\n",
      "Resample: [7, 13, 12, 1, 10, 12, 20, 3, 15, 1, 5, 5, 8, 14, 17] Median: 10.0\n",
      "Resample: [13, 19, 12, 7, 3, 13, 15, 20, 19, 17, 1, 20, 6, 3, 19] Median: 13.0\n",
      "Resample: [20, 1, 20, 17, 17, 13, 20, 5, 7, 6, 14, 7, 13, 7, 19] Median: 13.0\n",
      "Resample: [5, 1, 19, 15, 10, 8, 17, 14, 13, 13, 8, 10, 8, 20, 17] Median: 13.0\n",
      "Resample: [1, 17, 16, 17, 12, 20, 6, 13, 20, 13, 15, 14, 20, 19, 8] Median: 15.0\n",
      "Resample: [20, 5, 3, 20, 6, 3, 10, 15, 14, 10, 7, 15, 19, 3, 8] Median: 10.0\n",
      "Resample: [6, 8, 19, 6, 6, 20, 20, 19, 1, 7, 13, 14, 17, 3, 5] Median: 8.0\n",
      "Resample: [7, 5, 3, 10, 20, 7, 17, 6, 1, 6, 5, 13, 8, 5, 16] Median: 7.0\n",
      "Resample: [6, 17, 8, 12, 12, 14, 1, 3, 20, 19, 7, 17, 3, 19, 20] Median: 12.0\n",
      "Resample: [8, 10, 5, 15, 10, 7, 12, 20, 15, 13, 16, 7, 17, 14, 6] Median: 12.0\n",
      "Resample: [14, 15, 10, 16, 16, 17, 13, 6, 7, 14, 16, 16, 17, 10, 19] Median: 15.0\n",
      "Resample: [17, 5, 6, 16, 10, 20, 8, 1, 19, 15, 8, 8, 10, 1, 19] Median: 10.0\n",
      "Resample: [13, 12, 1, 5, 13, 13, 7, 13, 17, 20, 6, 3, 19, 14, 16] Median: 13.0\n",
      "Resample: [7, 14, 14, 5, 5, 6, 8, 12, 5, 20, 13, 14, 7, 16, 12] Median: 12.0\n",
      "Resample: [1, 19, 5, 17, 17, 7, 14, 15, 8, 12, 16, 15, 6, 15, 5] Median: 14.0\n",
      "Resample: [20, 3, 15, 13, 6, 7, 12, 17, 1, 6, 15, 1, 20, 15, 14] Median: 13.0\n",
      "Resample: [10, 20, 13, 19, 17, 19, 10, 20, 3, 13, 7, 1, 19, 17, 17] Median: 17.0\n",
      "Resample: [6, 5, 7, 14, 6, 10, 19, 20, 17, 7, 13, 5, 13, 16, 20] Median: 13.0\n",
      "Resample: [15, 17, 10, 12, 3, 7, 1, 15, 8, 1, 12, 10, 1, 8, 19] Median: 10.0\n",
      "Resample: [17, 19, 19, 16, 13, 16, 5, 3, 15, 3, 8, 5, 8, 13, 17] Median: 13.0\n",
      "Resample: [13, 20, 15, 7, 13, 10, 14, 10, 10, 13, 5, 13, 20, 3, 6] Median: 13.0\n",
      "Resample: [14, 5, 15, 12, 16, 19, 7, 13, 10, 13, 15, 17, 12, 5, 20] Median: 13.0\n",
      "Resample: [8, 7, 17, 5, 8, 1, 12, 12, 20, 20, 14, 16, 13, 13, 16] Median: 13.0\n",
      "Resample: [17, 20, 8, 19, 12, 12, 10, 19, 16, 3, 8, 3, 13, 14, 17] Median: 13.0\n",
      "Resample: [20, 15, 19, 8, 14, 7, 15, 12, 3, 6, 12, 7, 19, 12, 12] Median: 12.0\n",
      "Resample: [16, 3, 16, 7, 1, 5, 14, 12, 17, 17, 3, 20, 14, 3, 3] Median: 12.0\n",
      "Resample: [13, 10, 3, 1, 13, 7, 20, 12, 19, 3, 1, 3, 6, 16, 1] Median: 7.0\n",
      "Resample: [20, 16, 12, 19, 3, 1, 13, 6, 6, 1, 1, 19, 13, 8, 5] Median: 8.0\n",
      "Resample: [17, 5, 16, 17, 19, 10, 7, 5, 3, 7, 8, 5, 3, 14, 17] Median: 8.0\n",
      "Resample: [8, 5, 16, 14, 5, 7, 14, 3, 3, 20, 19, 10, 6, 20, 12] Median: 10.0\n",
      "Resample: [13, 7, 17, 12, 16, 10, 5, 8, 12, 15, 13, 16, 12, 13, 6] Median: 12.0\n",
      "Resample: [6, 7, 16, 6, 8, 5, 14, 17, 1, 15, 12, 15, 10, 3, 17] Median: 10.0\n",
      "Resample: [19, 3, 3, 14, 7, 8, 3, 15, 19, 10, 6, 16, 14, 1, 19] Median: 10.0\n",
      "Resample: [17, 8, 16, 5, 16, 14, 12, 17, 15, 14, 7, 1, 20, 1, 7] Median: 14.0\n",
      "Resample: [6, 3, 8, 12, 17, 5, 3, 8, 5, 5, 7, 15, 14, 13, 5] Median: 7.0\n",
      "Resample: [10, 17, 7, 8, 8, 5, 17, 5, 5, 15, 16, 12, 20, 1, 6] Median: 8.0\n",
      "Resample: [19, 17, 3, 17, 1, 15, 15, 8, 13, 6, 10, 17, 15, 7, 14] Median: 14.0\n",
      "Resample: [10, 15, 17, 3, 3, 17, 20, 3, 7, 1, 12, 13, 16, 13, 12] Median: 12.0\n",
      "Resample: [1, 16, 8, 20, 1, 13, 8, 3, 8, 12, 12, 16, 3, 3, 1] Median: 8.0\n",
      "Resample: [7, 20, 3, 7, 7, 14, 15, 8, 16, 12, 8, 5, 1, 15, 6] Median: 8.0\n",
      "Resample: [1, 7, 15, 12, 16, 19, 5, 17, 10, 1, 12, 7, 7, 8, 7] Median: 8.0\n",
      "Resample: [1, 15, 17, 3, 19, 17, 15, 10, 14, 16, 5, 20, 13, 3, 15] Median: 15.0\n",
      "Resample: [16, 5, 3, 20, 16, 3, 6, 3, 20, 8, 3, 7, 19, 7, 10] Median: 7.0\n",
      "Resample: [8, 7, 3, 8, 12, 14, 1, 16, 15, 1, 1, 14, 17, 1, 17] Median: 8.0\n",
      "Resample: [3, 14, 13, 14, 12, 15, 13, 14, 20, 15, 20, 6, 20, 6, 19] Median: 14.0\n",
      "Resample: [10, 10, 20, 10, 19, 19, 13, 3, 8, 7, 5, 1, 15, 10, 19] Median: 10.0\n",
      "Resample: [3, 10, 12, 15, 17, 20, 17, 5, 12, 17, 20, 17, 19, 15, 5] Median: 15.0\n",
      "Resample: [12, 14, 8, 19, 1, 15, 6, 3, 16, 17, 13, 20, 10, 10, 3] Median: 12.0\n",
      "Resample: [5, 13, 3, 19, 19, 12, 14, 10, 17, 7, 14, 20, 12, 13, 8] Median: 13.0\n",
      "Resample: [5, 7, 3, 13, 5, 16, 13, 1, 16, 17, 14, 5, 13, 19, 3] Median: 13.0\n",
      "Resample: [6, 16, 17, 7, 12, 17, 5, 6, 19, 14, 10, 7, 14, 14, 5] Median: 12.0\n",
      "Resample: [7, 20, 17, 14, 10, 10, 5, 16, 17, 3, 13, 10, 12, 8, 3] Median: 10.0\n",
      "Resample: [16, 19, 6, 10, 8, 1, 3, 13, 16, 10, 8, 8, 7, 20, 19] Median: 10.0\n",
      "Resample: [16, 17, 1, 15, 13, 16, 20, 3, 12, 3, 14, 15, 10, 15, 15] Median: 15.0\n",
      "Resample: [10, 10, 10, 8, 1, 12, 7, 13, 7, 8, 1, 7, 6, 15, 15] Median: 8.0\n",
      "Resample: [15, 6, 12, 7, 14, 10, 8, 13, 16, 10, 8, 10, 1, 10, 20] Median: 10.0\n",
      "Resample: [10, 13, 10, 7, 6, 19, 7, 19, 10, 10, 6, 8, 1, 3, 17] Median: 10.0\n",
      "Resample: [16, 12, 1, 5, 16, 13, 7, 8, 20, 10, 19, 13, 8, 17, 17] Median: 13.0\n",
      "Resample: [19, 19, 10, 1, 6, 10, 1, 5, 15, 5, 19, 20, 15, 15, 1] Median: 10.0\n",
      "Resample: [10, 10, 3, 12, 1, 1, 7, 3, 17, 20, 5, 15, 14, 15, 14] Median: 10.0\n",
      "Resample: [20, 19, 10, 19, 3, 8, 20, 14, 14, 7, 5, 17, 20, 5, 3] Median: 14.0\n",
      "Resample: [17, 1, 15, 6, 16, 12, 16, 13, 3, 6, 20, 15, 6, 5, 19] Median: 13.0\n",
      "Resample: [5, 19, 14, 14, 15, 16, 8, 14, 12, 7, 17, 7, 8, 13, 5] Median: 13.0\n",
      "Resample: [10, 20, 5, 6, 13, 3, 12, 19, 3, 3, 13, 6, 8, 8, 7] Median: 8.0\n",
      "Resample: [7, 13, 3, 13, 19, 13, 3, 12, 1, 10, 10, 15, 8, 16, 1] Median: 10.0\n",
      "Resample: [19, 13, 3, 16, 7, 3, 12, 12, 5, 5, 7, 3, 20, 15, 12] Median: 12.0\n",
      "Resample: [12, 17, 5, 20, 10, 7, 12, 6, 1, 15, 7, 5, 12, 8, 19] Median: 10.0\n",
      "Resample: [3, 6, 5, 15, 20, 12, 8, 17, 15, 3, 12, 3, 8, 7, 8] Median: 8.0\n",
      "Resample: [20, 19, 14, 5, 12, 16, 16, 13, 7, 13, 10, 8, 20, 16, 8] Median: 13.0\n",
      "Resample: [12, 10, 15, 19, 6, 20, 8, 12, 20, 13, 5, 13, 17, 8, 16] Median: 13.0\n",
      "Resample: [17, 20, 8, 19, 1, 13, 17, 7, 1, 17, 16, 1, 17, 1, 3] Median: 13.0\n",
      "Resample: [14, 19, 7, 1, 5, 13, 12, 7, 12, 6, 3, 8, 10, 17, 15] Median: 10.0\n",
      "Resample: [15, 6, 19, 13, 7, 15, 19, 10, 14, 5, 6, 8, 13, 14, 19] Median: 13.0\n",
      "Resample: [10, 14, 20, 6, 19, 6, 10, 6, 1, 19, 19, 7, 7, 7, 3] Median: 7.0\n",
      "Resample: [15, 5, 10, 19, 5, 19, 6, 16, 19, 19, 6, 12, 12, 1, 15] Median: 12.0\n",
      "Resample: [15, 6, 17, 17, 5, 16, 12, 16, 8, 12, 13, 3, 5, 12, 6] Median: 12.0\n",
      "Resample: [15, 20, 12, 17, 17, 7, 19, 20, 7, 20, 12, 20, 12, 16, 10] Median: 16.0\n",
      "Resample: [12, 20, 8, 13, 6, 8, 20, 20, 16, 16, 6, 1, 13, 3, 8] Median: 12.0\n",
      "Resample: [8, 15, 7, 3, 20, 16, 7, 5, 10, 15, 13, 10, 20, 8, 16] Median: 10.0\n",
      "Resample: [5, 14, 1, 10, 12, 17, 15, 7, 7, 16, 19, 17, 13, 17, 13] Median: 13.0\n",
      "Resample: [20, 15, 14, 16, 5, 1, 15, 13, 1, 7, 19, 1, 17, 20, 3] Median: 14.0\n",
      "Resample: [15, 17, 7, 8, 13, 6, 13, 5, 5, 10, 15, 15, 13, 12, 13] Median: 13.0\n",
      "Resample: [5, 10, 13, 13, 14, 7, 12, 14, 17, 5, 20, 3, 19, 17, 6] Median: 13.0\n",
      "Resample: [15, 20, 19, 17, 19, 5, 19, 10, 1, 17, 12, 12, 5, 13, 19] Median: 15.0\n",
      "Resample: [13, 10, 5, 14, 10, 7, 15, 17, 6, 10, 1, 5, 13, 7, 8] Median: 10.0\n",
      "Resample: [7, 20, 7, 6, 20, 17, 5, 5, 13, 17, 15, 13, 6, 15, 16] Median: 13.0\n",
      "Resample: [16, 6, 5, 13, 6, 13, 6, 19, 5, 15, 12, 14, 6, 3, 10] Median: 10.0\n",
      "Resample: [15, 20, 14, 1, 20, 6, 3, 14, 16, 20, 10, 17, 8, 13, 3] Median: 14.0\n",
      "Resample: [6, 5, 14, 6, 1, 12, 7, 5, 6, 1, 7, 5, 7, 8, 5] Median: 6.0\n",
      "Resample: [20, 6, 15, 15, 17, 13, 7, 8, 6, 14, 17, 8, 12, 3, 7] Median: 12.0\n",
      "Resample: [8, 3, 13, 13, 20, 3, 16, 1, 10, 1, 10, 5, 15, 10, 1] Median: 10.0\n",
      "Resample: [3, 3, 3, 17, 3, 6, 3, 8, 5, 16, 10, 16, 15, 3, 16] Median: 6.0\n",
      "Resample: [19, 14, 7, 14, 15, 1, 6, 19, 1, 7, 12, 7, 15, 12, 10] Median: 12.0\n",
      "Resample: [20, 13, 13, 8, 6, 17, 14, 20, 1, 16, 14, 16, 17, 5, 12] Median: 14.0\n",
      "Resample: [7, 20, 12, 13, 13, 5, 1, 16, 7, 3, 20, 14, 3, 12, 1] Median: 12.0\n",
      "Resample: [13, 20, 6, 19, 8, 14, 5, 3, 8, 20, 12, 3, 7, 16, 16] Median: 12.0\n",
      "Resample: [6, 14, 12, 14, 8, 3, 20, 16, 13, 5, 20, 20, 5, 10, 1] Median: 12.0\n",
      "Resample: [6, 14, 16, 12, 8, 13, 17, 12, 7, 20, 17, 5, 19, 20, 8] Median: 13.0\n",
      "Resample: [17, 20, 8, 17, 15, 19, 14, 7, 16, 17, 10, 5, 12, 14, 6] Median: 14.0\n",
      "Resample: [8, 8, 20, 10, 3, 19, 12, 19, 16, 12, 15, 17, 1, 10, 7] Median: 12.0\n",
      "Resample: [3, 14, 13, 16, 17, 7, 12, 16, 14, 13, 20, 5, 15, 6, 13] Median: 13.0\n",
      "Resample: [1, 7, 20, 5, 8, 8, 13, 1, 13, 3, 13, 17, 17, 17, 5] Median: 8.0\n",
      "Resample: [6, 8, 10, 12, 15, 6, 15, 19, 8, 20, 3, 12, 8, 19, 3] Median: 10.0\n",
      "Resample: [10, 20, 20, 20, 7, 12, 10, 17, 14, 10, 13, 6, 5, 8, 16] Median: 12.0\n",
      "Resample: [5, 15, 3, 15, 10, 16, 15, 13, 15, 13, 13, 5, 20, 10, 3] Median: 13.0\n",
      "Resample: [7, 1, 13, 17, 19, 14, 12, 8, 7, 14, 15, 8, 7, 15, 6] Median: 12.0\n",
      "Resample: [14, 13, 16, 7, 3, 19, 17, 5, 13, 5, 7, 7, 15, 20, 19] Median: 13.0\n",
      "Resample: [13, 17, 8, 7, 16, 5, 20, 6, 10, 3, 14, 8, 14, 20, 3] Median: 10.0\n",
      "Resample: [19, 3, 19, 5, 6, 6, 13, 16, 16, 5, 20, 20, 14, 13, 6] Median: 13.0\n",
      "Resample: [15, 1, 1, 14, 13, 5, 7, 5, 12, 16, 10, 10, 10, 19, 17] Median: 10.0\n",
      "Resample: [8, 6, 13, 8, 7, 8, 1, 19, 16, 5, 7, 13, 5, 3, 20] Median: 8.0\n",
      "Resample: [13, 5, 17, 3, 13, 19, 6, 20, 20, 3, 3, 12, 7, 16, 16] Median: 13.0\n",
      "Resample: [20, 6, 7, 12, 6, 13, 20, 15, 13, 16, 10, 12, 20, 1, 10] Median: 12.0\n",
      "Resample: [19, 12, 19, 1, 8, 19, 14, 16, 6, 8, 19, 5, 17, 15, 16] Median: 15.0\n",
      "Resample: [14, 15, 14, 20, 20, 16, 12, 12, 15, 12, 16, 16, 8, 14, 13] Median: 14.0\n",
      "Resample: [3, 16, 19, 1, 15, 3, 10, 15, 19, 20, 1, 20, 17, 14, 16] Median: 15.0\n",
      "Resample: [19, 7, 6, 13, 12, 16, 19, 7, 15, 10, 16, 3, 16, 1, 8] Median: 12.0\n",
      "Resample: [1, 5, 17, 7, 15, 10, 13, 15, 8, 13, 12, 5, 17, 8, 7] Median: 10.0\n",
      "Resample: [17, 8, 14, 8, 8, 6, 5, 5, 16, 5, 16, 6, 10, 13, 13] Median: 8.0\n",
      "Resample: [12, 20, 12, 1, 20, 6, 5, 1, 15, 16, 5, 15, 17, 17, 15] Median: 15.0\n",
      "Resample: [17, 3, 1, 7, 5, 8, 20, 20, 3, 8, 6, 14, 10, 17, 7] Median: 8.0\n",
      "Resample: [15, 10, 20, 17, 1, 1, 15, 16, 15, 16, 14, 20, 1, 3, 15] Median: 15.0\n",
      "Resample: [6, 20, 7, 8, 5, 16, 16, 12, 13, 10, 10, 17, 7, 1, 14] Median: 10.0\n",
      "Resample: [15, 16, 17, 20, 20, 14, 13, 17, 15, 15, 14, 16, 12, 19, 14] Median: 15.0\n",
      "Resample: [12, 7, 8, 5, 8, 19, 14, 8, 1, 17, 14, 1, 5, 8, 7] Median: 8.0\n",
      "Resample: [5, 20, 19, 13, 3, 1, 7, 10, 17, 20, 8, 16, 20, 1, 14] Median: 13.0\n",
      "Resample: [17, 13, 20, 10, 6, 15, 20, 1, 13, 8, 16, 13, 8, 3, 5] Median: 13.0\n",
      "Resample: [17, 14, 1, 1, 7, 10, 6, 16, 15, 1, 8, 14, 14, 15, 20] Median: 14.0\n",
      "Resample: [16, 6, 13, 1, 19, 3, 19, 7, 8, 16, 15, 16, 3, 19, 10] Median: 13.0\n",
      "Resample: [17, 3, 3, 8, 10, 3, 10, 10, 15, 17, 13, 10, 16, 3, 6] Median: 10.0\n",
      "Resample: [16, 19, 17, 8, 10, 7, 13, 7, 14, 8, 12, 15, 5, 5, 13] Median: 12.0\n",
      "Resample: [19, 8, 16, 13, 3, 19, 6, 19, 12, 20, 5, 5, 19, 19, 10] Median: 13.0\n",
      "Resample: [15, 16, 8, 16, 1, 15, 8, 6, 13, 5, 3, 8, 10, 1, 3] Median: 8.0\n",
      "Resample: [10, 3, 13, 20, 1, 13, 14, 5, 16, 1, 8, 13, 15, 16, 3] Median: 13.0\n",
      "Resample: [10, 3, 1, 8, 3, 17, 19, 14, 12, 15, 16, 20, 5, 6, 5] Median: 10.0\n",
      "Resample: [10, 14, 1, 8, 19, 13, 12, 6, 17, 8, 8, 3, 19, 14, 6] Median: 10.0\n",
      "Resample: [14, 13, 20, 16, 8, 8, 7, 7, 8, 16, 14, 3, 1, 6, 19] Median: 8.0\n",
      "Resample: [20, 1, 5, 5, 12, 19, 15, 10, 12, 17, 12, 3, 1, 7, 15] Median: 12.0\n",
      "Resample: [1, 6, 6, 20, 6, 13, 16, 13, 1, 16, 19, 10, 5, 7, 10] Median: 10.0\n",
      "Resample: [3, 5, 13, 12, 16, 19, 7, 10, 13, 1, 8, 13, 16, 16, 5] Median: 12.0\n",
      "Resample: [17, 15, 5, 7, 20, 17, 20, 13, 13, 17, 20, 19, 6, 10, 7] Median: 15.0\n",
      "Resample: [10, 7, 8, 15, 13, 12, 10, 19, 15, 20, 19, 17, 7, 13, 10] Median: 13.0\n",
      "Resample: [14, 5, 20, 10, 6, 1, 10, 8, 20, 8, 10, 16, 15, 8, 5] Median: 10.0\n",
      "Resample: [3, 19, 8, 7, 14, 6, 10, 3, 5, 12, 12, 1, 15, 20, 17] Median: 10.0\n",
      "Resample: [19, 17, 14, 1, 6, 13, 12, 8, 1, 20, 14, 15, 12, 13, 8] Median: 13.0\n",
      "Resample: [8, 6, 17, 20, 1, 6, 10, 16, 17, 3, 10, 19, 15, 13, 3] Median: 10.0\n",
      "Resample: [12, 15, 6, 20, 17, 3, 17, 19, 16, 1, 3, 17, 7, 13, 17] Median: 15.0\n",
      "Resample: [6, 10, 14, 12, 14, 16, 3, 3, 10, 10, 6, 5, 8, 7, 14] Median: 10.0\n",
      "Resample: [20, 1, 17, 14, 6, 1, 1, 3, 19, 16, 6, 10, 10, 16, 5] Median: 10.0\n",
      "Resample: [5, 17, 1, 16, 7, 10, 16, 6, 17, 12, 3, 1, 15, 14, 15] Median: 12.0\n",
      "Resample: [10, 17, 10, 17, 3, 19, 6, 3, 7, 17, 1, 10, 7, 6, 19] Median: 10.0\n",
      "Resample: [10, 8, 20, 12, 13, 15, 1, 17, 8, 19, 16, 3, 16, 6, 6] Median: 12.0\n",
      "Resample: [13, 10, 12, 16, 5, 6, 12, 7, 12, 14, 17, 5, 15, 3, 20] Median: 12.0\n",
      "Resample: [6, 16, 8, 13, 20, 19, 7, 14, 5, 10, 7, 14, 6, 12, 20] Median: 12.0\n",
      "Resample: [6, 7, 16, 10, 5, 5, 10, 8, 8, 17, 19, 12, 20, 3, 12] Median: 10.0\n",
      "Resample: [20, 8, 10, 7, 20, 1, 16, 1, 3, 20, 20, 1, 5, 1, 8] Median: 8.0\n",
      "Resample: [1, 12, 8, 15, 7, 12, 13, 7, 10, 17, 12, 16, 7, 14, 19] Median: 12.0\n",
      "Resample: [1, 5, 1, 10, 7, 20, 3, 6, 1, 17, 17, 20, 15, 8, 12] Median: 8.0\n",
      "Resample: [3, 6, 15, 13, 6, 15, 3, 13, 10, 1, 20, 1, 5, 3, 16] Median: 6.0\n",
      "Resample: [15, 5, 19, 6, 8, 8, 16, 13, 14, 13, 6, 17, 12, 8, 14] Median: 13.0\n",
      "Resample: [17, 19, 13, 1, 12, 1, 6, 6, 5, 6, 6, 19, 5, 12, 13] Median: 6.0\n",
      "Resample: [7, 19, 5, 15, 20, 12, 15, 5, 6, 20, 16, 6, 17, 6, 6] Median: 12.0\n",
      "Resample: [12, 20, 8, 19, 7, 5, 12, 16, 6, 3, 7, 20, 14, 1, 3] Median: 8.0\n",
      "Resample: [14, 17, 7, 15, 8, 5, 16, 13, 20, 13, 12, 12, 1, 8, 10] Median: 12.0\n",
      "Resample: [19, 14, 10, 19, 12, 7, 3, 3, 12, 17, 19, 14, 10, 1, 5] Median: 12.0\n",
      "Resample: [20, 14, 15, 1, 7, 6, 19, 13, 1, 16, 19, 8, 5, 17, 14] Median: 14.0\n",
      "Resample: [19, 13, 17, 16, 14, 13, 16, 5, 8, 17, 5, 3, 7, 19, 17] Median: 14.0\n",
      "Resample: [7, 15, 10, 12, 7, 14, 14, 12, 12, 8, 17, 14, 8, 3, 14] Median: 12.0\n",
      "Resample: [1, 16, 15, 12, 7, 5, 16, 13, 1, 6, 6, 14, 12, 20, 19] Median: 12.0\n",
      "Resample: [6, 13, 5, 5, 19, 20, 8, 5, 13, 13, 12, 1, 19, 3, 13] Median: 12.0\n",
      "Resample: [6, 20, 5, 17, 16, 1, 14, 5, 15, 5, 8, 16, 17, 10, 8] Median: 10.0\n",
      "Resample: [20, 7, 17, 15, 14, 20, 13, 14, 15, 19, 1, 10, 8, 20, 17] Median: 15.0\n",
      "Resample: [6, 8, 17, 17, 1, 6, 15, 1, 10, 8, 6, 5, 14, 13, 3] Median: 8.0\n",
      "Resample: [12, 15, 14, 20, 13, 3, 10, 20, 1, 14, 8, 19, 15, 6, 17] Median: 14.0\n",
      "Resample: [3, 7, 20, 6, 5, 1, 16, 6, 16, 14, 3, 19, 5, 7, 5] Median: 6.0\n",
      "Resample: [7, 20, 8, 20, 19, 6, 17, 5, 13, 19, 8, 13, 17, 19, 6] Median: 13.0\n",
      "Resample: [12, 13, 5, 20, 7, 10, 17, 10, 6, 17, 19, 13, 7, 20, 13] Median: 13.0\n",
      "Resample: [10, 1, 12, 8, 6, 19, 17, 20, 16, 5, 19, 16, 12, 3, 3] Median: 12.0\n",
      "Resample: [1, 3, 19, 14, 3, 20, 19, 10, 8, 14, 10, 3, 5, 12, 15] Median: 10.0\n",
      "Resample: [7, 10, 15, 10, 19, 10, 12, 6, 7, 15, 16, 12, 16, 10, 19] Median: 12.0\n",
      "Resample: [17, 3, 17, 10, 16, 13, 17, 10, 1, 1, 13, 12, 7, 20, 6] Median: 12.0\n",
      "Resample: [7, 6, 15, 8, 15, 5, 1, 19, 17, 5, 12, 7, 19, 14, 20] Median: 12.0\n",
      "Resample: [10, 14, 3, 10, 16, 14, 6, 5, 6, 14, 15, 6, 6, 1, 19] Median: 10.0\n",
      "Resample: [14, 10, 17, 1, 16, 8, 12, 7, 15, 16, 15, 6, 12, 7, 12] Median: 12.0\n",
      "Resample: [3, 10, 8, 12, 6, 7, 8, 5, 13, 1, 12, 8, 13, 7, 17] Median: 8.0\n",
      "Resample: [16, 19, 1, 3, 12, 8, 6, 12, 7, 8, 1, 15, 1, 7, 14] Median: 8.0\n",
      "Resample: [7, 13, 16, 15, 6, 8, 17, 20, 20, 7, 14, 17, 17, 5, 17] Median: 15.0\n",
      "Resample: [6, 20, 5, 3, 13, 8, 5, 6, 13, 6, 7, 5, 3, 17, 7] Median: 6.0\n",
      "Resample: [13, 13, 5, 7, 10, 12, 5, 14, 13, 5, 17, 10, 6, 3, 10] Median: 10.0\n",
      "Resample: [5, 17, 15, 19, 17, 3, 6, 12, 13, 7, 3, 17, 13, 5, 16] Median: 13.0\n",
      "Resample: [6, 6, 20, 20, 10, 7, 8, 8, 16, 10, 17, 17, 20, 7, 1] Median: 10.0\n",
      "Resample: [15, 3, 20, 20, 6, 13, 10, 20, 8, 14, 7, 12, 3, 13, 6] Median: 12.0\n",
      "Resample: [14, 8, 20, 14, 5, 3, 1, 15, 3, 20, 17, 8, 12, 7, 17] Median: 12.0\n",
      "Resample: [15, 8, 8, 3, 13, 14, 17, 6, 1, 8, 19, 12, 7, 3, 10] Median: 8.0\n",
      "Resample: [16, 14, 8, 15, 20, 6, 19, 19, 17, 8, 7, 8, 7, 19, 12] Median: 14.0\n",
      "Resample: [20, 17, 6, 13, 10, 3, 12, 1, 20, 1, 7, 17, 3, 7, 7] Median: 7.0\n",
      "Resample: [15, 1, 7, 17, 6, 1, 16, 12, 6, 15, 15, 8, 14, 8, 3] Median: 8.0\n",
      "Resample: [7, 3, 14, 14, 1, 14, 12, 20, 17, 7, 6, 19, 14, 7, 13] Median: 13.0\n",
      "Resample: [3, 20, 8, 15, 19, 1, 13, 20, 19, 3, 6, 19, 14, 15, 5] Median: 14.0\n",
      "Resample: [6, 8, 5, 5, 6, 12, 20, 5, 14, 3, 6, 14, 3, 16, 15] Median: 6.0\n",
      "Resample: [5, 3, 15, 5, 3, 16, 16, 14, 15, 16, 14, 5, 3, 10, 12] Median: 12.0\n",
      "Resample: [20, 15, 20, 19, 20, 14, 12, 20, 6, 10, 20, 14, 15, 19, 17] Median: 17.0\n",
      "Resample: [7, 5, 8, 14, 1, 13, 15, 12, 8, 12, 14, 1, 13, 7, 17] Median: 12.0\n",
      "Resample: [14, 20, 8, 13, 16, 1, 8, 17, 13, 17, 10, 20, 10, 6, 13] Median: 13.0\n",
      "Resample: [7, 19, 7, 7, 6, 7, 5, 10, 16, 20, 19, 14, 14, 14, 16] Median: 14.0\n",
      "Resample: [6, 14, 17, 17, 6, 16, 17, 19, 7, 3, 13, 1, 13, 20, 13] Median: 13.0\n",
      "Resample: [12, 20, 13, 1, 6, 5, 6, 17, 14, 13, 3, 12, 5, 16, 3] Median: 12.0\n",
      "Resample: [15, 15, 10, 19, 5, 14, 1, 12, 20, 15, 16, 7, 1, 13, 17] Median: 14.0\n",
      "Resample: [7, 20, 5, 20, 3, 5, 17, 12, 12, 6, 1, 6, 8, 13, 8] Median: 8.0\n",
      "Resample: [13, 13, 1, 6, 6, 13, 13, 6, 13, 19, 14, 16, 19, 6, 10] Median: 13.0\n",
      "Resample: [13, 20, 16, 13, 17, 15, 20, 19, 12, 5, 16, 19, 3, 3, 15] Median: 15.0\n",
      "Resample: [6, 15, 8, 15, 1, 20, 15, 5, 12, 5, 5, 14, 17, 17, 13] Median: 13.0\n",
      "Resample: [8, 8, 6, 6, 10, 13, 1, 10, 10, 6, 17, 6, 14, 6, 7] Median: 8.0\n",
      "Resample: [7, 6, 15, 19, 5, 19, 19, 10, 17, 7, 5, 20, 15, 13, 6] Median: 13.0\n",
      "Resample: [3, 16, 14, 1, 5, 13, 17, 8, 17, 3, 15, 13, 13, 14, 13] Median: 13.0\n",
      "Resample: [20, 1, 3, 8, 6, 6, 7, 15, 19, 1, 16, 1, 5, 15, 15] Median: 7.0\n",
      "Resample: [10, 12, 13, 5, 15, 6, 15, 15, 3, 16, 5, 15, 17, 15, 12] Median: 13.0\n",
      "Resample: [16, 6, 19, 17, 1, 19, 19, 8, 17, 8, 6, 6, 12, 19, 10] Median: 12.0\n",
      "Resample: [1, 13, 6, 19, 5, 10, 7, 8, 16, 13, 15, 15, 15, 3, 16] Median: 13.0\n",
      "Resample: [12, 7, 14, 10, 14, 19, 15, 5, 20, 6, 16, 14, 1, 16, 3] Median: 14.0\n",
      "Resample: [17, 10, 14, 1, 13, 15, 13, 13, 17, 8, 14, 5, 5, 13, 16] Median: 13.0\n",
      "Resample: [10, 16, 7, 7, 17, 7, 1, 20, 14, 19, 15, 3, 19, 19, 10] Median: 14.0\n",
      "Resample: [10, 12, 6, 16, 14, 7, 14, 1, 8, 3, 12, 7, 10, 10, 6] Median: 10.0\n",
      "Resample: [6, 7, 15, 7, 1, 12, 7, 19, 6, 20, 5, 19, 15, 5, 6] Median: 7.0\n",
      "Resample: [7, 5, 10, 12, 7, 6, 3, 7, 17, 13, 7, 20, 7, 12, 14] Median: 7.0\n",
      "Resample: [8, 1, 8, 5, 13, 7, 10, 10, 13, 19, 16, 14, 14, 6, 15] Median: 10.0\n",
      "Resample: [17, 8, 8, 12, 13, 1, 8, 13, 10, 12, 8, 12, 6, 1, 8] Median: 8.0\n",
      "Resample: [7, 7, 19, 3, 14, 7, 1, 12, 17, 16, 8, 17, 5, 6, 8] Median: 8.0\n",
      "Resample: [7, 10, 15, 8, 20, 5, 17, 12, 12, 16, 14, 8, 3, 20, 16] Median: 12.0\n",
      "Resample: [19, 1, 1, 12, 7, 14, 10, 15, 5, 5, 1, 13, 1, 6, 19] Median: 7.0\n",
      "Resample: [20, 12, 20, 20, 17, 3, 17, 10, 20, 13, 6, 8, 12, 12, 20] Median: 13.0\n",
      "Resample: [6, 1, 10, 14, 14, 14, 13, 1, 12, 5, 3, 14, 10, 15, 10] Median: 10.0\n",
      "Resample: [6, 12, 16, 14, 6, 7, 16, 17, 12, 10, 20, 7, 10, 1, 19] Median: 12.0\n",
      "Resample: [8, 12, 6, 5, 3, 8, 12, 12, 10, 6, 6, 19, 1, 14, 6] Median: 8.0\n",
      "Resample: [15, 6, 17, 3, 19, 8, 13, 19, 12, 5, 14, 7, 15, 1, 16] Median: 13.0\n",
      "Resample: [1, 17, 7, 7, 10, 12, 15, 5, 19, 7, 12, 6, 14, 15, 14] Median: 12.0\n",
      "Resample: [13, 5, 17, 17, 14, 7, 6, 13, 1, 3, 13, 12, 3, 1, 5] Median: 7.0\n",
      "Resample: [5, 13, 10, 12, 5, 3, 17, 7, 17, 10, 8, 15, 17, 20, 5] Median: 10.0\n",
      "Resample: [13, 10, 17, 17, 6, 20, 12, 17, 3, 17, 12, 12, 15, 12, 15] Median: 13.0\n",
      "Resample: [14, 14, 5, 12, 7, 15, 10, 3, 15, 12, 5, 7, 6, 14, 8] Median: 10.0\n",
      "Resample: [15, 17, 17, 1, 14, 16, 6, 16, 12, 17, 20, 12, 5, 6, 8] Median: 14.0\n",
      "Resample: [16, 1, 20, 1, 10, 5, 20, 3, 6, 14, 1, 7, 5, 14, 14] Median: 7.0\n",
      "Resample: [19, 15, 17, 16, 12, 5, 16, 20, 13, 7, 15, 5, 1, 19, 3] Median: 15.0\n",
      "Resample: [3, 6, 6, 6, 12, 6, 20, 17, 15, 20, 5, 8, 7, 20, 13] Median: 8.0\n",
      "Resample: [13, 19, 1, 20, 12, 10, 8, 13, 8, 19, 5, 19, 19, 19, 16] Median: 13.0\n",
      "Resample: [14, 8, 15, 16, 15, 10, 6, 13, 10, 7, 12, 14, 17, 17, 5] Median: 13.0\n",
      "Resample: [3, 19, 16, 15, 19, 14, 20, 20, 8, 10, 19, 12, 7, 6, 17] Median: 15.0\n",
      "Resample: [8, 17, 19, 19, 14, 7, 12, 14, 12, 20, 10, 3, 3, 19, 12] Median: 12.0\n",
      "Resample: [14, 12, 19, 16, 8, 5, 20, 6, 6, 1, 15, 7, 13, 10, 13] Median: 12.0\n",
      "Resample: [19, 19, 14, 10, 14, 7, 14, 1, 13, 3, 8, 19, 3, 1, 17] Median: 13.0\n",
      "Resample: [17, 14, 5, 12, 6, 8, 6, 17, 8, 13, 10, 17, 13, 19, 13] Median: 13.0\n",
      "Resample: [13, 1, 14, 14, 13, 8, 6, 19, 12, 20, 16, 19, 19, 3, 17] Median: 14.0\n",
      "Resample: [6, 10, 6, 20, 17, 12, 6, 13, 5, 20, 3, 20, 10, 3, 10] Median: 10.0\n",
      "Resample: [20, 7, 13, 12, 19, 1, 14, 15, 15, 1, 17, 16, 1, 8, 14] Median: 14.0\n",
      "Resample: [14, 10, 17, 7, 12, 16, 7, 15, 7, 6, 16, 7, 6, 17, 19] Median: 12.0\n",
      "Resample: [16, 19, 20, 13, 15, 16, 13, 12, 16, 12, 14, 8, 15, 12, 20] Median: 15.0\n",
      "Resample: [14, 1, 14, 1, 20, 20, 10, 10, 13, 7, 17, 20, 10, 20, 1] Median: 13.0\n",
      "Resample: [14, 5, 10, 7, 19, 6, 7, 13, 15, 17, 13, 19, 1, 5, 15] Median: 13.0\n",
      "Resample: [15, 17, 1, 5, 15, 17, 5, 3, 10, 10, 12, 8, 7, 16, 14] Median: 10.0\n",
      "Resample: [12, 20, 14, 15, 19, 14, 15, 3, 20, 15, 5, 16, 10, 16, 16] Median: 15.0\n",
      "Resample: [3, 15, 20, 15, 19, 20, 13, 16, 15, 13, 3, 12, 12, 13, 10] Median: 13.0\n",
      "Resample: [8, 20, 14, 13, 13, 6, 3, 7, 6, 15, 16, 8, 3, 19, 17] Median: 13.0\n",
      "Resample: [6, 13, 1, 13, 6, 19, 1, 17, 14, 1, 12, 19, 17, 14, 20] Median: 13.0\n",
      "Resample: [7, 7, 12, 8, 3, 20, 1, 8, 20, 15, 19, 1, 20, 17, 10] Median: 10.0\n",
      "Resample: [14, 3, 1, 16, 17, 7, 1, 12, 6, 12, 17, 6, 1, 12, 20] Median: 12.0\n",
      "Resample: [6, 19, 17, 20, 13, 19, 19, 15, 7, 10, 10, 17, 14, 13, 5] Median: 14.0\n",
      "Resample: [10, 10, 13, 3, 15, 5, 5, 7, 15, 17, 20, 6, 20, 6, 13] Median: 10.0\n",
      "Resample: [10, 5, 10, 7, 16, 19, 7, 6, 1, 14, 19, 17, 17, 13, 17] Median: 13.0\n",
      "Resample: [1, 14, 17, 16, 20, 20, 6, 14, 17, 16, 17, 1, 16, 8, 10] Median: 16.0\n",
      "Resample: [15, 6, 13, 7, 7, 17, 12, 10, 8, 13, 13, 16, 3, 14, 3] Median: 12.0\n",
      "Resample: [16, 8, 13, 10, 12, 14, 12, 15, 17, 20, 14, 14, 17, 15, 10] Median: 14.0\n",
      "Resample: [6, 19, 1, 13, 16, 20, 8, 3, 15, 16, 5, 15, 1, 5, 1] Median: 8.0\n",
      "Resample: [3, 17, 17, 10, 15, 6, 6, 17, 13, 10, 6, 15, 5, 5, 10] Median: 10.0\n",
      "Resample: [3, 19, 12, 12, 14, 12, 13, 20, 16, 13, 1, 12, 7, 1, 10] Median: 12.0\n",
      "Resample: [3, 1, 10, 8, 13, 15, 3, 7, 12, 1, 5, 19, 20, 12, 8] Median: 8.0\n",
      "Resample: [16, 12, 15, 13, 6, 16, 17, 10, 20, 3, 8, 12, 12, 20, 16] Median: 13.0\n",
      "Resample: [7, 10, 19, 5, 20, 20, 17, 1, 5, 1, 6, 16, 3, 1, 14] Median: 7.0\n",
      "Resample: [6, 8, 3, 15, 17, 15, 15, 19, 7, 5, 5, 19, 13, 15, 12] Median: 13.0\n",
      "Resample: [13, 6, 15, 19, 19, 3, 3, 17, 16, 13, 1, 20, 12, 6, 1] Median: 13.0\n",
      "Resample: [17, 16, 10, 20, 1, 12, 19, 19, 19, 15, 17, 7, 15, 15, 8] Median: 15.0\n",
      "Resample: [6, 6, 1, 16, 12, 5, 17, 7, 16, 14, 14, 10, 8, 19, 8] Median: 10.0\n",
      "Resample: [5, 6, 6, 17, 19, 13, 10, 14, 8, 6, 5, 3, 12, 15, 8] Median: 8.0\n",
      "Resample: [7, 8, 12, 12, 17, 7, 20, 12, 19, 7, 13, 13, 15, 6, 12] Median: 12.0\n",
      "Resample: [8, 5, 10, 19, 20, 5, 6, 10, 13, 16, 8, 10, 3, 16, 19] Median: 10.0\n",
      "Resample: [16, 6, 13, 8, 1, 19, 20, 17, 16, 10, 6, 15, 15, 6, 17] Median: 15.0\n",
      "Resample: [15, 15, 19, 15, 10, 3, 7, 3, 13, 10, 6, 19, 15, 19, 16] Median: 15.0\n",
      "Resample: [13, 12, 12, 17, 1, 10, 13, 19, 16, 7, 20, 5, 19, 10, 13] Median: 13.0\n",
      "Resample: [13, 1, 15, 17, 12, 10, 6, 20, 16, 7, 5, 19, 10, 15, 8] Median: 12.0\n",
      "Resample: [7, 16, 20, 13, 3, 13, 3, 17, 20, 15, 7, 6, 3, 1, 15] Median: 13.0\n"
     ]
    },
    {
     "data": {
      "image/png": "[encoded data removed]",
      "text/plain": [
       "<Figure size 640x480 with 1 Axes>"
      ]
     },
     "metadata": {},
     "output_type": "display_data"
    }
   ],
   "source": [
    "print('Original:', my_data, 'Median: %1.1f' % np.median(my_data))\n",
    "\n",
    "theta_hat_stars = []  # list to store the results\n",
    "for i in range(500):   # loop over the number of replications\n",
    "    resample = choices(my_data, k=len(my_data)) # resample the data\n",
    "    print('Resample:', resample, 'Median: %1.1f' % np.median(resample))\n",
    "    theta_hat_star = median(resample) # compute the statistic\n",
    "    theta_hat_stars.append(theta_hat_star)      # store the result\n",
    "\n",
    "# Create a histogram\n",
    "plt.hist(theta_hat_stars, bins=20, edgecolor='black')\n",
    "\n",
    "# Show the plot\n",
    "plt.show()"
   ]
  },
  {
   "cell_type": "markdown",
   "metadata": {},
   "source": [
    "### More formal version of Bootstrap procedure\n",
    "\n",
    "More formally, the procedure is as follows:\n",
    "\n",
    "1. Let $\\omega$ be the actual world, and look at the histogram of data $X_1(\\omega), \\ldots, X_n(\\omega)$.\n",
    "\n",
    "2. Choose length a length $n$ sequence $X_1^{\\ast}(\\omega), \\ldots, X_n^{\\ast}(\\omega)$ from the original data $X_1(\\omega), \\ldots, X_n(\\omega)$.\n",
    "\n",
    "3. Compute $T_n^{\\ast}:=T_n(X_1^{\\ast}(\\omega), \\ldots, X_n^{\\ast}(\\omega))$.\n",
    "\n",
    "4. Repeat steps 2-3 lots and lots of times, say $B$-many times, until you get $T_{n,1}^{\\ast}, \\ldots, T_{n,B}^{\\ast}$.\n",
    "\n",
    "5. Compute the value $\\frac{1}{B} \\sum_{i=1}^B (T_{n,i}^{\\ast} - \\frac{1}{B}\\sum_{i=1}^B T_{n,i}^{\\ast})^2$\n",
    "\n",
    "6. Argue that if $\\omega$ is like most worlds and $n$ is sufficiently big, then this value is close to the variance of the statistic."
   ]
  },
  {
   "cell_type": "markdown",
   "metadata": {},
   "source": [
    "### Features of the bootstrap\n",
    "\n",
    "1. As you make the number of replications $B$ bigger and bigger, you never fix the mean. Hence, the bootstrap all by itself is not good at that ({cite}`Chihara2018-xh` Section 5.2.2)\n",
    "\n",
    "2. But as you increase the number of replications, you get a better approximation to the variance of the statistic (provided that $n$ is big enough too) "
   ]
  },
  {
   "cell_type": "code",
   "execution_count": null,
   "metadata": {},
   "outputs": [],
   "source": []
  },
  {
   "cell_type": "code",
   "execution_count": null,
   "metadata": {},
   "outputs": [],
   "source": []
  }
 ],
 "metadata": {
  "kernelspec": {
   "display_name": ".venv",
   "language": "python",
   "name": "python3"
  },
  "language_info": {
   "codemirror_mode": {
    "name": "ipython",
    "version": 3
   },
   "file_extension": ".py",
   "mimetype": "text/x-python",
   "name": "python",
   "nbconvert_exporter": "python",
   "pygments_lexer": "ipython3",
   "version": "3.11.5"
  }
 },
 "nbformat": 4,
 "nbformat_minor": 2
}