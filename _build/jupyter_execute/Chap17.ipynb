{
 "cells": [
  {
   "cell_type": "markdown",
   "metadata": {},
   "source": [
    "## Chapter 17"
   ]
  },
  {
   "cell_type": "code",
   "execution_count": 1,
   "metadata": {},
   "outputs": [
    {
     "ename": "ModuleNotFoundError",
     "evalue": "No module named 'PyPCAlg'",
     "output_type": "error",
     "traceback": [
      "\u001b[0;31m---------------------------------------------------------------------------\u001b[0m",
      "\u001b[0;31mModuleNotFoundError\u001b[0m                       Traceback (most recent call last)",
      "Cell \u001b[0;32mIn[1], line 1\u001b[0m\n\u001b[0;32m----> 1\u001b[0m \u001b[38;5;28;01mfrom\u001b[39;00m \u001b[38;5;21;01mPyPCAlg\u001b[39;00m\u001b[38;5;21;01m.\u001b[39;00m\u001b[38;5;21;01mpc_algorithm\u001b[39;00m \u001b[38;5;28;01mimport\u001b[39;00m run_pc_algorithm, field_pc_cpdag, \\\n\u001b[1;32m      2\u001b[0m     field_separation_sets\n\u001b[1;32m      3\u001b[0m \u001b[38;5;28;01mfrom\u001b[39;00m \u001b[38;5;21;01mPyPCAlg\u001b[39;00m\u001b[38;5;21;01m.\u001b[39;00m\u001b[38;5;21;01mexamples\u001b[39;00m\u001b[38;5;21;01m.\u001b[39;00m\u001b[38;5;21;01mgraph_4\u001b[39;00m \u001b[38;5;28;01mimport\u001b[39;00m generate_data\n\u001b[1;32m      4\u001b[0m \u001b[38;5;28;01mfrom\u001b[39;00m \u001b[38;5;21;01mPyPCAlg\u001b[39;00m\u001b[38;5;21;01m.\u001b[39;00m\u001b[38;5;21;01mexamples\u001b[39;00m\u001b[38;5;21;01m.\u001b[39;00m\u001b[38;5;21;01mgraph_4\u001b[39;00m \u001b[38;5;28;01mimport\u001b[39;00m oracle_indep_test\n",
      "\u001b[0;31mModuleNotFoundError\u001b[0m: No module named 'PyPCAlg'"
     ]
    }
   ],
   "source": [
    "from PyPCAlg.pc_algorithm import run_pc_algorithm, field_pc_cpdag, \\\n",
    "    field_separation_sets\n",
    "from PyPCAlg.examples.graph_4 import generate_data\n",
    "from PyPCAlg.examples.graph_4 import oracle_indep_test\n",
    "from PyPCAlg.examples.graph_4 import oracle_cond_indep_test\n",
    "from PyPCAlg.examples.graph_4 import get_adjacency_matrix\n",
    "\n",
    "\n",
    "df = generate_data(sample_size=10)\n",
    "independence_test_func = oracle_indep_test()\n",
    "conditional_independence_test_func = oracle_cond_indep_test()\n",
    "\n",
    "dic = run_pc_algorithm(\n",
    "    data=df,\n",
    "    indep_test_func=independence_test_func,\n",
    "    cond_indep_test_func=conditional_independence_test_func,\n",
    "    level=0.05\n",
    ")\n",
    "cpdag = dic[field_pc_cpdag]\n",
    "separation_sets = dic[field_separation_sets]\n",
    "\n",
    "print(f'The true causal graph is \\n{get_adjacency_matrix()}')\n",
    "print(f'\\nThe CPDAG retrieved by PC is \\n{cpdag}')"
   ]
  },
  {
   "cell_type": "code",
   "execution_count": null,
   "metadata": {},
   "outputs": [],
   "source": []
  }
 ],
 "metadata": {
  "kernelspec": {
   "display_name": "Python 3 (ipykernel)",
   "language": "python",
   "name": "python3"
  },
  "language_info": {
   "codemirror_mode": {
    "name": "ipython",
    "version": 3
   },
   "file_extension": ".py",
   "mimetype": "text/x-python",
   "name": "python",
   "nbconvert_exporter": "python",
   "pygments_lexer": "ipython3",
   "version": "3.11.7"
  }
 },
 "nbformat": 4,
 "nbformat_minor": 4
}